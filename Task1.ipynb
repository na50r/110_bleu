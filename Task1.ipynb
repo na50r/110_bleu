{
 "cells": [
  {
   "cell_type": "markdown",
   "id": "428afd9a",
   "metadata": {},
   "source": [
    "# Task 1\n",
    "* Translation Task 1 involves the translation of 20 language direction, from and to English, involving all three datasets."
   ]
  },
  {
   "cell_type": "markdown",
   "id": "6e5b7097",
   "metadata": {},
   "source": [
    "## Setup\n",
    "* We define the setup code that define folders and instantiate the tasks before running them."
   ]
  },
  {
   "cell_type": "code",
   "execution_count": 1,
   "id": "d6bf5400",
   "metadata": {},
   "outputs": [
    {
     "data": {
      "text/plain": [
       "20"
      ]
     },
     "execution_count": 1,
     "metadata": {},
     "output_type": "execute_result"
    }
   ],
   "source": [
    "from scripts.task import TranslationTask\n",
    "from scripts.data_management import EuroParlManager, FloresPlusManager, Opus100Manager\n",
    "from scripts.translators import GPTClient, DeeplClient\n",
    "from scripts.util import MyLogger\n",
    "from os.path import join\n",
    "possible = [tuple(pair.split('-')) for pair in EuroParlManager.EP_PAIRS]\n",
    "extended = [(pair[1], pair[0]) for pair in possible]\n",
    "possible = possible + extended\n",
    "en_pairs = [pair for pair in possible if 'en' in pair]\n",
    "\n",
    "main_folder = 'tasks'\n",
    "sub_folder = join(main_folder, 'task1')\n",
    "ep_folder = join(sub_folder, 'europarl')\n",
    "flores_folder = join(sub_folder, 'flores')\n",
    "opus_folder = join(sub_folder, 'opus100')\n",
    "\n",
    "logger = MyLogger(logfile=join(sub_folder, 'task1_log.jsonl'))\n",
    "client_gpt = GPTClient(logger=logger)\n",
    "client_deepl = DeeplClient(logger=logger)\n",
    "\n",
    "len(en_pairs)\n"
   ]
  },
  {
   "cell_type": "code",
   "execution_count": null,
   "id": "ee6bf21d",
   "metadata": {},
   "outputs": [],
   "source": [
    "dm = EuroParlManager()\n",
    "mt_folder_gpt = join(ep_folder, 'gpt41')\n",
    "mt_folder_deepl = join(ep_folder, 'deepl')\n",
    "task1_ep_gpt = TranslationTask(\n",
    "    target_pairs=en_pairs,\n",
    "    dm=dm,\n",
    "    client=client_gpt,\n",
    "    logger=logger,\n",
    "    mt_folder=mt_folder_gpt,\n",
    "    num_of_sents=400\n",
    ")\n",
    "task1_ep_deepl = TranslationTask(\n",
    "    target_pairs=en_pairs,\n",
    "    dm=dm,\n",
    "    client=client_deepl,\n",
    "    logger=logger,\n",
    "    mt_folder=mt_folder_deepl,\n",
    "    num_of_sents=400\n",
    ")"
   ]
  },
  {
   "cell_type": "code",
   "execution_count": null,
   "id": "f2389f98",
   "metadata": {},
   "outputs": [],
   "source": [
    "dm = FloresPlusManager()\n",
    "mt_folder_gpt = join(flores_folder, 'gpt41')\n",
    "mt_folder_deepl = join(flores_folder, 'deepl')\n",
    "task1_flores_gpt = TranslationTask(\n",
    "    target_pairs=en_pairs,\n",
    "    dm=dm,\n",
    "    client=client_gpt,\n",
    "    logger=logger,\n",
    "    mt_folder=mt_folder_gpt,\n",
    "    num_of_sents=400\n",
    ")\n",
    "task1_flores_deepl = TranslationTask(\n",
    "    target_pairs=en_pairs,\n",
    "    dm=dm,\n",
    "    client=client_deepl,\n",
    "    logger=logger,\n",
    "    mt_folder=mt_folder_deepl,\n",
    "    num_of_sents=400\n",
    ")"
   ]
  },
  {
   "cell_type": "code",
   "execution_count": null,
   "id": "49c03b48",
   "metadata": {},
   "outputs": [],
   "source": [
    "dm = Opus100Manager()\n",
    "mt_folder_gpt = join(opus_folder, 'gpt41')\n",
    "mt_folder_deepl = join(opus_folder, 'deepl')\n",
    "task1_opus_gpt = TranslationTask(\n",
    "    target_pairs=en_pairs,\n",
    "    dm=dm,\n",
    "    client=client_gpt,\n",
    "    logger=logger,\n",
    "    mt_folder=mt_folder_gpt,\n",
    "    num_of_sents=400\n",
    ")\n",
    "task1_opus_deepl = TranslationTask(\n",
    "    target_pairs=en_pairs,\n",
    "    dm=dm,\n",
    "    client=client_deepl,\n",
    "    logger=logger,\n",
    "    mt_folder=mt_folder_deepl,\n",
    "    num_of_sents=400\n",
    ")"
   ]
  }
 ],
 "metadata": {
  "kernelspec": {
   "display_name": "thesis",
   "language": "python",
   "name": "python3"
  },
  "language_info": {
   "codemirror_mode": {
    "name": "ipython",
    "version": 3
   },
   "file_extension": ".py",
   "mimetype": "text/x-python",
   "name": "python",
   "nbconvert_exporter": "python",
   "pygments_lexer": "ipython3",
   "version": "3.12.6"
  }
 },
 "nbformat": 4,
 "nbformat_minor": 5
}
