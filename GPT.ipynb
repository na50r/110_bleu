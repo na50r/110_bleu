{
 "cells": [
  {
   "cell_type": "code",
   "execution_count": 1,
   "id": "9570f7ff",
   "metadata": {},
   "outputs": [],
   "source": [
    "from scripts.translators import GPT4Client\n",
    "from scripts.util import MyLogger\n",
    "gpt1 = GPT4Client(logger=MyLogger(logfile='log.jsonl'))\n",
    "gpt1.user_prompt = lambda src_lang, tgt_lang, text : text"
   ]
  },
  {
   "cell_type": "code",
   "execution_count": 3,
   "id": "4d0419dd",
   "metadata": {},
   "outputs": [],
   "source": [
    "from scripts.data_management import EPManager\n",
    "dm = EPManager()\n",
    "de_sents, en_sents = dm.get_sentence_pairs('de', 'en', num_of_sents=50)\n"
   ]
  },
  {
   "cell_type": "code",
   "execution_count": 4,
   "id": "eae29377",
   "metadata": {},
   "outputs": [
    {
     "data": {
      "text/plain": [
       "['Resumption of the session period  ',\n",
       " 'I declare the session period of the European Parliament, which was interrupted on Friday, 17 December, resumed. I would like to once again wish you all the best for the New Year and hope that you had a pleasant holiday.',\n",
       " '',\n",
       " 'As you will have noticed, the much-feared \"Millennium Bug\" did not occur. However, citizens of some of our Member States have become victims of terrible natural disasters.',\n",
       " '',\n",
       " 'There is a desire in Parliament to hold a debate on this matter during this session period in the coming days.',\n",
       " '',\n",
       " 'Today, I would like to ask you—this is also the wish of some colleagues—to observe a minute of silence in memory of all the victims of the storms, particularly in the various countries of the European Union.',\n",
       " '',\n",
       " 'I ask you to rise for a minute of silence.',\n",
       " '(The Parliament rises for a minute of silence.)',\n",
       " '',\n",
       " 'Madam President, on a point of order.',\n",
       " 'As you will surely know from the press and television, there have been several bomb explosions in Sri Lanka, resulting in numerous deaths.',\n",
       " '',\n",
       " 'Among the victims of the recent attacks in Sri Lanka is Mr. Kumar Ponnambalam, who visited the European Parliament only a few months ago.',\n",
       " '',\n",
       " 'Would it be appropriate for you, Madam President, to send a letter to the President of Sri Lanka expressing the Parliament’s condolences on the violent death of Mr. Ponnambalam and other citizens of Sri Lanka, and to urge her to do everything in her power to seek a peaceful solution to this very difficult situation?',\n",
       " '',\n",
       " 'Yes, Mr. Evans, I think such an initiative is indeed appropriate.',\n",
       " 'If the House agrees, I will follow Mr. Evans’ suggestion.',\n",
       " '',\n",
       " 'Madam President, on a point of order.',\n",
       " 'Could you give me information regarding Article 143 in connection with inadmissibility?',\n",
       " 'My question concerns a matter that will be raised on Thursday, to which I will refer again then.',\n",
       " '',\n",
       " 'On Thursday, Parliament will deal with the Cunha report on multiannual guidance programmes, which in paragraph 6 proposes that countries which do not meet their fleet reduction targets should be penalized annually with a kind of quota fine.',\n",
       " '',\n",
       " 'Such penalties are to be imposed despite the principle of relative stability.',\n",
       " '',\n",
       " 'I believe that the principle of relative stability is a fundamental legal principle of the Common Fisheries Policy, and a proposal to circumvent it would be legally inadmissible.',\n",
       " '',\n",
       " 'I would like to know whether it is possible to raise an objection to a document that is merely a report and not a legislative proposal, and whether I am entitled to do so on Thursday.',\n",
       " '',\n",
       " 'Precisely then, if you wish, you can raise this question—i.e., on Thursday at the start of the debate on the report.',\n",
       " '',\n",
       " 'Unfortunately, the first session of the European Parliament this year coincides with the scheduled execution in the United States, in Texas, this Thursday, of a 34-year-old man named Hicks who has been sentenced to death.',\n",
       " '',\n",
       " 'At the request of a French member, Mr. Zimeray, a petition has already been submitted, which has been signed by many, including myself.',\n",
       " '',\n",
       " 'In line with the position now consistently taken by the European Parliament and the entire European Union, I would like to ask you to use the full influence of your office and the institution you represent with the presidential candidate and Governor of Texas, George W. Bush, who has the authority to suspend the execution and grant clemency to the condemned man.',\n",
       " '',\n",
       " 'All this is in accordance with the principles we have always defended.',\n",
       " '',\n",
       " 'Thank you, Mr. Segni, I will gladly do so.',\n",
       " 'That is entirely in line with the position we as a Parliament have always taken.',\n",
       " '',\n",
       " 'Madam President, I would like to draw your attention to a case with which this Parliament has repeatedly dealt.',\n",
       " 'This is the case of Alexander Nikitin.',\n",
       " '',\n",
       " 'We are all pleased here that the court has acquitted him and made it clear that access to environmental information is a constitutional right even in Russia.',\n",
       " '',\n",
       " 'However, he is to be prosecuted again, as the prosecutor is appealing.',\n",
       " '',\n",
       " 'We know—and we have stated this in many resolutions, especially during the last plenary session of the past year—that this is not just a legal case, and that it is wrong to accuse Alexander Nikitin of criminality and treason, since we, as those affected, benefit from his findings.',\n",
       " '',\n",
       " 'These findings are the basis for European programmes to protect the Barents Sea, and therefore I ask you to consider a draft letter outlining the key facts, and to make the Parliament’s position clear in Russia in line with its resolutions.',\n",
       " '',\n",
       " 'Ms. Schroedter, I am happy to review the relevant facts once I have your letter.',\n",
       " '',\n",
       " 'Madam President, first of all, thank you very much for keeping your word and for the fact that, in the first session period of the new year, the range of television programmes available in our offices has indeed been greatly expanded.',\n",
       " '',\n",
       " 'Nevertheless, Madam President, my request has not been met.',\n",
       " 'Although we can now receive two Finnish and one Portuguese channel, we still cannot receive a Dutch channel. But I had asked you for a Dutch programme, because we Dutch also want to follow the news when we are sent here into exile every month.',\n",
       " '',\n",
       " 'Therefore, I would like to ask you again to ensure that a Dutch channel is also made available.',\n",
       " '',\n",
       " 'Ms. Plooij-van Gorsel, I can inform you that this issue is on the agenda of the Quaestors on Wednesday.',\n",
       " 'I hope that a decision will be made in your favour.',\n",
       " '',\n",
       " 'Madam President, can you tell me why this Parliament does not comply with the occupational health and safety regulations it has adopted itself?',\n",
       " 'Why has the air quality in this building not been checked even once since our election?',\n",
       " 'Why has the Health and Safety Committee not met even once since 1998?',\n",
       " 'Why has there been no fire drill in either the Brussels or Strasbourg Parliament buildings?',\n",
       " 'Why are there no fire safety instructions?',\n",
       " 'Why was nothing done to make the stairs safer after my accident?',\n",
       " 'Why is the smoking ban not enforced in non-smoking areas?',\n",
       " 'It is a disgrace that we adopt rules and then do not comply with them ourselves.',\n",
       " '',\n",
       " 'Ms. Lynne, you are absolutely right, and I will check whether all this is really the case.',\n",
       " 'I will also submit the matter to the Quaestors. I am sure that they attach great importance to ensuring that we ourselves comply with the legal provisions we adopt.']"
      ]
     },
     "execution_count": 4,
     "metadata": {},
     "output_type": "execute_result"
    }
   ],
   "source": [
    "gpt1.translate_document(\n",
    "    text=de_sents,\n",
    "    src_lang='de',\n",
    "    tgt_lang='en'\n",
    ")"
   ]
  },
  {
   "cell_type": "code",
   "execution_count": 5,
   "id": "667c784f",
   "metadata": {},
   "outputs": [],
   "source": [
    "from scripts.translators import GPT4Client\n",
    "from scripts.util import MyLogger\n",
    "gpt2 = GPT4Client(logger=MyLogger(logfile='log.jsonl'))"
   ]
  },
  {
   "cell_type": "code",
   "execution_count": 6,
   "id": "b2cdad25",
   "metadata": {},
   "outputs": [],
   "source": [
    "from scripts.data_management import EPManager\n",
    "dm = EPManager()\n",
    "de_sents, en_sents = dm.get_sentence_pairs('de', 'en', num_of_sents=50)"
   ]
  },
  {
   "cell_type": "code",
   "execution_count": 7,
   "id": "d6fd4868",
   "metadata": {},
   "outputs": [
    {
     "data": {
      "text/plain": [
       "['Resumption of the session period  ',\n",
       " 'I declare the session period of the European Parliament, which was interrupted on Friday, 17 December, resumed, wish you once again all the best for the New Year, and hope that you had a pleasant holiday.  ',\n",
       " 'As you have been able to see, the dreaded \"Millennium Bug\" did not occur. However, citizens of some of our Member States have become victims of terrible natural disasters.  ',\n",
       " 'There is a desire in Parliament for a debate during this session period in the coming days.  ',\n",
       " 'Today I would like to ask you – this is also the wish of some colleagues – to commemorate all victims of the storms, especially in the various countries of the European Union, with a minute of silence.  ',\n",
       " 'I ask you to rise for a minute of silence.  ',\n",
       " '(The Parliament rises for a minute of silence.)  ',\n",
       " 'Madam President, on a point of order.  ',\n",
       " 'As you surely know from the press and television, there have been several bomb explosions in Sri Lanka with numerous fatalities.  ',\n",
       " 'Among the victims of the recent attacks in Sri Lanka is Mr. Kumar Ponnambalam, who visited the European Parliament only a few months ago.  ',\n",
       " 'Would it be appropriate for you, Madam President, to convey in a letter to the President of Sri Lanka the Parliament’s regret at the violent death of Mr. Ponnambalam and other citizens of Sri Lanka, and to urge her to do everything in her power to seek a peaceful solution to this very difficult situation?  ',\n",
       " 'Yes, Mr. Evans, I think such an initiative is indeed appropriate.  ',\n",
       " 'If the House agrees, I will follow Mr. Evans’ suggestion.  ',\n",
       " 'Madam President, on a point of order.  ',\n",
       " 'Could you give me information regarding Article 143 in connection with inadmissibility?  ',\n",
       " 'My question concerns a matter that will be raised on Thursday and to which I will refer again then.  ',\n",
       " 'On Thursday, Parliament will deal with the Cunha report on multiannual guidance programs, which in paragraph 6 proposes that countries that do not meet their fleet reduction targets should be subject to a kind of quota penalty each year.  ',\n",
       " 'Such penalties are to be imposed despite the principle of relative stability.  ',\n",
       " 'I believe that the principle of relative stability is a fundamental legal principle of the common fisheries policy, and a proposal to circumvent it would be legally inadmissible.  ',\n",
       " 'I would like to know whether it is possible to raise an objection to a document that is merely a report and not a legislative proposal, and whether I am authorized to do so on Thursday.  ',\n",
       " 'Exactly then, if you wish, you can raise this question, i.e., on Thursday at the beginning of the debate on the report.  ',\n",
       " 'Unfortunately, the first session of the European Parliament this year coincides with the scheduled execution in the United States, in Texas, on Thursday this week, of a 34-year-old young man named Hicks who has been sentenced to death.  ',\n",
       " 'At the request of a French member, Mr. Zimeray, a petition has already been submitted, which has been signed by many, including myself.  ',\n",
       " 'In accordance with the line now consistently taken by the European Parliament and the entire European Union, I would like to ask you to use the full influence of your office and the institution you represent with the presidential candidate and Governor of Texas, George W. Bush, who is authorized to suspend the execution of the death sentence and to pardon the convicted man.  ',\n",
       " 'All this is in line with the principles we have always defended.  ',\n",
       " 'Thank you very much, Mr. Segni, I will gladly do so.  ',\n",
       " 'That is entirely in keeping with the position we as Parliament have always taken.  ',\n",
       " 'Madam President! I would like to draw your attention to a case with which this Parliament has repeatedly dealt.  ',\n",
       " 'This is the case of Alexander Nikitin.  ',\n",
       " 'We are all pleased here that the court has acquitted him and made it clear that access to environmental information is a constitutional right even in Russia.  ',\n",
       " 'However, it is now the case that he is to be charged again because the prosecutor is appealing.  ',\n",
       " 'We know, and we have established in very many resolutions – especially during the last plenary session of the past year – that this is not just a legal case and that it is wrong to accuse Alexander Nikitin of criminality and treason, because we, as those affected, benefit from his findings.  ',\n",
       " 'These findings are the basis for the European programs to protect the Barents Sea, and that is why I ask you to review a draft letter that outlines the most important facts for you and to make this position clear in Russia in accordance with the decisions of Parliament.  ',\n",
       " 'Ms. Schroedter, I am happy to review the related facts when your letter is available to me.  ',\n",
       " 'Madam President, first of all, many thanks for keeping your word and for the fact that, now in the first session period of the new year, the range of television programs in our offices has indeed been greatly expanded.  ',\n",
       " 'Nevertheless, Madam President, my request has not been met.  ',\n",
       " 'Although we can now receive two Finnish and one Portuguese channel, we still cannot receive a Dutch channel. But I had asked you for a Dutch program, because we Dutch also want to follow the news when we are sent here into exile every month.  ',\n",
       " 'Therefore, I would like to ask you once again to ensure that a Dutch channel is also made available.  ',\n",
       " 'Ms. Plooij-van Gorsel, I can inform you that this point is on the agenda of the Quaestors on Wednesday.  ',\n",
       " 'I hope that a decision will be made there in your favor.  ',\n",
       " 'Madam President, can you tell me why this Parliament does not comply with the occupational safety regulations it has adopted itself?  ',\n",
       " 'Why has the air quality in this building not been checked even once since our election?  ',\n",
       " 'Why has the occupational safety committee not met even once since 1998?  ',\n",
       " 'Why has there not been a single fire drill in either the Brussels or Strasbourg Parliament buildings?  ',\n",
       " 'Why are there no fire safety instructions?  ',\n",
       " 'Why was nothing done after my accident to make the stairs safer?  ',\n",
       " 'Why is the smoking ban not enforced in the non-smoking areas?  ',\n",
       " 'It is a disgrace that we adopt rules and then do not comply with them ourselves.  ',\n",
       " 'Ms. Lynne, you are absolutely right, and I will check whether all this is really the case.  ',\n",
       " 'I will also submit the question to the Quaestors. I am sure that they attach great importance to ensuring that we ourselves comply with the legal provisions we adopt.']"
      ]
     },
     "execution_count": 7,
     "metadata": {},
     "output_type": "execute_result"
    }
   ],
   "source": [
    "gpt2.translate_document(\n",
    "    text=de_sents,\n",
    "    src_lang='de',\n",
    "    tgt_lang='en'\n",
    ")"
   ]
  }
 ],
 "metadata": {
  "kernelspec": {
   "display_name": "Python 3",
   "language": "python",
   "name": "python3"
  },
  "language_info": {
   "codemirror_mode": {
    "name": "ipython",
    "version": 3
   },
   "file_extension": ".py",
   "mimetype": "text/x-python",
   "name": "python",
   "nbconvert_exporter": "python",
   "pygments_lexer": "ipython3",
   "version": "3.12.6"
  }
 },
 "nbformat": 4,
 "nbformat_minor": 5
}
