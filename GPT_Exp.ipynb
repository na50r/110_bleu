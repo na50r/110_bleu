{
 "cells": [
  {
   "cell_type": "markdown",
   "id": "a57fe3a8",
   "metadata": {},
   "source": [
    "# GPT Experiment"
   ]
  },
  {
   "cell_type": "markdown",
   "id": "536aa0b7",
   "metadata": {},
   "source": [
    "* Setup the task"
   ]
  },
  {
   "cell_type": "code",
   "execution_count": 1,
   "id": "f66fff12",
   "metadata": {},
   "outputs": [],
   "source": [
    "from scripts.task import TranslationTask\n",
    "from scripts.data_management import EuroParlManager\n",
    "from scripts.translators import GPTClient\n",
    "from scripts.logger import MyLogger\n",
    "from os.path import join\n",
    "from random import sample, seed\n",
    "seed(64)\n",
    "possible = [tuple(pair.split('-')) for pair in EuroParlManager.EP_PAIRS]\n",
    "extended = [(pair[1], pair[0]) for pair in possible]\n",
    "possible = possible + extended\n",
    "some_pairs = sample(sorted(possible), k=4)\n",
    "\n",
    "example_folder = 'exmpl'\n",
    "logfile = join(example_folder, 'log.jsonl')\n",
    "\n",
    "\n",
    "dm = EuroParlManager()\n",
    "logger = MyLogger(logfile=logfile)\n",
    "client_gpt = GPTClient(logger=logger)\n",
    "\n",
    "mt_folder_gpt = join(example_folder, client_gpt.model)"
   ]
  },
  {
   "cell_type": "code",
   "execution_count": 2,
   "id": "63eaa5d0",
   "metadata": {},
   "outputs": [
    {
     "data": {
      "text/plain": [
       "[('fr', 'da'), ('de', 'fr'), ('nl', 'da'), ('it', 'pt')]"
      ]
     },
     "execution_count": 2,
     "metadata": {},
     "output_type": "execute_result"
    }
   ],
   "source": [
    "some_pairs"
   ]
  },
  {
   "cell_type": "code",
   "execution_count": 3,
   "id": "44a1b559",
   "metadata": {},
   "outputs": [],
   "source": [
    "task_gpt = TranslationTask(\n",
    "    target_pairs=some_pairs,\n",
    "    dm=dm,\n",
    "    client=client_gpt,\n",
    "    logger=logger,\n",
    "    mt_folder=mt_folder_gpt,\n",
    "    num_of_sents=400\n",
    ")"
   ]
  },
  {
   "cell_type": "code",
   "execution_count": 4,
   "id": "84cadbcd",
   "metadata": {},
   "outputs": [
    {
     "name": "stdout",
     "output_type": "stream",
     "text": [
      "400 translated from fr to da\n",
      "400 translated from de to fr\n",
      "125 translated from nl to da\n",
      "400 translated from it to pt\n"
     ]
    }
   ],
   "source": [
    "task_gpt.run()"
   ]
  },
  {
   "cell_type": "markdown",
   "id": "342f3c89",
   "metadata": {},
   "source": [
    "* Post-Processing"
   ]
  },
  {
   "cell_type": "code",
   "execution_count": 6,
   "id": "88d988b3",
   "metadata": {},
   "outputs": [],
   "source": [
    "from scripts.post_process import direct_triplet_align\n",
    "from scripts.util import load_sents\n",
    "\n",
    "for pair in some_pairs:\n",
    "    s, t = pair\n",
    "    src_sents, tgt_sents = dm.get_sentence_pairs(s, t, num_of_sents=400)\n",
    "    mt_sents = load_sents(mt_folder_gpt, s, t)\n",
    "    direct_triplet_align(\n",
    "        mt_sents=mt_sents,\n",
    "        ref_sents=tgt_sents,\n",
    "        src_sents=src_sents,\n",
    "        src_lang=s,\n",
    "        ref_lang=t,\n",
    "        folder_path='tmp_gpt'\n",
    "    )"
   ]
  },
  {
   "cell_type": "markdown",
   "id": "0f609abd",
   "metadata": {},
   "source": [
    "* Eval"
   ]
  },
  {
   "cell_type": "code",
   "execution_count": 8,
   "id": "87f83b40",
   "metadata": {},
   "outputs": [],
   "source": [
    "from scripts.scoring import ResultProducer\n",
    "import os\n",
    "l2f_gpt = {f.replace('.jsonl', ''): join('tmp_gpt', f)\n",
    "             for f in os.listdir('tmp_gpt') if f.endswith('.jsonl')}\n",
    "\n",
    "\n",
    "rp_gpt = ResultProducer(label2files=l2f_gpt)\n",
    "rp_gpt.compute_results()"
   ]
  },
  {
   "cell_type": "code",
   "execution_count": 9,
   "id": "aab353ed",
   "metadata": {},
   "outputs": [
    {
     "name": "stdout",
     "output_type": "stream",
     "text": [
      "   Label       BLEU       chrF\n",
      "0  de-fr  31.128177  59.199907\n",
      "1  fr-da  32.507761  59.628156\n",
      "2  it-pt  26.396587  55.420682\n",
      "3  nl-da  24.475386  51.354379\n"
     ]
    }
   ],
   "source": [
    "rp_gpt.display_results()"
   ]
  },
  {
   "cell_type": "markdown",
   "id": "dac4f098",
   "metadata": {},
   "source": [
    "* `nl-da` was translated correctly but not all sentences!"
   ]
  },
  {
   "cell_type": "markdown",
   "id": "b3545bfb",
   "metadata": {},
   "source": [
    "## Retry"
   ]
  },
  {
   "cell_type": "code",
   "execution_count": 12,
   "id": "57dba66d",
   "metadata": {},
   "outputs": [],
   "source": [
    "from string import Template\n",
    "\n",
    "\n",
    "USR_TEMPL = Template(\n",
    "    \"Translate the following $src_lang sentences into $tgt_lang.\\n\" \n",
    "    \"Please make sure to keep the same formatting, do not add more newlines.\\n\" \n",
    "    \"You are not allowed to omit anything.\\n\"\n",
    "    \"Here is the text:\")\n",
    "\n",
    "client = GPTClient(usr_templ=USR_TEMPL, logger=logger)\n",
    "mt_folder_gpt = join(example_folder, join(client_gpt.model, 'retry'))\n",
    "\n",
    "task_gpt = TranslationTask(\n",
    "    target_pairs=[('nl', 'da')],\n",
    "    dm=dm,\n",
    "    client=client_gpt,\n",
    "    logger=logger,\n",
    "    mt_folder=mt_folder_gpt,\n",
    "    num_of_sents=400\n",
    ")"
   ]
  },
  {
   "cell_type": "code",
   "execution_count": 13,
   "id": "49d1db23",
   "metadata": {},
   "outputs": [
    {
     "name": "stdout",
     "output_type": "stream",
     "text": [
      "400 translated from nl to da\n"
     ]
    }
   ],
   "source": [
    "task_gpt.run()"
   ]
  }
 ],
 "metadata": {
  "kernelspec": {
   "display_name": "thesis",
   "language": "python",
   "name": "python3"
  },
  "language_info": {
   "codemirror_mode": {
    "name": "ipython",
    "version": 3
   },
   "file_extension": ".py",
   "mimetype": "text/x-python",
   "name": "python",
   "nbconvert_exporter": "python",
   "pygments_lexer": "ipython3",
   "version": "3.12.6"
  }
 },
 "nbformat": 4,
 "nbformat_minor": 5
}
