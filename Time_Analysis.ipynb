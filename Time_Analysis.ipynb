{
 "cells": [
  {
   "cell_type": "markdown",
   "id": "dfaf2dec",
   "metadata": {},
   "source": [
    "# Time Analysis\n",
    "* In this notebook, we use the logs we created for each translation to have a better look at the translation times"
   ]
  },
  {
   "cell_type": "markdown",
   "id": "c2a5daf6",
   "metadata": {},
   "source": [
    "## Time per Task\n",
    "* Each procedure ran a number of tasks and each time a task completed, it logged the time it took for the task to execute.\n",
    "* This includes automatic retries that were triggered by GPT4.1 code; it reflects the actual time we had to wait for a task to finish"
   ]
  },
  {
   "cell_type": "code",
   "execution_count": 25,
   "id": "7774bdcc",
   "metadata": {},
   "outputs": [],
   "source": [
    "from os.path import join\n",
    "import json\n",
    "from collections import defaultdict\n",
    "with open(join('translations', 'info.json'), 'r') as f:\n",
    "    prefix2file = json.load(f)\n",
    "    \n",
    "procs = [f'proc{i}' for i in range(1, 7)]\n",
    "proc2tasks = {}\n",
    "\n",
    "for proc in procs:\n",
    "    for prefix, info in prefix2file.items():\n",
    "        if info.get('procedure', None) == proc:\n",
    "            task_id = info['task']['task_id']\n",
    "            duration = info['task']['duration']\n",
    "            if proc == 'proc1':\n",
    "                tl = info['task']['translator']\n",
    "                if tl == 'deepl_document':\n",
    "                    key = f'proc1-deepl'\n",
    "                else:\n",
    "                    key = f'proc1-gpt'\n",
    "            else:\n",
    "                key = proc\n",
    "            if key not in proc2tasks:\n",
    "                proc2tasks[key] = {}\n",
    "            if task_id not in proc2tasks[key]:\n",
    "                proc2tasks[key][task_id] = duration"
   ]
  },
  {
   "cell_type": "code",
   "execution_count": 26,
   "id": "aaa5e673",
   "metadata": {},
   "outputs": [
    {
     "name": "stdout",
     "output_type": "stream",
     "text": [
      "proc1-deepl (3)        8.8 min\n",
      "proc1-gpt (3)        156.1 min\n",
      "proc2 (1)            245.0 min\n",
      "proc3 (5)            408.0 min\n",
      "proc4 (10)           310.0 min\n",
      "proc5 (2)             49.8 min\n",
      "proc6 (2)             38.6 min\n"
     ]
    }
   ],
   "source": [
    "for k, v in proc2tasks.items():\n",
    "    num_tasks = len(v)\n",
    "    total_minutes = sum(v.values()) / 60\n",
    "    label = f'{k} ({num_tasks})'\n",
    "    print(f\"{label:<15} {total_minutes:>10.1f} min\")"
   ]
  },
  {
   "cell_type": "markdown",
   "id": "83fe7b86",
   "metadata": {},
   "source": [
    "## Time per Translation\n",
    "* Exluces automatic retries\n",
    "* Aggregation of each individual translated item, where start and end timestamps where generated when API call was made and response was received"
   ]
  },
  {
   "cell_type": "code",
   "execution_count": 27,
   "id": "f5bb6803",
   "metadata": {},
   "outputs": [],
   "source": [
    "from os.path import join\n",
    "import json\n",
    "from collections import defaultdict\n",
    "with open(join('translations', 'info.json'), 'r') as f:\n",
    "    prefix2file = json.load(f)\n",
    "    \n",
    "procs = [f'proc{i}' for i in range(1, 7)]\n",
    "\n",
    "total_time = defaultdict(int)\n",
    "\n",
    "for proc in procs:\n",
    "    for prefix, info in prefix2file.items():\n",
    "        if info.get('procedure', None) == proc:\n",
    "            duration = info['log']['end'] - info['log']['start']\n",
    "            if proc == 'proc1':\n",
    "                tl = info['task']['translator']\n",
    "                if tl == 'deepl_document':\n",
    "                    key = f'proc1-deepl'\n",
    "                else:\n",
    "                    key = f'proc1-gpt'\n",
    "            else:\n",
    "                key = proc\n",
    "            total_time[key] += duration\n",
    "                "
   ]
  },
  {
   "cell_type": "code",
   "execution_count": 28,
   "id": "1d5fc08a",
   "metadata": {},
   "outputs": [
    {
     "name": "stdout",
     "output_type": "stream",
     "text": [
      "proc1-deepl            8.8 min\n",
      "proc1-gpt            156.1 min\n",
      "proc2                245.0 min\n",
      "proc3                408.0 min\n",
      "proc4                310.0 min\n",
      "proc5                 49.8 min\n",
      "proc6                 38.6 min\n"
     ]
    }
   ],
   "source": [
    "for k, v in proc2tasks.items():\n",
    "    total_minutes = sum(v.values()) / 60\n",
    "    label = f'{k}'\n",
    "    print(f\"{label:<15} {total_minutes:>10.1f} min\")"
   ]
  },
  {
   "cell_type": "markdown",
   "id": "4fd23857",
   "metadata": {},
   "source": [
    "* We can see that the precise times for proc2 and 3 have a larger impact; it makes more sense to use the precise times to have an idea of how long it takes GPT4.1 to translate text."
   ]
  },
  {
   "cell_type": "code",
   "execution_count": 29,
   "id": "43f93aaf",
   "metadata": {},
   "outputs": [
    {
     "name": "stdout",
     "output_type": "stream",
     "text": [
      "DeepL: 46.48min\n",
      "GPT4.1: 748.00min\n"
     ]
    }
   ],
   "source": [
    "print(f'DeepL: {(total_time['proc1-deepl']+total_time['proc6'])/60:.2f}min')\n",
    "print(f'GPT4.1: {(total_time['proc1-gpt']+total_time['proc2']+total_time['proc3']+total_time['proc4'])/60:.2f}min')"
   ]
  },
  {
   "cell_type": "markdown",
   "id": "280a7ac6",
   "metadata": {},
   "source": [
    "* For the same workload, GPT took in total roughly 16 times as much as DeepL\n",
    "    * Excluding the additional retries from Proc5"
   ]
  },
  {
   "cell_type": "markdown",
   "id": "e8c187db",
   "metadata": {},
   "source": [
    "# Exploiting Existing Systems\n",
    "* To take advantage of code that we already have for correlations and visualizations, we can pretend that certain attributes that we are interested in are equivalent to metrics such as BLEU score."
   ]
  },
  {
   "cell_type": "code",
   "execution_count": 30,
   "id": "b9469472",
   "metadata": {},
   "outputs": [],
   "source": [
    "from os.path import join\n",
    "import pandas as pd\n",
    "import json\n",
    "\n",
    "time2df = {}\n",
    "\n",
    "parts = ['ep-gpt', 'ep-deepl', 'flores-gpt',\n",
    "         'flores-deepl', 'opus-gpt', 'opus-deepl']\n",
    "\n",
    "with open(join('translations', 'info.json'), 'r') as f:\n",
    "    prefix2file = json.load(f)\n",
    "\n",
    "for part in parts:\n",
    "    data = {'Label': [], 'Time': [], 'Size': []}\n",
    "    for prefix, info in prefix2file.items():\n",
    "        if prefix.startswith(part):\n",
    "            src_lang, tgt_lang = prefix.split('-')[2], prefix.split('-')[3]\n",
    "            duration = info['log']['end'] - info['log']['start']\n",
    "            data['Label'].append(f'{src_lang}-{tgt_lang}')\n",
    "            data['Time'].append(duration)\n",
    "            if part.endswith('gpt'):\n",
    "                data['Size'].append(info['log']['out_model_tokens'])\n",
    "            if part.endswith('deepl'):\n",
    "                data['Size'].append(info['log']['out_tokens'])\n",
    "\n",
    "    df = pd.DataFrame(data)\n",
    "    time2df[part] = df"
   ]
  },
  {
   "cell_type": "code",
   "execution_count": 31,
   "id": "0c260322",
   "metadata": {},
   "outputs": [
    {
     "name": "stdout",
     "output_type": "stream",
     "text": [
      "ep-gpt 110\n",
      "ep-deepl 110\n",
      "flores-gpt 110\n",
      "flores-deepl 110\n",
      "opus-gpt 20\n",
      "opus-deepl 20\n"
     ]
    }
   ],
   "source": [
    "for k in time2df:\n",
    "    print(k, len(time2df[k]))"
   ]
  },
  {
   "cell_type": "code",
   "execution_count": 32,
   "id": "fcbaf7fb",
   "metadata": {},
   "outputs": [],
   "source": [
    "import os\n",
    "import pandas as pd\n",
    "from os.path import join\n",
    "files = os.listdir('final_results')\n",
    "res2df = {}\n",
    "for fi in files:\n",
    "    df = pd.read_csv(join('final_results', fi))\n",
    "    res2df[fi.replace('.csv', '')] = df"
   ]
  },
  {
   "cell_type": "code",
   "execution_count": 33,
   "id": "346d72d5",
   "metadata": {},
   "outputs": [
    {
     "name": "stdout",
     "output_type": "stream",
     "text": [
      "ep-deepl 110\n",
      "ep-gpt 110\n",
      "flores-deepl 110\n",
      "flores-gpt 110\n",
      "opus-deepl 20\n",
      "opus-gpt 20\n"
     ]
    }
   ],
   "source": [
    "for k in res2df:\n",
    "    print(k, len(res2df[k]))"
   ]
  },
  {
   "cell_type": "code",
   "execution_count": 34,
   "id": "6cf750ed",
   "metadata": {},
   "outputs": [],
   "source": [
    "new = {}\n",
    "for k in res2df:\n",
    "    df1 = res2df[k]\n",
    "    df2 = time2df[k]\n",
    "    df3 = pd.merge(df1, df2, on='Label')\n",
    "    new[k] = df3"
   ]
  },
  {
   "cell_type": "code",
   "execution_count": 35,
   "id": "c4459796",
   "metadata": {},
   "outputs": [],
   "source": [
    "os.makedirs('enriched_results', exist_ok=True)\n",
    "for k in new:\n",
    "    df = new[k]\n",
    "    df.to_csv(join('enriched_results', f'{k}.csv'))"
   ]
  },
  {
   "cell_type": "markdown",
   "id": "ee3995e8",
   "metadata": {},
   "source": [
    "## Time Analysis GPT"
   ]
  },
  {
   "cell_type": "code",
   "execution_count": 36,
   "id": "0528d593",
   "metadata": {},
   "outputs": [],
   "source": [
    "from scripts.presentation import Presenter\n",
    "results_folder = 'enriched_results'\n",
    "p = Presenter(results_folder=results_folder, metrics=['BLEU', 'chrF', 'Time', 'Size'])"
   ]
  },
  {
   "cell_type": "code",
   "execution_count": 37,
   "id": "ea034aa8",
   "metadata": {},
   "outputs": [
    {
     "name": "stdout",
     "output_type": "stream",
     "text": [
      "Datasets: ['ep', 'flores', 'opus'] : ['ep', 'flores', 'opus']\n",
      "Translators: ['gpt'] : ['gpt']\n",
      "Pearson correlation: 0.68 (p = 3.0e-34)\n",
      "Spearman correlation: 0.69 (p = 2.1e-35)\n",
      "\n"
     ]
    },
    {
     "data": {
      "image/png": "[encoded data removed]",
      "text/plain": [
       "<Figure size 640x480 with 1 Axes>"
      ]
     },
     "metadata": {},
     "output_type": "display_data"
    }
   ],
   "source": [
    "datasets = ['ep', 'flores', 'opus']\n",
    "translators = ['gpt', 'deepl']\n",
    "tl2data = {t: {} for t in translators}\n",
    "\n",
    "config1 = {\n",
    "    'datasets': datasets,\n",
    "    'translators': ['gpt'],\n",
    "    'src_lang': None,\n",
    "    'tgt_lang': None,\n",
    "    'metric': 'Size'\n",
    "}\n",
    "config2 = {\n",
    "    'datasets': datasets,\n",
    "    'translators': ['gpt'],\n",
    "    'src_lang': None,\n",
    "    'tgt_lang': None,\n",
    "    'metric': 'Time'\n",
    "}\n",
    "p.show_correlations(config1, config2)\n",
    "data, model = p.linear_regression(config1, config2, 'Size', 'Time', custom_color={'tgt_lang': {'fi': 'red', 'el': 'green'}, 'dataset':{'opus':'blue', 'ep':'orange', 'flores':'purple'}})\n",
    "\n"
   ]
  },
  {
   "cell_type": "code",
   "execution_count": 38,
   "id": "b5d2aa5e",
   "metadata": {},
   "outputs": [
    {
     "data": {
      "text/html": [
       "<div>\n",
       "<style scoped>\n",
       "    .dataframe tbody tr th:only-of-type {\n",
       "        vertical-align: middle;\n",
       "    }\n",
       "\n",
       "    .dataframe tbody tr th {\n",
       "        vertical-align: top;\n",
       "    }\n",
       "\n",
       "    .dataframe thead th {\n",
       "        text-align: right;\n",
       "    }\n",
       "</style>\n",
       "<table border=\"1\" class=\"dataframe\">\n",
       "  <thead>\n",
       "    <tr style=\"text-align: right;\">\n",
       "      <th></th>\n",
       "      <th>src_lang</th>\n",
       "      <th>tgt_lang</th>\n",
       "      <th>score_x</th>\n",
       "      <th>dataset</th>\n",
       "      <th>translator_x</th>\n",
       "      <th>score_y</th>\n",
       "      <th>translator_y</th>\n",
       "      <th>marked</th>\n",
       "    </tr>\n",
       "  </thead>\n",
       "  <tbody>\n",
       "    <tr>\n",
       "      <th>239</th>\n",
       "      <td>en</td>\n",
       "      <td>fi</td>\n",
       "      <td>7799.0</td>\n",
       "      <td>opus</td>\n",
       "      <td>gpt</td>\n",
       "      <td>179.0</td>\n",
       "      <td>gpt</td>\n",
       "      <td>Into Finnish</td>\n",
       "    </tr>\n",
       "  </tbody>\n",
       "</table>\n",
       "</div>"
      ],
      "text/plain": [
       "    src_lang tgt_lang  score_x dataset translator_x  score_y translator_y  \\\n",
       "239       en       fi   7799.0    opus          gpt    179.0          gpt   \n",
       "\n",
       "           marked  \n",
       "239  Into Finnish  "
      ]
     },
     "execution_count": 38,
     "metadata": {},
     "output_type": "execute_result"
    }
   ],
   "source": [
    "df = data\n",
    "df = df[df['tgt_lang'] == 'fi']\n",
    "df.sort_values(by='score_x').head(1)"
   ]
  },
  {
   "cell_type": "markdown",
   "id": "7934f047",
   "metadata": {},
   "source": [
    "* The outlier we observe for Finnish is the one from OPUS100, which makes sense, as OPUS has substantially smaller sentences than EuroParl and FLORES+"
   ]
  },
  {
   "cell_type": "code",
   "execution_count": 39,
   "id": "03981a66",
   "metadata": {},
   "outputs": [
    {
     "name": "stdout",
     "output_type": "stream",
     "text": [
      "EP Avg. Tokens: 15283.40\n",
      "Opus Avg. Tokens: 7026.00\n",
      "Flores Avg. Tokens: 13747.45\n"
     ]
    }
   ],
   "source": [
    "df = data\n",
    "df_opus = df[df['dataset'] == 'opus']\n",
    "df_ep = df[df['dataset'] == 'ep']\n",
    "df_flores = df[df['dataset'] == 'flores']\n",
    "print(f'EP Avg. Tokens: {df_ep[\"score_x\"].mean():.2f}')\n",
    "print(f'Opus Avg. Tokens: {df_opus[\"score_x\"].mean():.2f}')\n",
    "print(f'Flores Avg. Tokens: {df_flores[\"score_x\"].mean():.2f}')"
   ]
  },
  {
   "cell_type": "markdown",
   "id": "9c58ae71",
   "metadata": {},
   "source": [
    "* The reason why GPT4.1 had such a hard time with Greek translation was likely because it required more tokens to produce them.\n",
    "* It is noteworthy, that DeepL required more tokens as well but it did not affect the translation time. It is also worth mentioning that DeepL is actually not even using tokens but characters.\n",
    "* As for Finnish, the reason is less clear. The token count cannot be the sole reason, as we can see in the visualization that Finnish is not too different from the other Europarl/Flores translations in terms of tokens. "
   ]
  },
  {
   "cell_type": "code",
   "execution_count": 40,
   "id": "d089bd3a",
   "metadata": {},
   "outputs": [
    {
     "name": "stdout",
     "output_type": "stream",
     "text": [
      "el: 213.58\n",
      "fr: 207.07\n",
      "fi: 205.46\n",
      "nl: 202.72\n",
      "pt: 201.80\n",
      "it: 196.48\n",
      "de: 186.67\n",
      "es: 186.26\n",
      "da: 184.25\n",
      "sv: 180.11\n",
      "en: 165.13\n"
     ]
    }
   ],
   "source": [
    "src2time = {}\n",
    "for src_lang in df['src_lang'].unique():\n",
    "    src2time[src_lang] = df[df['src_lang'] == src_lang]['score_y'].mean()\n",
    "    \n",
    "tgt2time = {}\n",
    "for tgt_lang in df['tgt_lang'].unique():\n",
    "    tgt2time[tgt_lang] = df[df['tgt_lang'] == tgt_lang]['score_y'].mean()\n",
    "\n",
    "for k, v in sorted(src2time.items(), key=lambda x: x[1], reverse=True):\n",
    "    print(f'{k}: {v:.2f}')"
   ]
  },
  {
   "cell_type": "code",
   "execution_count": 41,
   "id": "5ea2b4af",
   "metadata": {},
   "outputs": [
    {
     "name": "stdout",
     "output_type": "stream",
     "text": [
      "el: 256.90\n",
      "fi: 247.87\n",
      "de: 208.05\n",
      "da: 205.14\n",
      "fr: 194.92\n",
      "sv: 192.91\n",
      "nl: 192.83\n",
      "it: 187.44\n",
      "pt: 170.90\n",
      "es: 162.32\n",
      "en: 126.73\n"
     ]
    }
   ],
   "source": [
    "for k, v in sorted(tgt2time.items(), key=lambda x: x[1], reverse=True):\n",
    "    print(f'{k}: {v:.2f}')"
   ]
  },
  {
   "cell_type": "code",
   "execution_count": 42,
   "id": "ef129929",
   "metadata": {},
   "outputs": [
    {
     "data": {
      "image/png": "[encoded data removed]",
      "text/plain": [
       "<Figure size 640x480 with 1 Axes>"
      ]
     },
     "metadata": {},
     "output_type": "display_data"
    }
   ],
   "source": [
    "_ = p.mean_metric_from_or_into_lang(\n",
    "    mode='DIFF', metric='Time', merge='DATASET', with_koehn=False, focus=['ep-gpt', 'flores-gpt'])"
   ]
  },
  {
   "cell_type": "markdown",
   "id": "4ea11655",
   "metadata": {},
   "source": [
    "* Positive means: It took more time to translate From the language \n",
    "* Negative means it took more time to translate Into the language. \n",
    "* We can observe that both Greek and Finnish took longer to translate INTO than translate FROM. \n",
    "* Thus, we can assume that the reason why timetout errors occured specifically for INTO Greek and Finnish translation may be related to the same reason why it takes GPT4.1 longer to translate into them.\n",
    "    * For Greek, this may be related to the higher number of output tokens required\n",
    "    * For Finnish, this may be related to the linguistic complexity of the language itself; so it is just a hard language to translate into in general; indicated by lower BLEU scores not only in Koehn's results in 2005 but also ours\n",
    "    * However, analysing Finnish with different metrics, makes it seem like it is not difficult to translate into Finnish; so either the metrics are not consistent or there is a different reason why Finnish specifically was difficult for GPT4.1"
   ]
  },
  {
   "cell_type": "markdown",
   "id": "a553efe4",
   "metadata": {},
   "source": [
    "## Time Analysis DeepL"
   ]
  },
  {
   "cell_type": "code",
   "execution_count": 43,
   "id": "03b4099b",
   "metadata": {},
   "outputs": [
    {
     "name": "stdout",
     "output_type": "stream",
     "text": [
      "Datasets: ['ep', 'flores', 'opus'] : ['ep', 'flores', 'opus']\n",
      "Translators: ['deepl'] : ['deepl']\n",
      "Pearson correlation: 0.43 (p = 2.2e-12)\n",
      "Spearman correlation: 0.52 (p = 1.1e-17)\n",
      "\n"
     ]
    },
    {
     "data": {
      "image/png": "[encoded data removed]",
      "text/plain": [
       "<Figure size 640x480 with 1 Axes>"
      ]
     },
     "metadata": {},
     "output_type": "display_data"
    }
   ],
   "source": [
    "datasets = ['ep', 'flores', 'opus']\n",
    "translators = ['gpt', 'deepl']\n",
    "tl2data = {t: {} for t in translators}\n",
    "\n",
    "config1 = {\n",
    "    'datasets': datasets,\n",
    "    'translators': ['deepl'],\n",
    "    'src_lang': None,\n",
    "    'tgt_lang': None,\n",
    "    'metric': 'Size'\n",
    "}\n",
    "config2 = {\n",
    "    'datasets': datasets,\n",
    "    'translators': ['deepl'],\n",
    "    'src_lang': None,\n",
    "    'tgt_lang': None,\n",
    "    'metric': 'Time'\n",
    "}\n",
    "p.show_correlations(config1, config2)\n",
    "data, model = p.linear_regression(config1, config2, 'Size', 'Time', custom_color={'tgt_lang': {'fi': 'red', 'el': 'green'}, 'dataset':{'opus':'blue', 'ep':'orange', 'flores':'purple'}})\n",
    "\n"
   ]
  },
  {
   "cell_type": "markdown",
   "id": "86629d9a",
   "metadata": {},
   "source": [
    "* Correlation analysis for DeepL does not seem too smart, the regular distances between each other more a sign of fixed 5 seconds delays they had in their \n",
    "* Recall: DeepL makes an API call and then regularly checks if it is done and then retrieves it. GPT4.1 initially worked similary but there was no check with fixed delay; we just wait for a response and sometimes the response did not come at all. Then we switched to streaming, where the response was streamed directly to us. "
   ]
  },
  {
   "cell_type": "code",
   "execution_count": 44,
   "id": "0d89aabc",
   "metadata": {},
   "outputs": [
    {
     "name": "stdout",
     "output_type": "stream",
     "text": [
      "INFO: 2025-05-07 14:57:37 - DeepL API response status_code=200 url=https://api.deepl.com/v2/document\n",
      "DEBUG: 2025-05-07 14:57:37 - Response details content={\"document_id\":\"957E998BF6D6AC669964251C171F5B54\",\"document_key\":\"C2846A97133211C79573E0A2AC3E1D0D5C9D94E2DCCAF1CE4EF13DE0EB41B4DD\"}\n",
      "INFO: 2025-05-07 14:57:37 - Request to DeepL API method=POST url=https://api.deepl.com/v2/document/957E998BF6D6AC669964251C171F5B54\n",
      "DEBUG: 2025-05-07 14:57:37 - Request details data={} json={'document_key': 'C2846A97133211C79573E0A2AC3E1D0D5C9D94E2DCCAF1CE4EF13DE0EB41B4DD'}\n",
      "DEBUG: 2025-05-07 14:57:37 - https://api.deepl.com:443 \"POST /v2/document/957E998BF6D6AC669964251C171F5B54 HTTP/1.1\" 200 None\n",
      "INFO: 2025-05-07 14:57:37 - DeepL API response status_code=200 url=https://api.deepl.com/v2/document/957E998BF6D6AC669964251C171F5B54\n",
      "DEBUG: 2025-05-07 14:57:37 - Response details content={\"document_id\":\"957E998BF6D6AC669964251C171F5B54\",\"status\":\"translating\",\"seconds_remaining\":59}\n",
      "INFO: 2025-05-07 14:57:37 - Rechecking document translation status after sleeping for 5.000 seconds. \n"
     ]
    }
   ],
   "source": [
    "!cat proc1.log | grep -P -A10 'DeepL API response' | head -n 8"
   ]
  },
  {
   "cell_type": "code",
   "execution_count": 45,
   "id": "1917e06b",
   "metadata": {},
   "outputs": [
    {
     "data": {
      "text/html": [
       "<div>\n",
       "<style scoped>\n",
       "    .dataframe tbody tr th:only-of-type {\n",
       "        vertical-align: middle;\n",
       "    }\n",
       "\n",
       "    .dataframe tbody tr th {\n",
       "        vertical-align: top;\n",
       "    }\n",
       "\n",
       "    .dataframe thead th {\n",
       "        text-align: right;\n",
       "    }\n",
       "</style>\n",
       "<table border=\"1\" class=\"dataframe\">\n",
       "  <thead>\n",
       "    <tr style=\"text-align: right;\">\n",
       "      <th></th>\n",
       "      <th>src_lang</th>\n",
       "      <th>tgt_lang</th>\n",
       "      <th>score_y</th>\n",
       "    </tr>\n",
       "  </thead>\n",
       "  <tbody>\n",
       "    <tr>\n",
       "      <th>33</th>\n",
       "      <td>en</td>\n",
       "      <td>nl</td>\n",
       "      <td>21.768036</td>\n",
       "    </tr>\n",
       "    <tr>\n",
       "      <th>52</th>\n",
       "      <td>de</td>\n",
       "      <td>es</td>\n",
       "      <td>21.494549</td>\n",
       "    </tr>\n",
       "    <tr>\n",
       "      <th>77</th>\n",
       "      <td>pt</td>\n",
       "      <td>it</td>\n",
       "      <td>21.324425</td>\n",
       "    </tr>\n",
       "    <tr>\n",
       "      <th>47</th>\n",
       "      <td>pt</td>\n",
       "      <td>en</td>\n",
       "      <td>21.065953</td>\n",
       "    </tr>\n",
       "    <tr>\n",
       "      <th>81</th>\n",
       "      <td>sv</td>\n",
       "      <td>pt</td>\n",
       "      <td>17.511968</td>\n",
       "    </tr>\n",
       "  </tbody>\n",
       "</table>\n",
       "</div>"
      ],
      "text/plain": [
       "   src_lang tgt_lang    score_y\n",
       "33       en       nl  21.768036\n",
       "52       de       es  21.494549\n",
       "77       pt       it  21.324425\n",
       "47       pt       en  21.065953\n",
       "81       sv       pt  17.511968"
      ]
     },
     "execution_count": 45,
     "metadata": {},
     "output_type": "execute_result"
    }
   ],
   "source": [
    "df = data\n",
    "df.sort_values(by='score_y', ascending=False)[['src_lang', 'tgt_lang', 'score_y']].head(5)"
   ]
  },
  {
   "cell_type": "code",
   "execution_count": 46,
   "id": "12d37016",
   "metadata": {},
   "outputs": [],
   "source": [
    "buckets = {k: [] for k in [6, 11, 16, 22]}\n",
    "\n",
    "for _, row in df.iterrows():\n",
    "    dist = {k: abs(row['score_y'] - k) for k in buckets}\n",
    "    min_key = min(dist, key=dist.get)\n",
    "    buckets[min_key].append(row)\n",
    "\n",
    "buckets = {k: pd.DataFrame(rows) for k, rows in buckets.items()}"
   ]
  },
  {
   "cell_type": "code",
   "execution_count": 47,
   "id": "1021cefd",
   "metadata": {},
   "outputs": [
    {
     "name": "stdout",
     "output_type": "stream",
     "text": [
      "6: 5.99\n",
      "11: 11.11\n",
      "16: 16.23\n",
      "22: 21.41\n"
     ]
    }
   ],
   "source": [
    "for k, v in buckets.items():\n",
    "    avg_score = v['score_y'].mean()\n",
    "    print(f'{k}: {avg_score:.2f}')"
   ]
  },
  {
   "cell_type": "code",
   "execution_count": 48,
   "id": "f5ffe963",
   "metadata": {},
   "outputs": [
    {
     "name": "stdout",
     "output_type": "stream",
     "text": [
      "6\n",
      "src_lang\n",
      "en    17\n",
      "de     9\n",
      "nl     4\n",
      "Name: count, dtype: int64\n",
      "tgt_lang\n",
      "en    16\n",
      "es     6\n",
      "fr     5\n",
      "Name: count, dtype: int64\n",
      "\n",
      "11\n",
      "src_lang\n",
      "fi    16\n",
      "es    15\n",
      "sv    15\n",
      "Name: count, dtype: int64\n",
      "tgt_lang\n",
      "de    16\n",
      "pt    15\n",
      "fi    14\n",
      "Name: count, dtype: int64\n",
      "\n",
      "16\n",
      "src_lang\n",
      "pt    10\n",
      "it     9\n",
      "fr     7\n",
      "Name: count, dtype: int64\n",
      "tgt_lang\n",
      "da    13\n",
      "sv     9\n",
      "el     9\n",
      "Name: count, dtype: int64\n",
      "\n",
      "22\n",
      "src_lang\n",
      "pt    2\n",
      "en    1\n",
      "de    1\n",
      "Name: count, dtype: int64\n",
      "tgt_lang\n",
      "nl    1\n",
      "en    1\n",
      "es    1\n",
      "Name: count, dtype: int64\n",
      "\n"
     ]
    }
   ],
   "source": [
    "for k, v in buckets.items():\n",
    "    print(k)\n",
    "    print(v['src_lang'].value_counts().head(3))\n",
    "    print(v['tgt_lang'].value_counts().head(3))\n",
    "    print('')"
   ]
  },
  {
   "cell_type": "code",
   "execution_count": 49,
   "id": "f28caa17",
   "metadata": {},
   "outputs": [],
   "source": [
    "!rm -rf enriched_results/"
   ]
  }
 ],
 "metadata": {
  "kernelspec": {
   "display_name": "thesis",
   "language": "python",
   "name": "python3"
  },
  "language_info": {
   "codemirror_mode": {
    "name": "ipython",
    "version": 3
   },
   "file_extension": ".py",
   "mimetype": "text/x-python",
   "name": "python",
   "nbconvert_exporter": "python",
   "pygments_lexer": "ipython3",
   "version": "3.12.6"
  }
 },
 "nbformat": 4,
 "nbformat_minor": 5
}
