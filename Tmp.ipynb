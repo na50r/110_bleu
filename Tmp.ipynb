{
 "cells": [
  {
   "cell_type": "markdown",
   "id": "35bb3c25",
   "metadata": {},
   "source": [
    "# Example"
   ]
  },
  {
   "cell_type": "code",
   "execution_count": null,
   "id": "17cd2d12",
   "metadata": {},
   "outputs": [],
   "source": [
    "from os.path import join\n",
    "from scripts.util import MyLogger\n",
    "main_folder = join('tmp', 'ep')\n",
    "gpt_folder = join(main_folder, 'gpt41')\n",
    "target_langs = sorted([\n",
    "    'de', #'es', 'fr', 'it', 'nl', 'pt', 'el', 'da', 'sv', 'fi'\n",
    "])\n",
    "logfile_path = join(gpt_folder, 'gpt_log.jsonl')\n",
    "logger = MyLogger(logfile=logfile_path)\n"
   ]
  },
  {
   "cell_type": "code",
   "execution_count": null,
   "id": "94d86cf1",
   "metadata": {},
   "outputs": [
    {
     "name": "stdout",
     "output_type": "stream",
     "text": [
      "de 400\n"
     ]
    }
   ],
   "source": [
    "\n",
    "from scripts.translators import translate_document\n",
    "from scripts.util import load_sents, triplet_align_sents\n",
    "from scripts.data_management import EPManager\n",
    "dm  = EPManager()\n",
    "for lang in target_langs:\n",
    "    src_sents, tgt_sents = dm.get_sentence_pairs(lang, 'en', num_of_sents=400)\n",
    "    logger.add_dataset_info(name='ep', num_of_sents=400)\n",
    "    try:\n",
    "        translate_document(\n",
    "                text=src_sents,\n",
    "                src_lang=lang,\n",
    "                tgt_lang='en',\n",
    "                mt_folder=gpt_folder,\n",
    "                translator='gpt4',\n",
    "                logger=logger,\n",
    "            )\n",
    "    except Exception as e:\n",
    "        logger.log_error(error=e, src_lang=lang, tgt_lang='en', translator='gpt4')\n",
    "        print(str(e))\n",
    "        continue\n",
    "    mt_sents = load_sents(gpt_folder, lang, 'en')\n",
    "    print(lang, len(mt_sents))\n",
    "    triplet_align_sents(\n",
    "        mt_sents=mt_sents,\n",
    "        src_sents=src_sents,\n",
    "        tgt_sents=tgt_sents,\n",
    "        src_lang=lang,\n",
    "        tgt_lang='en',\n",
    "        folder_path=gpt_folder\n",
    "    )"
   ]
  },
  {
   "cell_type": "code",
   "execution_count": 3,
   "id": "d95f3022",
   "metadata": {},
   "outputs": [
    {
     "data": {
      "text/plain": [
       "1"
      ]
     },
     "execution_count": 3,
     "metadata": {},
     "output_type": "execute_result"
    }
   ],
   "source": [
    "import os\n",
    "from scripts.scoring import ResultProducer\n",
    "l2f = {\n",
    "    f.replace('.jsonl', ''): join(gpt_folder, f) for f in os.listdir(gpt_folder) if f.endswith('.jsonl') and not f.endswith('log.jsonl')\n",
    "}\n",
    "len(l2f)"
   ]
  },
  {
   "cell_type": "code",
   "execution_count": 4,
   "id": "7996cd8a",
   "metadata": {},
   "outputs": [
    {
     "name": "stdout",
     "output_type": "stream",
     "text": [
      "     Src       BLEU       chrF\n",
      "0  de-en  37.718667  61.798119\n"
     ]
    }
   ],
   "source": [
    "rp = ResultProducer(lang2files=l2f)\n",
    "rp.compute_results()\n",
    "rp.display_results()"
   ]
  },
  {
   "cell_type": "code",
   "execution_count": 9,
   "id": "3a6d5b99",
   "metadata": {},
   "outputs": [],
   "source": [
    "import json\n",
    "with open(logfile_path, 'r') as f:\n",
    "    log_data = [json.loads(ln) for ln in f]"
   ]
  },
  {
   "cell_type": "code",
   "execution_count": 11,
   "id": "59ac4f31",
   "metadata": {},
   "outputs": [],
   "source": [
    "avg_in_toks = sum([o['in_toks'] for o in log_data]) / len(log_data)\n",
    "avg_out_toks = sum([o['out_toks'] for o in log_data]) / len(log_data)\n",
    "avg_in_tiktoks = sum([o['in_tiktoks'] for o in log_data]) / len(log_data)\n",
    "avg_out_tiktoks = sum([o['out_tiktoks'] for o in log_data]) / len(log_data)"
   ]
  }
 ],
 "metadata": {
  "kernelspec": {
   "display_name": "Python 3",
   "language": "python",
   "name": "python3"
  },
  "language_info": {
   "codemirror_mode": {
    "name": "ipython",
    "version": 3
   },
   "file_extension": ".py",
   "mimetype": "text/x-python",
   "name": "python",
   "nbconvert_exporter": "python",
   "pygments_lexer": "ipython3",
   "version": "3.12.6"
  }
 },
 "nbformat": 4,
 "nbformat_minor": 5
}
