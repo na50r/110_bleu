{
 "cells": [
  {
   "cell_type": "markdown",
   "id": "d89d1056",
   "metadata": {},
   "source": [
    "## Google Colab Prepare"
   ]
  },
  {
   "cell_type": "code",
   "execution_count": 1,
   "id": "a886ea0d",
   "metadata": {},
   "outputs": [],
   "source": [
    "import os\n",
    "os.makedirs('source', exist_ok=True)\n",
    "os.makedirs('target', exist_ok=True)"
   ]
  },
  {
   "cell_type": "code",
   "execution_count": 2,
   "id": "63a79031",
   "metadata": {},
   "outputs": [],
   "source": [
    "from os.path import join\n",
    "from scripts.data_management import EuroParlManager, Opus100Manager, FloresPlusManager\n",
    "entries = {\n",
    "    'opus': {'dm': Opus100Manager(), 'pairs': Opus100Manager.get_pairs()},\n",
    "    'ep': {'dm': EuroParlManager(), 'pairs': EuroParlManager.get_pairs()},\n",
    "    'flores': {'dm':FloresPlusManager(), 'pairs':FloresPlusManager.get_pairs()}\n",
    "}   "
   ]
  },
  {
   "cell_type": "code",
   "execution_count": 3,
   "id": "f16ab27f",
   "metadata": {},
   "outputs": [],
   "source": [
    "for ent, content in entries.items():\n",
    "    dm = content['dm']\n",
    "    pairs = content['pairs']\n",
    "    for pair in pairs:\n",
    "        s,t = pair\n",
    "        filename = f'{ent}-{s}-{t}.txt'\n",
    "        src_path = join('source', filename)\n",
    "        tgt_path = join('target', filename)\n",
    "        src_sents, tgt_sents = dm.get_sentence_pairs(s, t, num_of_sents=400)\n",
    "        with open(src_path, 'w') as f_src, open(tgt_path, 'w') as f_tgt:\n",
    "            for src, tgt in zip(src_sents, tgt_sents):\n",
    "                print(src, file=f_src)\n",
    "                print(tgt, file=f_tgt)"
   ]
  },
  {
   "cell_type": "markdown",
   "id": "4e0d33ef",
   "metadata": {},
   "source": [
    "### Example Usage"
   ]
  },
  {
   "cell_type": "code",
   "execution_count": 4,
   "id": "41d0abca",
   "metadata": {},
   "outputs": [],
   "source": [
    "import sys\n",
    "from contextlib import contextmanager\n",
    "from io import StringIO\n",
    "\n",
    "@contextmanager\n",
    "def captureStdOut(output):\n",
    "    stdout = sys.stdout\n",
    "    sys.stdout = output\n",
    "    try:\n",
    "        yield\n",
    "    finally:\n",
    "        sys.stdout = stdout"
   ]
  },
  {
   "cell_type": "code",
   "execution_count": 5,
   "id": "69b81fdf",
   "metadata": {},
   "outputs": [
    {
     "data": {
      "application/vnd.jupyter.widget-view+json": {
       "model_id": "bec0f54f1975463ba641864a95c63672",
       "version_major": 2,
       "version_minor": 0
      },
      "text/plain": [
       "Batches:   0%|          | 0/2 [00:00<?, ?it/s]"
      ]
     },
     "metadata": {},
     "output_type": "display_data"
    },
    {
     "data": {
      "application/vnd.jupyter.widget-view+json": {
       "model_id": "0b6bccd9b500426c939121ca3242508a",
       "version_major": 2,
       "version_minor": 0
      },
      "text/plain": [
       "Batches:   0%|          | 0/2 [00:00<?, ?it/s]"
      ]
     },
     "metadata": {},
     "output_type": "display_data"
    },
    {
     "data": {
      "application/vnd.jupyter.widget-view+json": {
       "model_id": "d501307540a9497ab67ac3a87a453c3a",
       "version_major": 2,
       "version_minor": 0
      },
      "text/plain": [
       "Batches:   0%|          | 0/2 [00:00<?, ?it/s]"
      ]
     },
     "metadata": {},
     "output_type": "display_data"
    },
    {
     "data": {
      "application/vnd.jupyter.widget-view+json": {
       "model_id": "2c184d61e2024bd6b7f9c2bfd37a90d7",
       "version_major": 2,
       "version_minor": 0
      },
      "text/plain": [
       "Batches:   0%|          | 0/2 [00:00<?, ?it/s]"
      ]
     },
     "metadata": {},
     "output_type": "display_data"
    }
   ],
   "source": [
    "from scripts.post_process import load_sents_from_file, align_sents\n",
    "import time\n",
    "import logging\n",
    "fmt = '%(levelname)s: %(asctime)s - %(message)s'\n",
    "datefmt = '%Y-%m-%d %H:%M:%S'\n",
    "\n",
    "logging.basicConfig(filename='output.log', level=logging.DEBUG, format=fmt, datefmt=datefmt, force=True)\n",
    "\n",
    "examples = ['ep-gpt-de-en', 'flores-gpt-de-en']\n",
    "for ex in examples:\n",
    "    mt_sents = load_sents_from_file(ex, folder='translations')\n",
    "    dataset, translator, s, t = ex.split('-')\n",
    "    src_sents = load_sents_from_file(f'{dataset}-{s}-{t}', folder='source')\n",
    "\n",
    "    start = time.time()\n",
    "    out = StringIO()\n",
    "    with captureStdOut(out):\n",
    "        align_sents(\n",
    "            filename=ex,\n",
    "            src_lang=s,\n",
    "            tgt_lang=t,\n",
    "            src_sents=src_sents[:10],\n",
    "            tgt_sents=mt_sents[:10],\n",
    "            folder_path='tmp',\n",
    "        )\n",
    "    end = time.time()\n",
    "    logging.info(f'Alignment: {ex}')\n",
    "    logging.info(f'Duration: {end-start}')\n",
    "    logging.info(f'Stdout: \\n{out.getvalue()}')"
   ]
  },
  {
   "cell_type": "code",
   "execution_count": 6,
   "id": "03c4bc1f",
   "metadata": {},
   "outputs": [
    {
     "data": {
      "text/plain": [
       "(['Wiederaufnahme der Sitzungsperiode',\n",
       "  'Ich erkläre die am Freitag, dem 17. Dezember unterbrochene Sitzungsperiode des Europäischen Parlaments für wiederaufgenommen, wünsche Ihnen nochmals alles Gute zum Jahreswechsel und hoffe, daß Sie schöne Ferien hatten.',\n",
       "  'Wie Sie feststellen konnten, ist der gefürchtete \"Millenium-Bug \" nicht eingetreten.',\n",
       "  'Doch sind Bürger einiger unserer Mitgliedstaaten Opfer von schrecklichen Naturkatastrophen geworden.',\n",
       "  'Im Parlament besteht der Wunsch nach einer Aussprache im Verlauf dieser Sitzungsperiode in den nächsten Tagen.',\n",
       "  'Heute möchte ich Sie bitten - das ist auch der Wunsch einiger Kolleginnen und Kollegen -, allen Opfern der Stürme, insbesondere in den verschiedenen Ländern der Europäischen Union, in einer Schweigeminute zu gedenken.',\n",
       "  'Ich bitte Sie, sich zu einer Schweigeminute zu erheben.',\n",
       "  '(Das Parlament erhebt sich zu einer Schweigeminute.)',\n",
       "  'Frau Präsidentin, zur Geschäftsordnung.',\n",
       "  'Wie Sie sicher aus der Presse und dem Fernsehen wissen, gab es in Sri Lanka mehrere Bombenexplosionen mit zahlreichen Toten.',\n",
       "  'Zu den Attentatsopfern, die es in jüngster Zeit in Sri Lanka zu beklagen gab, zählt auch Herr Kumar Ponnambalam, der dem Europäischen Parlament erst vor wenigen Monaten einen Besuch abgestattet hatte.'],\n",
       " ['Resumption of the session',\n",
       "  'I declare resumed the session of the European Parliament adjourned on Friday, 17 December, and I would like once again to wish you all the best for the New Year and hope that you had a pleasant holiday.',\n",
       "  'As you will have noticed, the much-feared \"Millennium Bug\" did not materialize.',\n",
       "  'However, citizens of some of our Member States have become victims of terrible natural disasters.',\n",
       "  'There is a wish in Parliament to hold a debate on this subject during this session in the coming days.',\n",
       "  \"Today, I would like to ask you – as is also the wish of some colleagues – to observe a minute's silence in memory of all the victims of the storms, especially in the various countries of the European Union.\",\n",
       "  \"I ask you to rise for a minute's silence.\",\n",
       "  \"(The Parliament rises for a minute's silence.)\",\n",
       "  'Madam President, on a point of order.',\n",
       "  'As you will surely know from the press and television, there have been several bomb explosions in Sri Lanka with numerous fatalities.',\n",
       "  'Among the victims of the recent attacks in Sri Lanka is Mr. Kumar Ponnambalam, who visited the European Parliament only a few months ago.'])"
      ]
     },
     "execution_count": 6,
     "metadata": {},
     "output_type": "execute_result"
    }
   ],
   "source": [
    "from scripts.post_process import load_aligned_sents_from_file\n",
    "s, m = load_aligned_sents_from_file('ep-gpt-de-en', folder='tmp')\n",
    "s, m"
   ]
  },
  {
   "cell_type": "markdown",
   "id": "65588f21",
   "metadata": {},
   "source": [
    "* Thus, we only need to zip `source`, `translations` and `target` folder and uploud it with the `post_process.py` script to Google Colab."
   ]
  }
 ],
 "metadata": {
  "kernelspec": {
   "display_name": "thesis",
   "language": "python",
   "name": "python3"
  },
  "language_info": {
   "codemirror_mode": {
    "name": "ipython",
    "version": 3
   },
   "file_extension": ".py",
   "mimetype": "text/x-python",
   "name": "python",
   "nbconvert_exporter": "python",
   "pygments_lexer": "ipython3",
   "version": "3.12.6"
  }
 },
 "nbformat": 4,
 "nbformat_minor": 5
}
