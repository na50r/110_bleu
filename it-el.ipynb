{
 "cells": [
  {
   "cell_type": "code",
   "execution_count": null,
   "id": "06f5e9d1",
   "metadata": {},
   "outputs": [
    {
     "name": "stdout",
     "output_type": "stream",
     "text": [
      "Done\n",
      "<!DOCTYPE html>\n",
      "<!--\n"
     ]
    }
   ],
   "source": [
    "from scripts.translators import GPTClient\n",
    "from scripts.data_management import EuroParlManager\n",
    "from scripts.task import TranslationTask\n",
    "from scripts.logger import TranslationLogger, logging_config\n",
    "logging_config(logfile='it-el.log', stream=False) # logs only in .log file, not in stdout\n",
    "logger = TranslationLogger(logfile='it-el.json')\n",
    "dm = EuroParlManager()\n",
    "cli = GPTClient(logger=logger)\n",
    "cli.client.max_retries = 0\n",
    "\n",
    "task = TranslationTask(\n",
    "    target_pairs=[('it', 'el')],\n",
    "    dm=dm,\n",
    "    client=cli,\n",
    "    num_of_sents=400,\n",
    "    max_retries=0,\n",
    "    acceptable_range=(360, 480),\n",
    "    mt_folder='tmp-it-el'\n",
    ")"
   ]
  }
 ],
 "metadata": {
  "kernelspec": {
   "display_name": "thesis",
   "language": "python",
   "name": "python3"
  },
  "language_info": {
   "codemirror_mode": {
    "name": "ipython",
    "version": 3
   },
   "file_extension": ".py",
   "mimetype": "text/x-python",
   "name": "python",
   "nbconvert_exporter": "python",
   "pygments_lexer": "ipython3",
   "version": "3.12.6"
  }
 },
 "nbformat": 4,
 "nbformat_minor": 5
}
