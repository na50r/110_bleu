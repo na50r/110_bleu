{
 "cells": [
  {
   "cell_type": "markdown",
   "id": "0eb657f8",
   "metadata": {},
   "source": [
    "# Italian to Greek\n",
    "* In this Jupyter Notebook, we obtain the Italian to Greek translation by intentionally triggerring the 504 Gateway Timeout\n",
    "* We disable retries and run it only once. \n",
    "* Logs will not be streamed, so that this notebook can be published on GitHub."
   ]
  },
  {
   "cell_type": "code",
   "execution_count": null,
   "id": "06f5e9d1",
   "metadata": {},
   "outputs": [],
   "source": [
    "from scripts.translators import GPTClient\n",
    "from scripts.data_management import EuroParlManager\n",
    "from scripts.task import TranslationTask\n",
    "from scripts.logger import TranslationLogger, logging_config\n",
    "logging_config(logfile='it-el.log', stream=False) # logs only in .log file, not in stdout\n",
    "logger = TranslationLogger(logfile='it-el.json')\n",
    "dm = EuroParlManager()\n",
    "cli = GPTClient(logger=logger)\n",
    "cli.client.max_retries = 0 # disable auto-retry from GPTClient\n",
    "\n",
    "task = TranslationTask(\n",
    "    target_pairs=[('it', 'el')],\n",
    "    dm=dm,\n",
    "    client=cli,\n",
    "    num_of_sents=400,\n",
    "    max_retries=0,\n",
    "    acceptable_range=(360, 480),\n",
    "    mt_folder='tmp-it-el'\n",
    ")"
   ]
  }
 ],
 "metadata": {
  "kernelspec": {
   "display_name": "thesis",
   "language": "python",
   "name": "python3"
  },
  "language_info": {
   "codemirror_mode": {
    "name": "ipython",
    "version": 3
   },
   "file_extension": ".py",
   "mimetype": "text/x-python",
   "name": "python",
   "nbconvert_exporter": "python",
   "pygments_lexer": "ipython3",
   "version": "3.12.6"
  }
 },
 "nbformat": 4,
 "nbformat_minor": 5
}
