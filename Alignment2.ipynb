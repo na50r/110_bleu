{
 "cells": [
  {
   "cell_type": "code",
   "execution_count": 2,
   "id": "359753a2",
   "metadata": {},
   "outputs": [],
   "source": [
    "from os.path import join\n",
    "import json\n",
    "with open(join('translations', 'info.json'), 'r') as f:\n",
    "    prefix2file = json.load(f)\n",
    "\n",
    "alignment_required = prefix2file.keys()"
   ]
  },
  {
   "cell_type": "code",
   "execution_count": 3,
   "id": "373fec3f",
   "metadata": {},
   "outputs": [
    {
     "data": {
      "text/plain": [
       "109"
      ]
     },
     "execution_count": 3,
     "metadata": {},
     "output_type": "execute_result"
    }
   ],
   "source": [
    "ep_gpt_align = [e for e in alignment_required if e.startswith('ep-gpt')]\n",
    "len(ep_gpt_align)"
   ]
  },
  {
   "cell_type": "code",
   "execution_count": 4,
   "id": "a5a53140",
   "metadata": {},
   "outputs": [],
   "source": [
    "from scripts.data_management import EuroParlManager, FloresPlusManager\n",
    "dms = {\n",
    "    'flores' : FloresPlusManager(),\n",
    "    'ep' : EuroParlManager()\n",
    "}"
   ]
  },
  {
   "cell_type": "markdown",
   "id": "e7a80729",
   "metadata": {},
   "source": [
    "## Triplets"
   ]
  },
  {
   "cell_type": "code",
   "execution_count": null,
   "id": "1832c7ba",
   "metadata": {},
   "outputs": [
    {
     "name": "stdout",
     "output_type": "stream",
     "text": [
      "395 sents aligned for da and en\n",
      "372 sents aligned for de and en\n",
      "399 sents aligned for el and en\n",
      "394 sents aligned for en and da\n",
      "393 sents aligned for en and de\n",
      "389 sents aligned for en and el\n",
      "386 sents aligned for en and es\n",
      "392 sents aligned for en and fi\n",
      "389 sents aligned for en and fr\n",
      "372 sents aligned for en and it\n",
      "390 sents aligned for en and nl\n",
      "383 sents aligned for en and pt\n",
      "390 sents aligned for en and sv\n",
      "396 sents aligned for es and en\n",
      "392 sents aligned for fi and en\n",
      "394 sents aligned for fr and en\n",
      "381 sents aligned for it and en\n",
      "349 sents aligned for nl and en\n",
      "396 sents aligned for pt and en\n",
      "399 sents aligned for sv and en\n",
      "395 sents aligned for da and de\n",
      "393 sents aligned for da and el\n",
      "393 sents aligned for da and es\n",
      "396 sents aligned for da and fi\n",
      "394 sents aligned for da and fr\n",
      "372 sents aligned for da and it\n",
      "391 sents aligned for da and nl\n",
      "387 sents aligned for da and pt\n",
      "396 sents aligned for da and sv\n",
      "376 sents aligned for de and da\n",
      "365 sents aligned for de and el\n",
      "387 sents aligned for de and es\n",
      "382 sents aligned for de and fi\n",
      "376 sents aligned for de and fr\n",
      "353 sents aligned for de and it\n",
      "387 sents aligned for de and nl\n",
      "368 sents aligned for de and pt\n",
      "436 sents aligned for de and sv\n",
      "400 sents aligned for el and da\n",
      "398 sents aligned for el and de\n",
      "395 sents aligned for el and es\n",
      "402 sents aligned for el and fi\n",
      "397 sents aligned for el and fr\n",
      "377 sents aligned for el and it\n",
      "392 sents aligned for el and nl\n",
      "392 sents aligned for el and pt\n",
      "410 sents aligned for el and sv\n",
      "396 sents aligned for es and da\n",
      "409 sents aligned for es and de\n",
      "391 sents aligned for es and el\n",
      "413 sents aligned for es and fi\n",
      "395 sents aligned for es and fr\n",
      "377 sents aligned for es and it\n",
      "385 sents aligned for es and nl\n",
      "387 sents aligned for es and pt\n",
      "418 sents aligned for es and sv\n",
      "393 sents aligned for fi and da\n",
      "403 sents aligned for fi and de\n",
      "412 sents aligned for fi and es\n",
      "393 sents aligned for fi and fr\n",
      "379 sents aligned for fi and it\n",
      "386 sents aligned for fi and nl\n",
      "386 sents aligned for fi and pt\n",
      "420 sents aligned for fi and sv\n",
      "394 sents aligned for fr and da\n",
      "398 sents aligned for fr and de\n",
      "392 sents aligned for fr and el\n",
      "396 sents aligned for fr and es\n",
      "399 sents aligned for fr and fi\n",
      "376 sents aligned for fr and it\n",
      "389 sents aligned for fr and nl\n",
      "390 sents aligned for fr and pt\n",
      "399 sents aligned for fr and sv\n",
      "382 sents aligned for it and da\n",
      "386 sents aligned for it and de\n",
      "382 sents aligned for it and es\n",
      "381 sents aligned for it and fr\n",
      "389 sents aligned for it and nl\n",
      "374 sents aligned for it and pt\n",
      "390 sents aligned for it and sv\n",
      "347 sents aligned for nl and da\n",
      "354 sents aligned for nl and de\n",
      "340 sents aligned for nl and el\n",
      "343 sents aligned for nl and es\n",
      "347 sents aligned for nl and fi\n",
      "345 sents aligned for nl and fr\n",
      "341 sents aligned for nl and it\n",
      "336 sents aligned for nl and pt\n",
      "343 sents aligned for nl and sv\n",
      "396 sents aligned for pt and da\n",
      "396 sents aligned for pt and de\n",
      "393 sents aligned for pt and el\n",
      "392 sents aligned for pt and es\n",
      "397 sents aligned for pt and fi\n",
      "396 sents aligned for pt and fr\n",
      "378 sents aligned for pt and it\n",
      "389 sents aligned for pt and nl\n",
      "399 sents aligned for pt and sv\n",
      "362 sents aligned for sv and da\n",
      "511 sents aligned for sv and de\n",
      "392 sents aligned for sv and es\n",
      "384 sents aligned for sv and fi\n",
      "357 sents aligned for sv and fr\n",
      "365 sents aligned for sv and it\n",
      "390 sents aligned for sv and nl\n",
      "350 sents aligned for sv and pt\n",
      "388 sents aligned for fi and el\n",
      "386 sents aligned for it and fi\n",
      "365 sents aligned for sv and el\n"
     ]
    }
   ],
   "source": [
    "from scripts.post_process import post_triplet_align\n",
    "for p in ep_gpt_align:\n",
    "    dm, src_lang, tgt_lang = p.split('-')[0], p.split('-')[2], p.split('-')[3]\n",
    "    src_sents, tgt_sents = dms[dm].get_sentence_pairs(\n",
    "        src_lang, tgt_lang, num_of_sents=400)\n",
    "    folder_path = join('alignments', join(f'{dm}', 'triplets'))\n",
    "    with open(join(join('alignments', 'ep'), f'{src_lang}-{tgt_lang}.{tgt_lang}'), 'r') as f:\n",
    "        mt_sents_a = [ln.strip() for ln in f.readlines()]\n",
    "    \n",
    "    with open(join(join('alignments', 'ep'), f'{src_lang}-{tgt_lang}.{src_lang}'), 'r') as f:\n",
    "        src_sents_a = [ln.strip() for ln in f.readlines()]\n",
    "    \n",
    "    post_triplet_align(\n",
    "        src_sents_org=src_sents,\n",
    "        src_sents_ali=src_sents_a,\n",
    "        ref_sents_org=tgt_sents,\n",
    "        mt_sents_ali=mt_sents_a,\n",
    "        src_lang=src_lang,\n",
    "        ref_lang=tgt_lang,\n",
    "        folder_path=folder_path\n",
    "    )\n"
   ]
  }
 ],
 "metadata": {
  "kernelspec": {
   "display_name": "thesis",
   "language": "python",
   "name": "python3"
  },
  "language_info": {
   "codemirror_mode": {
    "name": "ipython",
    "version": 3
   },
   "file_extension": ".py",
   "mimetype": "text/x-python",
   "name": "python",
   "nbconvert_exporter": "python",
   "pygments_lexer": "ipython3",
   "version": "3.12.6"
  }
 },
 "nbformat": 4,
 "nbformat_minor": 5
}
