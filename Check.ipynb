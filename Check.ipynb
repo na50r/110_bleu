{
 "cells": [
  {
   "cell_type": "code",
   "execution_count": 1,
   "id": "f60fb7ad",
   "metadata": {},
   "outputs": [],
   "source": [
    "from scripts.util import get_env_variables\n",
    "from scripts.scoring import ResultProducer\n",
    "import logging\n",
    "logging.basicConfig(level=logging.INFO)\n",
    "import os\n",
    "from os.path import join\n",
    "triplets = get_env_variables('TRIPLETS')\n",
    "final_triplets = join(triplets, 'final_triplets')\n",
    "\n",
    "l2f = {f.replace('.jsonl', ''): join(final_triplets, f) for f in os.listdir(final_triplets) if f.endswith('.jsonl')}"
   ]
  },
  {
   "cell_type": "code",
   "execution_count": 2,
   "id": "4d50e9ad",
   "metadata": {},
   "outputs": [
    {
     "name": "stderr",
     "output_type": "stream",
     "text": [
      "INFO:root:[✔️]: Scored for ep-deepl-da-de 1/480\n",
      "INFO:root:[✔️]: Scored for ep-deepl-da-el 2/480\n",
      "INFO:root:[✔️]: Scored for ep-deepl-da-en 3/480\n",
      "INFO:root:[✔️]: Scored for ep-deepl-da-es 4/480\n",
      "INFO:root:[✔️]: Scored for ep-deepl-da-fi 5/480\n",
      "INFO:root:[✔️]: Scored for ep-deepl-da-fr 6/480\n",
      "INFO:root:[✔️]: Scored for ep-deepl-da-it 7/480\n",
      "INFO:root:[✔️]: Scored for ep-deepl-da-nl 8/480\n",
      "INFO:root:[✔️]: Scored for ep-deepl-da-pt 9/480\n",
      "INFO:root:[✔️]: Scored for ep-deepl-da-sv 10/480\n",
      "INFO:root:[✔️]: Scored for ep-deepl-de-da 11/480\n",
      "INFO:root:[✔️]: Scored for ep-deepl-de-el 12/480\n",
      "INFO:root:[✔️]: Scored for ep-deepl-de-en 13/480\n",
      "INFO:root:[✔️]: Scored for ep-deepl-de-es 14/480\n"
     ]
    },
    {
     "ename": "KeyboardInterrupt",
     "evalue": "",
     "output_type": "error",
     "traceback": [
      "\u001b[1;31m---------------------------------------------------------------------------\u001b[0m",
      "\u001b[1;31mKeyboardInterrupt\u001b[0m                         Traceback (most recent call last)",
      "Cell \u001b[1;32mIn[2], line 3\u001b[0m\n\u001b[0;32m      1\u001b[0m rp \u001b[38;5;241m=\u001b[39m ResultProducer(label2files\u001b[38;5;241m=\u001b[39ml2f)\n\u001b[0;32m      2\u001b[0m get_ipython()\u001b[38;5;241m.\u001b[39msystem(\u001b[38;5;124m'\u001b[39m\u001b[38;5;124mrm -rf tmp.csv\u001b[39m\u001b[38;5;124m'\u001b[39m)\n\u001b[1;32m----> 3\u001b[0m \u001b[43mrp\u001b[49m\u001b[38;5;241;43m.\u001b[39;49m\u001b[43mcompute_and_store_results\u001b[49m\u001b[43m(\u001b[49m\u001b[38;5;124;43m'\u001b[39;49m\u001b[38;5;124;43mtmp.csv\u001b[39;49m\u001b[38;5;124;43m'\u001b[39;49m\u001b[43m)\u001b[49m\n",
      "File \u001b[1;32mc:\\Files\\UZH\\Semester_6\\BA_Thesis\\BA_Repo\\scripts\\scoring.py:112\u001b[0m, in \u001b[0;36mResultProducer.compute_and_store_results\u001b[1;34m(self, output_path)\u001b[0m\n\u001b[0;32m    110\u001b[0m \u001b[38;5;28;01mtry\u001b[39;00m:\n\u001b[0;32m    111\u001b[0m     computed\u001b[38;5;241m.\u001b[39mappend(label)\n\u001b[1;32m--> 112\u001b[0m     bleu_score, chrf_score, bert_f1_score, comet_score \u001b[38;5;241m=\u001b[39m \u001b[38;5;28;43mself\u001b[39;49m\u001b[38;5;241;43m.\u001b[39;49m\u001b[43mcompute_result\u001b[49m\u001b[43m(\u001b[49m\u001b[43mlabel\u001b[49m\u001b[43m,\u001b[49m\u001b[43m \u001b[49m\u001b[43mfile_path\u001b[49m\u001b[43m)\u001b[49m\n\u001b[0;32m    113\u001b[0m     \u001b[38;5;28mself\u001b[39m\u001b[38;5;241m.\u001b[39m_append_row(output_path, label, bleu_score, chrf_score, bert_f1_score, comet_score)\n\u001b[0;32m    114\u001b[0m     logging\u001b[38;5;241m.\u001b[39minfo(\u001b[38;5;124mf\u001b[39m\u001b[38;5;124m'\u001b[39m\u001b[38;5;124m[✔️]: Scored for \u001b[39m\u001b[38;5;132;01m{\u001b[39;00mlabel\u001b[38;5;132;01m}\u001b[39;00m\u001b[38;5;124m \u001b[39m\u001b[38;5;132;01m{\u001b[39;00m\u001b[38;5;28mlen\u001b[39m(computed)\u001b[38;5;132;01m}\u001b[39;00m\u001b[38;5;124m/\u001b[39m\u001b[38;5;132;01m{\u001b[39;00m\u001b[38;5;28mlen\u001b[39m(\u001b[38;5;28mself\u001b[39m\u001b[38;5;241m.\u001b[39mlabel2files)\u001b[38;5;132;01m}\u001b[39;00m\u001b[38;5;124m'\u001b[39m)\n",
      "File \u001b[1;32mc:\\Files\\UZH\\Semester_6\\BA_Thesis\\BA_Repo\\scripts\\scoring.py:61\u001b[0m, in \u001b[0;36mResultProducer.compute_result\u001b[1;34m(self, label, file_path)\u001b[0m\n\u001b[0;32m     58\u001b[0m ref_sents \u001b[38;5;241m=\u001b[39m [o[\u001b[38;5;124m'\u001b[39m\u001b[38;5;124mref\u001b[39m\u001b[38;5;124m'\u001b[39m] \u001b[38;5;28;01mfor\u001b[39;00m o \u001b[38;5;129;01min\u001b[39;00m data]\n\u001b[0;32m     60\u001b[0m bleu_score \u001b[38;5;241m=\u001b[39m compute_bleu(ref_sents, mt_sents)\n\u001b[1;32m---> 61\u001b[0m chrf_score \u001b[38;5;241m=\u001b[39m \u001b[43mcompute_chrf\u001b[49m\u001b[43m(\u001b[49m\u001b[43mref_sents\u001b[49m\u001b[43m,\u001b[49m\u001b[43m \u001b[49m\u001b[43mmt_sents\u001b[49m\u001b[43m)\u001b[49m\n\u001b[0;32m     62\u001b[0m bert_f1_score \u001b[38;5;241m=\u001b[39m \u001b[38;5;28;01mNone\u001b[39;00m\n\u001b[0;32m     63\u001b[0m comet_score \u001b[38;5;241m=\u001b[39m \u001b[38;5;28;01mNone\u001b[39;00m\n",
      "File \u001b[1;32mc:\\Files\\UZH\\Semester_6\\BA_Thesis\\BA_Repo\\scripts\\scoring.py:14\u001b[0m, in \u001b[0;36mcompute_chrf\u001b[1;34m(ref, hyp)\u001b[0m\n\u001b[0;32m     12\u001b[0m \u001b[38;5;28;01mdef\u001b[39;00m \u001b[38;5;21mcompute_chrf\u001b[39m(ref: \u001b[38;5;28mlist\u001b[39m[\u001b[38;5;28mstr\u001b[39m], hyp: \u001b[38;5;28mlist\u001b[39m[\u001b[38;5;28mstr\u001b[39m]):\n\u001b[0;32m     13\u001b[0m     refs \u001b[38;5;241m=\u001b[39m [ref]  \u001b[38;5;66;03m# Because only single reference\u001b[39;00m\n\u001b[1;32m---> 14\u001b[0m     res \u001b[38;5;241m=\u001b[39m \u001b[43mcorpus_chrf\u001b[49m\u001b[43m(\u001b[49m\u001b[43mhyp\u001b[49m\u001b[43m,\u001b[49m\u001b[43m \u001b[49m\u001b[43mrefs\u001b[49m\u001b[43m)\u001b[49m\n\u001b[0;32m     15\u001b[0m     \u001b[38;5;28;01mreturn\u001b[39;00m res\u001b[38;5;241m.\u001b[39mscore\n",
      "File \u001b[1;32mc:\\Users\\Kokiri\\anaconda3\\envs\\thesis\\Lib\\site-packages\\sacrebleu\\compat.py:123\u001b[0m, in \u001b[0;36mcorpus_chrf\u001b[1;34m(hypotheses, references, char_order, word_order, beta, remove_whitespace, eps_smoothing)\u001b[0m\n\u001b[0;32m    101\u001b[0m \u001b[38;5;250m\u001b[39m\u001b[38;5;124;03m\"\"\"\u001b[39;00m\n\u001b[0;32m    102\u001b[0m \u001b[38;5;124;03mComputes chrF for a corpus against a single (or multiple) reference(s).\u001b[39;00m\n\u001b[0;32m    103\u001b[0m \u001b[38;5;124;03mIf `word_order` equals to 2, the metric is referred to as chrF++.\u001b[39;00m\n\u001b[1;32m   (...)\u001b[0m\n\u001b[0;32m    115\u001b[0m \u001b[38;5;124;03m:return: A `CHRFScore` object.\u001b[39;00m\n\u001b[0;32m    116\u001b[0m \u001b[38;5;124;03m\"\"\"\u001b[39;00m\n\u001b[0;32m    117\u001b[0m metric \u001b[38;5;241m=\u001b[39m CHRF(\n\u001b[0;32m    118\u001b[0m     char_order\u001b[38;5;241m=\u001b[39mchar_order,\n\u001b[0;32m    119\u001b[0m     word_order\u001b[38;5;241m=\u001b[39mword_order,\n\u001b[0;32m    120\u001b[0m     beta\u001b[38;5;241m=\u001b[39mbeta,\n\u001b[0;32m    121\u001b[0m     whitespace\u001b[38;5;241m=\u001b[39m\u001b[38;5;129;01mnot\u001b[39;00m remove_whitespace,\n\u001b[0;32m    122\u001b[0m     eps_smoothing\u001b[38;5;241m=\u001b[39meps_smoothing)\n\u001b[1;32m--> 123\u001b[0m \u001b[38;5;28;01mreturn\u001b[39;00m \u001b[43mmetric\u001b[49m\u001b[38;5;241;43m.\u001b[39;49m\u001b[43mcorpus_score\u001b[49m\u001b[43m(\u001b[49m\u001b[43mhypotheses\u001b[49m\u001b[43m,\u001b[49m\u001b[43m \u001b[49m\u001b[43mreferences\u001b[49m\u001b[43m)\u001b[49m\n",
      "File \u001b[1;32mc:\\Users\\Kokiri\\anaconda3\\envs\\thesis\\Lib\\site-packages\\sacrebleu\\metrics\\base.py:437\u001b[0m, in \u001b[0;36mMetric.corpus_score\u001b[1;34m(self, hypotheses, references, n_bootstrap)\u001b[0m\n\u001b[0;32m    434\u001b[0m \u001b[38;5;28mself\u001b[39m\u001b[38;5;241m.\u001b[39m_check_corpus_score_args(hypotheses, references)\n\u001b[0;32m    436\u001b[0m \u001b[38;5;66;03m# Collect corpus stats\u001b[39;00m\n\u001b[1;32m--> 437\u001b[0m stats \u001b[38;5;241m=\u001b[39m \u001b[38;5;28;43mself\u001b[39;49m\u001b[38;5;241;43m.\u001b[39;49m\u001b[43m_extract_corpus_statistics\u001b[49m\u001b[43m(\u001b[49m\u001b[43mhypotheses\u001b[49m\u001b[43m,\u001b[49m\u001b[43m \u001b[49m\u001b[43mreferences\u001b[49m\u001b[43m)\u001b[49m\n\u001b[0;32m    439\u001b[0m \u001b[38;5;66;03m# Compute the actual system score\u001b[39;00m\n\u001b[0;32m    440\u001b[0m actual_score \u001b[38;5;241m=\u001b[39m \u001b[38;5;28mself\u001b[39m\u001b[38;5;241m.\u001b[39m_aggregate_and_compute(stats)\n",
      "File \u001b[1;32mc:\\Users\\Kokiri\\anaconda3\\envs\\thesis\\Lib\\site-packages\\sacrebleu\\metrics\\base.py:374\u001b[0m, in \u001b[0;36mMetric._extract_corpus_statistics\u001b[1;34m(self, hypotheses, references)\u001b[0m\n\u001b[0;32m    371\u001b[0m \u001b[38;5;66;03m# Pre-compute references\u001b[39;00m\n\u001b[0;32m    372\u001b[0m \u001b[38;5;66;03m# Don't store the cache as the user is explicitly passing refs\u001b[39;00m\n\u001b[0;32m    373\u001b[0m \u001b[38;5;28;01mif\u001b[39;00m references:\n\u001b[1;32m--> 374\u001b[0m     ref_cache \u001b[38;5;241m=\u001b[39m \u001b[38;5;28;43mself\u001b[39;49m\u001b[38;5;241;43m.\u001b[39;49m\u001b[43m_cache_references\u001b[49m\u001b[43m(\u001b[49m\u001b[43mreferences\u001b[49m\u001b[43m)\u001b[49m\n\u001b[0;32m    375\u001b[0m \u001b[38;5;28;01melif\u001b[39;00m \u001b[38;5;28mself\u001b[39m\u001b[38;5;241m.\u001b[39m_ref_cache:\n\u001b[0;32m    376\u001b[0m     ref_cache \u001b[38;5;241m=\u001b[39m \u001b[38;5;28mself\u001b[39m\u001b[38;5;241m.\u001b[39m_ref_cache\n",
      "File \u001b[1;32mc:\\Users\\Kokiri\\anaconda3\\envs\\thesis\\Lib\\site-packages\\sacrebleu\\metrics\\base.py:349\u001b[0m, in \u001b[0;36mMetric._cache_references\u001b[1;34m(self, references)\u001b[0m\n\u001b[0;32m    346\u001b[0m     lines \u001b[38;5;241m=\u001b[39m [\u001b[38;5;28mself\u001b[39m\u001b[38;5;241m.\u001b[39m_preprocess_segment(x) \u001b[38;5;28;01mfor\u001b[39;00m x \u001b[38;5;129;01min\u001b[39;00m lines]\n\u001b[0;32m    348\u001b[0m     \u001b[38;5;66;03m# Get n-grams\u001b[39;00m\n\u001b[1;32m--> 349\u001b[0m     ref_cache\u001b[38;5;241m.\u001b[39mappend(\u001b[38;5;28;43mself\u001b[39;49m\u001b[38;5;241;43m.\u001b[39;49m\u001b[43m_extract_reference_info\u001b[49m\u001b[43m(\u001b[49m\u001b[43mlines\u001b[49m\u001b[43m)\u001b[49m)\n\u001b[0;32m    351\u001b[0m \u001b[38;5;28;01mif\u001b[39;00m \u001b[38;5;28mlen\u001b[39m(num_refs) \u001b[38;5;241m==\u001b[39m \u001b[38;5;241m1\u001b[39m:\n\u001b[0;32m    352\u001b[0m     \u001b[38;5;28mself\u001b[39m\u001b[38;5;241m.\u001b[39mnum_refs \u001b[38;5;241m=\u001b[39m \u001b[38;5;28mlist\u001b[39m(num_refs)[\u001b[38;5;241m0\u001b[39m]\n",
      "File \u001b[1;32mc:\\Users\\Kokiri\\anaconda3\\envs\\thesis\\Lib\\site-packages\\sacrebleu\\metrics\\chrf.py:233\u001b[0m, in \u001b[0;36mCHRF._extract_reference_info\u001b[1;34m(self, refs)\u001b[0m\n\u001b[0;32m    229\u001b[0m ngrams \u001b[38;5;241m=\u001b[39m []\n\u001b[0;32m    231\u001b[0m \u001b[38;5;28;01mfor\u001b[39;00m ref \u001b[38;5;129;01min\u001b[39;00m refs:\n\u001b[0;32m    232\u001b[0m     \u001b[38;5;66;03m# extract character n-grams\u001b[39;00m\n\u001b[1;32m--> 233\u001b[0m     stats \u001b[38;5;241m=\u001b[39m \u001b[43mextract_all_char_ngrams\u001b[49m\u001b[43m(\u001b[49m\u001b[43mref\u001b[49m\u001b[43m,\u001b[49m\u001b[43m \u001b[49m\u001b[38;5;28;43mself\u001b[39;49m\u001b[38;5;241;43m.\u001b[39;49m\u001b[43mchar_order\u001b[49m\u001b[43m,\u001b[49m\u001b[43m \u001b[49m\u001b[38;5;28;43mself\u001b[39;49m\u001b[38;5;241;43m.\u001b[39;49m\u001b[43mwhitespace\u001b[49m\u001b[43m)\u001b[49m\n\u001b[0;32m    235\u001b[0m     \u001b[38;5;66;03m# Check chrF+ mode\u001b[39;00m\n\u001b[0;32m    236\u001b[0m     \u001b[38;5;28;01mif\u001b[39;00m \u001b[38;5;28mself\u001b[39m\u001b[38;5;241m.\u001b[39mword_order \u001b[38;5;241m>\u001b[39m \u001b[38;5;241m0\u001b[39m:\n",
      "File \u001b[1;32mc:\\Users\\Kokiri\\anaconda3\\envs\\thesis\\Lib\\site-packages\\sacrebleu\\metrics\\helpers.py:66\u001b[0m, in \u001b[0;36mextract_all_char_ngrams\u001b[1;34m(line, max_order, include_whitespace)\u001b[0m\n\u001b[0;32m     63\u001b[0m     line \u001b[38;5;241m=\u001b[39m \u001b[38;5;124m'\u001b[39m\u001b[38;5;124m'\u001b[39m\u001b[38;5;241m.\u001b[39mjoin(line\u001b[38;5;241m.\u001b[39msplit())\n\u001b[0;32m     65\u001b[0m \u001b[38;5;28;01mfor\u001b[39;00m n \u001b[38;5;129;01min\u001b[39;00m \u001b[38;5;28mrange\u001b[39m(\u001b[38;5;241m1\u001b[39m, max_order \u001b[38;5;241m+\u001b[39m \u001b[38;5;241m1\u001b[39m):\n\u001b[1;32m---> 66\u001b[0m     ngrams \u001b[38;5;241m=\u001b[39m \u001b[43mCounter\u001b[49m\u001b[43m(\u001b[49m\u001b[43m[\u001b[49m\u001b[43mline\u001b[49m\u001b[43m[\u001b[49m\u001b[43mi\u001b[49m\u001b[43m:\u001b[49m\u001b[43mi\u001b[49m\u001b[43m \u001b[49m\u001b[38;5;241;43m+\u001b[39;49m\u001b[43m \u001b[49m\u001b[43mn\u001b[49m\u001b[43m]\u001b[49m\u001b[43m \u001b[49m\u001b[38;5;28;43;01mfor\u001b[39;49;00m\u001b[43m \u001b[49m\u001b[43mi\u001b[49m\u001b[43m \u001b[49m\u001b[38;5;129;43;01min\u001b[39;49;00m\u001b[43m \u001b[49m\u001b[38;5;28;43mrange\u001b[39;49m\u001b[43m(\u001b[49m\u001b[38;5;28;43mlen\u001b[39;49m\u001b[43m(\u001b[49m\u001b[43mline\u001b[49m\u001b[43m)\u001b[49m\u001b[43m \u001b[49m\u001b[38;5;241;43m-\u001b[39;49m\u001b[43m \u001b[49m\u001b[43mn\u001b[49m\u001b[43m \u001b[49m\u001b[38;5;241;43m+\u001b[39;49m\u001b[43m \u001b[49m\u001b[38;5;241;43m1\u001b[39;49m\u001b[43m)\u001b[49m\u001b[43m]\u001b[49m\u001b[43m)\u001b[49m\n\u001b[0;32m     67\u001b[0m     counters\u001b[38;5;241m.\u001b[39mappend(ngrams)\n\u001b[0;32m     69\u001b[0m \u001b[38;5;28;01mreturn\u001b[39;00m counters\n",
      "File \u001b[1;32mc:\\Users\\Kokiri\\anaconda3\\envs\\thesis\\Lib\\collections\\__init__.py:607\u001b[0m, in \u001b[0;36mCounter.__init__\u001b[1;34m(self, iterable, **kwds)\u001b[0m\n\u001b[0;32m    596\u001b[0m \u001b[38;5;250m\u001b[39m\u001b[38;5;124;03m'''Create a new, empty Counter object.  And if given, count elements\u001b[39;00m\n\u001b[0;32m    597\u001b[0m \u001b[38;5;124;03mfrom an input iterable.  Or, initialize the count from another mapping\u001b[39;00m\n\u001b[0;32m    598\u001b[0m \u001b[38;5;124;03mof elements to their counts.\u001b[39;00m\n\u001b[1;32m   (...)\u001b[0m\n\u001b[0;32m    604\u001b[0m \n\u001b[0;32m    605\u001b[0m \u001b[38;5;124;03m'''\u001b[39;00m\n\u001b[0;32m    606\u001b[0m \u001b[38;5;28msuper\u001b[39m()\u001b[38;5;241m.\u001b[39m\u001b[38;5;21m__init__\u001b[39m()\n\u001b[1;32m--> 607\u001b[0m \u001b[38;5;28;43mself\u001b[39;49m\u001b[38;5;241;43m.\u001b[39;49m\u001b[43mupdate\u001b[49m\u001b[43m(\u001b[49m\u001b[43miterable\u001b[49m\u001b[43m,\u001b[49m\u001b[43m \u001b[49m\u001b[38;5;241;43m*\u001b[39;49m\u001b[38;5;241;43m*\u001b[39;49m\u001b[43mkwds\u001b[49m\u001b[43m)\u001b[49m\n",
      "File \u001b[1;32mc:\\Users\\Kokiri\\anaconda3\\envs\\thesis\\Lib\\collections\\__init__.py:669\u001b[0m, in \u001b[0;36mCounter.update\u001b[1;34m(self, iterable, **kwds)\u001b[0m\n\u001b[0;32m    657\u001b[0m \u001b[38;5;129m@classmethod\u001b[39m\n\u001b[0;32m    658\u001b[0m \u001b[38;5;28;01mdef\u001b[39;00m \u001b[38;5;21mfromkeys\u001b[39m(\u001b[38;5;28mcls\u001b[39m, iterable, v\u001b[38;5;241m=\u001b[39m\u001b[38;5;28;01mNone\u001b[39;00m):\n\u001b[0;32m    659\u001b[0m     \u001b[38;5;66;03m# There is no equivalent method for counters because the semantics\u001b[39;00m\n\u001b[1;32m   (...)\u001b[0m\n\u001b[0;32m    664\u001b[0m     \u001b[38;5;66;03m# more exotic cases, create a dictionary first using a dictionary\u001b[39;00m\n\u001b[0;32m    665\u001b[0m     \u001b[38;5;66;03m# comprehension or dict.fromkeys().\u001b[39;00m\n\u001b[0;32m    666\u001b[0m     \u001b[38;5;28;01mraise\u001b[39;00m \u001b[38;5;167;01mNotImplementedError\u001b[39;00m(\n\u001b[0;32m    667\u001b[0m         \u001b[38;5;124m'\u001b[39m\u001b[38;5;124mCounter.fromkeys() is undefined.  Use Counter(iterable) instead.\u001b[39m\u001b[38;5;124m'\u001b[39m)\n\u001b[1;32m--> 669\u001b[0m \u001b[38;5;28;01mdef\u001b[39;00m \u001b[38;5;21mupdate\u001b[39m(\u001b[38;5;28mself\u001b[39m, iterable\u001b[38;5;241m=\u001b[39m\u001b[38;5;28;01mNone\u001b[39;00m, \u001b[38;5;241m/\u001b[39m, \u001b[38;5;241m*\u001b[39m\u001b[38;5;241m*\u001b[39mkwds):\n\u001b[0;32m    670\u001b[0m \u001b[38;5;250m    \u001b[39m\u001b[38;5;124;03m'''Like dict.update() but add counts instead of replacing them.\u001b[39;00m\n\u001b[0;32m    671\u001b[0m \n\u001b[0;32m    672\u001b[0m \u001b[38;5;124;03m    Source can be an iterable, a dictionary, or another Counter instance.\u001b[39;00m\n\u001b[1;32m   (...)\u001b[0m\n\u001b[0;32m    680\u001b[0m \n\u001b[0;32m    681\u001b[0m \u001b[38;5;124;03m    '''\u001b[39;00m\n\u001b[0;32m    682\u001b[0m     \u001b[38;5;66;03m# The regular dict.update() operation makes no sense here because the\u001b[39;00m\n\u001b[0;32m    683\u001b[0m     \u001b[38;5;66;03m# replace behavior results in some of the original untouched counts\u001b[39;00m\n\u001b[0;32m    684\u001b[0m     \u001b[38;5;66;03m# being mixed-in with all of the other counts for a mismash that\u001b[39;00m\n\u001b[0;32m    685\u001b[0m     \u001b[38;5;66;03m# doesn't have a straight-forward interpretation in most counting\u001b[39;00m\n\u001b[0;32m    686\u001b[0m     \u001b[38;5;66;03m# contexts.  Instead, we implement straight-addition.  Both the inputs\u001b[39;00m\n\u001b[0;32m    687\u001b[0m     \u001b[38;5;66;03m# and outputs are allowed to contain zero and negative counts.\u001b[39;00m\n",
      "\u001b[1;31mKeyboardInterrupt\u001b[0m: "
     ]
    }
   ],
   "source": [
    "rp = ResultProducer(label2files=l2f)\n",
    "!rm -rf tmp.csv\n",
    "rp.compute_and_store_results('tmp.csv')"
   ]
  },
  {
   "cell_type": "code",
   "execution_count": null,
   "id": "c2a9f550",
   "metadata": {},
   "outputs": [],
   "source": [
    "df = rp.get_scores()\n",
    "df[['dataset', 'translator', 'src_lang', 'tgt_lang']\n",
    "   ] = df['Label'].str.split('-', expand=True)\n",
    "del df['Label']"
   ]
  },
  {
   "cell_type": "code",
   "execution_count": null,
   "id": "69cb5748",
   "metadata": {},
   "outputs": [],
   "source": [
    "df"
   ]
  }
 ],
 "metadata": {
  "kernelspec": {
   "display_name": "thesis",
   "language": "python",
   "name": "python3"
  },
  "language_info": {
   "codemirror_mode": {
    "name": "ipython",
    "version": 3
   },
   "file_extension": ".py",
   "mimetype": "text/x-python",
   "name": "python",
   "nbconvert_exporter": "python",
   "pygments_lexer": "ipython3",
   "version": "3.12.6"
  }
 },
 "nbformat": 4,
 "nbformat_minor": 5
}
