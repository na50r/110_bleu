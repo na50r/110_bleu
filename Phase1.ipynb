{
 "cells": [
  {
   "cell_type": "markdown",
   "id": "428afd9a",
   "metadata": {},
   "source": [
    "# Phase 1\n",
    "* Phase 1 of this project involves the translation of 20 language direction, from and to English, involving all three datasets."
   ]
  },
  {
   "cell_type": "markdown",
   "id": "6e5b7097",
   "metadata": {},
   "source": [
    "## Setup\n",
    "* We define the setup code that define folders and instantiate the tasks before running them."
   ]
  },
  {
   "cell_type": "code",
   "execution_count": null,
   "id": "d6bf5400",
   "metadata": {},
   "outputs": [
    {
     "data": {
      "text/plain": [
       "True"
      ]
     },
     "execution_count": 1,
     "metadata": {},
     "output_type": "execute_result"
    }
   ],
   "source": [
    "from scripts.task import TranslationTask\n",
    "from scripts.data_management import EuroParlManager, FloresPlusManager, Opus100Manager\n",
    "from scripts.translators import GPTClient, DeeplClient\n",
    "from scripts.util import MyLogger\n",
    "from os.path import join\n",
    "\n",
    "# Define all English including pairs\n",
    "possible = [tuple(pair.split('-')) for pair in EuroParlManager.EP_PAIRS]\n",
    "extended = [(pair[1], pair[0]) for pair in possible]\n",
    "possible = possible + extended\n",
    "en_pairs = [pair for pair in possible if 'en' in pair]\n",
    "\n",
    "# Define folder hierarchy of where translations should be stored\n",
    "main_folder = 'tasks'\n",
    "sub_folder = join(main_folder, 'phase1')\n",
    "\n",
    "# Define the data managers and folders for translation storage\n",
    "dms = [EuroParlManager(), FloresPlusManager(), Opus100Manager()]\n",
    "dm_ids = [dm.name.split('/')[-1] for dm in dms]\n",
    "dm_folders = [join(sub_folder, dm_id) for dm_id in dm_ids]\n",
    "tasks = {dm_id : {} for dm_id in dm_ids}\n",
    "\n",
    "# Define the clients and logger\n",
    "logger = MyLogger(logfile=join(sub_folder, 'phase1_log.jsonl'))\n",
    "client_gpt = GPTClient(logger=logger)\n",
    "client_deepl = DeeplClient(logger=logger)\n",
    "clients = [client_gpt, client_deepl]\n",
    "\n",
    "# Check if there are indeed 20 pairs\n",
    "len(en_pairs) == 20"
   ]
  },
  {
   "cell_type": "markdown",
   "id": "29ddd839",
   "metadata": {},
   "source": [
    "* Do repeat, we translate for 20 language pairs, 400 sentences each (one task)\n",
    "* We do this for 3 datasets and 2 translators, so 6 tasks in total"
   ]
  },
  {
   "cell_type": "code",
   "execution_count": null,
   "id": "54dddc63",
   "metadata": {},
   "outputs": [
    {
     "data": {
      "text/plain": [
       "True"
      ]
     },
     "execution_count": 2,
     "metadata": {},
     "output_type": "execute_result"
    }
   ],
   "source": [
    "num_of_tasks = 0\n",
    "for dm, folder, dm_id in zip(dms, dm_folders, dm_ids):\n",
    "    for client in clients:\n",
    "        task = TranslationTask(\n",
    "            target_pairs=en_pairs,\n",
    "            dm=dm,\n",
    "            client=client,\n",
    "            logger=logger,\n",
    "            mt_folder=join(folder, client.model),\n",
    "            num_of_sents=400\n",
    "        )\n",
    "        tasks[dm_id][client.model] = task\n",
    "        num_of_tasks += 1\n",
    "\n",
    "num_of_tasks == 6"
   ]
  },
  {
   "cell_type": "code",
   "execution_count": 10,
   "id": "311d8b15",
   "metadata": {},
   "outputs": [
    {
     "name": "stdout",
     "output_type": "stream",
     "text": [
      "flores_plus deepl_document\n"
     ]
    },
    {
     "data": {
      "text/plain": [
       "{'store': 'tasks\\\\task1\\\\flores_plus\\\\deepl_document',\n",
       " 'pairs': [('el', 'en'),\n",
       "  ('en', 'pt'),\n",
       "  ('de', 'en'),\n",
       "  ('en', 'fr'),\n",
       "  ('en', 'sv'),\n",
       "  ('da', 'en'),\n",
       "  ('en', 'nl'),\n",
       "  ('en', 'fi'),\n",
       "  ('en', 'it'),\n",
       "  ('en', 'es'),\n",
       "  ('en', 'el'),\n",
       "  ('pt', 'en'),\n",
       "  ('en', 'de'),\n",
       "  ('fr', 'en'),\n",
       "  ('sv', 'en'),\n",
       "  ('en', 'da'),\n",
       "  ('nl', 'en'),\n",
       "  ('fi', 'en'),\n",
       "  ('it', 'en'),\n",
       "  ('es', 'en')],\n",
       " 'dm': <scripts.data_management.FloresPlusManager at 0x1e7c7924cb0>,\n",
       " 'logger': <scripts.util.MyLogger at 0x1e7c61946e0>,\n",
       " 'num_of_sents': 400,\n",
       " 'client': <scripts.translators.DeeplClient at 0x1e7c8457fb0>}"
      ]
     },
     "execution_count": 10,
     "metadata": {},
     "output_type": "execute_result"
    }
   ],
   "source": [
    "import random\n",
    "# Sanity check\n",
    "some_client_name =  random.choice([c.model for c in clients])\n",
    "some_dm_id = random.choice(dm_ids)\n",
    "\n",
    "print(some_dm_id, some_client_name)\n",
    "vars(tasks[some_dm_id][some_client_name])"
   ]
  },
  {
   "cell_type": "markdown",
   "id": "8a8f19fc",
   "metadata": {},
   "source": [
    "## Execution\n",
    "* Most of the logging will be stored in `phase1_log.jsonl`\n",
    "* We just run each task per cell"
   ]
  },
  {
   "cell_type": "code",
   "execution_count": null,
   "id": "41606d95",
   "metadata": {},
   "outputs": [],
   "source": [
    "tasks['ep']['gpt-4.1'].run()"
   ]
  }
 ],
 "metadata": {
  "kernelspec": {
   "display_name": "thesis",
   "language": "python",
   "name": "python3"
  },
  "language_info": {
   "codemirror_mode": {
    "name": "ipython",
    "version": 3
   },
   "file_extension": ".py",
   "mimetype": "text/x-python",
   "name": "python",
   "nbconvert_exporter": "python",
   "pygments_lexer": "ipython3",
   "version": "3.12.6"
  }
 },
 "nbformat": 4,
 "nbformat_minor": 5
}
