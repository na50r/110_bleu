{
 "cells": [
  {
   "cell_type": "markdown",
   "id": "48893bc1",
   "metadata": {},
   "source": [
    "# Logging\n",
    "* Showcasing how the Logger is used in combination with the translation task\n",
    "* We use the MockClient that was created for testing the TranslationTask\n"
   ]
  },
  {
   "cell_type": "code",
   "execution_count": 1,
   "id": "c03aea26",
   "metadata": {},
   "outputs": [],
   "source": [
    "!rm -rf tmp_test"
   ]
  },
  {
   "cell_type": "code",
   "execution_count": 2,
   "id": "67f8faa1",
   "metadata": {},
   "outputs": [],
   "source": [
    "from test_task_and_logger import MockClient\n",
    "from scripts.task import TranslationTask\n",
    "from scripts.data_management import Opus100Manager\n",
    "from scripts.logger import MyLogger, RetryLog\n",
    "from io import StringIO\n",
    "import json\n",
    "import pprint\n",
    "\n",
    "dm = Opus100Manager()\n",
    "pairs = [('de', 'en'), ('en', 'de'), ('fr', 'en'), ('en', 'fr')]\n",
    "logfile = StringIO()\n",
    "logger = MyLogger(logfile=logfile)\n",
    "# scenario, 1 = failure (rejection of output defined by us), 2 = error (API error, no output)\n",
    "cli = MockClient(logger=logger, scenario=[0, 1, 0, 1, 1, 1, 2, 1, 2, 2, 0])\n",
    "\n",
    "task = TranslationTask(\n",
    "    target_pairs=pairs,\n",
    "    dm=dm,\n",
    "    client=cli,\n",
    "    logger=logger,\n",
    "    mt_folder='tmp_test',\n",
    "    num_of_sents=400,\n",
    "    retry_delay=0 # Default retry_delay is 30s, we set it to 0\n",
    ")"
   ]
  },
  {
   "cell_type": "markdown",
   "id": "8a509622",
   "metadata": {},
   "source": [
    "* We produce logs that we can watch in real-time as the translation happens"
   ]
  },
  {
   "cell_type": "code",
   "execution_count": 3,
   "id": "4fc9adc1",
   "metadata": {},
   "outputs": [
    {
     "data": {
      "text/plain": [
       "'8a8ef208-5d94-4734-9872-05c1a2b3172a'"
      ]
     },
     "execution_count": 3,
     "metadata": {},
     "output_type": "execute_result"
    }
   ],
   "source": [
    "task.id"
   ]
  },
  {
   "cell_type": "code",
   "execution_count": 4,
   "id": "978be969",
   "metadata": {},
   "outputs": [
    {
     "name": "stdout",
     "output_type": "stream",
     "text": [
      "[✔️]: 400 translated from de to en\n",
      "[❌]: Output for en-de is not acceptable!\n",
      "[⏲️]: Retrying en-de...\n",
      "[✔️]: 400 translated from en to de\n",
      "[❌]: Output for fr-en is not acceptable!\n",
      "[⏲️]: Retrying fr-en...\n",
      "[❌]: Output for fr-en is not acceptable!\n",
      "[⏲️]: Retrying fr-en...\n",
      "[❌]: Output for fr-en is not acceptable!\n",
      "[⏲️]: Retrying fr-en...\n",
      "[⚠️]: Error MockError\n",
      "[⏩]: Failed 3 times, skipping fr-en...\n",
      "[❌]: Output for en-fr is not acceptable!\n",
      "[⏲️]: Retrying en-fr...\n",
      "[⚠️]: Error MockError\n",
      "[⏲️]: Retrying en-fr...\n",
      "[⚠️]: Error MockError\n",
      "[⏲️]: Retrying en-fr...\n",
      "[✔️]: 400 translated from en to fr\n"
     ]
    }
   ],
   "source": [
    "task.run()"
   ]
  },
  {
   "cell_type": "markdown",
   "id": "c50c11df",
   "metadata": {},
   "source": [
    "* We produce more detailed logs in JSONL files that contain all kinds of information we deemed important for transparancy, including the commit hash\n",
    "* Compare Notebook Printed Logs for Case Success, Failure and Error with Logger's logs"
   ]
  },
  {
   "cell_type": "code",
   "execution_count": 5,
   "id": "9f540140",
   "metadata": {},
   "outputs": [
    {
     "name": "stdout",
     "output_type": "stream",
     "text": [
      "{'dataset': {'name': 'Helsinki-NLP/opus-100',\n",
      "             'num_of_sents': 400,\n",
      "             'split': 'test[:500]',\n",
      "             'start_idx': 0},\n",
      " 'git_hash': '14ddc91',\n",
      " 'task_id': '8a8ef208-5d94-4734-9872-05c1a2b3172a',\n",
      " 'translation': {'end': 1746190184.9917269,\n",
      "                 'end_timestamp': '2025-05-02 14:49:44.991726+02:00',\n",
      "                 'id': '56584523-2a4b-40ee-aa1b-81dc59050780',\n",
      "                 'in_chars': 32731,\n",
      "                 'in_lines': 400,\n",
      "                 'in_sents': 444,\n",
      "                 'in_tokens': 8295,\n",
      "                 'out_chars': 32731,\n",
      "                 'out_lines': 400,\n",
      "                 'out_sents': 478,\n",
      "                 'out_tokens': 15578,\n",
      "                 'src_lang': 'de',\n",
      "                 'start': 1746190184.9103208,\n",
      "                 'start_timestamp': '2025-05-02 14:49:44.974990+02:00',\n",
      "                 'tgt_lang': 'en',\n",
      "                 'time': 0.0814061164855957,\n",
      "                 'translator': 'mock'},\n",
      " 'verdict': {'success': 'Translation accepted'}}\n",
      "{'dataset': {'name': 'Helsinki-NLP/opus-100',\n",
      "             'num_of_sents': 400,\n",
      "             'split': 'test[:500]',\n",
      "             'start_idx': 0},\n",
      " 'git_hash': '14ddc91',\n",
      " 'task_id': '8a8ef208-5d94-4734-9872-05c1a2b3172a',\n",
      " 'translation': {'end': 1746190185.1750538,\n",
      "                 'end_timestamp': '2025-05-02 14:49:45.175053+02:00',\n",
      "                 'id': '607942e7-38ff-418a-a30f-4cb030185129',\n",
      "                 'in_chars': 29414,\n",
      "                 'in_lines': 400,\n",
      "                 'in_sents': 446,\n",
      "                 'in_tokens': 6994,\n",
      "                 'out_chars': 13589,\n",
      "                 'out_lines': 200,\n",
      "                 'out_sents': 222,\n",
      "                 'out_tokens': 6208,\n",
      "                 'src_lang': 'en',\n",
      "                 'start': 1746190185.1084921,\n",
      "                 'start_timestamp': '2025-05-02 14:49:45.158457+02:00',\n",
      "                 'tgt_lang': 'de',\n",
      "                 'time': 0.06656169891357422,\n",
      "                 'translator': 'mock'},\n",
      " 'verdict': {'failure': 'Translation rejected'}}\n",
      "{'dataset': {'name': 'Helsinki-NLP/opus-100',\n",
      "             'num_of_sents': 400,\n",
      "             'split': 'test[:500]',\n",
      "             'start_idx': 0},\n",
      " 'git_hash': '14ddc91',\n",
      " 'task_id': '8a8ef208-5d94-4734-9872-05c1a2b3172a',\n",
      " 'translation': {'id': '8688aa9a-9d8b-42ac-80de-3fbae18d181c',\n",
      "                 'in_chars': 46126,\n",
      "                 'in_lines': 400,\n",
      "                 'in_sents': 422,\n",
      "                 'in_tokens': 10852,\n",
      "                 'src_lang': 'fr',\n",
      "                 'start': 1746190185.9939747,\n",
      "                 'start_timestamp': '2025-05-02 14:49:46.074747+02:00',\n",
      "                 'tgt_lang': 'en',\n",
      "                 'translator': 'mock'},\n",
      " 'verdict': {'error': 'MockError', 'failure': 'Translation failed'}}\n"
     ]
    }
   ],
   "source": [
    "log_data = [json.loads(ln) for ln in logfile.getvalue().splitlines()]\n",
    "interest = [log_data[0], log_data[1], log_data[6]]\n",
    "for log in interest:\n",
    "    pprint.pprint(log)"
   ]
  },
  {
   "cell_type": "markdown",
   "id": "677e8b34",
   "metadata": {},
   "source": [
    "* We distinguish between success, failure and error using the `verdict` field in the logs. \n",
    "    * A failure is defined by us, it means the output was deemed insufficient and calling the API again is the only option, this happens if the output is too large or too short.\n",
    "    * An error is caused by the API, resulting in us getting no output.\n",
    "* There is no `fr-en.txt` file because it failed 4 times in total, the 1st time and the 3 retries it was given. \n",
    "* In cases were an output was received but deemed 'failure', output is stored with `fail` suffix."
   ]
  },
  {
   "cell_type": "code",
   "execution_count": 6,
   "id": "e993eaca",
   "metadata": {},
   "outputs": [
    {
     "data": {
      "text/plain": [
       "['de-en.txt',\n",
       " 'en-de.txt',\n",
       " 'en-de_fail1.txt',\n",
       " 'en-fr.txt',\n",
       " 'en-fr_fail1.txt',\n",
       " 'fr-en_fail1.txt',\n",
       " 'fr-en_fail2.txt',\n",
       " 'fr-en_fail3.txt']"
      ]
     },
     "execution_count": 6,
     "metadata": {},
     "output_type": "execute_result"
    }
   ],
   "source": [
    "import os\n",
    "os.listdir('tmp_test')"
   ]
  },
  {
   "cell_type": "markdown",
   "id": "75a37f20",
   "metadata": {},
   "source": [
    "* We store the log_ids of the first and last success, namely pair `de-en` and `en-fr`"
   ]
  },
  {
   "cell_type": "code",
   "execution_count": 7,
   "id": "925faefa",
   "metadata": {},
   "outputs": [
    {
     "data": {
      "text/plain": [
       "['56584523-2a4b-40ee-aa1b-81dc59050780',\n",
       " 'ad03f489-20b7-4dc5-bd51-af6fd37ae18a']"
      ]
     },
     "execution_count": 7,
     "metadata": {},
     "output_type": "execute_result"
    }
   ],
   "source": [
    "log_ids = [log['translation']['id'] for log in [log_data[0], log_data[-1]]]\n",
    "log_ids"
   ]
  },
  {
   "cell_type": "code",
   "execution_count": 8,
   "id": "d8798ff0",
   "metadata": {},
   "outputs": [],
   "source": [
    "de_en_log = log_data[0]\n",
    "en_fr_log = log_data[-1]"
   ]
  },
  {
   "cell_type": "markdown",
   "id": "2397458f",
   "metadata": {},
   "source": [
    "## Manual Retry\n",
    "* In case we still think we need to retry the call, we have to start a new task and specifcy the log ids of the translations we want to compute again \n",
    "* This provides an adequate level of \n",
    "* This is done in cases that are harder to detect automatically or do not make sense to detect automatically such as unnaturally low BLEU score or perhaps realizing that the model did not translate anything but just returned the source text or malformatted text in general."
   ]
  },
  {
   "cell_type": "code",
   "execution_count": 9,
   "id": "22ab55d2",
   "metadata": {},
   "outputs": [],
   "source": [
    "retry_pairs = [('de', 'en'), ('en', 'fr')]\n",
    "retry = RetryLog(pairs=retry_pairs, log_ids=log_ids, reasons=['BLEU score unnaturally low', 'Returned Src text'])\n",
    "new_logger = MyLogger(logfile=logfile, retry=retry)\n",
    "cli = MockClient(logger=new_logger)\n",
    "task = TranslationTask(\n",
    "    target_pairs=retry_pairs,\n",
    "    dm=dm,\n",
    "    client=cli,\n",
    "    logger=new_logger,\n",
    "    mt_folder='tmp_test',\n",
    "    num_of_sents=400,\n",
    "    manual_retry=True,\n",
    ")"
   ]
  },
  {
   "cell_type": "code",
   "execution_count": 10,
   "id": "3613619f",
   "metadata": {},
   "outputs": [],
   "source": [
    "!rm -rf tmp_test"
   ]
  },
  {
   "cell_type": "code",
   "execution_count": 11,
   "id": "b7690c63",
   "metadata": {},
   "outputs": [
    {
     "name": "stdout",
     "output_type": "stream",
     "text": [
      "[✔️]: 400 translated from de to en\n",
      "[✔️]: 400 translated from en to fr\n"
     ]
    }
   ],
   "source": [
    "task.run()"
   ]
  },
  {
   "cell_type": "code",
   "execution_count": 12,
   "id": "f4f21165",
   "metadata": {},
   "outputs": [
    {
     "name": "stdout",
     "output_type": "stream",
     "text": [
      "{'dataset': {'name': 'Helsinki-NLP/opus-100',\n",
      "             'num_of_sents': 400,\n",
      "             'split': 'test[:500]',\n",
      "             'start_idx': 0},\n",
      " 'git_hash': '14ddc91',\n",
      " 'task_id': '8a8ef208-5d94-4734-9872-05c1a2b3172a',\n",
      " 'translation': {'end': 1746190184.9917269,\n",
      "                 'end_timestamp': '2025-05-02 14:49:44.991726+02:00',\n",
      "                 'id': '56584523-2a4b-40ee-aa1b-81dc59050780',\n",
      "                 'in_chars': 32731,\n",
      "                 'in_lines': 400,\n",
      "                 'in_sents': 444,\n",
      "                 'in_tokens': 8295,\n",
      "                 'out_chars': 32731,\n",
      "                 'out_lines': 400,\n",
      "                 'out_sents': 478,\n",
      "                 'out_tokens': 15578,\n",
      "                 'src_lang': 'de',\n",
      "                 'start': 1746190184.9103208,\n",
      "                 'start_timestamp': '2025-05-02 14:49:44.974990+02:00',\n",
      "                 'tgt_lang': 'en',\n",
      "                 'time': 0.0814061164855957,\n",
      "                 'translator': 'mock'},\n",
      " 'verdict': {'success': 'Translation accepted'}}\n",
      "{'dataset': {'name': 'Helsinki-NLP/opus-100',\n",
      "             'num_of_sents': 400,\n",
      "             'split': 'test[:500]',\n",
      "             'start_idx': 0},\n",
      " 'git_hash': '14ddc91',\n",
      " 'task_id': '8a8ef208-5d94-4734-9872-05c1a2b3172a',\n",
      " 'translation': {'end': 1746190186.5077672,\n",
      "                 'end_timestamp': '2025-05-02 14:49:46.507767+02:00',\n",
      "                 'id': 'ad03f489-20b7-4dc5-bd51-af6fd37ae18a',\n",
      "                 'in_chars': 40777,\n",
      "                 'in_lines': 400,\n",
      "                 'in_sents': 429,\n",
      "                 'in_tokens': 9019,\n",
      "                 'out_chars': 40777,\n",
      "                 'out_lines': 400,\n",
      "                 'out_sents': 437,\n",
      "                 'out_tokens': 18536,\n",
      "                 'src_lang': 'en',\n",
      "                 'start': 1746190186.407986,\n",
      "                 'start_timestamp': '2025-05-02 14:49:46.494501+02:00',\n",
      "                 'tgt_lang': 'fr',\n",
      "                 'time': 0.09978127479553223,\n",
      "                 'translator': 'mock'},\n",
      " 'verdict': {'success': 'Translation accepted'}}\n",
      "{'dataset': {'name': 'Helsinki-NLP/opus-100',\n",
      "             'num_of_sents': 400,\n",
      "             'split': 'test[:500]',\n",
      "             'start_idx': 0},\n",
      " 'git_hash': '14ddc91',\n",
      " 'manual_retry': {'log_id': '56584523-2a4b-40ee-aa1b-81dc59050780',\n",
      "                  'reason': 'BLEU score unnaturally low'},\n",
      " 'task_id': 'da58ee65-a2d3-46a6-ac1b-e22c0c0b7b46',\n",
      " 'translation': {'end': 1746190186.9601414,\n",
      "                 'end_timestamp': '2025-05-02 14:49:46.960141+02:00',\n",
      "                 'id': '88eff5ca-0785-44b3-ab77-645e76816276',\n",
      "                 'in_chars': 32731,\n",
      "                 'in_lines': 400,\n",
      "                 'in_sents': 444,\n",
      "                 'in_tokens': 8295,\n",
      "                 'out_chars': 32731,\n",
      "                 'out_lines': 400,\n",
      "                 'out_sents': 478,\n",
      "                 'out_tokens': 15578,\n",
      "                 'src_lang': 'de',\n",
      "                 'start': 1746190186.8745701,\n",
      "                 'start_timestamp': '2025-05-02 14:49:46.944151+02:00',\n",
      "                 'tgt_lang': 'en',\n",
      "                 'time': 0.0855712890625,\n",
      "                 'translator': 'mock'},\n",
      " 'verdict': {'success': 'Translation accepted'}}\n",
      "{'dataset': {'name': 'Helsinki-NLP/opus-100',\n",
      "             'num_of_sents': 400,\n",
      "             'split': 'test[:500]',\n",
      "             'start_idx': 0},\n",
      " 'git_hash': '14ddc91',\n",
      " 'manual_retry': {'log_id': 'ad03f489-20b7-4dc5-bd51-af6fd37ae18a',\n",
      "                  'reason': 'Returned Src text'},\n",
      " 'task_id': 'da58ee65-a2d3-46a6-ac1b-e22c0c0b7b46',\n",
      " 'translation': {'end': 1746190187.1759064,\n",
      "                 'end_timestamp': '2025-05-02 14:49:47.175906+02:00',\n",
      "                 'id': '26e2e2c0-10fe-4326-bb77-0a89306c542c',\n",
      "                 'in_chars': 40777,\n",
      "                 'in_lines': 400,\n",
      "                 'in_sents': 429,\n",
      "                 'in_tokens': 9019,\n",
      "                 'out_chars': 40777,\n",
      "                 'out_lines': 400,\n",
      "                 'out_sents': 437,\n",
      "                 'out_tokens': 18536,\n",
      "                 'src_lang': 'en',\n",
      "                 'start': 1746190187.0945663,\n",
      "                 'start_timestamp': '2025-05-02 14:49:47.158140+02:00',\n",
      "                 'tgt_lang': 'fr',\n",
      "                 'time': 0.08134007453918457,\n",
      "                 'translator': 'mock'},\n",
      " 'verdict': {'success': 'Translation accepted'}}\n"
     ]
    }
   ],
   "source": [
    "log_data = [json.loads(ln) for ln in logfile.getvalue().splitlines()]\n",
    "interest = [de_en_log, en_fr_log, log_data[-2], log_data[-1]]\n",
    "for log in interest:\n",
    "    pprint.pprint(log)"
   ]
  },
  {
   "cell_type": "markdown",
   "id": "ec1551f5",
   "metadata": {},
   "source": [
    "* The last log entries have a `manual_retry` field, indicating that they were added post translation"
   ]
  },
  {
   "cell_type": "code",
   "execution_count": 13,
   "id": "96344959",
   "metadata": {},
   "outputs": [
    {
     "data": {
      "text/plain": [
       "'56584523-2a4b-40ee-aa1b-81dc59050780'"
      ]
     },
     "execution_count": 13,
     "metadata": {},
     "output_type": "execute_result"
    }
   ],
   "source": [
    "de_en_log['translation']['id']"
   ]
  },
  {
   "cell_type": "code",
   "execution_count": 14,
   "id": "bdfe92b4",
   "metadata": {},
   "outputs": [
    {
     "data": {
      "text/plain": [
       "({'log_id': '56584523-2a4b-40ee-aa1b-81dc59050780',\n",
       "  'reason': 'BLEU score unnaturally low'},\n",
       " ('de', 'en'))"
      ]
     },
     "execution_count": 14,
     "metadata": {},
     "output_type": "execute_result"
    }
   ],
   "source": [
    "log_data[-2]['manual_retry'], (log_data[-2]['translation']['src_lang'], log_data[-2]['translation']['tgt_lang'])"
   ]
  }
 ],
 "metadata": {
  "kernelspec": {
   "display_name": "thesis",
   "language": "python",
   "name": "python3"
  },
  "language_info": {
   "codemirror_mode": {
    "name": "ipython",
    "version": 3
   },
   "file_extension": ".py",
   "mimetype": "text/x-python",
   "name": "python",
   "nbconvert_exporter": "python",
   "pygments_lexer": "ipython3",
   "version": "3.12.6"
  }
 },
 "nbformat": 4,
 "nbformat_minor": 5
}
