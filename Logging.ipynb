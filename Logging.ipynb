{
 "cells": [
  {
   "cell_type": "markdown",
   "id": "48893bc1",
   "metadata": {},
   "source": [
    "# Logging\n",
    "* Showcasing how the Logger is used in combination with the translation task\n",
    "* We use the MockClient that was created for testing the TranslationTask\n"
   ]
  },
  {
   "cell_type": "code",
   "execution_count": 1,
   "id": "c03aea26",
   "metadata": {},
   "outputs": [],
   "source": [
    "!rm -rf tmp_test"
   ]
  },
  {
   "cell_type": "code",
   "execution_count": 2,
   "id": "67f8faa1",
   "metadata": {},
   "outputs": [],
   "source": [
    "from test_translation_task import MockClient\n",
    "from scripts.task import TranslationTask\n",
    "from scripts.data_management import Opus100Manager\n",
    "from scripts.logger import MyLogger, RetryLog\n",
    "from io import StringIO\n",
    "import json\n",
    "\n",
    "dm = Opus100Manager()\n",
    "pairs = [('de', 'en'), ('en', 'de'), ('fr', 'en'), ('en', 'fr')]\n",
    "logfile = StringIO()\n",
    "logger = MyLogger(logfile=logfile)\n",
    "cli = MockClient(logger=logger, planned_fails=[pairs[1], pairs[3]], planned_errors=[pairs[0]])\n",
    "\n",
    "task = TranslationTask(\n",
    "    target_pairs=pairs,\n",
    "    dm=dm,\n",
    "    client=cli,\n",
    "    logger=logger,\n",
    "    mt_folder='tmp_test',\n",
    "    num_of_sents=400,\n",
    "    retry_delay=0 # Default retry_delay is 30s, we set it to 0\n",
    ")"
   ]
  },
  {
   "cell_type": "code",
   "execution_count": 3,
   "id": "978be969",
   "metadata": {},
   "outputs": [
    {
     "name": "stdout",
     "output_type": "stream",
     "text": [
      "[⚠️]: Error MockError\n",
      "[⏲️]: Retrying de-en...\n",
      "[✔️]: 400 translated from de to en\n",
      "[❌]: Output for en-de is not acceptable!\n",
      "[⏲️]: Retrying en-de...\n",
      "[✔️]: 400 translated from en to de\n",
      "[✔️]: 400 translated from fr to en\n",
      "[❌]: Output for en-fr is not acceptable!\n",
      "[⏲️]: Retrying en-fr...\n",
      "[✔️]: 400 translated from en to fr\n"
     ]
    }
   ],
   "source": [
    "task.run()"
   ]
  },
  {
   "cell_type": "code",
   "execution_count": 4,
   "id": "9f540140",
   "metadata": {},
   "outputs": [
    {
     "name": "stdout",
     "output_type": "stream",
     "text": [
      "{'git_hash': 'd0b94fe', 'dataset': {'name': 'Helsinki-NLP/opus-100', 'num_of_sents': 400, 'start_idx': 0, 'split': 'test[:500]'}, 'translation': {'translator': 'mock', 'src_lang': 'de', 'tgt_lang': 'en', 'start': 1746105396.328032, 'id': '7bfb1773-a532-48ea-b242-2bea240a82e0', 'in_lines': 400, 'in_sents': 444, 'start_timestamp': '2025-05-01 15:16:36.401987+02:00', 'in_chars': 32731, 'in_tokens': 8295}, 'verdict': {'failure': 'Translation failed', 'error': 'MockError'}}\n",
      "{'git_hash': 'd0b94fe', 'dataset': {'name': 'Helsinki-NLP/opus-100', 'num_of_sents': 400, 'start_idx': 0, 'split': 'test[:500]'}, 'translation': {'translator': 'mock', 'src_lang': 'de', 'tgt_lang': 'en', 'start': 1746105396.4209864, 'id': 'beb84349-0159-4c9c-97bd-71575ad245ec', 'in_lines': 400, 'in_sents': 444, 'start_timestamp': '2025-05-01 15:16:36.491985+02:00', 'in_chars': 32731, 'in_tokens': 8295, 'end': 1746105396.5129905, 'end_timestamp': '2025-05-01 15:16:36.512990+02:00', 'time': 0.09200406074523926, 'out_chars': 32731, 'out_lines': 400, 'out_sents': 478, 'out_tokens': 15578}, 'verdict': {'success': 'Translation accepted'}}\n",
      "{'git_hash': 'd0b94fe', 'dataset': {'name': 'Helsinki-NLP/opus-100', 'num_of_sents': 400, 'start_idx': 0, 'split': 'test[:500]'}, 'translation': {'translator': 'mock', 'src_lang': 'en', 'tgt_lang': 'de', 'start': 1746105396.680983, 'id': 'ff8aa25e-e25a-4d3b-845c-fa6b07c00593', 'in_lines': 400, 'in_sents': 446, 'start_timestamp': '2025-05-01 15:16:36.731983+02:00', 'in_chars': 29414, 'in_tokens': 6994, 'end': 1746105396.740982, 'end_timestamp': '2025-05-01 15:16:36.740981+02:00', 'time': 0.05999898910522461, 'out_chars': 13589, 'out_lines': 200, 'out_sents': 222, 'out_tokens': 6208}, 'verdict': {'failure': 'Translation rejected'}}\n",
      "{'git_hash': 'd0b94fe', 'dataset': {'name': 'Helsinki-NLP/opus-100', 'num_of_sents': 400, 'start_idx': 0, 'split': 'test[:500]'}, 'translation': {'translator': 'mock', 'src_lang': 'en', 'tgt_lang': 'de', 'start': 1746105396.8000221, 'id': '5bfe3d6f-25df-4449-8b7a-90da101937aa', 'in_lines': 400, 'in_sents': 446, 'start_timestamp': '2025-05-01 15:16:36.850153+02:00', 'in_chars': 29414, 'in_tokens': 6994, 'end': 1746105396.8591557, 'end_timestamp': '2025-05-01 15:16:36.859155+02:00', 'time': 0.05913352966308594, 'out_chars': 29414, 'out_lines': 400, 'out_sents': 449, 'out_tokens': 13305}, 'verdict': {'success': 'Translation accepted'}}\n",
      "{'git_hash': 'd0b94fe', 'dataset': {'name': 'Helsinki-NLP/opus-100', 'num_of_sents': 400, 'start_idx': 0, 'split': 'test[:500]'}, 'translation': {'translator': 'mock', 'src_lang': 'fr', 'tgt_lang': 'en', 'start': 1746105396.9871545, 'id': '18f431ca-b266-4fa9-81a9-86ea0c928a85', 'in_lines': 400, 'in_sents': 422, 'start_timestamp': '2025-05-01 15:16:37.075205+02:00', 'in_chars': 46126, 'in_tokens': 10852, 'end': 1746105397.090203, 'end_timestamp': '2025-05-01 15:16:37.090203+02:00', 'time': 0.10304856300354004, 'out_chars': 46126, 'out_lines': 400, 'out_sents': 423, 'out_tokens': 21526}, 'verdict': {'success': 'Translation accepted'}}\n",
      "{'git_hash': 'd0b94fe', 'dataset': {'name': 'Helsinki-NLP/opus-100', 'num_of_sents': 400, 'start_idx': 0, 'split': 'test[:500]'}, 'translation': {'translator': 'mock', 'src_lang': 'en', 'tgt_lang': 'fr', 'start': 1746105397.2912385, 'id': '178aa631-66b8-42e3-b2c1-2af8ec029bea', 'in_lines': 400, 'in_sents': 429, 'start_timestamp': '2025-05-01 15:16:37.363230+02:00', 'in_chars': 40777, 'in_tokens': 9019, 'end': 1746105397.3752024, 'end_timestamp': '2025-05-01 15:16:37.376205+02:00', 'time': 0.08396387100219727, 'out_chars': 19069, 'out_lines': 200, 'out_sents': 216, 'out_tokens': 8523}, 'verdict': {'failure': 'Translation rejected'}}\n",
      "{'git_hash': 'd0b94fe', 'dataset': {'name': 'Helsinki-NLP/opus-100', 'num_of_sents': 400, 'start_idx': 0, 'split': 'test[:500]'}, 'translation': {'translator': 'mock', 'src_lang': 'en', 'tgt_lang': 'fr', 'start': 1746105397.4514487, 'id': '740c37ac-5efa-4918-925a-4e16a334b7c7', 'in_lines': 400, 'in_sents': 429, 'start_timestamp': '2025-05-01 15:16:37.522414+02:00', 'in_chars': 40777, 'in_tokens': 9019, 'end': 1746105397.5344117, 'end_timestamp': '2025-05-01 15:16:37.534411+02:00', 'time': 0.0829629898071289, 'out_chars': 40777, 'out_lines': 400, 'out_sents': 437, 'out_tokens': 18536}, 'verdict': {'success': 'Translation accepted'}}\n"
     ]
    }
   ],
   "source": [
    "log_data = [json.loads(ln) for ln in logfile.getvalue().splitlines()]\n",
    "for log in log_data:\n",
    "    print(log)"
   ]
  },
  {
   "cell_type": "code",
   "execution_count": 5,
   "id": "e993eaca",
   "metadata": {},
   "outputs": [
    {
     "data": {
      "text/plain": [
       "['de-en.txt',\n",
       " 'en-de.txt',\n",
       " 'en-de_fail1.txt',\n",
       " 'en-fr.txt',\n",
       " 'en-fr_fail1.txt',\n",
       " 'fr-en.txt']"
      ]
     },
     "execution_count": 5,
     "metadata": {},
     "output_type": "execute_result"
    }
   ],
   "source": [
    "import os\n",
    "os.listdir('tmp_test')"
   ]
  },
  {
   "cell_type": "markdown",
   "id": "036c460e",
   "metadata": {},
   "source": [
    "* We keep the ones that we consider as failures for documentation purposes\n",
    "* If the failure was caused by an error, nothing left do document, so no fail file for `de-en.txt`"
   ]
  },
  {
   "cell_type": "code",
   "execution_count": 6,
   "id": "925faefa",
   "metadata": {},
   "outputs": [
    {
     "data": {
      "text/plain": [
       "['18f431ca-b266-4fa9-81a9-86ea0c928a85',\n",
       " '740c37ac-5efa-4918-925a-4e16a334b7c7']"
      ]
     },
     "execution_count": 6,
     "metadata": {},
     "output_type": "execute_result"
    }
   ],
   "source": [
    "log_ids = [log['translation']['id'] for log in [log_data[-3], log_data[-1]]]\n",
    "log_ids"
   ]
  },
  {
   "cell_type": "markdown",
   "id": "2397458f",
   "metadata": {},
   "source": [
    "## Manual Retry\n",
    "* In case we still think we need to retry the call, we have to start a new task and specifcy the log ids of the translations we want to compute again \n",
    "* This provides an adequate level of transparency"
   ]
  },
  {
   "cell_type": "code",
   "execution_count": 7,
   "id": "22ab55d2",
   "metadata": {},
   "outputs": [],
   "source": [
    "retry = RetryLog(pairs=[pairs[-2], pairs[-1]], log_ids=log_ids, reasons=['BLEU score single digit', 'Insufficient output, failed to detect automatically'])\n",
    "new_logger = MyLogger(logfile=logfile, retry=retry)\n",
    "cli = MockClient(logger=new_logger)\n",
    "task = TranslationTask(\n",
    "    target_pairs=[pairs[-2], pairs[-1]],\n",
    "    dm=dm,\n",
    "    client=cli,\n",
    "    logger=new_logger,\n",
    "    mt_folder='tmp_test',\n",
    "    num_of_sents=400,\n",
    "    manual_retry=True,\n",
    ")"
   ]
  },
  {
   "cell_type": "code",
   "execution_count": 8,
   "id": "3613619f",
   "metadata": {},
   "outputs": [],
   "source": [
    "!rm -rf tmp_test"
   ]
  },
  {
   "cell_type": "code",
   "execution_count": 9,
   "id": "b7690c63",
   "metadata": {},
   "outputs": [
    {
     "name": "stdout",
     "output_type": "stream",
     "text": [
      "[✔️]: 400 translated from fr to en\n",
      "[✔️]: 400 translated from en to fr\n"
     ]
    }
   ],
   "source": [
    "task.run()"
   ]
  },
  {
   "cell_type": "code",
   "execution_count": 10,
   "id": "f4f21165",
   "metadata": {},
   "outputs": [
    {
     "name": "stdout",
     "output_type": "stream",
     "text": [
      "{'git_hash': 'd0b94fe', 'dataset': {'name': 'Helsinki-NLP/opus-100', 'num_of_sents': 400, 'start_idx': 0, 'split': 'test[:500]'}, 'translation': {'translator': 'mock', 'src_lang': 'de', 'tgt_lang': 'en', 'start': 1746105396.328032, 'id': '7bfb1773-a532-48ea-b242-2bea240a82e0', 'in_lines': 400, 'in_sents': 444, 'start_timestamp': '2025-05-01 15:16:36.401987+02:00', 'in_chars': 32731, 'in_tokens': 8295}, 'verdict': {'failure': 'Translation failed', 'error': 'MockError'}}\n",
      "{'git_hash': 'd0b94fe', 'dataset': {'name': 'Helsinki-NLP/opus-100', 'num_of_sents': 400, 'start_idx': 0, 'split': 'test[:500]'}, 'translation': {'translator': 'mock', 'src_lang': 'de', 'tgt_lang': 'en', 'start': 1746105396.4209864, 'id': 'beb84349-0159-4c9c-97bd-71575ad245ec', 'in_lines': 400, 'in_sents': 444, 'start_timestamp': '2025-05-01 15:16:36.491985+02:00', 'in_chars': 32731, 'in_tokens': 8295, 'end': 1746105396.5129905, 'end_timestamp': '2025-05-01 15:16:36.512990+02:00', 'time': 0.09200406074523926, 'out_chars': 32731, 'out_lines': 400, 'out_sents': 478, 'out_tokens': 15578}, 'verdict': {'success': 'Translation accepted'}}\n",
      "{'git_hash': 'd0b94fe', 'dataset': {'name': 'Helsinki-NLP/opus-100', 'num_of_sents': 400, 'start_idx': 0, 'split': 'test[:500]'}, 'translation': {'translator': 'mock', 'src_lang': 'en', 'tgt_lang': 'de', 'start': 1746105396.680983, 'id': 'ff8aa25e-e25a-4d3b-845c-fa6b07c00593', 'in_lines': 400, 'in_sents': 446, 'start_timestamp': '2025-05-01 15:16:36.731983+02:00', 'in_chars': 29414, 'in_tokens': 6994, 'end': 1746105396.740982, 'end_timestamp': '2025-05-01 15:16:36.740981+02:00', 'time': 0.05999898910522461, 'out_chars': 13589, 'out_lines': 200, 'out_sents': 222, 'out_tokens': 6208}, 'verdict': {'failure': 'Translation rejected'}}\n",
      "{'git_hash': 'd0b94fe', 'dataset': {'name': 'Helsinki-NLP/opus-100', 'num_of_sents': 400, 'start_idx': 0, 'split': 'test[:500]'}, 'translation': {'translator': 'mock', 'src_lang': 'en', 'tgt_lang': 'de', 'start': 1746105396.8000221, 'id': '5bfe3d6f-25df-4449-8b7a-90da101937aa', 'in_lines': 400, 'in_sents': 446, 'start_timestamp': '2025-05-01 15:16:36.850153+02:00', 'in_chars': 29414, 'in_tokens': 6994, 'end': 1746105396.8591557, 'end_timestamp': '2025-05-01 15:16:36.859155+02:00', 'time': 0.05913352966308594, 'out_chars': 29414, 'out_lines': 400, 'out_sents': 449, 'out_tokens': 13305}, 'verdict': {'success': 'Translation accepted'}}\n",
      "{'git_hash': 'd0b94fe', 'dataset': {'name': 'Helsinki-NLP/opus-100', 'num_of_sents': 400, 'start_idx': 0, 'split': 'test[:500]'}, 'translation': {'translator': 'mock', 'src_lang': 'fr', 'tgt_lang': 'en', 'start': 1746105396.9871545, 'id': '18f431ca-b266-4fa9-81a9-86ea0c928a85', 'in_lines': 400, 'in_sents': 422, 'start_timestamp': '2025-05-01 15:16:37.075205+02:00', 'in_chars': 46126, 'in_tokens': 10852, 'end': 1746105397.090203, 'end_timestamp': '2025-05-01 15:16:37.090203+02:00', 'time': 0.10304856300354004, 'out_chars': 46126, 'out_lines': 400, 'out_sents': 423, 'out_tokens': 21526}, 'verdict': {'success': 'Translation accepted'}}\n",
      "{'git_hash': 'd0b94fe', 'dataset': {'name': 'Helsinki-NLP/opus-100', 'num_of_sents': 400, 'start_idx': 0, 'split': 'test[:500]'}, 'translation': {'translator': 'mock', 'src_lang': 'en', 'tgt_lang': 'fr', 'start': 1746105397.2912385, 'id': '178aa631-66b8-42e3-b2c1-2af8ec029bea', 'in_lines': 400, 'in_sents': 429, 'start_timestamp': '2025-05-01 15:16:37.363230+02:00', 'in_chars': 40777, 'in_tokens': 9019, 'end': 1746105397.3752024, 'end_timestamp': '2025-05-01 15:16:37.376205+02:00', 'time': 0.08396387100219727, 'out_chars': 19069, 'out_lines': 200, 'out_sents': 216, 'out_tokens': 8523}, 'verdict': {'failure': 'Translation rejected'}}\n",
      "{'git_hash': 'd0b94fe', 'dataset': {'name': 'Helsinki-NLP/opus-100', 'num_of_sents': 400, 'start_idx': 0, 'split': 'test[:500]'}, 'translation': {'translator': 'mock', 'src_lang': 'en', 'tgt_lang': 'fr', 'start': 1746105397.4514487, 'id': '740c37ac-5efa-4918-925a-4e16a334b7c7', 'in_lines': 400, 'in_sents': 429, 'start_timestamp': '2025-05-01 15:16:37.522414+02:00', 'in_chars': 40777, 'in_tokens': 9019, 'end': 1746105397.5344117, 'end_timestamp': '2025-05-01 15:16:37.534411+02:00', 'time': 0.0829629898071289, 'out_chars': 40777, 'out_lines': 400, 'out_sents': 437, 'out_tokens': 18536}, 'verdict': {'success': 'Translation accepted'}}\n",
      "{'git_hash': 'd0b94fe', 'dataset': {'name': 'Helsinki-NLP/opus-100', 'num_of_sents': 400, 'start_idx': 0, 'split': 'test[:500]'}, 'manual_retry': {'log_id': '18f431ca-b266-4fa9-81a9-86ea0c928a85', 'reason': 'BLEU score single digit'}, 'translation': {'translator': 'mock', 'src_lang': 'fr', 'tgt_lang': 'en', 'start': 1746105397.8541543, 'id': '2754561e-df08-497b-aa9b-3c6ccd7c2210', 'in_lines': 400, 'in_sents': 422, 'start_timestamp': '2025-05-01 15:16:37.965724+02:00', 'in_chars': 46126, 'in_tokens': 10852, 'end': 1746105398.0357263, 'end_timestamp': '2025-05-01 15:16:38.035726+02:00', 'time': 0.18157196044921875, 'out_chars': 46126, 'out_lines': 400, 'out_sents': 423, 'out_tokens': 21526}, 'verdict': {'success': 'Translation accepted'}}\n",
      "{'git_hash': 'd0b94fe', 'dataset': {'name': 'Helsinki-NLP/opus-100', 'num_of_sents': 400, 'start_idx': 0, 'split': 'test[:500]'}, 'manual_retry': {'log_id': '740c37ac-5efa-4918-925a-4e16a334b7c7', 'reason': 'Insufficient output, failed to detect automatically'}, 'translation': {'translator': 'mock', 'src_lang': 'en', 'tgt_lang': 'fr', 'start': 1746105398.275726, 'id': 'cdad48ab-ad32-4db4-bb1c-3967d23e3b7f', 'in_lines': 400, 'in_sents': 429, 'start_timestamp': '2025-05-01 15:16:38.347721+02:00', 'in_chars': 40777, 'in_tokens': 9019, 'end': 1746105398.3597615, 'end_timestamp': '2025-05-01 15:16:38.359761+02:00', 'time': 0.08403539657592773, 'out_chars': 40777, 'out_lines': 400, 'out_sents': 437, 'out_tokens': 18536}, 'verdict': {'success': 'Translation accepted'}}\n"
     ]
    }
   ],
   "source": [
    "log_data = [json.loads(ln) for ln in logfile.getvalue().splitlines()]\n",
    "for log in log_data:\n",
    "    print(log)"
   ]
  },
  {
   "cell_type": "markdown",
   "id": "ec1551f5",
   "metadata": {},
   "source": [
    "* The last log entries have a `manual_retry` field, indicating that they were added post translation"
   ]
  },
  {
   "cell_type": "markdown",
   "id": "f57b5c64",
   "metadata": {},
   "source": [
    "## Limit\n",
    "* To not burn through our money, we do set a limit"
   ]
  },
  {
   "cell_type": "code",
   "execution_count": 11,
   "id": "7dea2930",
   "metadata": {},
   "outputs": [],
   "source": [
    "!rm -rf tmp_test"
   ]
  },
  {
   "cell_type": "code",
   "execution_count": 12,
   "id": "e1a6de15",
   "metadata": {},
   "outputs": [
    {
     "name": "stdout",
     "output_type": "stream",
     "text": [
      "[✔️]: 400 translated from de to en\n",
      "[⚠️]: Error MockError\n",
      "[⏲️]: Retrying en-de...\n",
      "[❌]: Output for en-de is not acceptable!\n",
      "[⏲️]: Retrying en-de...\n",
      "[❌]: Output for en-de is not acceptable!\n",
      "[⏩]: Failed 2 times, skipping en-de...\n"
     ]
    }
   ],
   "source": [
    "dm = Opus100Manager()\n",
    "pairs = [('de', 'en'), ('en', 'de')]\n",
    "logfile = StringIO()\n",
    "logger = MyLogger(logfile=logfile)\n",
    "cli = MockClient(logger=logger, planned_fails=[pairs[1], pairs[1]], planned_errors=[pairs[1]])\n",
    "\n",
    "task = TranslationTask(\n",
    "    target_pairs=pairs,\n",
    "    dm=dm,\n",
    "    client=cli,\n",
    "    logger=logger,\n",
    "    mt_folder='tmp_test',\n",
    "    num_of_sents=400,\n",
    "    retry_delay=0,\n",
    "    max_retries=2\n",
    ")\n",
    "\n",
    "task.run()"
   ]
  },
  {
   "cell_type": "code",
   "execution_count": 13,
   "id": "633b6bd1",
   "metadata": {},
   "outputs": [],
   "source": [
    "!rm -rf tmp_test"
   ]
  }
 ],
 "metadata": {
  "kernelspec": {
   "display_name": "thesis",
   "language": "python",
   "name": "python3"
  },
  "language_info": {
   "codemirror_mode": {
    "name": "ipython",
    "version": 3
   },
   "file_extension": ".py",
   "mimetype": "text/x-python",
   "name": "python",
   "nbconvert_exporter": "python",
   "pygments_lexer": "ipython3",
   "version": "3.12.6"
  }
 },
 "nbformat": 4,
 "nbformat_minor": 5
}
