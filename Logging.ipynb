{
 "cells": [
  {
   "cell_type": "markdown",
   "id": "48893bc1",
   "metadata": {},
   "source": [
    "# Logging\n",
    "* Showcasing how the Logger is used in combination with the translation task\n",
    "* We use the MockClient that was created for testing the TranslationTask\n"
   ]
  },
  {
   "cell_type": "code",
   "execution_count": 1,
   "id": "c03aea26",
   "metadata": {},
   "outputs": [],
   "source": [
    "!rm -rf tmp_test"
   ]
  },
  {
   "cell_type": "code",
   "execution_count": 2,
   "id": "67f8faa1",
   "metadata": {},
   "outputs": [],
   "source": [
    "from test_task_and_logger import MockClient\n",
    "from scripts.task import TranslationTask\n",
    "from scripts.data_management import Opus100Manager\n",
    "from scripts.logger import MyLogger, RetryLog\n",
    "from io import StringIO\n",
    "import json\n",
    "import pprint\n",
    "\n",
    "dm = Opus100Manager()\n",
    "pairs = [('de', 'en'), ('en', 'de'), ('fr', 'en'), ('en', 'fr')]\n",
    "logfile = StringIO()\n",
    "logger = MyLogger(logfile=logfile)\n",
    "# scenario, 1 = failure (rejection of output defined by us), 2 = error (API error, no output)\n",
    "cli = MockClient(logger=logger, scenario=[0, 1, 0, 1, 1, 1, 2, 1, 2, 2, 0])\n",
    "\n",
    "task = TranslationTask(\n",
    "    target_pairs=pairs,\n",
    "    dm=dm,\n",
    "    client=cli,\n",
    "    logger=logger,\n",
    "    mt_folder='tmp_test',\n",
    "    num_of_sents=400,\n",
    "    retry_delay=0 # Default retry_delay is 30s, we set it to 0\n",
    ")"
   ]
  },
  {
   "cell_type": "markdown",
   "id": "8a509622",
   "metadata": {},
   "source": [
    "* We produce logs that we can watch in real-time as the translation happens"
   ]
  },
  {
   "cell_type": "code",
   "execution_count": 3,
   "id": "4fc9adc1",
   "metadata": {},
   "outputs": [
    {
     "data": {
      "text/plain": [
       "'830b32c0-af07-423e-8372-8de7f630b478'"
      ]
     },
     "execution_count": 3,
     "metadata": {},
     "output_type": "execute_result"
    }
   ],
   "source": [
    "task.id"
   ]
  },
  {
   "cell_type": "code",
   "execution_count": 4,
   "id": "978be969",
   "metadata": {},
   "outputs": [
    {
     "name": "stdout",
     "output_type": "stream",
     "text": [
      "[🏁]: Starting task 830b32c0-af07-423e-8372-8de7f630b478\n",
      "[✔️]: 400 translated from de to en\n",
      "[❌]: Output for en-de is not acceptable!\n",
      "[⏲️]: Retrying en-de...\n",
      "[✔️]: 400 translated from en to de\n",
      "[❌]: Output for fr-en is not acceptable!\n",
      "[⏲️]: Retrying fr-en...\n",
      "[❌]: Output for fr-en is not acceptable!\n",
      "[⏲️]: Retrying fr-en...\n",
      "[❌]: Output for fr-en is not acceptable!\n",
      "[⏲️]: Retrying fr-en...\n",
      "[⚠️]: Error MockError\n",
      "[⏩]: Failed 3 times, skipping fr-en...\n",
      "[❌]: Output for en-fr is not acceptable!\n",
      "[⏲️]: Retrying en-fr...\n",
      "[⚠️]: Error MockError\n",
      "[⏲️]: Retrying en-fr...\n",
      "[⚠️]: Error MockError\n",
      "[⏲️]: Retrying en-fr...\n",
      "[✔️]: 400 translated from en to fr\n"
     ]
    }
   ],
   "source": [
    "task.run()"
   ]
  },
  {
   "cell_type": "markdown",
   "id": "c50c11df",
   "metadata": {},
   "source": [
    "* We produce more detailed logs in JSONL files that contain all kinds of information we deemed important for transparancy, including the commit hash\n",
    "* Compare Notebook Printed Logs for Case Success, Failure and Error with Logger's logs"
   ]
  },
  {
   "cell_type": "code",
   "execution_count": 5,
   "id": "9f540140",
   "metadata": {},
   "outputs": [
    {
     "name": "stdout",
     "output_type": "stream",
     "text": [
      "{'dataset': {'name': 'Helsinki-NLP/opus-100',\n",
      "             'num_of_sents': 400,\n",
      "             'split': 'test[:500]',\n",
      "             'start_idx': 0},\n",
      " 'git_hash': '9726841',\n",
      " 'task_id': '830b32c0-af07-423e-8372-8de7f630b478',\n",
      " 'translation': {'end': 1746200905.4981377,\n",
      "                 'end_timestamp': '2025-05-02 17:48:25.498137+02:00',\n",
      "                 'id': 'd14de238-b9e6-49e1-8d95-761d03177b67',\n",
      "                 'in_chars': 32731,\n",
      "                 'in_lines': 400,\n",
      "                 'in_sents': 444,\n",
      "                 'in_tokens': 8295,\n",
      "                 'out_chars': 32731,\n",
      "                 'out_lines': 400,\n",
      "                 'out_sents': 478,\n",
      "                 'out_tokens': 15578,\n",
      "                 'src_lang': 'de',\n",
      "                 'start': 1746200905.423923,\n",
      "                 'start_timestamp': '2025-05-02 17:48:25.485668+02:00',\n",
      "                 'tgt_lang': 'en',\n",
      "                 'time': 0.07421469688415527,\n",
      "                 'translator': 'mock'},\n",
      " 'verdict': {'success': 'Translation accepted'}}\n",
      "{'dataset': {'name': 'Helsinki-NLP/opus-100',\n",
      "             'num_of_sents': 400,\n",
      "             'split': 'test[:500]',\n",
      "             'start_idx': 0},\n",
      " 'git_hash': '9726841',\n",
      " 'task_id': '830b32c0-af07-423e-8372-8de7f630b478',\n",
      " 'translation': {'end': 1746200905.6855564,\n",
      "                 'end_timestamp': '2025-05-02 17:48:25.685556+02:00',\n",
      "                 'id': '8e5d1872-c7c6-4283-9aad-c809143785df',\n",
      "                 'in_chars': 29414,\n",
      "                 'in_lines': 400,\n",
      "                 'in_sents': 446,\n",
      "                 'in_tokens': 6994,\n",
      "                 'out_chars': 13589,\n",
      "                 'out_lines': 200,\n",
      "                 'out_sents': 222,\n",
      "                 'out_tokens': 6208,\n",
      "                 'src_lang': 'en',\n",
      "                 'start': 1746200905.6196055,\n",
      "                 'start_timestamp': '2025-05-02 17:48:25.683444+02:00',\n",
      "                 'tgt_lang': 'de',\n",
      "                 'time': 0.06595087051391602,\n",
      "                 'translator': 'mock'},\n",
      " 'verdict': {'failure': 'Translation rejected'}}\n",
      "{'dataset': {'name': 'Helsinki-NLP/opus-100',\n",
      "             'num_of_sents': 400,\n",
      "             'split': 'test[:500]',\n",
      "             'start_idx': 0},\n",
      " 'git_hash': '9726841',\n",
      " 'task_id': '830b32c0-af07-423e-8372-8de7f630b478',\n",
      " 'translation': {'id': 'f38856e0-f158-4825-8035-9c46f2e8363d',\n",
      "                 'in_chars': 46126,\n",
      "                 'in_lines': 400,\n",
      "                 'in_sents': 422,\n",
      "                 'in_tokens': 10852,\n",
      "                 'src_lang': 'fr',\n",
      "                 'start': 1746200906.4798684,\n",
      "                 'start_timestamp': '2025-05-02 17:48:26.558006+02:00',\n",
      "                 'tgt_lang': 'en',\n",
      "                 'translator': 'mock'},\n",
      " 'verdict': {'error': 'MockError', 'failure': 'Translation failed'}}\n"
     ]
    }
   ],
   "source": [
    "log_data = [json.loads(ln) for ln in logfile.getvalue().splitlines()]\n",
    "interest = [log_data[0], log_data[1], log_data[6]]\n",
    "for log in interest:\n",
    "    pprint.pprint(log)"
   ]
  },
  {
   "cell_type": "markdown",
   "id": "677e8b34",
   "metadata": {},
   "source": [
    "* We distinguish between success, failure and error using the `verdict` field in the logs. \n",
    "    * A failure is defined by us, it means the output was deemed insufficient and calling the API again is the only option, this happens if the output is too large or too short.\n",
    "    * An error is caused by the API, resulting in us getting no output.\n",
    "* There is no `fr-en.txt` file because it failed 4 times in total, the 1st time and the 3 retries it was given. \n",
    "* In cases were an output was received but deemed 'failure', output is stored with `fail` suffix."
   ]
  },
  {
   "cell_type": "code",
   "execution_count": 6,
   "id": "e993eaca",
   "metadata": {},
   "outputs": [
    {
     "data": {
      "text/plain": [
       "['de-en.txt',\n",
       " 'en-de.txt',\n",
       " 'en-de_fail1.txt',\n",
       " 'en-fr.txt',\n",
       " 'en-fr_fail1.txt',\n",
       " 'fr-en_fail1.txt',\n",
       " 'fr-en_fail2.txt',\n",
       " 'fr-en_fail3.txt']"
      ]
     },
     "execution_count": 6,
     "metadata": {},
     "output_type": "execute_result"
    }
   ],
   "source": [
    "import os\n",
    "os.listdir('tmp_test')"
   ]
  },
  {
   "cell_type": "markdown",
   "id": "75a37f20",
   "metadata": {},
   "source": [
    "* We store the log_ids of the first and last success, namely pair `de-en` and `en-fr`"
   ]
  },
  {
   "cell_type": "code",
   "execution_count": 7,
   "id": "925faefa",
   "metadata": {},
   "outputs": [
    {
     "data": {
      "text/plain": [
       "['d14de238-b9e6-49e1-8d95-761d03177b67',\n",
       " 'ed51226f-2876-4580-99be-273066a8445c']"
      ]
     },
     "execution_count": 7,
     "metadata": {},
     "output_type": "execute_result"
    }
   ],
   "source": [
    "log_ids = [log['translation']['id'] for log in [log_data[0], log_data[-1]]]\n",
    "log_ids"
   ]
  },
  {
   "cell_type": "code",
   "execution_count": 8,
   "id": "d8798ff0",
   "metadata": {},
   "outputs": [],
   "source": [
    "de_en_log = log_data[0]\n",
    "en_fr_log = log_data[-1]"
   ]
  },
  {
   "cell_type": "markdown",
   "id": "2397458f",
   "metadata": {},
   "source": [
    "## Manual Retry\n",
    "* In case we still think we need to retry the call, we have to start a new task and specifcy the log ids of the translations we want to compute again \n",
    "* This provides an adequate level of \n",
    "* This is done in cases that are harder to detect automatically or do not make sense to detect automatically such as unnaturally low BLEU score or perhaps realizing that the model did not translate anything but just returned the source text or malformatted text in general."
   ]
  },
  {
   "cell_type": "code",
   "execution_count": 9,
   "id": "22ab55d2",
   "metadata": {},
   "outputs": [],
   "source": [
    "retry_pairs = [('de', 'en'), ('en', 'fr')]\n",
    "retry = RetryLog(pairs=retry_pairs, log_ids=log_ids, reasons=['BLEU score unnaturally low', 'Returned Src text'])\n",
    "new_logger = MyLogger(logfile=logfile, retry=retry)\n",
    "cli = MockClient(logger=new_logger)\n",
    "task = TranslationTask(\n",
    "    target_pairs=retry_pairs,\n",
    "    dm=dm,\n",
    "    client=cli,\n",
    "    logger=new_logger,\n",
    "    mt_folder='tmp_test',\n",
    "    num_of_sents=400,\n",
    "    manual_retry=True,\n",
    ")"
   ]
  },
  {
   "cell_type": "code",
   "execution_count": 10,
   "id": "3613619f",
   "metadata": {},
   "outputs": [],
   "source": [
    "!rm -rf tmp_test"
   ]
  },
  {
   "cell_type": "code",
   "execution_count": 11,
   "id": "b7690c63",
   "metadata": {},
   "outputs": [
    {
     "name": "stdout",
     "output_type": "stream",
     "text": [
      "[🏁]: Starting task 0f391538-b55b-402f-bf96-d002a5c18d9a\n",
      "[✔️]: 400 translated from de to en\n",
      "[✔️]: 400 translated from en to fr\n"
     ]
    }
   ],
   "source": [
    "task.run()"
   ]
  },
  {
   "cell_type": "code",
   "execution_count": 12,
   "id": "f4f21165",
   "metadata": {},
   "outputs": [
    {
     "name": "stdout",
     "output_type": "stream",
     "text": [
      "{'dataset': {'name': 'Helsinki-NLP/opus-100',\n",
      "             'num_of_sents': 400,\n",
      "             'split': 'test[:500]',\n",
      "             'start_idx': 0},\n",
      " 'git_hash': '9726841',\n",
      " 'task_id': '830b32c0-af07-423e-8372-8de7f630b478',\n",
      " 'translation': {'end': 1746200905.4981377,\n",
      "                 'end_timestamp': '2025-05-02 17:48:25.498137+02:00',\n",
      "                 'id': 'd14de238-b9e6-49e1-8d95-761d03177b67',\n",
      "                 'in_chars': 32731,\n",
      "                 'in_lines': 400,\n",
      "                 'in_sents': 444,\n",
      "                 'in_tokens': 8295,\n",
      "                 'out_chars': 32731,\n",
      "                 'out_lines': 400,\n",
      "                 'out_sents': 478,\n",
      "                 'out_tokens': 15578,\n",
      "                 'src_lang': 'de',\n",
      "                 'start': 1746200905.423923,\n",
      "                 'start_timestamp': '2025-05-02 17:48:25.485668+02:00',\n",
      "                 'tgt_lang': 'en',\n",
      "                 'time': 0.07421469688415527,\n",
      "                 'translator': 'mock'},\n",
      " 'verdict': {'success': 'Translation accepted'}}\n",
      "{'dataset': {'name': 'Helsinki-NLP/opus-100',\n",
      "             'num_of_sents': 400,\n",
      "             'split': 'test[:500]',\n",
      "             'start_idx': 0},\n",
      " 'git_hash': '9726841',\n",
      " 'task_id': '830b32c0-af07-423e-8372-8de7f630b478',\n",
      " 'translation': {'end': 1746200906.9966056,\n",
      "                 'end_timestamp': '2025-05-02 17:48:26.996605+02:00',\n",
      "                 'id': 'ed51226f-2876-4580-99be-273066a8445c',\n",
      "                 'in_chars': 40777,\n",
      "                 'in_lines': 400,\n",
      "                 'in_sents': 429,\n",
      "                 'in_tokens': 9019,\n",
      "                 'out_chars': 40777,\n",
      "                 'out_lines': 400,\n",
      "                 'out_sents': 437,\n",
      "                 'out_tokens': 18536,\n",
      "                 'src_lang': 'en',\n",
      "                 'start': 1746200906.9119956,\n",
      "                 'start_timestamp': '2025-05-02 17:48:26.980965+02:00',\n",
      "                 'tgt_lang': 'fr',\n",
      "                 'time': 0.0846099853515625,\n",
      "                 'translator': 'mock'},\n",
      " 'verdict': {'success': 'Translation accepted'}}\n",
      "{'dataset': {'name': 'Helsinki-NLP/opus-100',\n",
      "             'num_of_sents': 400,\n",
      "             'split': 'test[:500]',\n",
      "             'start_idx': 0},\n",
      " 'git_hash': '9726841',\n",
      " 'manual_retry': {'log_id': 'd14de238-b9e6-49e1-8d95-761d03177b67',\n",
      "                  'reason': 'BLEU score unnaturally low'},\n",
      " 'task_id': '0f391538-b55b-402f-bf96-d002a5c18d9a',\n",
      " 'translation': {'end': 1746200907.459928,\n",
      "                 'end_timestamp': '2025-05-02 17:48:27.459928+02:00',\n",
      "                 'id': 'd6494e91-d256-459b-9701-97170636e8f5',\n",
      "                 'in_chars': 32731,\n",
      "                 'in_lines': 400,\n",
      "                 'in_sents': 444,\n",
      "                 'in_tokens': 8295,\n",
      "                 'out_chars': 32731,\n",
      "                 'out_lines': 400,\n",
      "                 'out_sents': 478,\n",
      "                 'out_tokens': 15578,\n",
      "                 'src_lang': 'de',\n",
      "                 'start': 1746200907.3863392,\n",
      "                 'start_timestamp': '2025-05-02 17:48:27.448950+02:00',\n",
      "                 'tgt_lang': 'en',\n",
      "                 'time': 0.07358884811401367,\n",
      "                 'translator': 'mock'},\n",
      " 'verdict': {'success': 'Translation accepted'}}\n",
      "{'dataset': {'name': 'Helsinki-NLP/opus-100',\n",
      "             'num_of_sents': 400,\n",
      "             'split': 'test[:500]',\n",
      "             'start_idx': 0},\n",
      " 'git_hash': '9726841',\n",
      " 'manual_retry': {'log_id': 'ed51226f-2876-4580-99be-273066a8445c',\n",
      "                  'reason': 'Returned Src text'},\n",
      " 'task_id': '0f391538-b55b-402f-bf96-d002a5c18d9a',\n",
      " 'translation': {'end': 1746200907.6968367,\n",
      "                 'end_timestamp': '2025-05-02 17:48:27.696836+02:00',\n",
      "                 'id': '6ebcb340-6117-4e60-963a-10864a65131b',\n",
      "                 'in_chars': 40777,\n",
      "                 'in_lines': 400,\n",
      "                 'in_sents': 429,\n",
      "                 'in_tokens': 9019,\n",
      "                 'out_chars': 40777,\n",
      "                 'out_lines': 400,\n",
      "                 'out_sents': 437,\n",
      "                 'out_tokens': 18536,\n",
      "                 'src_lang': 'en',\n",
      "                 'start': 1746200907.6105824,\n",
      "                 'start_timestamp': '2025-05-02 17:48:27.681941+02:00',\n",
      "                 'tgt_lang': 'fr',\n",
      "                 'time': 0.08625435829162598,\n",
      "                 'translator': 'mock'},\n",
      " 'verdict': {'success': 'Translation accepted'}}\n"
     ]
    }
   ],
   "source": [
    "log_data = [json.loads(ln) for ln in logfile.getvalue().splitlines()]\n",
    "interest = [de_en_log, en_fr_log, log_data[-2], log_data[-1]]\n",
    "for log in interest:\n",
    "    pprint.pprint(log)"
   ]
  },
  {
   "cell_type": "markdown",
   "id": "ec1551f5",
   "metadata": {},
   "source": [
    "* The last log entries have a `manual_retry` field, indicating that they were added post translation"
   ]
  },
  {
   "cell_type": "code",
   "execution_count": 13,
   "id": "96344959",
   "metadata": {},
   "outputs": [
    {
     "data": {
      "text/plain": [
       "'d14de238-b9e6-49e1-8d95-761d03177b67'"
      ]
     },
     "execution_count": 13,
     "metadata": {},
     "output_type": "execute_result"
    }
   ],
   "source": [
    "de_en_log['translation']['id']"
   ]
  },
  {
   "cell_type": "code",
   "execution_count": 14,
   "id": "bdfe92b4",
   "metadata": {},
   "outputs": [
    {
     "data": {
      "text/plain": [
       "({'log_id': 'd14de238-b9e6-49e1-8d95-761d03177b67',\n",
       "  'reason': 'BLEU score unnaturally low'},\n",
       " ('de', 'en'))"
      ]
     },
     "execution_count": 14,
     "metadata": {},
     "output_type": "execute_result"
    }
   ],
   "source": [
    "log_data[-2]['manual_retry'], (log_data[-2]['translation']['src_lang'], log_data[-2]['translation']['tgt_lang'])"
   ]
  }
 ],
 "metadata": {
  "kernelspec": {
   "display_name": "thesis",
   "language": "python",
   "name": "python3"
  },
  "language_info": {
   "codemirror_mode": {
    "name": "ipython",
    "version": 3
   },
   "file_extension": ".py",
   "mimetype": "text/x-python",
   "name": "python",
   "nbconvert_exporter": "python",
   "pygments_lexer": "ipython3",
   "version": "3.12.6"
  }
 },
 "nbformat": 4,
 "nbformat_minor": 5
}
