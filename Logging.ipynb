{
 "cells": [
  {
   "cell_type": "markdown",
   "id": "48893bc1",
   "metadata": {},
   "source": [
    "# Logging\n",
    "* Showcasing how the Logger is used in combination with the translation task\n",
    "* We use the MockClient that was created for testing the TranslationTask\n"
   ]
  },
  {
   "cell_type": "code",
   "execution_count": 1,
   "id": "c03aea26",
   "metadata": {},
   "outputs": [],
   "source": [
    "!rm -rf tmp_test"
   ]
  },
  {
   "cell_type": "code",
   "execution_count": 2,
   "id": "67f8faa1",
   "metadata": {},
   "outputs": [],
   "source": [
    "from test_translation_task import MockClient\n",
    "from scripts.task import TranslationTask\n",
    "from scripts.data_management import Opus100Manager\n",
    "from scripts.logger import MyLogger, Retry\n",
    "from io import StringIO\n",
    "import json\n",
    "\n",
    "dm = Opus100Manager()\n",
    "pairs = [('de', 'en'), ('en', 'de'), ('fr', 'en'), ('en', 'fr')]\n",
    "logfile = StringIO()\n",
    "logger = MyLogger(logfile=logfile)\n",
    "cli = MockClient(logger=logger, planned_fails=[pairs[1], pairs[3]])\n",
    "\n",
    "task = TranslationTask(\n",
    "    target_pairs=pairs,\n",
    "    dm=dm,\n",
    "    client=cli,\n",
    "    logger=logger,\n",
    "    mt_folder='tmp_test',\n",
    "    num_of_sents=400,\n",
    ")"
   ]
  },
  {
   "cell_type": "code",
   "execution_count": 3,
   "id": "978be969",
   "metadata": {},
   "outputs": [
    {
     "name": "stdout",
     "output_type": "stream",
     "text": [
      "400 translated from de to en\n",
      "200 translated from en to de\n",
      "400 translated from fr to en\n",
      "200 translated from en to fr\n"
     ]
    }
   ],
   "source": [
    "task.run()"
   ]
  },
  {
   "cell_type": "code",
   "execution_count": 4,
   "id": "9f540140",
   "metadata": {},
   "outputs": [
    {
     "name": "stdout",
     "output_type": "stream",
     "text": [
      "{'git_hash': '36662df', 'dataset': {'name': 'Helsinki-NLP/opus-100', 'num_of_sents': 400, 'start_idx': 0, 'split': 'test[:500]'}, 'translation': {'translator': 'mock', 'src_lang': 'de', 'tgt_lang': 'en', 'start': 1746022517.5436447, 'id': '931686fc-5b69-4ea1-84a4-bfaad44a30c2', 'in_lines': 400, 'in_sents': 444, 'start_timestamp': '2025-04-30 16:15:17.600645+02:00', 'in_chars': 32731, 'in_tokens': 8295, 'end': 1746022517.6126444, 'end_timestamp': '2025-04-30 16:15:17.612644+02:00', 'time': 0.0689997673034668, 'out_chars': 32731, 'out_lines': 400, 'out_sents': 478, 'out_tokens': 15578}}\n",
      "{'git_hash': '36662df', 'dataset': {'name': 'Helsinki-NLP/opus-100', 'num_of_sents': 400, 'start_idx': 0, 'split': 'test[:500]'}, 'translation': {'translator': 'mock', 'src_lang': 'en', 'tgt_lang': 'de', 'start': 1746022517.6855094, 'id': 'd931772d-7dd6-44bc-b6fc-c450d0cf64ff', 'in_lines': 400, 'in_sents': 446, 'start_timestamp': '2025-04-30 16:15:17.734513+02:00', 'in_chars': 29414, 'in_tokens': 6994, 'end': 1746022517.7465088, 'end_timestamp': '2025-04-30 16:15:17.746508+02:00', 'time': 0.060999393463134766, 'out_chars': 13589, 'out_lines': 200, 'out_sents': 222, 'out_tokens': 6208}}\n",
      "{'git_hash': '36662df', 'dataset': {'name': 'Helsinki-NLP/opus-100', 'num_of_sents': 400, 'start_idx': 0, 'split': 'test[:500]'}, 'translation': {'translator': 'mock', 'src_lang': 'fr', 'tgt_lang': 'en', 'start': 1746022517.785509, 'id': '2c5e8c74-7aa9-42a6-b678-0c5ddbc3d1c2', 'in_lines': 400, 'in_sents': 422, 'start_timestamp': '2025-04-30 16:15:17.867557+02:00', 'in_chars': 46126, 'in_tokens': 10852, 'end': 1746022517.8825116, 'end_timestamp': '2025-04-30 16:15:17.882511+02:00', 'time': 0.09700250625610352, 'out_chars': 46126, 'out_lines': 400, 'out_sents': 423, 'out_tokens': 21526}}\n",
      "{'git_hash': '36662df', 'dataset': {'name': 'Helsinki-NLP/opus-100', 'num_of_sents': 400, 'start_idx': 0, 'split': 'test[:500]'}, 'translation': {'translator': 'mock', 'src_lang': 'en', 'tgt_lang': 'fr', 'start': 1746022518.0035176, 'id': '63553348-01a7-4854-86f3-d0a192c55ef9', 'in_lines': 400, 'in_sents': 429, 'start_timestamp': '2025-04-30 16:15:18.087950+02:00', 'in_chars': 40777, 'in_tokens': 9019, 'end': 1746022518.1039257, 'end_timestamp': '2025-04-30 16:15:18.103925+02:00', 'time': 0.10040807723999023, 'out_chars': 19069, 'out_lines': 200, 'out_sents': 216, 'out_tokens': 8523}}\n"
     ]
    }
   ],
   "source": [
    "log_data = [json.loads(ln) for ln in logfile.getvalue().splitlines()]\n",
    "for log in log_data:\n",
    "    print(log)"
   ]
  },
  {
   "cell_type": "code",
   "execution_count": 5,
   "id": "925faefa",
   "metadata": {},
   "outputs": [
    {
     "data": {
      "text/plain": [
       "['d931772d-7dd6-44bc-b6fc-c450d0cf64ff',\n",
       " '63553348-01a7-4854-86f3-d0a192c55ef9']"
      ]
     },
     "execution_count": 5,
     "metadata": {},
     "output_type": "execute_result"
    }
   ],
   "source": [
    "log_ids = [log['translation']['id'] for log in log_data if log['translation']['out_lines']==200]\n",
    "log_ids"
   ]
  },
  {
   "cell_type": "code",
   "execution_count": 6,
   "id": "22ab55d2",
   "metadata": {},
   "outputs": [],
   "source": [
    "retry = Retry(pairs=[pairs[1], pairs[3]], log_ids=log_ids, reasons=['only half of expected output', 'only half of expected output'])\n",
    "new_logger = MyLogger(logfile=logfile, retry=retry)\n",
    "cli = MockClient(logger=new_logger)\n",
    "task = TranslationTask(\n",
    "    target_pairs=[pairs[1], pairs[3]],\n",
    "    dm=dm,\n",
    "    client=cli,\n",
    "    logger=new_logger,\n",
    "    mt_folder='tmp_test',\n",
    "    num_of_sents=400,\n",
    "    manual_retry=True,\n",
    ")"
   ]
  },
  {
   "cell_type": "code",
   "execution_count": 7,
   "id": "3613619f",
   "metadata": {},
   "outputs": [],
   "source": [
    "!rm -rf tmp_test"
   ]
  },
  {
   "cell_type": "code",
   "execution_count": 8,
   "id": "b7690c63",
   "metadata": {},
   "outputs": [
    {
     "name": "stdout",
     "output_type": "stream",
     "text": [
      "400 translated from en to de\n",
      "400 translated from en to fr\n"
     ]
    }
   ],
   "source": [
    "task.run()"
   ]
  },
  {
   "cell_type": "code",
   "execution_count": 9,
   "id": "f4f21165",
   "metadata": {},
   "outputs": [
    {
     "name": "stdout",
     "output_type": "stream",
     "text": [
      "{'git_hash': '36662df', 'dataset': {'name': 'Helsinki-NLP/opus-100', 'num_of_sents': 400, 'start_idx': 0, 'split': 'test[:500]'}, 'translation': {'translator': 'mock', 'src_lang': 'de', 'tgt_lang': 'en', 'start': 1746022517.5436447, 'id': '931686fc-5b69-4ea1-84a4-bfaad44a30c2', 'in_lines': 400, 'in_sents': 444, 'start_timestamp': '2025-04-30 16:15:17.600645+02:00', 'in_chars': 32731, 'in_tokens': 8295, 'end': 1746022517.6126444, 'end_timestamp': '2025-04-30 16:15:17.612644+02:00', 'time': 0.0689997673034668, 'out_chars': 32731, 'out_lines': 400, 'out_sents': 478, 'out_tokens': 15578}}\n",
      "{'git_hash': '36662df', 'dataset': {'name': 'Helsinki-NLP/opus-100', 'num_of_sents': 400, 'start_idx': 0, 'split': 'test[:500]'}, 'translation': {'translator': 'mock', 'src_lang': 'en', 'tgt_lang': 'de', 'start': 1746022517.6855094, 'id': 'd931772d-7dd6-44bc-b6fc-c450d0cf64ff', 'in_lines': 400, 'in_sents': 446, 'start_timestamp': '2025-04-30 16:15:17.734513+02:00', 'in_chars': 29414, 'in_tokens': 6994, 'end': 1746022517.7465088, 'end_timestamp': '2025-04-30 16:15:17.746508+02:00', 'time': 0.060999393463134766, 'out_chars': 13589, 'out_lines': 200, 'out_sents': 222, 'out_tokens': 6208}}\n",
      "{'git_hash': '36662df', 'dataset': {'name': 'Helsinki-NLP/opus-100', 'num_of_sents': 400, 'start_idx': 0, 'split': 'test[:500]'}, 'translation': {'translator': 'mock', 'src_lang': 'fr', 'tgt_lang': 'en', 'start': 1746022517.785509, 'id': '2c5e8c74-7aa9-42a6-b678-0c5ddbc3d1c2', 'in_lines': 400, 'in_sents': 422, 'start_timestamp': '2025-04-30 16:15:17.867557+02:00', 'in_chars': 46126, 'in_tokens': 10852, 'end': 1746022517.8825116, 'end_timestamp': '2025-04-30 16:15:17.882511+02:00', 'time': 0.09700250625610352, 'out_chars': 46126, 'out_lines': 400, 'out_sents': 423, 'out_tokens': 21526}}\n",
      "{'git_hash': '36662df', 'dataset': {'name': 'Helsinki-NLP/opus-100', 'num_of_sents': 400, 'start_idx': 0, 'split': 'test[:500]'}, 'translation': {'translator': 'mock', 'src_lang': 'en', 'tgt_lang': 'fr', 'start': 1746022518.0035176, 'id': '63553348-01a7-4854-86f3-d0a192c55ef9', 'in_lines': 400, 'in_sents': 429, 'start_timestamp': '2025-04-30 16:15:18.087950+02:00', 'in_chars': 40777, 'in_tokens': 9019, 'end': 1746022518.1039257, 'end_timestamp': '2025-04-30 16:15:18.103925+02:00', 'time': 0.10040807723999023, 'out_chars': 19069, 'out_lines': 200, 'out_sents': 216, 'out_tokens': 8523}}\n",
      "{'git_hash': '36662df', 'dataset': {'name': 'Helsinki-NLP/opus-100', 'num_of_sents': 400, 'start_idx': 0, 'split': 'test[:500]'}, 'retry': {'log_id': 'd931772d-7dd6-44bc-b6fc-c450d0cf64ff', 'reason': 'only half of expected output'}, 'translation': {'translator': 'mock', 'src_lang': 'en', 'tgt_lang': 'de', 'start': 1746022518.2971492, 'id': 'e3707299-7823-4e2d-8ba3-74247f6b7937', 'in_lines': 400, 'in_sents': 446, 'start_timestamp': '2025-04-30 16:15:18.416145+02:00', 'in_chars': 29414, 'in_tokens': 6994, 'end': 1746022518.4281442, 'end_timestamp': '2025-04-30 16:15:18.428144+02:00', 'time': 0.1309950351715088, 'out_chars': 29414, 'out_lines': 400, 'out_sents': 449, 'out_tokens': 13305}}\n",
      "{'git_hash': '36662df', 'dataset': {'name': 'Helsinki-NLP/opus-100', 'num_of_sents': 400, 'start_idx': 0, 'split': 'test[:500]'}, 'retry': {'log_id': '63553348-01a7-4854-86f3-d0a192c55ef9', 'reason': 'only half of expected output'}, 'translation': {'translator': 'mock', 'src_lang': 'en', 'tgt_lang': 'fr', 'start': 1746022518.5171432, 'id': '9f5d0daf-6de2-4495-8665-3a6abe1cadba', 'in_lines': 400, 'in_sents': 429, 'start_timestamp': '2025-04-30 16:15:18.590142+02:00', 'in_chars': 40777, 'in_tokens': 9019, 'end': 1746022518.6021428, 'end_timestamp': '2025-04-30 16:15:18.602142+02:00', 'time': 0.08499956130981445, 'out_chars': 40777, 'out_lines': 400, 'out_sents': 437, 'out_tokens': 18536}}\n"
     ]
    }
   ],
   "source": [
    "log_data = [json.loads(ln) for ln in logfile.getvalue().splitlines()]\n",
    "for log in log_data:\n",
    "    print(log)"
   ]
  },
  {
   "cell_type": "markdown",
   "id": "ec1551f5",
   "metadata": {},
   "source": [
    "* In case we have to manually retry, we will log it like this, so we have a reference to the failed attempt."
   ]
  },
  {
   "cell_type": "markdown",
   "id": "f3d36c58",
   "metadata": {},
   "source": [
    "## Automatic Retry"
   ]
  },
  {
   "cell_type": "markdown",
   "id": "f35e51eb",
   "metadata": {},
   "source": [
    "* If the translation fails mid-translation due to an error, so the API call fails as a whole rather than succeeding and giving us malformatted output, we let the code automatically retry the call. In those cases, we do not add additional log information, because the retry is fully justified."
   ]
  },
  {
   "cell_type": "code",
   "execution_count": 10,
   "id": "96c81ff3",
   "metadata": {},
   "outputs": [],
   "source": [
    "!rm -rf tmp_test"
   ]
  },
  {
   "cell_type": "code",
   "execution_count": 11,
   "id": "85e5479d",
   "metadata": {},
   "outputs": [],
   "source": [
    "dm = Opus100Manager()\n",
    "pairs = [('de', 'en'), ('en', 'de'), ('fr', 'en'), ('en', 'fr')]\n",
    "logfile = StringIO()\n",
    "logger = MyLogger(logfile=logfile)\n",
    "cli = MockClient(logger=logger, planned_errors=[\n",
    "                 pairs[1], pairs[1], pairs[2]])\n",
    "task = TranslationTask(\n",
    "    target_pairs=pairs,\n",
    "    dm=dm,\n",
    "    client=cli,\n",
    "    logger=logger,\n",
    "    mt_folder='tmp_test',\n",
    "    num_of_sents=400,\n",
    "    retry_delay=0 # Default retry_delay is 30s, we set it to 0\n",
    ")"
   ]
  },
  {
   "cell_type": "code",
   "execution_count": 12,
   "id": "25b37ead",
   "metadata": {},
   "outputs": [
    {
     "name": "stdout",
     "output_type": "stream",
     "text": [
      "400 translated from de to en\n",
      "Error:\n",
      " MockError\n",
      "Waiting 0 seconds before retrying...\n",
      "Retrying...\n",
      "Error:\n",
      " MockError\n",
      "Waiting 0 seconds before retrying...\n",
      "Retrying...\n",
      "400 translated from en to de\n",
      "Error:\n",
      " MockError\n",
      "Waiting 0 seconds before retrying...\n",
      "Retrying...\n",
      "400 translated from fr to en\n",
      "400 translated from en to fr\n"
     ]
    }
   ],
   "source": [
    "task.run()"
   ]
  },
  {
   "cell_type": "code",
   "execution_count": 13,
   "id": "bd70a0b2",
   "metadata": {},
   "outputs": [
    {
     "name": "stdout",
     "output_type": "stream",
     "text": [
      "{'translator': 'mock', 'src_lang': 'de', 'tgt_lang': 'en', 'start': 1746022518.7894006, 'id': '7fe14658-cc5e-4c7a-bb15-3310efee5c0c', 'in_lines': 400, 'in_sents': 444, 'start_timestamp': '2025-04-30 16:15:18.844398+02:00', 'in_chars': 32731, 'in_tokens': 8295, 'end': 1746022518.8553987, 'end_timestamp': '2025-04-30 16:15:18.855398+02:00', 'time': 0.06599807739257812, 'out_chars': 32731, 'out_lines': 400, 'out_sents': 478, 'out_tokens': 15578}\n",
      "{'translator': 'mock', 'src_lang': 'en', 'tgt_lang': 'de', 'start': 1746022518.9935327, 'id': '83efbbbc-84ae-4914-bb64-ada712519cbf', 'in_lines': 0, 'in_sents': 0, 'start_timestamp': '2025-04-30 16:15:18.995533+02:00', 'in_chars': 0, 'in_tokens': 0, 'error_msg': 'Translation en to de failed', 'error': 'MockError'}\n",
      "{'translator': 'mock', 'src_lang': 'en', 'tgt_lang': 'de', 'start': 1746022519.0685322, 'id': '909caf92-f010-4689-8c79-84a50f8425b7', 'in_lines': 0, 'in_sents': 0, 'start_timestamp': '2025-04-30 16:15:19.072548+02:00', 'in_chars': 0, 'in_tokens': 0, 'error_msg': 'Translation en to de failed', 'error': 'MockError'}\n",
      "{'translator': 'mock', 'src_lang': 'en', 'tgt_lang': 'de', 'start': 1746022519.0755355, 'id': '8d63a6f5-1c34-4e61-a504-db8eff8dc1dc', 'in_lines': 400, 'in_sents': 446, 'start_timestamp': '2025-04-30 16:15:19.141531+02:00', 'in_chars': 29414, 'in_tokens': 6994, 'end': 1746022519.1525311, 'end_timestamp': '2025-04-30 16:15:19.152531+02:00', 'time': 0.0769956111907959, 'out_chars': 29414, 'out_lines': 400, 'out_sents': 449, 'out_tokens': 13305}\n",
      "{'translator': 'mock', 'src_lang': 'fr', 'tgt_lang': 'en', 'start': 1746022519.3445675, 'id': 'a8772fca-aab1-4b62-849a-2dcf844e769b', 'in_lines': 0, 'in_sents': 0, 'start_timestamp': '2025-04-30 16:15:19.346549+02:00', 'in_chars': 0, 'in_tokens': 0, 'error_msg': 'Translation fr to en failed', 'error': 'MockError'}\n",
      "{'translator': 'mock', 'src_lang': 'fr', 'tgt_lang': 'en', 'start': 1746022519.3495593, 'id': 'e71e9cba-4cad-463b-8c28-33403f931923', 'in_lines': 400, 'in_sents': 422, 'start_timestamp': '2025-04-30 16:15:19.442818+02:00', 'in_chars': 46126, 'in_tokens': 10852, 'end': 1746022519.4602334, 'end_timestamp': '2025-04-30 16:15:19.460233+02:00', 'time': 0.11067414283752441, 'out_chars': 46126, 'out_lines': 400, 'out_sents': 423, 'out_tokens': 21526}\n",
      "{'translator': 'mock', 'src_lang': 'en', 'tgt_lang': 'fr', 'start': 1746022519.581479, 'id': 'a0f300cf-d291-42a8-b1a8-e988d33cd22e', 'in_lines': 400, 'in_sents': 429, 'start_timestamp': '2025-04-30 16:15:19.679478+02:00', 'in_chars': 40777, 'in_tokens': 9019, 'end': 1746022519.69448, 'end_timestamp': '2025-04-30 16:15:19.694479+02:00', 'time': 0.11300086975097656, 'out_chars': 40777, 'out_lines': 400, 'out_sents': 437, 'out_tokens': 18536}\n"
     ]
    }
   ],
   "source": [
    "log_data = [json.loads(ln) for ln in logfile.getvalue().splitlines()]\n",
    "for log in log_data:\n",
    "    print(log['translation'])"
   ]
  },
  {
   "cell_type": "markdown",
   "id": "4db9c54d",
   "metadata": {},
   "source": [
    "* We can see exactly that en-de and fr-en failed twice and once but then succeeded, automatic logging should be sufficient for such case.\n",
    "* Manual retry is only conducted if there is no failure that warrants an error"
   ]
  }
 ],
 "metadata": {
  "kernelspec": {
   "display_name": "thesis",
   "language": "python",
   "name": "python3"
  },
  "language_info": {
   "codemirror_mode": {
    "name": "ipython",
    "version": 3
   },
   "file_extension": ".py",
   "mimetype": "text/x-python",
   "name": "python",
   "nbconvert_exporter": "python",
   "pygments_lexer": "ipython3",
   "version": "3.12.6"
  }
 },
 "nbformat": 4,
 "nbformat_minor": 5
}
