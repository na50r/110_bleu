{
 "cells": [
  {
   "cell_type": "markdown",
   "id": "48893bc1",
   "metadata": {},
   "source": [
    "# Logging\n",
    "* Showcasing how the Logger is used in combination with the translation task\n",
    "* We use the MockClient that was created for testing the TranslationTask\n"
   ]
  },
  {
   "cell_type": "code",
   "execution_count": 1,
   "id": "c03aea26",
   "metadata": {},
   "outputs": [],
   "source": [
    "!rm -rf tmp_test"
   ]
  },
  {
   "cell_type": "code",
   "execution_count": 2,
   "id": "67f8faa1",
   "metadata": {},
   "outputs": [],
   "source": [
    "from test_translation_task import MockClient\n",
    "from scripts.task import TranslationTask\n",
    "from scripts.data_management import Opus100Manager\n",
    "from scripts.logger import MyLogger, Retry\n",
    "from io import StringIO\n",
    "import json\n",
    "\n",
    "dm = Opus100Manager()\n",
    "pairs = [('de', 'en'), ('en', 'de'), ('fr', 'en'), ('en', 'fr')]\n",
    "logfile = StringIO()\n",
    "logger = MyLogger(logfile=logfile)\n",
    "cli = MockClient(logger=logger, planned_fails=[pairs[1], pairs[3]])\n",
    "\n",
    "task = TranslationTask(\n",
    "    target_pairs=pairs,\n",
    "    dm=dm,\n",
    "    client=cli,\n",
    "    logger=logger,\n",
    "    mt_folder='tmp_test',\n",
    "    num_of_sents=400,\n",
    ")"
   ]
  },
  {
   "cell_type": "code",
   "execution_count": 3,
   "id": "978be969",
   "metadata": {},
   "outputs": [
    {
     "name": "stdout",
     "output_type": "stream",
     "text": [
      "400 translated from de to en\n",
      "200 translated from en to de\n",
      "400 translated from fr to en\n",
      "200 translated from en to fr\n"
     ]
    }
   ],
   "source": [
    "task.run()"
   ]
  },
  {
   "cell_type": "code",
   "execution_count": 4,
   "id": "9f540140",
   "metadata": {},
   "outputs": [
    {
     "name": "stdout",
     "output_type": "stream",
     "text": [
      "{'git_hash': '30f266e', 'dataset': {'name': 'Helsinki-NLP/opus-100', 'num_of_sents': 400, 'start_idx': 0, 'split': 'test[:500]'}, 'translation': {'translator': 'mock', 'src_lang': 'de', 'tgt_lang': 'en', 'start': 1746021718.3584752, 'id': '94a34c83-f6d4-4423-b11f-22eeaf98c76e', 'in_lines': 400, 'in_sents': 444, 'start_timestamp': '2025-04-30 16:01:58.411686+02:00', 'in_chars': 32731, 'in_tokens': 8295, 'end': 1746021718.4236858, 'end_timestamp': '2025-04-30 16:01:58.423685+02:00', 'time': 0.06521058082580566, 'out_chars': 32731, 'out_lines': 400, 'out_sents': 478, 'out_tokens': 15578}}\n",
      "{'git_hash': '30f266e', 'dataset': {'name': 'Helsinki-NLP/opus-100', 'num_of_sents': 400, 'start_idx': 0, 'split': 'test[:500]'}, 'translation': {'translator': 'mock', 'src_lang': 'en', 'tgt_lang': 'de', 'start': 1746021718.4986908, 'id': 'ab0c02b9-1fc5-45dc-8f9d-f5fcefd9f45c', 'in_lines': 400, 'in_sents': 446, 'start_timestamp': '2025-04-30 16:01:58.546250+02:00', 'in_chars': 29414, 'in_tokens': 6994, 'end': 1746021718.5562875, 'end_timestamp': '2025-04-30 16:01:58.556287+02:00', 'time': 0.057596683502197266, 'out_chars': 13589, 'out_lines': 200, 'out_sents': 222, 'out_tokens': 6208}}\n",
      "{'git_hash': '30f266e', 'dataset': {'name': 'Helsinki-NLP/opus-100', 'num_of_sents': 400, 'start_idx': 0, 'split': 'test[:500]'}, 'translation': {'translator': 'mock', 'src_lang': 'fr', 'tgt_lang': 'en', 'start': 1746021718.596253, 'id': '64a8f4b8-3ae5-46f2-917e-8e985cd8b4f0', 'in_lines': 400, 'in_sents': 422, 'start_timestamp': '2025-04-30 16:01:58.675254+02:00', 'in_chars': 46126, 'in_tokens': 10852, 'end': 1746021718.6912537, 'end_timestamp': '2025-04-30 16:01:58.691253+02:00', 'time': 0.0950007438659668, 'out_chars': 46126, 'out_lines': 400, 'out_sents': 423, 'out_tokens': 21526}}\n",
      "{'git_hash': '30f266e', 'dataset': {'name': 'Helsinki-NLP/opus-100', 'num_of_sents': 400, 'start_idx': 0, 'split': 'test[:500]'}, 'translation': {'translator': 'mock', 'src_lang': 'en', 'tgt_lang': 'fr', 'start': 1746021718.7982523, 'id': '8af3bf83-6b88-4c0d-9d45-4f56bde4631c', 'in_lines': 400, 'in_sents': 429, 'start_timestamp': '2025-04-30 16:01:58.867252+02:00', 'in_chars': 40777, 'in_tokens': 9019, 'end': 1746021718.879252, 'end_timestamp': '2025-04-30 16:01:58.879252+02:00', 'time': 0.08099961280822754, 'out_chars': 19069, 'out_lines': 200, 'out_sents': 216, 'out_tokens': 8523}}\n"
     ]
    }
   ],
   "source": [
    "log_data = [json.loads(ln) for ln in logfile.getvalue().splitlines()]\n",
    "for log in log_data:\n",
    "    print(log)"
   ]
  },
  {
   "cell_type": "code",
   "execution_count": 5,
   "id": "925faefa",
   "metadata": {},
   "outputs": [
    {
     "data": {
      "text/plain": [
       "['ab0c02b9-1fc5-45dc-8f9d-f5fcefd9f45c',\n",
       " '8af3bf83-6b88-4c0d-9d45-4f56bde4631c']"
      ]
     },
     "execution_count": 5,
     "metadata": {},
     "output_type": "execute_result"
    }
   ],
   "source": [
    "log_ids = [log['translation']['id'] for log in log_data if log['translation']['out_lines']==200]\n",
    "log_ids"
   ]
  },
  {
   "cell_type": "code",
   "execution_count": 6,
   "id": "22ab55d2",
   "metadata": {},
   "outputs": [],
   "source": [
    "retry = Retry(pairs=[pairs[1], pairs[3]], log_ids=log_ids, reasons=['only half of expected output', 'only half of expected output'])\n",
    "new_logger = MyLogger(logfile=logfile, retry=retry)\n",
    "cli = MockClient(logger=new_logger)\n",
    "task = TranslationTask(\n",
    "    target_pairs=[pairs[1], pairs[3]],\n",
    "    dm=dm,\n",
    "    client=cli,\n",
    "    logger=new_logger,\n",
    "    mt_folder='tmp_test',\n",
    "    num_of_sents=400,\n",
    "    manual_retry=True,\n",
    ")"
   ]
  },
  {
   "cell_type": "code",
   "execution_count": 7,
   "id": "3613619f",
   "metadata": {},
   "outputs": [],
   "source": [
    "!rm -rf tmp_test"
   ]
  },
  {
   "cell_type": "code",
   "execution_count": 8,
   "id": "b7690c63",
   "metadata": {},
   "outputs": [
    {
     "name": "stdout",
     "output_type": "stream",
     "text": [
      "400 translated from en to de\n",
      "400 translated from en to fr\n"
     ]
    }
   ],
   "source": [
    "task.run()"
   ]
  },
  {
   "cell_type": "code",
   "execution_count": 9,
   "id": "f4f21165",
   "metadata": {},
   "outputs": [
    {
     "name": "stdout",
     "output_type": "stream",
     "text": [
      "{'git_hash': '30f266e', 'dataset': {'name': 'Helsinki-NLP/opus-100', 'num_of_sents': 400, 'start_idx': 0, 'split': 'test[:500]'}, 'translation': {'translator': 'mock', 'src_lang': 'de', 'tgt_lang': 'en', 'start': 1746021718.3584752, 'id': '94a34c83-f6d4-4423-b11f-22eeaf98c76e', 'in_lines': 400, 'in_sents': 444, 'start_timestamp': '2025-04-30 16:01:58.411686+02:00', 'in_chars': 32731, 'in_tokens': 8295, 'end': 1746021718.4236858, 'end_timestamp': '2025-04-30 16:01:58.423685+02:00', 'time': 0.06521058082580566, 'out_chars': 32731, 'out_lines': 400, 'out_sents': 478, 'out_tokens': 15578}}\n",
      "{'git_hash': '30f266e', 'dataset': {'name': 'Helsinki-NLP/opus-100', 'num_of_sents': 400, 'start_idx': 0, 'split': 'test[:500]'}, 'translation': {'translator': 'mock', 'src_lang': 'en', 'tgt_lang': 'de', 'start': 1746021718.4986908, 'id': 'ab0c02b9-1fc5-45dc-8f9d-f5fcefd9f45c', 'in_lines': 400, 'in_sents': 446, 'start_timestamp': '2025-04-30 16:01:58.546250+02:00', 'in_chars': 29414, 'in_tokens': 6994, 'end': 1746021718.5562875, 'end_timestamp': '2025-04-30 16:01:58.556287+02:00', 'time': 0.057596683502197266, 'out_chars': 13589, 'out_lines': 200, 'out_sents': 222, 'out_tokens': 6208}}\n",
      "{'git_hash': '30f266e', 'dataset': {'name': 'Helsinki-NLP/opus-100', 'num_of_sents': 400, 'start_idx': 0, 'split': 'test[:500]'}, 'translation': {'translator': 'mock', 'src_lang': 'fr', 'tgt_lang': 'en', 'start': 1746021718.596253, 'id': '64a8f4b8-3ae5-46f2-917e-8e985cd8b4f0', 'in_lines': 400, 'in_sents': 422, 'start_timestamp': '2025-04-30 16:01:58.675254+02:00', 'in_chars': 46126, 'in_tokens': 10852, 'end': 1746021718.6912537, 'end_timestamp': '2025-04-30 16:01:58.691253+02:00', 'time': 0.0950007438659668, 'out_chars': 46126, 'out_lines': 400, 'out_sents': 423, 'out_tokens': 21526}}\n",
      "{'git_hash': '30f266e', 'dataset': {'name': 'Helsinki-NLP/opus-100', 'num_of_sents': 400, 'start_idx': 0, 'split': 'test[:500]'}, 'translation': {'translator': 'mock', 'src_lang': 'en', 'tgt_lang': 'fr', 'start': 1746021718.7982523, 'id': '8af3bf83-6b88-4c0d-9d45-4f56bde4631c', 'in_lines': 400, 'in_sents': 429, 'start_timestamp': '2025-04-30 16:01:58.867252+02:00', 'in_chars': 40777, 'in_tokens': 9019, 'end': 1746021718.879252, 'end_timestamp': '2025-04-30 16:01:58.879252+02:00', 'time': 0.08099961280822754, 'out_chars': 19069, 'out_lines': 200, 'out_sents': 216, 'out_tokens': 8523}}\n",
      "{'git_hash': '30f266e', 'dataset': {'name': 'Helsinki-NLP/opus-100', 'num_of_sents': 400, 'start_idx': 0, 'split': 'test[:500]'}, 'retry': {'log_id': 'ab0c02b9-1fc5-45dc-8f9d-f5fcefd9f45c', 'reason': 'only half of expected output'}, 'translation': {'translator': 'mock', 'src_lang': 'en', 'tgt_lang': 'de', 'start': 1746021719.038712, 'id': 'ddc33413-d28f-4668-baf3-2abdf8e8fae0', 'in_lines': 400, 'in_sents': 446, 'start_timestamp': '2025-04-30 16:01:59.093708+02:00', 'in_chars': 29414, 'in_tokens': 6994, 'end': 1746021719.1037083, 'end_timestamp': '2025-04-30 16:01:59.103708+02:00', 'time': 0.06499624252319336, 'out_chars': 29414, 'out_lines': 400, 'out_sents': 449, 'out_tokens': 13305}}\n",
      "{'git_hash': '30f266e', 'dataset': {'name': 'Helsinki-NLP/opus-100', 'num_of_sents': 400, 'start_idx': 0, 'split': 'test[:500]'}, 'retry': {'log_id': '8af3bf83-6b88-4c0d-9d45-4f56bde4631c', 'reason': 'only half of expected output'}, 'translation': {'translator': 'mock', 'src_lang': 'en', 'tgt_lang': 'fr', 'start': 1746021719.17871, 'id': '10fabc68-d0ea-41ff-b546-a4fc05517e1f', 'in_lines': 400, 'in_sents': 429, 'start_timestamp': '2025-04-30 16:01:59.246708+02:00', 'in_chars': 40777, 'in_tokens': 9019, 'end': 1746021719.2597096, 'end_timestamp': '2025-04-30 16:01:59.259709+02:00', 'time': 0.08099961280822754, 'out_chars': 40777, 'out_lines': 400, 'out_sents': 437, 'out_tokens': 18536}}\n"
     ]
    }
   ],
   "source": [
    "log_data = [json.loads(ln) for ln in logfile.getvalue().splitlines()]\n",
    "for log in log_data:\n",
    "    print(log)"
   ]
  },
  {
   "cell_type": "markdown",
   "id": "ec1551f5",
   "metadata": {},
   "source": [
    "* In case we have to manually retry, we will log it like this, so we have a reference to the failed attempt."
   ]
  },
  {
   "cell_type": "markdown",
   "id": "f3d36c58",
   "metadata": {},
   "source": [
    "## Automatic Retry"
   ]
  },
  {
   "cell_type": "markdown",
   "id": "f35e51eb",
   "metadata": {},
   "source": [
    "* If the translation fails mid-translation due to an error, so the API call fails as a whole rather than succeeding and giving us malformatted output, we let the code automatically retry the call. In those cases, we do not add additional log information, because the retry is fully justified."
   ]
  },
  {
   "cell_type": "code",
   "execution_count": 10,
   "id": "96c81ff3",
   "metadata": {},
   "outputs": [],
   "source": [
    "!rm -rf tmp_test"
   ]
  },
  {
   "cell_type": "code",
   "execution_count": 11,
   "id": "85e5479d",
   "metadata": {},
   "outputs": [],
   "source": [
    "dm = Opus100Manager()\n",
    "pairs = [('de', 'en'), ('en', 'de'), ('fr', 'en'), ('en', 'fr')]\n",
    "logfile = StringIO()\n",
    "logger = MyLogger(logfile=logfile)\n",
    "cli = MockClient(logger=logger, planned_errors=[\n",
    "                 pairs[1], pairs[1], pairs[2]])\n",
    "task = TranslationTask(\n",
    "    target_pairs=pairs,\n",
    "    dm=dm,\n",
    "    client=cli,\n",
    "    logger=logger,\n",
    "    mt_folder='tmp_test',\n",
    "    num_of_sents=400,\n",
    "    retry_delay=0 # Default retry_delay is 30s, we set it to 0\n",
    ")"
   ]
  },
  {
   "cell_type": "code",
   "execution_count": 12,
   "id": "25b37ead",
   "metadata": {},
   "outputs": [
    {
     "name": "stdout",
     "output_type": "stream",
     "text": [
      "400 translated from de to en\n",
      "Error:\n",
      " MockError\n",
      "Waiting 0 seconds before retrying...\n",
      "Retrying...\n",
      "Error:\n",
      " MockError\n",
      "Waiting 0 seconds before retrying...\n",
      "Retrying...\n",
      "400 translated from en to de\n",
      "Error:\n",
      " MockError\n",
      "Waiting 0 seconds before retrying...\n",
      "Retrying...\n",
      "400 translated from fr to en\n",
      "400 translated from en to fr\n"
     ]
    }
   ],
   "source": [
    "task.run()"
   ]
  },
  {
   "cell_type": "code",
   "execution_count": 14,
   "id": "bd70a0b2",
   "metadata": {},
   "outputs": [
    {
     "name": "stdout",
     "output_type": "stream",
     "text": [
      "{'translator': 'mock', 'src_lang': 'de', 'tgt_lang': 'en', 'start': 1746021719.451352, 'id': '6ebe69d1-698e-44e9-845a-b9501857e4d0', 'in_lines': 400, 'in_sents': 444, 'start_timestamp': '2025-04-30 16:01:59.545348+02:00', 'in_chars': 32731, 'in_tokens': 8295, 'end': 1746021719.5643468, 'end_timestamp': '2025-04-30 16:01:59.564346+02:00', 'time': 0.11299490928649902, 'out_chars': 32731, 'out_lines': 400, 'out_sents': 478, 'out_tokens': 15578}\n",
      "{'translator': 'mock', 'src_lang': 'en', 'tgt_lang': 'de', 'start': 1746021719.7053745, 'id': 'cf207adb-6ccd-49ff-9d72-caf44f454f78', 'in_lines': 0, 'in_sents': 0, 'start_timestamp': '2025-04-30 16:01:59.707383+02:00', 'in_chars': 0, 'in_tokens': 0, 'error_msg': 'Translation en to de failed', 'error': 'MockError'}\n",
      "{'translator': 'mock', 'src_lang': 'en', 'tgt_lang': 'de', 'start': 1746021719.768348, 'id': '0f08fef8-6fd8-48ee-8a3a-542dcd44fb15', 'in_lines': 0, 'in_sents': 0, 'start_timestamp': '2025-04-30 16:01:59.770359+02:00', 'in_chars': 0, 'in_tokens': 0, 'error_msg': 'Translation en to de failed', 'error': 'MockError'}\n",
      "{'translator': 'mock', 'src_lang': 'en', 'tgt_lang': 'de', 'start': 1746021719.772349, 'id': '9e49b622-92b2-402f-9730-07631e10985e', 'in_lines': 400, 'in_sents': 446, 'start_timestamp': '2025-04-30 16:01:59.823345+02:00', 'in_chars': 29414, 'in_tokens': 6994, 'end': 1746021719.8323584, 'end_timestamp': '2025-04-30 16:01:59.832358+02:00', 'time': 0.06000924110412598, 'out_chars': 29414, 'out_lines': 400, 'out_sents': 449, 'out_tokens': 13305}\n",
      "{'translator': 'mock', 'src_lang': 'fr', 'tgt_lang': 'en', 'start': 1746021720.0193837, 'id': 'bf9d8d65-74cb-422f-b42e-36aad37a232d', 'in_lines': 0, 'in_sents': 0, 'start_timestamp': '2025-04-30 16:02:00.021377+02:00', 'in_chars': 0, 'in_tokens': 0, 'error_msg': 'Translation fr to en failed', 'error': 'MockError'}\n",
      "{'translator': 'mock', 'src_lang': 'fr', 'tgt_lang': 'en', 'start': 1746021720.0243502, 'id': 'ded48b8b-05f7-4ec0-8a8a-1905c7543a15', 'in_lines': 400, 'in_sents': 422, 'start_timestamp': '2025-04-30 16:02:00.106345+02:00', 'in_chars': 46126, 'in_tokens': 10852, 'end': 1746021720.1223464, 'end_timestamp': '2025-04-30 16:02:00.122346+02:00', 'time': 0.09799623489379883, 'out_chars': 46126, 'out_lines': 400, 'out_sents': 423, 'out_tokens': 21526}\n",
      "{'translator': 'mock', 'src_lang': 'en', 'tgt_lang': 'fr', 'start': 1746021720.2353492, 'id': '8436243b-735b-4be2-976b-71dbf32dac69', 'in_lines': 400, 'in_sents': 429, 'start_timestamp': '2025-04-30 16:02:00.303385+02:00', 'in_chars': 40777, 'in_tokens': 9019, 'end': 1746021720.314346, 'end_timestamp': '2025-04-30 16:02:00.314346+02:00', 'time': 0.07899689674377441, 'out_chars': 40777, 'out_lines': 400, 'out_sents': 437, 'out_tokens': 18536}\n"
     ]
    }
   ],
   "source": [
    "log_data = [json.loads(ln) for ln in logfile.getvalue().splitlines()]\n",
    "for log in log_data:\n",
    "    print(log['translation'])"
   ]
  },
  {
   "cell_type": "markdown",
   "id": "4db9c54d",
   "metadata": {},
   "source": [
    "* We can see exactly that en-de and fr-en failed twice and once but then succeeded, automatic logging should be sufficient for such case.\n",
    "* Manual retry is only conducted if there is no failure that warrants an error"
   ]
  }
 ],
 "metadata": {
  "kernelspec": {
   "display_name": "thesis",
   "language": "python",
   "name": "python3"
  },
  "language_info": {
   "codemirror_mode": {
    "name": "ipython",
    "version": 3
   },
   "file_extension": ".py",
   "mimetype": "text/x-python",
   "name": "python",
   "nbconvert_exporter": "python",
   "pygments_lexer": "ipython3",
   "version": "3.12.6"
  }
 },
 "nbformat": 4,
 "nbformat_minor": 5
}
