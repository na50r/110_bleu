{
 "cells": [
  {
   "cell_type": "markdown",
   "id": "b6a39c70",
   "metadata": {},
   "source": [
    "# Procedure 3\n",
    "* No changes in relevant code used for Procedure 1.\n",
    "* Translate 90 pairs of EuroParl and Flores+ sentences using DeepL"
   ]
  },
  {
   "cell_type": "markdown",
   "id": "9bf62423",
   "metadata": {},
   "source": [
    "## Last Checks"
   ]
  },
  {
   "cell_type": "code",
   "execution_count": 1,
   "id": "7acbc9f7",
   "metadata": {},
   "outputs": [
    {
     "name": "stdout",
     "output_type": "stream",
     "text": [
      "Available datasets: ['europarl', 'flores_plus']\n",
      "Available models: ['deepl_document']\n"
     ]
    }
   ],
   "source": [
    "%run proc3.py inputs"
   ]
  },
  {
   "cell_type": "markdown",
   "id": "4e94863b",
   "metadata": {},
   "source": [
    "* Since we know DeepL is substantially faster than GPT4.1, we will translate all 90 pairs at once for both datasets."
   ]
  },
  {
   "cell_type": "code",
   "execution_count": 2,
   "id": "93a8a45f",
   "metadata": {},
   "outputs": [
    {
     "name": "stdout",
     "output_type": "stream",
     "text": [
      "Task details for flores_plus - deepl_document:\n",
      "  id: 1391f3a8-1657-429c-a58a-416e6ca1d8d6\n",
      "  store: tasks\\proc3\\flores_plus\\deepl_document\n",
      "  pairs: [('sv', 'pt'), ('sv', 'el'), ('sv', 'fi'), ('sv', 'es'), ('sv', 'de'), ('sv', 'nl'), ('sv', 'da'), ('sv', 'it'), ('sv', 'fr'), ('pt', 'es'), ('pt', 'sv'), ('pt', 'de'), ('pt', 'nl'), ('pt', 'da'), ('pt', 'fr'), ('pt', 'it'), ('pt', 'el'), ('pt', 'fi'), ('nl', 'es'), ('nl', 'it'), ('nl', 'fi'), ('nl', 'pt'), ('nl', 'sv'), ('nl', 'de'), ('nl', 'da'), ('nl', 'fr'), ('nl', 'el'), ('it', 'pt'), ('it', 'el'), ('it', 'fi'), ('it', 'es'), ('it', 'sv'), ('it', 'de'), ('it', 'nl'), ('it', 'da'), ('it', 'fr'), ('fr', 'pt'), ('fr', 'sv'), ('fr', 'el'), ('fr', 'fi'), ('fr', 'es'), ('fr', 'de'), ('fr', 'nl'), ('fr', 'da'), ('fr', 'it'), ('fi', 'it'), ('fi', 'pt'), ('fi', 'es'), ('fi', 'sv'), ('fi', 'de'), ('fi', 'da'), ('fi', 'fr'), ('fi', 'el'), ('fi', 'nl'), ('es', 'de'), ('es', 'nl'), ('es', 'da'), ('es', 'it'), ('es', 'fr'), ('es', 'pt'), ('es', 'sv'), ('es', 'el'), ('es', 'fi'), ('el', 'es'), ('el', 'de'), ('el', 'nl'), ('el', 'it'), ('el', 'fr'), ('el', 'fi'), ('el', 'pt'), ('el', 'sv'), ('el', 'da'), ('de', 'it'), ('de', 'el'), ('de', 'fi'), ('de', 'es'), ('de', 'sv'), ('de', 'nl'), ('de', 'da'), ('de', 'fr'), ('de', 'pt'), ('da', 'fi'), ('da', 'es'), ('da', 'de'), ('da', 'nl'), ('da', 'it'), ('da', 'fr'), ('da', 'pt'), ('da', 'sv'), ('da', 'el')]\n",
      "  dm: <scripts.data_management.FloresPlusManager object at 0x000002671368E720>\n",
      "  tl_logger: <scripts.logger.TranslationLogger object at 0x000002671368E840>\n",
      "  lang_detection: True\n",
      "  num_of_sents: 400\n",
      "  client: <scripts.translators.DeeplClient object at 0x000002671368E7B0>\n",
      "  acceptable_range: (360, 480)\n",
      "  manual_retry: False\n",
      "  max_retries: 2\n",
      "  retry_delay: 30\n"
     ]
    }
   ],
   "source": [
    "%run proc3.py task -m deepl_document -d flores_plus"
   ]
  },
  {
   "cell_type": "code",
   "execution_count": 3,
   "id": "c103544b",
   "metadata": {},
   "outputs": [
    {
     "data": {
      "text/plain": [
       "'f7903e9'"
      ]
     },
     "execution_count": 3,
     "metadata": {},
     "output_type": "execute_result"
    }
   ],
   "source": [
    "from scripts.util import get_git_revision_short_hash\n",
    "get_git_revision_short_hash()"
   ]
  },
  {
   "cell_type": "markdown",
   "id": "6830c719",
   "metadata": {},
   "source": [
    "* The commit is different since we committed data of Procedure 1. \n",
    "* You can verify that relevant files such as `translator.py`, `task.py`, `procedure.py`, `data_manager.py`, `logger.py` and `util.py` were not changed."
   ]
  },
  {
   "cell_type": "markdown",
   "id": "9d26d4b5",
   "metadata": {},
   "source": [
    "## Execution"
   ]
  },
  {
   "cell_type": "code",
   "execution_count": null,
   "id": "aff176bc",
   "metadata": {},
   "outputs": [],
   "source": []
  }
 ],
 "metadata": {
  "kernelspec": {
   "display_name": "thesis",
   "language": "python",
   "name": "python3"
  },
  "language_info": {
   "codemirror_mode": {
    "name": "ipython",
    "version": 3
   },
   "file_extension": ".py",
   "mimetype": "text/x-python",
   "name": "python",
   "nbconvert_exporter": "python",
   "pygments_lexer": "ipython3",
   "version": "3.12.6"
  }
 },
 "nbformat": 4,
 "nbformat_minor": 5
}
