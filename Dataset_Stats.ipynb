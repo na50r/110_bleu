{
 "cells": [
  {
   "cell_type": "code",
   "execution_count": 18,
   "id": "871abf4a",
   "metadata": {},
   "outputs": [],
   "source": [
    "# Stats Functions\n",
    "from scripts.data_management import FloresPlusManager\n",
    "from os.path import join\n",
    "import tiktoken\n",
    "from scripts.util import split_sents\n",
    "ENC = tiktoken.encoding_for_model('gpt-4o')\n",
    "\n",
    "\n",
    "def get_token_cnt(input_sents: list[str]):\n",
    "    text = '\\n'.join(input_sents)\n",
    "    return len(ENC.encode(text))\n",
    "\n",
    "\n",
    "def get_char_cnt(input_sents: list[str]):\n",
    "    text = '\\n'.join(input_sents)\n",
    "    return len(text)\n",
    "\n",
    "\n",
    "def get_real_sent_cnt(input_sents: list[str], lang):\n",
    "    text = '\\n'.join(input_sents)\n",
    "    return len(split_sents(text, lang=lang))\n",
    "\n",
    "def get_flores_meta(lang: str, num_of_sents: int, *keys):\n",
    "    '''\n",
    "    lang: Flores code\n",
    "    num_of_sents: number of sents to load\n",
    "    keys: keys used in the JSON structure of each Flores+ entry\n",
    "    '''\n",
    "    dm = FloresPlusManager()\n",
    "    data = dm._load_data_files(join(dm.store, f'{lang}.jsonl'), num_of_sents)\n",
    "    meta_set = {k: set() for k in keys}\n",
    "    for o in data:\n",
    "        for k in keys:\n",
    "            meta_set[k].add(o[k])\n",
    "    nums = {key: len(meta_set[key]) for key in meta_set}\n",
    "    return nums"
   ]
  },
  {
   "cell_type": "markdown",
   "id": "1b212ebe",
   "metadata": {},
   "source": [
    "## Flores+ Stats"
   ]
  },
  {
   "cell_type": "code",
   "execution_count": 19,
   "id": "ec679b36",
   "metadata": {},
   "outputs": [
    {
     "name": "stdout",
     "output_type": "stream",
     "text": [
      "da 50961 14097 437 {'url': 122, 'topic': 58}\n",
      "de 57714 13380 442 {'url': 122, 'topic': 58}\n",
      "el 59462 21925 431 {'url': 122, 'topic': 58}\n",
      "en 49427 10259 429 {'url': 122, 'topic': 58}\n",
      "es 58934 13463 436 {'url': 122, 'topic': 58}\n",
      "fi 53171 15686 448 {'url': 122, 'topic': 58}\n",
      "fr 58255 13914 431 {'url': 122, 'topic': 58}\n",
      "it 58720 14891 432 {'url': 122, 'topic': 58}\n",
      "nl 55471 12753 454 {'url': 122, 'topic': 58}\n",
      "pt 53279 12442 433 {'url': 122, 'topic': 58}\n",
      "sv 50031 13702 430 {'url': 122, 'topic': 58}\n"
     ]
    }
   ],
   "source": [
    "from scripts.data_management import FloresPlusManager\n",
    "dm = FloresPlusManager()\n",
    "mean_flores_char = 0\n",
    "mean_flores_token = 0\n",
    "mean_flores_sent = 0\n",
    "langs = FloresPlusManager.EURO_ISO_2_FLORES_CODE.keys()\n",
    "for lang in sorted(langs):\n",
    "    src_sents, _ = dm.get_sentence_pairs(lang, 'en', num_of_sents=400)\n",
    "    mean_flores_char += get_char_cnt(src_sents)\n",
    "    mean_flores_token += get_token_cnt(src_sents)\n",
    "    mean_flores_sent += get_real_sent_cnt(src_sents, lang)\n",
    "    print(lang, get_char_cnt(src_sents), get_token_cnt(src_sents), get_real_sent_cnt(src_sents, lang), get_flores_meta(lang, 400, 'url', 'topic'))\n",
    "\n",
    "mean_flores_char /= 11\n",
    "mean_flores_token /= 11\n",
    "mean_flores_sent /= 11\n",
    "# %%"
   ]
  },
  {
   "cell_type": "markdown",
   "id": "095f8e53",
   "metadata": {},
   "source": [
    "## Europarl Stats"
   ]
  },
  {
   "cell_type": "code",
   "execution_count": 20,
   "id": "4a26bb81",
   "metadata": {},
   "outputs": [
    {
     "name": "stdout",
     "output_type": "stream",
     "text": [
      "da 59634 15917 418\n",
      "de 64846 13790 434\n",
      "el 72660 24693 409\n",
      "en 62993 12323 418\n",
      "es 68227 14494 419\n",
      "fi 62544 17876 415\n",
      "fr 69581 14931 413\n",
      "it 71059 16821 422\n",
      "nl 67063 14350 462\n",
      "pt 68643 14671 413\n",
      "sv 61899 16315 447\n"
     ]
    }
   ],
   "source": [
    "from scripts.data_management import EuroParlManager\n",
    "dm = EuroParlManager()\n",
    "langs = EuroParlManager.EURO_LANGS\n",
    "mean_ep_char = 0\n",
    "mean_ep_token = 0\n",
    "mean_ep_sent = 0\n",
    "for lang in sorted(langs):\n",
    "    total_char = 0\n",
    "    total_token = 0\n",
    "    total_sent = 0\n",
    "    for l in sorted(langs):\n",
    "        if lang == l:\n",
    "            continue\n",
    "        src_sents, _ = dm.get_sentence_pairs(lang, l, num_of_sents=400)\n",
    "        total_char += get_char_cnt(src_sents)\n",
    "        total_token += get_token_cnt(src_sents)\n",
    "        total_sent += get_real_sent_cnt(src_sents, lang)\n",
    "    avg_char = total_char / 10\n",
    "    avg_token = total_token / 10\n",
    "    avg_sent = total_sent / 10\n",
    "    mean_ep_char += avg_char\n",
    "    mean_ep_token += avg_token\n",
    "    mean_ep_sent += avg_sent\n",
    "    print(lang, round(avg_char), round(avg_token), round(avg_sent))\n",
    "\n",
    "mean_ep_char /= 11\n",
    "mean_ep_token /= 11\n",
    "mean_ep_sent /= 11"
   ]
  },
  {
   "cell_type": "markdown",
   "id": "3e663c0e",
   "metadata": {},
   "source": [
    "## OPUS100 Stats"
   ]
  },
  {
   "cell_type": "code",
   "execution_count": 21,
   "id": "8d2e9cb0",
   "metadata": {},
   "outputs": [
    {
     "name": "stdout",
     "output_type": "stream",
     "text": [
      "da 25992 7556 421\n",
      "de 32731 8295 444\n",
      "el 22259 8648 415\n",
      "es 34342 8004 430\n",
      "fi 21774 6843 423\n",
      "fr 46126 10852 422\n",
      "it 27914 7556 423\n",
      "nl 28485 6957 427\n",
      "pt 27073 6540 419\n",
      "sv 22505 6498 420\n",
      "---\n",
      "en 28320 6393 446\n"
     ]
    }
   ],
   "source": [
    "from scripts.data_management import Opus100Manager\n",
    "dm = Opus100Manager()\n",
    "langs = Opus100Manager.EURO_ISO_2_PAIR.keys()\n",
    "mean_opus_char = 0\n",
    "mean_opus_token = 0\n",
    "mean_opus_sent = 0\n",
    "\n",
    "total_char_en = 0\n",
    "total_token_en = 0\n",
    "total_sent_en = 0\n",
    "for lang in sorted(langs):\n",
    "    src_sents, _ = dm.get_sentence_pairs(lang, 'en', num_of_sents=400)\n",
    "    total_char_en += get_char_cnt(_)\n",
    "    total_token_en += get_token_cnt(_)\n",
    "    total_sent_en += get_real_sent_cnt(_, lang)\n",
    "    mean_opus_char += get_char_cnt(src_sents)\n",
    "    mean_opus_token += get_token_cnt(src_sents)\n",
    "    mean_opus_sent += get_real_sent_cnt(src_sents, lang)\n",
    "    print(lang, get_char_cnt(src_sents), get_token_cnt(src_sents), get_real_sent_cnt(src_sents, lang))\n",
    "print('---')\n",
    "avg_sent = total_sent_en / 10\n",
    "avg_token = total_token_en / 10\n",
    "avg_char = total_char_en / 10\n",
    "mean_opus_char += avg_char\n",
    "mean_opus_token += avg_token\n",
    "mean_opus_sent += avg_sent\n",
    "print('en', round(avg_char), round(avg_token), round(avg_sent))\n",
    "\n",
    "mean_opus_char /= 11\n",
    "mean_opus_token /= 11\n",
    "mean_opus_sent /= 11"
   ]
  },
  {
   "cell_type": "code",
   "execution_count": 22,
   "id": "a95e8e8c",
   "metadata": {},
   "outputs": [
    {
     "name": "stdout",
     "output_type": "stream",
     "text": [
      "Mean Flores Char: 55039\n",
      "Mean Flores Token: 14228\n",
      "Mean Flores Sent: 437\n",
      "---\n",
      "Mean EP Char: 66286\n",
      "Mean EP Token: 16016\n",
      "Mean EP Sent: 424\n",
      "---\n",
      "Mean Opus Char: 28866\n",
      "Mean Opus Token: 7649\n",
      "Mean Opus Sent: 426\n",
      "---\n",
      "OPUS Ratio\n",
      "Char: 0.52\n",
      "Token: 0.54\n",
      "Sent: 0.98\n",
      "---\n",
      "Char: 0.44\n",
      "Token: 0.48\n",
      "Sent: 1.0\n"
     ]
    }
   ],
   "source": [
    "print(f'Mean Flores Char: {round(mean_flores_char)}')\n",
    "print(f'Mean Flores Token: {round(mean_flores_token)}')\n",
    "print(f'Mean Flores Sent: {round(mean_flores_sent)}')\n",
    "print('---')\n",
    "print(f'Mean EP Char: {round(mean_ep_char)}')\n",
    "print(f'Mean EP Token: {round(mean_ep_token)}')\n",
    "print(f'Mean EP Sent: {round(mean_ep_sent)}')\n",
    "print('---')\n",
    "print(f'Mean Opus Char: {round(mean_opus_char)}')\n",
    "print(f'Mean Opus Token: {round(mean_opus_token)}')\n",
    "print(f'Mean Opus Sent: {round(mean_opus_sent)}')\n",
    "print('---')\n",
    "print('OPUS Ratio')\n",
    "print(f'Char: {round(mean_opus_char / mean_flores_char, 2)}')\n",
    "print(f'Token: {round(mean_opus_token / mean_flores_token, 2)}')\n",
    "print(f'Sent: {round(mean_opus_sent / mean_flores_sent, 2)}')\n",
    "print('---')\n",
    "print(f'Char: {round(mean_opus_char / mean_ep_char, 2)}')\n",
    "print(f'Token: {round(mean_opus_token / mean_ep_token, 2)}')\n",
    "print(f'Sent: {round(mean_opus_sent / mean_ep_sent, 2)}')\n",
    "\n"
   ]
  }
 ],
 "metadata": {
  "kernelspec": {
   "display_name": "thesis",
   "language": "python",
   "name": "python3"
  },
  "language_info": {
   "codemirror_mode": {
    "name": "ipython",
    "version": 3
   },
   "file_extension": ".py",
   "mimetype": "text/x-python",
   "name": "python",
   "nbconvert_exporter": "python",
   "pygments_lexer": "ipython3",
   "version": "3.12.6"
  }
 },
 "nbformat": 4,
 "nbformat_minor": 5
}
