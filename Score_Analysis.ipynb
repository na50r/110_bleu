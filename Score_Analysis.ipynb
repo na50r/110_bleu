{
 "cells": [
  {
   "cell_type": "markdown",
   "id": "2e36156c",
   "metadata": {},
   "source": [
    "# Analysis of Results\n",
    "* Results were computed in `Evaluation.ipynb`\n",
    "* In this notebook, we play with the results to gain further insights."
   ]
  },
  {
   "cell_type": "code",
   "execution_count": 6,
   "id": "2b465a4e",
   "metadata": {},
   "outputs": [],
   "source": [
    "import os\n",
    "from os.path import join\n",
    "from scripts.scoring import create_matrix_from_csv\n",
    "\n",
    "res_files = os.listdir('direct_results')\n",
    "direct_res = {f.replace('.csv', ''):{'file':join('direct_results', f), 'BLEU':None} for f in res_files}\n",
    "\n",
    "for rs, content in direct_res.items():\n",
    "    file_path = content['file']\n",
    "    df = create_matrix_from_csv(file_path)\n",
    "    direct_res[rs]['BLEU'] = df\n",
    "    \n",
    "    \n",
    "res_files = os.listdir('post_results')\n",
    "post_res = {f.replace('.csv', ''): {'file': join(\n",
    "    'post_results', f), 'BLEU': None, 'CHRF':None} for f in res_files}\n",
    "\n",
    "for rs, content in post_res.items():\n",
    "    file_path = content['file']\n",
    "    df_bleu = create_matrix_from_csv(file_path)\n",
    "    df_chrf = create_matrix_from_csv(file_path, metric='chrF')\n",
    "    post_res[rs]['BLEU'] = df_bleu\n",
    "    post_res[rs]['CHRF'] = df_chrf"
   ]
  },
  {
   "cell_type": "markdown",
   "id": "fd685e71",
   "metadata": {},
   "source": [
    "## Pearson Correlation"
   ]
  },
  {
   "cell_type": "markdown",
   "id": "565b2055",
   "metadata": {},
   "source": [
    "* Correlation between both translators\n",
    "* We perform this on the direct aligned and post aligned results\n",
    "    * Direct: We literally computed BLEU scores directly on the translation, without doing any alignments.\n",
    "    * Post: We applied `bertalign` and sentence splitting to align everything nicely."
   ]
  },
  {
   "cell_type": "code",
   "execution_count": 7,
   "id": "0cacdb93",
   "metadata": {},
   "outputs": [
    {
     "name": "stdout",
     "output_type": "stream",
     "text": [
      "direct_results\n",
      "ep\n",
      "Pearson correlation: 0.61\n",
      "p-value: 0.000\n",
      "\n",
      "flores\n",
      "Pearson correlation: 0.80\n",
      "p-value: 0.000\n",
      "\n",
      "opus\n",
      "Pearson correlation: 0.30\n",
      "p-value: 0.206\n",
      "\n",
      "post_results\n",
      "ep\n",
      "Pearson correlation: 0.93\n",
      "p-value: 0.000\n",
      "\n",
      "flores\n",
      "Pearson correlation: 0.96\n",
      "p-value: 0.000\n",
      "\n",
      "opus\n",
      "Pearson correlation: 0.96\n",
      "p-value: 0.000\n",
      "\n"
     ]
    }
   ],
   "source": [
    "import numpy as np\n",
    "from scipy.stats import pearsonr\n",
    "\n",
    "parts = ['ep', 'flores', 'opus']\n",
    "\n",
    "print('direct_results')\n",
    "for part in parts:\n",
    "    gpt = f'{part}-gpt'\n",
    "    deepl = f'{part}-deepl'\n",
    "    gpt_df = direct_res[gpt]['BLEU']\n",
    "    deepl_df = direct_res[deepl]['BLEU']\n",
    "\n",
    "    # flattens whole matrix into 1D-array\n",
    "    gpt_flat = gpt_df.values.flatten()\n",
    "    deepl_flat = deepl_df.values.flatten()\n",
    "\n",
    "    mask = ~np.isnan(gpt_flat) & ~np.isnan(deepl_flat)\n",
    "\n",
    "    # Compute Pearson correlation\n",
    "    corr, pval = pearsonr(gpt_flat[mask], deepl_flat[mask])\n",
    "    print(part)\n",
    "    print(f\"Pearson correlation: {corr:.2f}\")\n",
    "    print(f\"p-value: {pval:.3f}\")\n",
    "    print()\n",
    "    \n",
    "print('post_results')\n",
    "for part in parts:\n",
    "    gpt = f'{part}-gpt'\n",
    "    deepl = f'{part}-deepl'\n",
    "    gpt_df = post_res[gpt]['BLEU']\n",
    "    deepl_df = post_res[deepl]['BLEU']\n",
    "\n",
    "    gpt_flat = gpt_df.values.flatten()\n",
    "    deepl_flat = deepl_df.values.flatten()\n",
    "\n",
    "    mask = ~np.isnan(gpt_flat) & ~np.isnan(deepl_flat)\n",
    "\n",
    "    # Compute Pearson correlation\n",
    "    corr, pval = pearsonr(gpt_flat[mask], deepl_flat[mask])\n",
    "    print(part)\n",
    "    print(f\"Pearson correlation: {corr:.2f}\")\n",
    "    print(f\"p-value: {pval:.3f}\")\n",
    "    print()"
   ]
  },
  {
   "cell_type": "markdown",
   "id": "376274b7",
   "metadata": {},
   "source": [
    "* Observe, statistical significance went up after alignment, especially for OPUS100"
   ]
  },
  {
   "cell_type": "markdown",
   "id": "906e3d8a",
   "metadata": {},
   "source": [
    "* Next, we compute correlation between BLEU and CHRF scores."
   ]
  },
  {
   "cell_type": "code",
   "execution_count": 31,
   "id": "97d68324",
   "metadata": {},
   "outputs": [
    {
     "name": "stdout",
     "output_type": "stream",
     "text": [
      "ep deepl\n",
      "Pearson correlation: 0.83\n",
      "p-value: 0.00000\n",
      "\n",
      "ep gpt\n",
      "Pearson correlation: 0.87\n",
      "p-value: 0.00000\n",
      "\n",
      "flores deepl\n",
      "Pearson correlation: 0.94\n",
      "p-value: 0.00000\n",
      "\n",
      "flores gpt\n",
      "Pearson correlation: 0.95\n",
      "p-value: 0.00000\n",
      "\n",
      "opus deepl\n",
      "Pearson correlation: 0.85\n",
      "p-value: 0.00000\n",
      "\n",
      "opus gpt\n",
      "Pearson correlation: 0.88\n",
      "p-value: 0.00000\n",
      "\n"
     ]
    }
   ],
   "source": [
    "import numpy as np\n",
    "from scipy.stats import pearsonr\n",
    "\n",
    "parts = ['ep', 'flores', 'opus']\n",
    "translators = ['deepl', 'gpt']\n",
    "\n",
    "for part in parts:\n",
    "    for tl in translators:\n",
    "        key = f'{part}-{tl}'\n",
    "        bleu_mat = post_res[key]['BLEU']\n",
    "        chrf_mat = post_res[key]['CHRF']\n",
    "        \n",
    "        \n",
    "        bleu_flat = bleu_mat.values.flatten()\n",
    "        chrf_flat = chrf_mat.values.flatten()\n",
    "\n",
    "        mask = ~np.isnan(bleu_flat) & ~np.isnan(chrf_flat)\n",
    "\n",
    "        # Compute Pearson correlation\n",
    "        corr, pval = pearsonr(bleu_flat[mask], chrf_flat[mask])\n",
    "        print(part, tl)\n",
    "        print(f\"Pearson correlation: {corr:.2f}\")\n",
    "        print(f\"p-value: {pval:.5f}\")\n",
    "        print()"
   ]
  },
  {
   "cell_type": "markdown",
   "id": "618084de",
   "metadata": {},
   "source": [
    "### Plotting"
   ]
  },
  {
   "cell_type": "markdown",
   "id": "5ee493c2",
   "metadata": {},
   "source": [
    "* Let's do some graphing on EuroParl, DeepL, has the lowest Pearson correlation compared to the others"
   ]
  },
  {
   "cell_type": "code",
   "execution_count": 51,
   "id": "a4f59dd4",
   "metadata": {},
   "outputs": [
    {
     "data": {
      "image/png": "[encoded data removed]",
      "text/plain": [
       "<Figure size 800x600 with 1 Axes>"
      ]
     },
     "metadata": {},
     "output_type": "display_data"
    }
   ],
   "source": [
    "import matplotlib.pyplot as plt\n",
    "from sklearn.metrics import r2_score\n",
    "bleu = post_res['ep-deepl']['BLEU']\n",
    "chrf = post_res['ep-deepl']['CHRF']\n",
    "\n",
    "bleu_vals, chrf_vals = [], []\n",
    "labels = []\n",
    "\n",
    "for src in bleu.index:\n",
    "    for tgt in bleu.columns:\n",
    "        if src==tgt:\n",
    "            continue\n",
    "        bs = bleu.loc[src, tgt]\n",
    "        cs = chrf.loc[src, tgt]\n",
    "        bleu_vals.append(bs)\n",
    "        chrf_vals.append(cs)\n",
    "        labels.append(f'{src}-{tgt}')\n",
    "\n",
    "\n",
    "bleu_vals_np = np.array(bleu_vals)\n",
    "chrf_vals_np = np.array(chrf_vals)\n",
    "\n",
    "\n",
    "# Plot all points\n",
    "plt.figure(figsize=(8, 6))\n",
    "plt.scatter(bleu_vals, chrf_vals, alpha=0.6)\n",
    "\n",
    "model = np.polyfit(bleu_vals_np, chrf_vals_np, 1)\n",
    "\n",
    "\n",
    "to_finnish = [idx for idx, pair in enumerate(labels) if pair.endswith('fi')]\n",
    "to_greek = [idx for idx, pair in enumerate(labels) if pair.endswith('el')]\n",
    "to_german = [idx for idx, pair in enumerate(labels) if pair.endswith('de')]\n",
    "\n",
    "plt.scatter(\n",
    "    bleu_vals_np[to_finnish],\n",
    "    chrf_vals_np[to_finnish],\n",
    "    color='red',\n",
    "    label='To Finnish'\n",
    ")\n",
    "\n",
    "plt.scatter(\n",
    "    bleu_vals_np[to_greek],\n",
    "    chrf_vals_np[to_greek],\n",
    "    color='green',\n",
    "    label='To Greek'\n",
    ")\n",
    "\n",
    "plt.scatter(\n",
    "    bleu_vals_np[to_german],\n",
    "    chrf_vals_np[to_german],\n",
    "    color='magenta',\n",
    "    label='To German'\n",
    ")\n",
    "\n",
    "\n",
    "\n",
    "x_line = np.linspace(min(bleu_vals_np), max(bleu_vals_np), 100)\n",
    "y_line = model[0] * x_line + model[1]\n",
    "plt.plot(x_line, y_line, color='black')\n",
    "\n",
    "\n",
    "plt.xlabel(\"BLEU\")\n",
    "plt.ylabel(\"CHRF\")\n",
    "plt.grid(True)\n",
    "plt.tight_layout()\n",
    "plt.legend()\n",
    "plt.show()"
   ]
  },
  {
   "cell_type": "code",
   "execution_count": null,
   "id": "7954329e",
   "metadata": {},
   "outputs": [],
   "source": [
    "predicted_chrf = model[0] * bleu_vals_np + model[1]\n",
    "residuals = abs(chrf_vals_np - predicted_chrf)\n",
    "\n",
    "threshold = 3\n",
    "outlier_indices = np.where(residuals > threshold)[0]\n",
    "\n",
    "# Or get top N residuals\n",
    "top_n = 20\n",
    "outlier_indices = np.argsort(residuals)[-top_n:]"
   ]
  },
  {
   "cell_type": "code",
   "execution_count": 45,
   "id": "566fdfd0",
   "metadata": {},
   "outputs": [
    {
     "name": "stdout",
     "output_type": "stream",
     "text": [
      "sv-fi 22.3, 56.87\n",
      "es-de 33.0, 62.50\n",
      "fr-el 27.6, 54.55\n",
      "sv-el 27.9, 54.63\n",
      "da-el 28.3, 54.79\n",
      "el-de 30.2, 61.36\n",
      "pt-fi 23.4, 57.89\n",
      "fr-de 30.1, 61.37\n",
      "de-fi 24.7, 58.59\n",
      "da-fi 25.8, 59.23\n",
      "de-el 26.9, 53.89\n",
      "nl-es 31.1, 56.04\n",
      "nl-pt 28.4, 54.58\n",
      "it-el 26.2, 53.31\n",
      "fi-el 25.4, 52.74\n",
      "fr-fi 22.4, 58.09\n",
      "en-fi 24.7, 59.46\n",
      "es-fi 25.0, 59.71\n",
      "el-fi 23.6, 59.11\n",
      "nl-el 23.4, 50.05\n"
     ]
    }
   ],
   "source": [
    "for idx in outlier_indices:\n",
    "    print(f\"{labels[idx]} {bleu_vals_np[idx]:.1f}, {chrf_vals_np[idx]:.2f}\")"
   ]
  },
  {
   "cell_type": "markdown",
   "id": "21d7924c",
   "metadata": {},
   "source": [
    "* Iterative process, this was done first, then To German, To Finnish and To Greek pairs were marked."
   ]
  }
 ],
 "metadata": {
  "kernelspec": {
   "display_name": "thesis",
   "language": "python",
   "name": "python3"
  },
  "language_info": {
   "codemirror_mode": {
    "name": "ipython",
    "version": 3
   },
   "file_extension": ".py",
   "mimetype": "text/x-python",
   "name": "python",
   "nbconvert_exporter": "python",
   "pygments_lexer": "ipython3",
   "version": "3.12.6"
  }
 },
 "nbformat": 4,
 "nbformat_minor": 5
}
