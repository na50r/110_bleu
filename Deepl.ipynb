{
 "cells": [
  {
   "cell_type": "markdown",
   "id": "1468e316",
   "metadata": {},
   "source": [
    "# DeepL Document \n",
    "* This notebook is there to elaborate why DeepL's document translation was implemented like this:\n",
    "```py\n",
    "    def translate_document(self, text: list[str], src_lang: str, tgt_lang: str) -> list[str]:\n",
    "        out_buffer = BytesIO()\n",
    "        out_buffer.name = 'out_text.txt'\n",
    "        in_text = '\\n'.join(text)\n",
    "        in_buffer = BytesIO(in_text.encode('utf-8'))\n",
    "        in_buffer.name = 'in_text.txt'\n",
    "        \n",
    "        # Logger omitted for brevity\n",
    "\n",
    "        self.client.translate_document(\n",
    "            input_document=in_buffer,\n",
    "            output_document=out_buffer,\n",
    "            source_lang=src_lang.upper(),\n",
    "            target_lang=get_deepl_code(tgt_lang),\n",
    "        )\n",
    "        out = out_buffer.getvalue()\n",
    "        out_text = out.decode('utf-8')\n",
    "        out_sents = out_sents = out_text.splitlines()\n",
    "        return out_sents\n",
    "```\n",
    "* **TL;DR**: This implementation allows us to use the `/document` endpoint WITHOUT having to store our source text as a file on our machine first and then have DeepL's method read it. "
   ]
  },
  {
   "cell_type": "code",
   "execution_count": 1,
   "id": "a5d4992c",
   "metadata": {},
   "outputs": [],
   "source": [
    "from scripts.translators import DeepLClient\n",
    "myClient = DeepLClient()\n",
    "deeplCli = myClient.client"
   ]
  },
  {
   "cell_type": "markdown",
   "id": "a998b245",
   "metadata": {},
   "source": [
    "* This is how you would use `document_translate` normally."
   ]
  },
  {
   "cell_type": "code",
   "execution_count": 2,
   "id": "a52c56bc",
   "metadata": {},
   "outputs": [],
   "source": [
    "from scripts.data_management import EPManager\n",
    "dm = EPManager()\n",
    "de_sents, _ = dm.get_sentence_pairs('de', 'en', num_of_sents=5)\n",
    "with open('de.txt', 'w') as f:\n",
    "    for s in de_sents:\n",
    "        print(s, file=f)"
   ]
  },
  {
   "cell_type": "code",
   "execution_count": 3,
   "id": "0a9133ce",
   "metadata": {},
   "outputs": [
    {
     "name": "stdout",
     "output_type": "stream",
     "text": [
      "Wiederaufnahme der Sitzungsperiode\n",
      "Ich erkläre die am Freitag, dem 17. Dezember unterbrochene Sitzungsperiode des Europäischen Parlaments für wiederaufgenommen, wünsche Ihnen nochmals alles Gute zum Jahreswechsel und hoffe, daß Sie schöne Ferien hatten.\n",
      "Wie Sie feststellen konnten, ist der gefürchtete \"Millenium-Bug \" nicht eingetreten. Doch sind Bürger einiger unserer Mitgliedstaaten Opfer von schrecklichen Naturkatastrophen geworden.\n",
      "Im Parlament besteht der Wunsch nach einer Aussprache im Verlauf dieser Sitzungsperiode in den nächsten Tagen.\n",
      "Heute möchte ich Sie bitten - das ist auch der Wunsch einiger Kolleginnen und Kollegen -, allen Opfern der Stürme, insbesondere in den verschiedenen Ländern der Europäischen Union, in einer Schweigeminute zu gedenken.\n"
     ]
    }
   ],
   "source": [
    "!cat de.txt | head -n 10"
   ]
  },
  {
   "cell_type": "code",
   "execution_count": 4,
   "id": "c6ac212b",
   "metadata": {},
   "outputs": [
    {
     "name": "stdout",
     "output_type": "stream",
     "text": [
      "5\n"
     ]
    }
   ],
   "source": [
    "!cat de.txt | wc -l"
   ]
  },
  {
   "cell_type": "code",
   "execution_count": 5,
   "id": "9bdcf005",
   "metadata": {},
   "outputs": [
    {
     "data": {
      "text/plain": [
       "<deepl.api_data.DocumentStatus at 0x2224ece09e0>"
      ]
     },
     "execution_count": 5,
     "metadata": {},
     "output_type": "execute_result"
    }
   ],
   "source": [
    "deeplCli.translate_document_from_filepath(\n",
    "    input_path='de.txt',\n",
    "    output_path='en.txt',\n",
    "    source_lang='DE',\n",
    "    target_lang='EN-GB'\n",
    ")"
   ]
  },
  {
   "cell_type": "code",
   "execution_count": 6,
   "id": "91361975",
   "metadata": {},
   "outputs": [
    {
     "name": "stdout",
     "output_type": "stream",
     "text": [
      "Resumption of the session\n",
      "I declare resumed the session of the European Parliament adjourned on Friday 17 December, wish you all the best for the New Year and hope you had a good holiday.\n",
      "As you have seen, the dreaded \"millennium bug\" has not materialised. However, citizens of some of our Member States have been victims of terrible natural disasters.\n",
      "There is a desire in Parliament for a debate during this part-session in the next few days.\n",
      "Today I would like to ask you - and this is also the wish of some of my fellow Members - to observe a minute's silence in memory of all the victims of the storms, particularly in the various countries of the European Union.\n"
     ]
    }
   ],
   "source": [
    "!cat en.txt | head -n 10"
   ]
  },
  {
   "cell_type": "code",
   "execution_count": 7,
   "id": "6a6889d4",
   "metadata": {},
   "outputs": [
    {
     "name": "stdout",
     "output_type": "stream",
     "text": [
      "5\n"
     ]
    }
   ],
   "source": [
    "!cat en.txt | wc -l"
   ]
  },
  {
   "cell_type": "markdown",
   "id": "5ac36928",
   "metadata": {},
   "source": [
    "* This approach works, however we would always need to store the source text inside a file locally as well, which is a bit awkward since the whole setup uses datasets that provide text in form of list of strings.\n",
    "* If we inspect the code `translate_document_from_filepath` [here](https://github.com/DeepLcom/deepl-python/blob/7469a47e833ff87d5cfc5564d62a8a21f417e67d/deepl/translator.py#L530), we observe the following:\n",
    "\n",
    "```py\n",
    "# Determine output_format from output path\n",
    "        in_ext = pathlib.PurePath(input_path).suffix.lower()\n",
    "        out_ext = pathlib.PurePath(output_path).suffix.lower()\n",
    "        output_format = None if in_ext == out_ext else out_ext[1:]\n",
    "\n",
    "        with open(input_path, \"rb\") as in_file:\n",
    "            with open(output_path, \"wb\") as out_file:\n",
    "                try:\n",
    "                    return self.translate_document(\n",
    "                        in_file,\n",
    "                        out_file,\n",
    "                        target_lang=target_lang,\n",
    "                        source_lang=source_lang,\n",
    "                        formality=formality,\n",
    "                        glossary=glossary,\n",
    "                        output_format=output_format,\n",
    "                        timeout_s=timeout_s,\n",
    "                    )\n",
    "                except Exception as e:\n",
    "                    out_file.close()\n",
    "                    os.unlink(output_path)\n",
    "                    raise e\n",
    "```\n",
    "* It reads the input file in bytes (`with open(input_path, \"rb\") as in_file:`) and then calls `translate_document`\n",
    "* So we may do the same as well, `translate_document` has following definition:\n",
    "```py\n",
    "    def translate_document(\n",
    "        self,\n",
    "        input_document: Union[TextIO, BinaryIO, Any],\n",
    "        output_document: Union[TextIO, BinaryIO, Any],\n",
    "        *,\n",
    "        source_lang: Optional[str] = None,\n",
    "        target_lang: str,\n",
    "        formality: Union[str, Formality] = Formality.DEFAULT,\n",
    "        glossary: Union[str, GlossaryInfo, None] = None,\n",
    "        filename: Optional[str] = None,\n",
    "        output_format: Optional[str] = None,\n",
    "        timeout_s: Optional[int] = None,\n",
    "    ) -> DocumentStatus:\n",
    "```\n",
    "* It takes io objects or `Any` as input\n",
    "* If you follow the calls, `translate_document` calls:\n",
    "```py\n",
    "        handle = self.translate_document_upload(\n",
    "            input_document,\n",
    "            target_lang=target_lang,\n",
    "            source_lang=source_lang,\n",
    "            formality=formality,\n",
    "            glossary=glossary,\n",
    "            filename=filename,\n",
    "            output_format=output_format,\n",
    "        )\n",
    "```\n",
    "* And `translate_document_uploud` is defined as:\n",
    "```py\n",
    "    def translate_document_upload(\n",
    "        self,\n",
    "        input_document: Union[TextIO, BinaryIO, str, bytes, Any],\n",
    "        *,\n",
    "        source_lang: Optional[str] = None,\n",
    "        target_lang: str,\n",
    "        formality: Union[str, Formality, None] = None,\n",
    "        glossary: Union[str, GlossaryInfo, None] = None,\n",
    "        filename: Optional[str] = None,\n",
    "        output_format: Optional[str] = None,\n",
    "    ) -> DocumentHandle:\n",
    "```\n",
    "* In other words, we can provide the `input_document` as `bytes` or `str`\n",
    "* This is where the call is made:\n",
    "```py\n",
    "        files: Dict[str, Any] = {}\n",
    "        if isinstance(input_document, (str, bytes)):\n",
    "            if filename is None:\n",
    "                raise ValueError(\n",
    "                    \"filename is required if uploading file content as string \"\n",
    "                    \"or bytes\"\n",
    "                )\n",
    "            files = {\"file\": (filename, input_document)}\n",
    "        else:\n",
    "            files = {\"file\": input_document}\n",
    "        status, content, json = self._api_call(\n",
    "            \"v2/document\", data=request_data, files=files\n",
    "        )\n",
    "```\n",
    "* So if we pass the input as bytes or str, we have to provide a filename as well\n"
   ]
  },
  {
   "cell_type": "code",
   "execution_count": 8,
   "id": "e6f4c38c",
   "metadata": {},
   "outputs": [
    {
     "name": "stdout",
     "output_type": "stream",
     "text": [
      "filename is required if uploading file content as string or bytes\n"
     ]
    }
   ],
   "source": [
    "from io import BytesIO\n",
    "in_text  =  '\\n'.join(de_sents)\n",
    "in_bytes  = in_text.encode('utf-8')\n",
    "# This is the same as storing de_sents in de.txt and getting in_file with \"rb\"\n",
    "out_file = BytesIO()\n",
    "\n",
    "try: \n",
    "    out = deeplCli.translate_document(\n",
    "        input_document=in_bytes,\n",
    "        output_document=out_file,\n",
    "        source_lang='DE',\n",
    "        target_lang='EN-GB'\n",
    "    )\n",
    "except Exception as e:\n",
    "    print(str(e))"
   ]
  },
  {
   "cell_type": "markdown",
   "id": "59edf0b8",
   "metadata": {},
   "source": [
    "* As expected, the call failed since we did not provide a filename\n",
    "* DeepL requires the filename to infer the document type"
   ]
  },
  {
   "cell_type": "code",
   "execution_count": 9,
   "id": "c59721b5",
   "metadata": {},
   "outputs": [],
   "source": [
    "from io import BytesIO\n",
    "in_text = '\\n'.join(de_sents)\n",
    "in_bytes = in_text.encode('utf-8')\n",
    "in_filename = 'infile.txt'\n",
    "out_file = BytesIO()\n",
    "try:\n",
    "    out = deeplCli.translate_document(\n",
    "        input_document=in_bytes,\n",
    "        output_document=out_file,\n",
    "        source_lang='DE',\n",
    "        target_lang='EN-GB',\n",
    "        filename=in_filename\n",
    "    )\n",
    "except Exception as e:\n",
    "    print(str(e))"
   ]
  },
  {
   "cell_type": "code",
   "execution_count": 10,
   "id": "e74b2688",
   "metadata": {},
   "outputs": [
    {
     "data": {
      "text/plain": [
       "<deepl.api_data.DocumentStatus at 0x2224eaae960>"
      ]
     },
     "execution_count": 10,
     "metadata": {},
     "output_type": "execute_result"
    }
   ],
   "source": [
    "out"
   ]
  },
  {
   "cell_type": "markdown",
   "id": "72da277d",
   "metadata": {},
   "source": [
    "* The output of `translate_document` is not the translation, just meta information. "
   ]
  },
  {
   "cell_type": "code",
   "execution_count": 11,
   "id": "7e456733",
   "metadata": {},
   "outputs": [
    {
     "data": {
      "text/plain": [
       "768"
      ]
     },
     "execution_count": 11,
     "metadata": {},
     "output_type": "execute_result"
    }
   ],
   "source": [
    "out.billed_characters"
   ]
  },
  {
   "cell_type": "markdown",
   "id": "eedb9a56",
   "metadata": {},
   "source": [
    "* The translation can be found within our fake output file"
   ]
  },
  {
   "cell_type": "code",
   "execution_count": 12,
   "id": "9db9aec2",
   "metadata": {},
   "outputs": [
    {
     "data": {
      "text/plain": [
       "b'Resumption of the session\\nI declare resumed the session of the European Parliament adjourned on Friday 17 December, wish you all the best for the New Year and hope you had a good holiday.\\nAs you have seen, the dreaded \"millennium bug\" has not materialised. However, citizens of some of our Member States have been victims of terrible natural disasters.\\nThere is a desire in Parliament for a debate during this part-session in the next few days.\\nToday I would like to ask you - and this is also the wish of some of my fellow Members - to observe a minute\\'s silence in memory of all the victims of the storms, particularly in the various countries of the European Union.'"
      ]
     },
     "execution_count": 12,
     "metadata": {},
     "output_type": "execute_result"
    }
   ],
   "source": [
    "out_file.getvalue()"
   ]
  },
  {
   "cell_type": "code",
   "execution_count": 13,
   "id": "23e54e63",
   "metadata": {},
   "outputs": [
    {
     "data": {
      "text/plain": [
       "'Resumption of the session\\nI declare resumed the session of the European Parliament adjourned on Friday 17 December, wish you all the best for the New Year and hope you had a good holiday.\\nAs you have seen, the dreaded \"millennium bug\" has not materialised. However, citizens of some of our Member States have been victims of terrible natural disasters.\\nThere is a desire in Parliament for a debate during this part-session in the next few days.\\nToday I would like to ask you - and this is also the wish of some of my fellow Members - to observe a minute\\'s silence in memory of all the victims of the storms, particularly in the various countries of the European Union.'"
      ]
     },
     "execution_count": 13,
     "metadata": {},
     "output_type": "execute_result"
    }
   ],
   "source": [
    "out_text = out_file.getvalue().decode('utf-8')\n",
    "out_text"
   ]
  },
  {
   "cell_type": "code",
   "execution_count": 14,
   "id": "0164438d",
   "metadata": {},
   "outputs": [
    {
     "data": {
      "text/plain": [
       "['Resumption of the session',\n",
       " 'I declare resumed the session of the European Parliament adjourned on Friday 17 December, wish you all the best for the New Year and hope you had a good holiday.',\n",
       " 'As you have seen, the dreaded \"millennium bug\" has not materialised. However, citizens of some of our Member States have been victims of terrible natural disasters.',\n",
       " 'There is a desire in Parliament for a debate during this part-session in the next few days.',\n",
       " \"Today I would like to ask you - and this is also the wish of some of my fellow Members - to observe a minute's silence in memory of all the victims of the storms, particularly in the various countries of the European Union.\"]"
      ]
     },
     "execution_count": 14,
     "metadata": {},
     "output_type": "execute_result"
    }
   ],
   "source": [
    "out_sents = out_text.splitlines()\n",
    "out_sents"
   ]
  },
  {
   "cell_type": "markdown",
   "id": "517a2cba",
   "metadata": {},
   "source": [
    "* So for an input that consists of a list of strings, we get an output that also consists of a list of strings."
   ]
  },
  {
   "cell_type": "code",
   "execution_count": 15,
   "id": "de8af52a",
   "metadata": {},
   "outputs": [],
   "source": [
    "!rm de.txt\n",
    "!rm en.txt"
   ]
  }
 ],
 "metadata": {
  "kernelspec": {
   "display_name": "thesis",
   "language": "python",
   "name": "python3"
  },
  "language_info": {
   "codemirror_mode": {
    "name": "ipython",
    "version": 3
   },
   "file_extension": ".py",
   "mimetype": "text/x-python",
   "name": "python",
   "nbconvert_exporter": "python",
   "pygments_lexer": "ipython3",
   "version": "3.12.6"
  }
 },
 "nbformat": 4,
 "nbformat_minor": 5
}
