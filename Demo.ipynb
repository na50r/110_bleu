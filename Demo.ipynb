{
 "cells": [
  {
   "cell_type": "markdown",
   "id": "ace0fa1c",
   "metadata": {},
   "source": [
    "# Demonstration of Translation Process\n",
    "* In this Jupyter Notebook we show using MockClients how the translation process will work.\n",
    "* It is possible to run the scripts on Terminal but we use Jupyter Notebooks to document exactly what the author used to run the code.\n",
    "* The logs shown in the notebook are generated in a `.log` file as well and more detailed logs are stored in a JSONL file for post-analysis purposes"
   ]
  },
  {
   "cell_type": "code",
   "execution_count": null,
   "id": "8a8c6171",
   "metadata": {},
   "outputs": [],
   "source": [
    "!mkdir tmp"
   ]
  },
  {
   "cell_type": "code",
   "execution_count": null,
   "id": "028355be",
   "metadata": {},
   "outputs": [],
   "source": [
    "%run phase0.py"
   ]
  },
  {
   "cell_type": "code",
   "execution_count": null,
   "id": "998b3908",
   "metadata": {},
   "outputs": [],
   "source": [
    "%run phase0.py options"
   ]
  },
  {
   "cell_type": "code",
   "execution_count": null,
   "id": "f9a60f32",
   "metadata": {},
   "outputs": [],
   "source": [
    "%run phase0.py task"
   ]
  },
  {
   "cell_type": "code",
   "execution_count": 1,
   "id": "be4bfed7",
   "metadata": {},
   "outputs": [
    {
     "name": "stderr",
     "output_type": "stream",
     "text": [
      "2025-05-04 12:08:08 - [🚀]: Selected task for opus-100 - gpt\n",
      "2025-05-04 12:08:08 - [🏁]: Starting task 64146b0d-c033-4489-994c-d78f42f513f6 on commit 872b500\n",
      "2025-05-04 12:08:08 - [✔️]: 400 translated from da to en\n",
      "2025-05-04 12:08:08 - [⚠️]: Error MockError\n",
      "2025-05-04 12:08:08 - [⏲️]: Retrying de-en...\n",
      "2025-05-04 12:08:08 - [❌]: Output for de-en is not acceptable\n",
      "2025-05-04 12:08:08 - [⏲️]: Retrying de-en...\n",
      "2025-05-04 12:08:09 - [✔️]: 400 translated from de to en\n",
      "2025-05-04 12:08:09 - [✔️]: 400 translated from el to en\n",
      "2025-05-04 12:08:09 - [✔️]: 400 translated from es to en\n",
      "2025-05-04 12:08:09 - [✔️]: 400 translated from fi to en\n",
      "2025-05-04 12:08:09 - [✔️]: 400 translated from fr to en\n",
      "2025-05-04 12:08:10 - [✔️]: 400 translated from it to en\n",
      "2025-05-04 12:08:10 - [✔️]: 400 translated from nl to en\n",
      "2025-05-04 12:08:10 - [✔️]: 400 translated from pt to en\n",
      "2025-05-04 12:08:10 - [✔️]: 400 translated from sv to en\n",
      "2025-05-04 12:08:10 - [✔️]: 400 translated from en to da\n",
      "2025-05-04 12:08:10 - [✔️]: 400 translated from en to de\n",
      "2025-05-04 12:08:11 - [✔️]: 400 translated from en to el\n",
      "2025-05-04 12:08:11 - [✔️]: 400 translated from en to es\n",
      "2025-05-04 12:08:11 - [✔️]: 400 translated from en to fi\n",
      "2025-05-04 12:08:11 - [✔️]: 400 translated from en to fr\n",
      "2025-05-04 12:08:11 - [✔️]: 400 translated from en to it\n",
      "2025-05-04 12:08:12 - [✔️]: 400 translated from en to nl\n",
      "2025-05-04 12:08:12 - [✔️]: 400 translated from en to pt\n",
      "2025-05-04 12:08:12 - [✔️]: 400 translated from en to sv\n",
      "2025-05-04 12:08:12 - [🏁]: Task took 3.85s\n"
     ]
    }
   ],
   "source": [
    "%run phase0.py run -m gpt -d opus-100"
   ]
  },
  {
   "cell_type": "code",
   "execution_count": null,
   "id": "68963efa",
   "metadata": {},
   "outputs": [],
   "source": []
  }
 ],
 "metadata": {
  "kernelspec": {
   "display_name": "thesis",
   "language": "python",
   "name": "python3"
  },
  "language_info": {
   "codemirror_mode": {
    "name": "ipython",
    "version": 3
   },
   "file_extension": ".py",
   "mimetype": "text/x-python",
   "name": "python",
   "nbconvert_exporter": "python",
   "pygments_lexer": "ipython3",
   "version": "3.12.6"
  }
 },
 "nbformat": 4,
 "nbformat_minor": 5
}
