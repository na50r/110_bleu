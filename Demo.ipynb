{
 "cells": [
  {
   "cell_type": "markdown",
   "id": "48893bc1",
   "metadata": {},
   "source": [
    "# Demonstration\n",
    "* In this Jupyter Notebook we show using MockClients how the translation process will work.\n",
    "* It is possible to run the scripts on Terminal but we use Jupyter Notebooks to document exactly what the author used to run the code."
   ]
  },
  {
   "cell_type": "code",
   "execution_count": 1,
   "id": "8de3cea0",
   "metadata": {},
   "outputs": [
    {
     "name": "stderr",
     "output_type": "stream",
     "text": [
      "INFO: 2025-05-06 14:12:37 - [🚀]: Selected task for opus-100 - gpt\n",
      "INFO: 2025-05-06 14:12:37 - [🏁]: Starting task 9b650a39-29ba-48b1-a7bf-5abde934f3a3 on commit 0fee99a\n",
      "ERROR: 2025-05-06 14:12:37 - [⚠️]: Error MockError\n",
      "INFO: 2025-05-06 14:12:37 - [⏲️]: Retrying de-en...\n",
      "INFO: 2025-05-06 14:12:37 - [❌]: Translated 200 sents for de-en but rejected\n",
      "INFO: 2025-05-06 14:12:37 - [⏲️]: Retrying de-en...\n",
      "INFO: 2025-05-06 14:12:38 - [✔️]: Translated 400 sents for de-en\n",
      "INFO: 2025-05-06 14:12:38 - [✔️]: Translated 400 sents for en-de\n",
      "INFO: 2025-05-06 14:12:38 - [✔️]: Translated 400 sents for da-en\n",
      "INFO: 2025-05-06 14:12:38 - [✔️]: Translated 400 sents for en-da\n",
      "INFO: 2025-05-06 14:12:38 - [✔️]: Translated 400 sents for el-en\n",
      "INFO: 2025-05-06 14:12:39 - [✔️]: Translated 400 sents for en-el\n",
      "INFO: 2025-05-06 14:12:39 - [✔️]: Translated 400 sents for pt-en\n",
      "INFO: 2025-05-06 14:12:39 - [✔️]: Translated 400 sents for en-pt\n",
      "INFO: 2025-05-06 14:12:39 - [✔️]: Translated 400 sents for sv-en\n",
      "INFO: 2025-05-06 14:12:39 - [✔️]: Translated 400 sents for en-sv\n",
      "INFO: 2025-05-06 14:12:40 - [✔️]: Translated 400 sents for es-en\n",
      "INFO: 2025-05-06 14:12:40 - [✔️]: Translated 400 sents for en-es\n",
      "INFO: 2025-05-06 14:12:40 - [✔️]: Translated 400 sents for fi-en\n",
      "INFO: 2025-05-06 14:12:40 - [✔️]: Translated 400 sents for en-fi\n",
      "INFO: 2025-05-06 14:12:40 - [✔️]: Translated 400 sents for fr-en\n",
      "INFO: 2025-05-06 14:12:41 - [✔️]: Translated 400 sents for en-fr\n",
      "INFO: 2025-05-06 14:12:41 - [✔️]: Translated 400 sents for it-en\n",
      "INFO: 2025-05-06 14:12:41 - [✔️]: Translated 400 sents for en-it\n",
      "INFO: 2025-05-06 14:12:41 - [✔️]: Translated 400 sents for nl-en\n",
      "INFO: 2025-05-06 14:12:41 - [✔️]: Translated 400 sents for en-nl\n",
      "INFO: 2025-05-06 14:12:41 - [🏁]: Task took 4.07s\n"
     ]
    }
   ],
   "source": [
    "%run proc0.py run -m gpt -d opus-100"
   ]
  },
  {
   "cell_type": "markdown",
   "id": "64a7cd51",
   "metadata": {},
   "source": [
    "* Logs observable when running the task using the `proc0.py` script are brief\n",
    "* The same logs are also stored in a `.log` file that is more detailed in case of errors\n",
    "    * This process is not run on a server nor requires deployments, hence it makes more sense to have the real-time logs brief / readable, whereas the stored logs are more detailed for debugging purposes\n",
    "    * Since we use Jupyter Notebook, it is possible to 'store' both types of logs (given the notebook is not re-run by accident...)\n",
    " "
   ]
  },
  {
   "cell_type": "code",
   "execution_count": 2,
   "id": "4ca32ec8",
   "metadata": {},
   "outputs": [
    {
     "name": "stdout",
     "output_type": "stream",
     "text": [
      "INFO: 2025-05-06 14:09:34 - [🚀]: Selected task for opus-100 - gpt\n",
      "INFO: 2025-05-06 14:09:34 - [🏁]: Starting task dffe9bb5-4f7b-4a33-bd36-dfcb8aa797e8 on commit 0fee99a\n",
      "ERROR: 2025-05-06 14:09:34 - [⚠️]: Error MockError\n",
      "DEBUG: 2025-05-06 14:09:34 - Traceback:\n",
      "Traceback (most recent call last):\n",
      "  File \"C:\\Files\\UZH\\Semester_6\\BA_Thesis\\BA_Repo\\scripts\\task.py\", line 156, in run\n",
      "    mt_sents = self.client.translate_and_store_document(\n",
      "               ^^^^^^^^^^^^^^^^^^^^^^^^^^^^^^^^^^^^^^^^^\n",
      "  File \"C:\\Files\\UZH\\Semester_6\\BA_Thesis\\BA_Repo\\scripts\\translators.py\", line 45, in translate_and_store_document\n",
      "    out_text = self.translate_document(\n",
      "               ^^^^^^^^^^^^^^^^^^^^^^^^\n",
      "  File \"C:\\Files\\UZH\\Semester_6\\BA_Thesis\\BA_Repo\\scripts\\translators.py\", line 270, in translate_document\n",
      "    out_text = self.encrypt(in_text, error_pair=(src_lang, tgt_lang))\n",
      "               ^^^^^^^^^^^^^^^^^^^^^^^^^^^^^^^^^^^^^^^^^^^^^^^^^^^^^^\n",
      "  File \"C:\\Files\\UZH\\Semester_6\\BA_Thesis\\BA_Repo\\scripts\\translators.py\", line 252, in encrypt\n",
      "    raise (Exception(f'MockError'))\n",
      "Exception: MockError\n",
      "INFO: 2025-05-06 14:09:34 - [⏲️]: Retrying de-en...\n",
      "INFO: 2025-05-06 14:09:34 - [❌]: Translated 200 sents for de-en but rejected\n",
      "TRANSLATION: 2025-05-06 14:09:34 - {\"src_lang\": \"de\", \"tgt_lang\": \"en\", \"start\": 1746533374.23659, \"in_lines\": 400, \"in_sents\": 444, \"in_chars\": 32731, \"in_tokens\": 8295, \"end\": 1746533374.3015873, \"out_chars\": 15366, \"out_lines\": 200, \"out_sents\": 237, \"out_tokens\": 7368, \"id\": \"dffe9bb5-4f7b-4a33-bd36-dfcb8aa797e8-0002\", \"translator\": \"gpt\", \"dataset\": \"Helsinki-NLP/opus-100\", \"verdict\": \"rejected\"}\n"
     ]
    }
   ],
   "source": [
    "!cat proc0.log | head -n 20"
   ]
  },
  {
   "cell_type": "markdown",
   "id": "3a976091",
   "metadata": {},
   "source": [
    "* We can reproduce the simpler logs using `grep`\n",
    "    * On Windows we need to use double quotations for the Regex, for Linux/Mac single quotes would work too "
   ]
  },
  {
   "cell_type": "code",
   "execution_count": 3,
   "id": "48680ddf",
   "metadata": {},
   "outputs": [
    {
     "name": "stdout",
     "output_type": "stream",
     "text": [
      "INFO: 2025-05-06 14:09:34 - [🚀]: Selected task for opus-100 - gpt\n",
      "INFO: 2025-05-06 14:09:34 - [🏁]: Starting task dffe9bb5-4f7b-4a33-bd36-dfcb8aa797e8 on commit 0fee99a\n",
      "ERROR: 2025-05-06 14:09:34 - [⚠️]: Error MockError\n",
      "INFO: 2025-05-06 14:09:34 - [⏲️]: Retrying de-en...\n",
      "INFO: 2025-05-06 14:09:34 - [❌]: Translated 200 sents for de-en but rejected\n",
      "INFO: 2025-05-06 14:09:34 - [⏲️]: Retrying de-en...\n"
     ]
    }
   ],
   "source": [
    "!grep -P \"(INFO:|ERROR:)\" proc0.log | head -n 6"
   ]
  },
  {
   "cell_type": "markdown",
   "id": "35b22f9d",
   "metadata": {},
   "source": [
    "* Logs that are prefixed with `TRANSLATION` are translation specific logs, they are also stored in a JSONL separately, used for analysis purposes"
   ]
  },
  {
   "cell_type": "code",
   "execution_count": 4,
   "id": "e8536ef7",
   "metadata": {},
   "outputs": [
    {
     "name": "stdout",
     "output_type": "stream",
     "text": [
      "{\"src_lang\": \"de\", \"tgt_lang\": \"en\", \"start\": 1746533557.8615506, \"in_lines\": 400, \"in_sents\": 444, \"in_chars\": 32731, \"in_tokens\": 8295, \"end\": 1746533557.9245865, \"out_chars\": 15366, \"out_lines\": 200, \"out_sents\": 237, \"out_tokens\": 7368, \"id\": \"9b650a39-29ba-48b1-a7bf-5abde934f3a3-0002\", \"translator\": \"gpt\", \"dataset\": \"Helsinki-NLP/opus-100\", \"verdict\": \"rejected\"}\n",
      "{\"src_lang\": \"de\", \"tgt_lang\": \"en\", \"start\": 1746533557.981579, \"in_lines\": 400, \"in_sents\": 444, \"in_chars\": 32731, \"in_tokens\": 8295, \"end\": 1746533558.0464494, \"out_chars\": 32731, \"out_lines\": 400, \"out_sents\": 478, \"out_tokens\": 15578, \"id\": \"9b650a39-29ba-48b1-a7bf-5abde934f3a3-0003\", \"translator\": \"gpt\", \"dataset\": \"Helsinki-NLP/opus-100\", \"verdict\": \"accepted\"}\n",
      "{\"src_lang\": \"en\", \"tgt_lang\": \"de\", \"start\": 1746533558.177449, \"in_lines\": 400, \"in_sents\": 446, \"in_chars\": 29414, \"in_tokens\": 6994, \"end\": 1746533558.2364476, \"out_chars\": 29414, \"out_lines\": 400, \"out_sents\": 449, \"out_tokens\": 13305, \"id\": \"9b650a39-29ba-48b1-a7bf-5abde934f3a3-0004\", \"translator\": \"gpt\", \"dataset\": \"Helsinki-NLP/opus-100\", \"verdict\": \"accepted\"}\n",
      "{\"src_lang\": \"da\", \"tgt_lang\": \"en\", \"start\": 1746533558.4336486, \"in_lines\": 400, \"in_sents\": 421, \"in_chars\": 25992, \"in_tokens\": 7556, \"end\": 1746533558.4866226, \"out_chars\": 25992, \"out_lines\": 400, \"out_sents\": 440, \"out_tokens\": 12442, \"id\": \"9b650a39-29ba-48b1-a7bf-5abde934f3a3-0005\", \"translator\": \"gpt\", \"dataset\": \"Helsinki-NLP/opus-100\", \"verdict\": \"accepted\"}\n",
      "{\"src_lang\": \"en\", \"tgt_lang\": \"da\", \"start\": 1746533558.5906105, \"in_lines\": 400, \"in_sents\": 452, \"in_chars\": 27605, \"in_tokens\": 6115, \"end\": 1746533558.6496096, \"out_chars\": 27605, \"out_lines\": 400, \"out_sents\": 454, \"out_tokens\": 12312, \"id\": \"9b650a39-29ba-48b1-a7bf-5abde934f3a3-0006\", \"translator\": \"gpt\", \"dataset\": \"Helsinki-NLP/opus-100\", \"verdict\": \"accepted\"}\n"
     ]
    }
   ],
   "source": [
    "!cat tmp/proc0.jsonl | head -n 5"
   ]
  },
  {
   "cell_type": "markdown",
   "id": "b734b908",
   "metadata": {},
   "source": [
    "* The translation logs are linked to the task, observe of the translation log ids use the task id as a prefix."
   ]
  },
  {
   "cell_type": "code",
   "execution_count": 5,
   "id": "5a667d97",
   "metadata": {},
   "outputs": [
    {
     "name": "stdout",
     "output_type": "stream",
     "text": [
      "{\n",
      "    \"task_id\": \"9b650a39-29ba-48b1-a7bf-5abde934f3a3\",\n",
      "    \"git_hash\": \"0fee99a\",\n",
      "    \"dataset\": \"Helsinki-NLP/opus-100\",\n",
      "    \"num_of_sents\": 400,\n",
      "    \"split\": \"test[:500]\",\n",
      "    \"translator\": \"gpt\",\n",
      "    \"acceptable_range\": [\n",
      "        360,\n",
      "        480\n",
      "    ],\n",
      "    \"timestamp\": \"2025-05-06T14:12:41.831433+02:00\",\n",
      "    \"manual_retry\": false,\n",
      "    \"duration\": 4.067911148071289\n",
      "}\n"
     ]
    }
   ],
   "source": [
    "!cat tmp/proc0/opus-100/gpt/task.json"
   ]
  },
  {
   "cell_type": "markdown",
   "id": "1aef71cf",
   "metadata": {},
   "source": [
    "## Manual Retry\n",
    "* In cases were a task, even if automatic retry is accounted for, fails to deliver translations that are desired, we need to run the task again. \n",
    "* For documentation purposes, we want to link these 'faulty' translations to ones the task delievered before.\n",
    "* If it is 'faulty' because we never get one due to errors, in such cases we do not log any translations, we still specify a reason but no id\n",
    "* If it is 'faulty' because we automatically rejected the ones that arrived, we link it to the newest one.\n",
    "    * Automatic rejection of translations is limited to avoid paying too much\n",
    "    * Rejection reason is mainly receiving too much or too little output translations. All rejected translations are still stored and have an id. "
   ]
  },
  {
   "cell_type": "markdown",
   "id": "042dab9a",
   "metadata": {},
   "source": [
    "* In the following we define a scenario where En-Fr and Fr-En will not be translated successfully because:\n",
    "    * En-Fr was rejected three times automatically\n",
    "    * Fr-En failed three times  "
   ]
  },
  {
   "cell_type": "code",
   "execution_count": 6,
   "id": "a00ce8d2",
   "metadata": {},
   "outputs": [],
   "source": [
    "pairs = [('en', 'de'), ('en', 'fr'), ('de', 'en'), ('fr', 'en')]\n",
    "scenario = [0, 1, 1, 1, 0, 2, 2, 2]\n",
    "verdicts = ['accepted', 'rejected', 'rejected', 'rejected', 'accepted']"
   ]
  },
  {
   "cell_type": "code",
   "execution_count": 7,
   "id": "153b593f",
   "metadata": {},
   "outputs": [],
   "source": [
    "from scripts.data_management import Opus100Manager\n",
    "from scripts.task import TranslationTask\n",
    "from scripts.translators import MockClient\n",
    "from scripts.logger import TranslationLogger\n",
    "from os.path import join\n",
    "from io import StringIO\n",
    "main_folder = 'tmp'\n",
    "sub_folder = join(main_folder, 'proc0')\n",
    "\n",
    "dm = Opus100Manager()\n",
    "logfile = StringIO()\n",
    "logger = TranslationLogger(logfile=logfile)\n",
    "cli = MockClient(logger=logger, model='mock', scenario=scenario)\n",
    "task = TranslationTask(\n",
    "    target_pairs=pairs,\n",
    "    dm=dm,\n",
    "    client=cli,\n",
    "    logger=logger,\n",
    "    mt_folder=sub_folder,\n",
    "    num_of_sents=400,\n",
    "    max_retries=2,\n",
    "    retry_delay=0\n",
    ")"
   ]
  },
  {
   "cell_type": "code",
   "execution_count": 8,
   "id": "60f279b7",
   "metadata": {},
   "outputs": [
    {
     "name": "stderr",
     "output_type": "stream",
     "text": [
      "INFO: 2025-05-06 14:12:42 - [🏁]: Starting task 0da2ea73-27e7-4dc6-aedb-990f0899400c on commit 0fee99a\n"
     ]
    },
    {
     "name": "stderr",
     "output_type": "stream",
     "text": [
      "INFO: 2025-05-06 14:12:42 - [✔️]: Translated 400 sents for en-de\n",
      "INFO: 2025-05-06 14:12:42 - [❌]: Translated 200 sents for en-fr but rejected\n",
      "INFO: 2025-05-06 14:12:42 - [⏲️]: Retrying en-fr...\n",
      "INFO: 2025-05-06 14:12:42 - [❌]: Translated 200 sents for en-fr but rejected\n",
      "INFO: 2025-05-06 14:12:42 - [⏲️]: Retrying en-fr...\n",
      "INFO: 2025-05-06 14:12:42 - [❌]: Translated 200 sents for en-fr but rejected\n",
      "INFO: 2025-05-06 14:12:42 - [⏩]: Failed 2 times, skipping en-fr...\n",
      "INFO: 2025-05-06 14:12:43 - [✔️]: Translated 400 sents for de-en\n",
      "ERROR: 2025-05-06 14:12:43 - [⚠️]: Error MockError\n",
      "INFO: 2025-05-06 14:12:43 - [⏲️]: Retrying fr-en...\n",
      "ERROR: 2025-05-06 14:12:43 - [⚠️]: Error MockError\n",
      "INFO: 2025-05-06 14:12:43 - [⏲️]: Retrying fr-en...\n",
      "ERROR: 2025-05-06 14:12:43 - [⚠️]: Error MockError\n",
      "INFO: 2025-05-06 14:12:43 - [⏩]: Failed 2 times, skipping fr-en...\n",
      "INFO: 2025-05-06 14:12:43 - [🏁]: Task took 1.16s\n"
     ]
    }
   ],
   "source": [
    "task.run()"
   ]
  },
  {
   "cell_type": "code",
   "execution_count": 9,
   "id": "1787d4d6",
   "metadata": {},
   "outputs": [
    {
     "data": {
      "text/plain": [
       "True"
      ]
     },
     "execution_count": 9,
     "metadata": {},
     "output_type": "execute_result"
    }
   ],
   "source": [
    "import json\n",
    "log_data = [json.loads(ln) for ln in logfile.getvalue().splitlines()]\n",
    "[log['verdict'] for log in log_data] == verdicts\n"
   ]
  },
  {
   "cell_type": "markdown",
   "id": "0a113005",
   "metadata": {},
   "source": [
    "* Based on these results, we decide to retry En-Fr and Fr-En.\n",
    "* During analysis, we also noticed that De-En has not been translated at all, BLEU score single digits, src-text was returned, so we retry that as well."
   ]
  },
  {
   "cell_type": "code",
   "execution_count": 10,
   "id": "898ce8dd",
   "metadata": {},
   "outputs": [
    {
     "data": {
      "text/plain": [
       "['0da2ea73-27e7-4dc6-aedb-990f0899400c-0002',\n",
       " '0da2ea73-27e7-4dc6-aedb-990f0899400c-0003',\n",
       " '0da2ea73-27e7-4dc6-aedb-990f0899400c-0004',\n",
       " '0da2ea73-27e7-4dc6-aedb-990f0899400c-0005']"
      ]
     },
     "execution_count": 10,
     "metadata": {},
     "output_type": "execute_result"
    }
   ],
   "source": [
    "log_ids = [log['id'] for log in log_data if (log['src_lang'] == 'en' and log['tgt_lang'] == 'fr') or (log['src_lang'] == 'de' and log['tgt_lang'] == 'en')]\n",
    "log_ids"
   ]
  },
  {
   "cell_type": "code",
   "execution_count": 11,
   "id": "91a2c856",
   "metadata": {},
   "outputs": [
    {
     "name": "stdout",
     "output_type": "stream",
     "text": [
      "en fr 0da2ea73-27e7-4dc6-aedb-990f0899400c-0004\n",
      "de en 0da2ea73-27e7-4dc6-aedb-990f0899400c-0005\n"
     ]
    }
   ],
   "source": [
    "for log in log_data:\n",
    "    if log['id'] == log_ids[-2]:\n",
    "        print(log['src_lang'], log['tgt_lang'], log['id'])\n",
    "    if log['id'] == log_ids[-1]:\n",
    "        print(log['src_lang'], log['tgt_lang'], log['id'])\n",
    "\n"
   ]
  },
  {
   "cell_type": "code",
   "execution_count": 12,
   "id": "04219481",
   "metadata": {},
   "outputs": [
    {
     "name": "stderr",
     "output_type": "stream",
     "text": [
      "INFO: 2025-05-06 14:12:43 - [🏁]: Starting task ab7a529d-df42-40ae-9125-6d102ca5a9e3 on commit 0fee99a\n"
     ]
    },
    {
     "name": "stderr",
     "output_type": "stream",
     "text": [
      "INFO: 2025-05-06 14:12:43 - [✔️]: Translated 400 sents for en-fr\n",
      "INFO: 2025-05-06 14:12:43 - [✔️]: Translated 400 sents for de-en\n",
      "INFO: 2025-05-06 14:12:44 - [✔️]: Translated 400 sents for fr-en\n",
      "INFO: 2025-05-06 14:12:44 - [🏁]: Task took 0.78s\n"
     ]
    }
   ],
   "source": [
    "from scripts.logger import RetryLog\n",
    "selected_ids = [log_ids[-2], log_ids[-1], None]\n",
    "target_pairs = [('en', 'fr'), ('de', 'en'), ('fr', 'en')]\n",
    "reasons = ['no accepted translation yet', 'returned src text', 'no translation received yet']\n",
    "retry_log = RetryLog(pairs=target_pairs, log_ids=selected_ids, reasons=reasons)\n",
    "new_logger = TranslationLogger(logfile=logfile, retry_log=retry_log)\n",
    "cli = MockClient(logger=new_logger)\n",
    "sub_folder = join(main_folder, 'tmp2')\n",
    "\n",
    "task = TranslationTask(\n",
    "    target_pairs=target_pairs,\n",
    "    dm=dm,\n",
    "    client=cli,\n",
    "    logger=new_logger,\n",
    "    mt_folder=sub_folder,\n",
    "    num_of_sents=400,\n",
    "    manual_retry=True,\n",
    "    max_retries=1,\n",
    "    retry_delay=0\n",
    ")\n",
    "\n",
    "task.run()"
   ]
  },
  {
   "cell_type": "code",
   "execution_count": 13,
   "id": "849e5488",
   "metadata": {},
   "outputs": [
    {
     "name": "stdout",
     "output_type": "stream",
     "text": [
      "en fr {'prev_id': '0da2ea73-27e7-4dc6-aedb-990f0899400c-0004', 'reason': 'no accepted translation yet'}\n",
      "de en {'prev_id': '0da2ea73-27e7-4dc6-aedb-990f0899400c-0005', 'reason': 'returned src text'}\n",
      "fr en {'prev_id': None, 'reason': 'no translation received yet'}\n"
     ]
    }
   ],
   "source": [
    "log_data = [json.loads(ln) for ln in logfile.getvalue().splitlines()]\n",
    "for log in log_data[-3:]:\n",
    "    print(log['src_lang'], log['tgt_lang'], log['manual_retry'])"
   ]
  },
  {
   "cell_type": "code",
   "execution_count": 14,
   "id": "92ac5ce1",
   "metadata": {},
   "outputs": [],
   "source": [
    "!rm -rf tmp"
   ]
  }
 ],
 "metadata": {
  "kernelspec": {
   "display_name": "thesis",
   "language": "python",
   "name": "python3"
  },
  "language_info": {
   "codemirror_mode": {
    "name": "ipython",
    "version": 3
   },
   "file_extension": ".py",
   "mimetype": "text/x-python",
   "name": "python",
   "nbconvert_exporter": "python",
   "pygments_lexer": "ipython3",
   "version": "3.12.6"
  }
 },
 "nbformat": 4,
 "nbformat_minor": 5
}
