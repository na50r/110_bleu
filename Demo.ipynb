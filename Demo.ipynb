{
 "cells": [
  {
   "cell_type": "markdown",
   "id": "48893bc1",
   "metadata": {},
   "source": [
    "# Demonstration\n",
    "* In this Jupyter Notebook we show using MockClients how the translation process will work.\n",
    "* It is possible to run the scripts on Terminal but we use Jupyter Notebooks to document exactly what the author used to run the code."
   ]
  },
  {
   "cell_type": "code",
   "execution_count": 1,
   "id": "8de3cea0",
   "metadata": {},
   "outputs": [
    {
     "name": "stderr",
     "output_type": "stream",
     "text": [
      "2025-05-04 14:20:23 - [🚀]: Selected task for opus-100 - gpt\n",
      "2025-05-04 14:20:23 - [🏁]: Starting task a9d64ae5-f2f7-4137-8bde-9e313f41600a on commit 7498a71\n",
      "2025-05-04 14:20:23 - [⚠️]: Error MockError\n",
      "2025-05-04 14:20:23 - [⏲️]: Retrying de-en...\n",
      "2025-05-04 14:20:23 - [❌]: Translated 200 sents for de-en but rejected\n",
      "2025-05-04 14:20:23 - [⏲️]: Retrying de-en...\n",
      "2025-05-04 14:20:23 - [✔️]: Translated 400 sents for de-en\n",
      "2025-05-04 14:20:23 - [✔️]: Translated 400 sents for en-de\n",
      "2025-05-04 14:20:24 - [✔️]: Translated 400 sents for da-en\n",
      "2025-05-04 14:20:24 - [✔️]: Translated 400 sents for en-da\n",
      "2025-05-04 14:20:24 - [✔️]: Translated 400 sents for el-en\n",
      "2025-05-04 14:20:24 - [✔️]: Translated 400 sents for en-el\n",
      "2025-05-04 14:20:24 - [✔️]: Translated 400 sents for pt-en\n",
      "2025-05-04 14:20:24 - [✔️]: Translated 400 sents for en-pt\n",
      "2025-05-04 14:20:25 - [✔️]: Translated 400 sents for sv-en\n",
      "2025-05-04 14:20:25 - [✔️]: Translated 400 sents for en-sv\n",
      "2025-05-04 14:20:25 - [✔️]: Translated 400 sents for es-en\n",
      "2025-05-04 14:20:25 - [✔️]: Translated 400 sents for en-es\n",
      "2025-05-04 14:20:25 - [✔️]: Translated 400 sents for fi-en\n",
      "2025-05-04 14:20:25 - [✔️]: Translated 400 sents for en-fi\n",
      "2025-05-04 14:20:26 - [✔️]: Translated 400 sents for fr-en\n",
      "2025-05-04 14:20:26 - [✔️]: Translated 400 sents for en-fr\n",
      "2025-05-04 14:20:26 - [✔️]: Translated 400 sents for it-en\n",
      "2025-05-04 14:20:26 - [✔️]: Translated 400 sents for en-it\n",
      "2025-05-04 14:20:26 - [✔️]: Translated 400 sents for nl-en\n",
      "2025-05-04 14:20:27 - [✔️]: Translated 400 sents for en-nl\n",
      "2025-05-04 14:20:27 - [🏁]: Task took 3.83s\n"
     ]
    }
   ],
   "source": [
    "%run proc0.py run -m gpt -d opus-100"
   ]
  },
  {
   "cell_type": "markdown",
   "id": "64a7cd51",
   "metadata": {},
   "source": [
    "* Logs observable when running the task using the `proc0.py` script are brief\n",
    "* The same logs are also stored in a `.log` file that is more detailed in case of errors\n",
    "    * This process is not run on a server nor requires deployments, hence it makes more sense to have the real-time logs brief / readable, whereas the stored logs are more detailed for debugging purposes\n",
    "    * Since we use Jupyter Notebook, it is possible to 'store' both types of logs (given the notebook is not re-run by accident...)\n",
    " "
   ]
  },
  {
   "cell_type": "code",
   "execution_count": 2,
   "id": "4ca32ec8",
   "metadata": {},
   "outputs": [
    {
     "name": "stdout",
     "output_type": "stream",
     "text": [
      "2025-05-04 13:49:43 - [🚀]: Selected task for opus-100 - gpt\n",
      "2025-05-04 13:49:43 - [🏁]: Starting task e11e4c3e-3305-44da-b1a4-24d2aae3c6d1 on commit 7498a71\n",
      "2025-05-04 13:49:43 - [⚠️]: Error MockError\n",
      "2025-05-04 13:49:43 - Traceback:\n",
      "Traceback (most recent call last):\n",
      "  File \"C:\\Files\\UZH\\Semester_6\\BA_Thesis\\BA_Repo\\scripts\\task.py\", line 173, in run\n",
      "    mt_sents = self.client.translate_and_store_document(\n",
      "               ^^^^^^^^^^^^^^^^^^^^^^^^^^^^^^^^^^^^^^^^^\n",
      "  File \"C:\\Files\\UZH\\Semester_6\\BA_Thesis\\BA_Repo\\scripts\\translators.py\", line 54, in translate_and_store_document\n",
      "    out_text = self.translate_document(\n",
      "               ^^^^^^^^^^^^^^^^^^^^^^^^\n",
      "  File \"C:\\Files\\UZH\\Semester_6\\BA_Thesis\\BA_Repo\\scripts\\translators.py\", line 271, in translate_document\n",
      "    out_text = self.encrypt(in_text, error_pair=(src_lang, tgt_lang))\n",
      "               ^^^^^^^^^^^^^^^^^^^^^^^^^^^^^^^^^^^^^^^^^^^^^^^^^^^^^^\n",
      "  File \"C:\\Files\\UZH\\Semester_6\\BA_Thesis\\BA_Repo\\scripts\\translators.py\", line 253, in encrypt\n",
      "    raise (Exception(f'MockError'))\n",
      "Exception: MockError\n",
      "2025-05-04 13:49:43 - [⏲️]: Retrying de-en...\n"
     ]
    }
   ],
   "source": [
    "!cat proc0.log | head -n 18"
   ]
  },
  {
   "cell_type": "markdown",
   "id": "35b22f9d",
   "metadata": {},
   "source": [
    "* In addition to task specific logs, we also log more details per translation in a JSONL file, for analysis purposes"
   ]
  },
  {
   "cell_type": "code",
   "execution_count": 3,
   "id": "e8536ef7",
   "metadata": {},
   "outputs": [
    {
     "name": "stdout",
     "output_type": "stream",
     "text": [
      "{\"src_lang\": \"de\", \"tgt_lang\": \"en\", \"start\": 1746361223.4617388, \"in_lines\": 400, \"in_sents\": 444, \"in_chars\": 32731, \"in_tokens\": 8295, \"end\": 1746361223.511046, \"out_chars\": 15366, \"out_lines\": 200, \"out_sents\": 237, \"out_tokens\": 7368, \"id\": \"a9d64ae5-f2f7-4137-8bde-9e313f41600a-0002\", \"translator\": \"gpt\", \"dataset\": \"Helsinki-NLP/opus-100\", \"verdict\": \"rejected\"}\n",
      "{\"src_lang\": \"de\", \"tgt_lang\": \"en\", \"start\": 1746361223.577673, \"in_lines\": 400, \"in_sents\": 444, \"in_chars\": 32731, \"in_tokens\": 8295, \"end\": 1746361223.6276066, \"out_chars\": 32731, \"out_lines\": 400, \"out_sents\": 478, \"out_tokens\": 15578, \"id\": \"a9d64ae5-f2f7-4137-8bde-9e313f41600a-0003\", \"translator\": \"gpt\", \"dataset\": \"Helsinki-NLP/opus-100\", \"verdict\": \"accepted\"}\n",
      "{\"src_lang\": \"en\", \"tgt_lang\": \"de\", \"start\": 1746361223.7608526, \"in_lines\": 400, \"in_sents\": 446, \"in_chars\": 29414, \"in_tokens\": 6994, \"end\": 1746361223.810825, \"out_chars\": 29414, \"out_lines\": 400, \"out_sents\": 449, \"out_tokens\": 13305, \"id\": \"a9d64ae5-f2f7-4137-8bde-9e313f41600a-0004\", \"translator\": \"gpt\", \"dataset\": \"Helsinki-NLP/opus-100\", \"verdict\": \"accepted\"}\n",
      "{\"src_lang\": \"da\", \"tgt_lang\": \"en\", \"start\": 1746361223.9468513, \"in_lines\": 400, \"in_sents\": 421, \"in_chars\": 25992, \"in_tokens\": 7556, \"end\": 1746361224.0001633, \"out_chars\": 25992, \"out_lines\": 400, \"out_sents\": 440, \"out_tokens\": 12442, \"id\": \"a9d64ae5-f2f7-4137-8bde-9e313f41600a-0005\", \"translator\": \"gpt\", \"dataset\": \"Helsinki-NLP/opus-100\", \"verdict\": \"accepted\"}\n",
      "{\"src_lang\": \"en\", \"tgt_lang\": \"da\", \"start\": 1746361224.1001582, \"in_lines\": 400, \"in_sents\": 452, \"in_chars\": 27605, \"in_tokens\": 6115, \"end\": 1746361224.1600873, \"out_chars\": 27605, \"out_lines\": 400, \"out_sents\": 454, \"out_tokens\": 12312, \"id\": \"a9d64ae5-f2f7-4137-8bde-9e313f41600a-0006\", \"translator\": \"gpt\", \"dataset\": \"Helsinki-NLP/opus-100\", \"verdict\": \"accepted\"}\n"
     ]
    }
   ],
   "source": [
    "!cat tmp/proc0.jsonl | head -n 5"
   ]
  },
  {
   "cell_type": "markdown",
   "id": "b734b908",
   "metadata": {},
   "source": [
    "* The translation logs are linked to the task, observe of the translation log ids use the task id as a prefix."
   ]
  },
  {
   "cell_type": "code",
   "execution_count": 4,
   "id": "5a667d97",
   "metadata": {},
   "outputs": [
    {
     "name": "stdout",
     "output_type": "stream",
     "text": [
      "{\"task_id\": \"a9d64ae5-f2f7-4137-8bde-9e313f41600a\", \"git_hash\": \"7498a71\", \"dataset\": \"Helsinki-NLP/opus-100\", \"num_of_sents\": 400, \"split\": \"test[:500]\", \"translator\": \"gpt\", \"acceptable_range\": [360, 480], \"timestamp\": \"2025-05-04T14:20:27.192907+02:00\", \"manual_retry\": false, \"duration\": 3.831834077835083}\n"
     ]
    }
   ],
   "source": [
    "!cat tmp/proc0/opus-100/gpt/task.json"
   ]
  },
  {
   "cell_type": "markdown",
   "id": "1aef71cf",
   "metadata": {},
   "source": [
    "## Manual Retry\n",
    "* In cases were a task, even if automatic retry is accounted for, fails to deliver translations that are desired, we need to run the task again. \n",
    "* For documentation purposes, we want to link these 'faulty' translations to ones the task delievered before.\n",
    "* If it is 'faulty' because we never get one due to errors, in such cases we do not log any translations, we still specify a reason but no id\n",
    "* If it is 'faulty' because we automatically rejected the ones that arrived, we link it to the newest one.\n",
    "    * Automatic rejection of translations is limited to avoid paying too much\n",
    "    * Rejection reason is mainly receiving too much or too little output translations. All rejected translations are still stored and have an id. "
   ]
  },
  {
   "cell_type": "markdown",
   "id": "042dab9a",
   "metadata": {},
   "source": [
    "* In the following we define a scenario where En-Fr and Fr-En will not be translated successfully because:\n",
    "    * En-Fr was rejected three times automatically\n",
    "    * Fr-En failed three times  "
   ]
  },
  {
   "cell_type": "code",
   "execution_count": 5,
   "id": "a00ce8d2",
   "metadata": {},
   "outputs": [],
   "source": [
    "pairs = [('en', 'de'), ('en', 'fr'), ('de', 'en'), ('fr', 'en')]\n",
    "scenario = [0, 1, 1, 1, 0, 2, 2, 2]\n",
    "verdicts = ['accepted', 'rejected', 'rejected', 'rejected', 'accepted']"
   ]
  },
  {
   "cell_type": "code",
   "execution_count": 6,
   "id": "153b593f",
   "metadata": {},
   "outputs": [],
   "source": [
    "from scripts.data_management import Opus100Manager\n",
    "from scripts.task import TranslationTask\n",
    "from scripts.translators import MockClient\n",
    "from scripts.logger import TranslationLogger\n",
    "from os.path import join\n",
    "from io import StringIO\n",
    "main_folder = 'tmp'\n",
    "sub_folder = join(main_folder, 'proc0')\n",
    "\n",
    "dm = Opus100Manager()\n",
    "logfile = StringIO()\n",
    "logger = TranslationLogger(logfile=logfile)\n",
    "cli = MockClient(logger=logger, model='mock', scenario=scenario)\n",
    "task = TranslationTask(\n",
    "    target_pairs=pairs,\n",
    "    dm=dm,\n",
    "    client=cli,\n",
    "    logger=logger,\n",
    "    mt_folder=sub_folder,\n",
    "    num_of_sents=400,\n",
    "    max_retries=2,\n",
    "    retry_delay=0\n",
    ")"
   ]
  },
  {
   "cell_type": "code",
   "execution_count": 7,
   "id": "60f279b7",
   "metadata": {},
   "outputs": [
    {
     "name": "stderr",
     "output_type": "stream",
     "text": [
      "2025-05-04 14:20:27 - [🏁]: Starting task ac94274a-2187-40cc-84dc-aaeb16d0d2b2 on commit 7498a71\n",
      "2025-05-04 14:20:27 - [✔️]: Translated 400 sents for en-de\n",
      "2025-05-04 14:20:27 - [❌]: Translated 200 sents for en-fr but rejected\n",
      "2025-05-04 14:20:27 - [⏲️]: Retrying en-fr...\n",
      "2025-05-04 14:20:27 - [❌]: Translated 200 sents for en-fr but rejected\n",
      "2025-05-04 14:20:27 - [⏲️]: Retrying en-fr...\n",
      "2025-05-04 14:20:28 - [❌]: Translated 200 sents for en-fr but rejected\n",
      "2025-05-04 14:20:28 - [⏩]: Failed 2 times, skipping en-fr...\n",
      "2025-05-04 14:20:28 - [✔️]: Translated 400 sents for de-en\n",
      "2025-05-04 14:20:28 - [⚠️]: Error MockError\n",
      "2025-05-04 14:20:28 - [⏲️]: Retrying fr-en...\n",
      "2025-05-04 14:20:28 - [⚠️]: Error MockError\n",
      "2025-05-04 14:20:28 - [⏲️]: Retrying fr-en...\n",
      "2025-05-04 14:20:28 - [⚠️]: Error MockError\n",
      "2025-05-04 14:20:28 - [⏩]: Failed 2 times, skipping fr-en...\n",
      "2025-05-04 14:20:28 - [🏁]: Task took 1.18s\n"
     ]
    }
   ],
   "source": [
    "task.run()"
   ]
  },
  {
   "cell_type": "code",
   "execution_count": 8,
   "id": "1787d4d6",
   "metadata": {},
   "outputs": [
    {
     "data": {
      "text/plain": [
       "True"
      ]
     },
     "execution_count": 8,
     "metadata": {},
     "output_type": "execute_result"
    }
   ],
   "source": [
    "import json\n",
    "log_data = [json.loads(ln) for ln in logfile.getvalue().splitlines()]\n",
    "[log['verdict'] for log in log_data] == verdicts\n"
   ]
  },
  {
   "cell_type": "markdown",
   "id": "0a113005",
   "metadata": {},
   "source": [
    "* Based on these results, we decide to retry En-Fr and Fr-En.\n",
    "* During analysis, we also noticed that De-En has not been translated at all, BLEU score single digits, src-text was returned, so we retry that as well."
   ]
  },
  {
   "cell_type": "code",
   "execution_count": 9,
   "id": "898ce8dd",
   "metadata": {},
   "outputs": [
    {
     "data": {
      "text/plain": [
       "['ac94274a-2187-40cc-84dc-aaeb16d0d2b2-0002',\n",
       " 'ac94274a-2187-40cc-84dc-aaeb16d0d2b2-0003',\n",
       " 'ac94274a-2187-40cc-84dc-aaeb16d0d2b2-0004',\n",
       " 'ac94274a-2187-40cc-84dc-aaeb16d0d2b2-0005']"
      ]
     },
     "execution_count": 9,
     "metadata": {},
     "output_type": "execute_result"
    }
   ],
   "source": [
    "log_ids = [log['id'] for log in log_data if (log['src_lang'] == 'en' and log['tgt_lang'] == 'fr') or (log['src_lang'] == 'de' and log['tgt_lang'] == 'en')]\n",
    "log_ids"
   ]
  },
  {
   "cell_type": "code",
   "execution_count": 10,
   "id": "91a2c856",
   "metadata": {},
   "outputs": [
    {
     "name": "stdout",
     "output_type": "stream",
     "text": [
      "en fr\n",
      "de en\n"
     ]
    }
   ],
   "source": [
    "for log in log_data:\n",
    "    if log['id'] == log_ids[-2]:\n",
    "        print(log['src_lang'], log['tgt_lang'])\n",
    "    if log['id'] == log_ids[-1]:\n",
    "        print(log['src_lang'], log['tgt_lang'])\n",
    "\n"
   ]
  },
  {
   "cell_type": "code",
   "execution_count": 11,
   "id": "04219481",
   "metadata": {},
   "outputs": [
    {
     "name": "stderr",
     "output_type": "stream",
     "text": [
      "2025-05-04 14:20:28 - [🏁]: Starting task 098737dc-e303-41b4-96db-79c7ea75045a on commit 7498a71\n"
     ]
    },
    {
     "name": "stderr",
     "output_type": "stream",
     "text": [
      "2025-05-04 14:20:28 - [✔️]: Translated 400 sents for en-fr\n",
      "2025-05-04 14:20:29 - [✔️]: Translated 400 sents for de-en\n",
      "2025-05-04 14:20:29 - [✔️]: Translated 400 sents for fr-en\n",
      "2025-05-04 14:20:29 - [🏁]: Task took 0.83s\n"
     ]
    }
   ],
   "source": [
    "from scripts.logger import RetryLog\n",
    "selected_ids = [log_ids[-2], log_ids[-1], None]\n",
    "target_pairs = [('en', 'fr'), ('de', 'en'), ('fr', 'en')]\n",
    "reasons = ['no accepted translation yet', 'returned src text', 'no translation received yet']\n",
    "retry_log = RetryLog(pairs=target_pairs, log_ids=selected_ids, reasons=reasons)\n",
    "new_logger = TranslationLogger(logfile=logfile, retry_log=retry_log)\n",
    "cli = MockClient(logger=new_logger)\n",
    "sub_folder = join(main_folder, 'tmp2')\n",
    "\n",
    "task = TranslationTask(\n",
    "    target_pairs=target_pairs,\n",
    "    dm=dm,\n",
    "    client=cli,\n",
    "    logger=new_logger,\n",
    "    mt_folder=sub_folder,\n",
    "    num_of_sents=400,\n",
    "    manual_retry=True,\n",
    "    max_retries=1,\n",
    "    retry_delay=0\n",
    ")\n",
    "\n",
    "task.run()"
   ]
  },
  {
   "cell_type": "code",
   "execution_count": 12,
   "id": "849e5488",
   "metadata": {},
   "outputs": [
    {
     "data": {
      "text/plain": [
       "[{'src_lang': 'en',\n",
       "  'tgt_lang': 'fr',\n",
       "  'start': 1746361228.6587605,\n",
       "  'in_lines': 400,\n",
       "  'in_sents': 429,\n",
       "  'in_chars': 40777,\n",
       "  'in_tokens': 9019,\n",
       "  'end': 1746361228.7461498,\n",
       "  'out_chars': 40777,\n",
       "  'out_lines': 400,\n",
       "  'out_sents': 437,\n",
       "  'out_tokens': 18536,\n",
       "  'id': '098737dc-e303-41b4-96db-79c7ea75045a-0001',\n",
       "  'translator': 'mock',\n",
       "  'dataset': 'Helsinki-NLP/opus-100',\n",
       "  'manual_retry': {'prev_id': 'ac94274a-2187-40cc-84dc-aaeb16d0d2b2-0004',\n",
       "   'reason': 'no accepted translation yet'},\n",
       "  'verdict': 'accepted'},\n",
       " {'src_lang': 'de',\n",
       "  'tgt_lang': 'en',\n",
       "  'start': 1746361228.9506786,\n",
       "  'in_lines': 400,\n",
       "  'in_sents': 444,\n",
       "  'in_chars': 32731,\n",
       "  'in_tokens': 8295,\n",
       "  'end': 1746361229.0243175,\n",
       "  'out_chars': 32731,\n",
       "  'out_lines': 400,\n",
       "  'out_sents': 478,\n",
       "  'out_tokens': 15578,\n",
       "  'id': '098737dc-e303-41b4-96db-79c7ea75045a-0002',\n",
       "  'translator': 'mock',\n",
       "  'dataset': 'Helsinki-NLP/opus-100',\n",
       "  'manual_retry': {'prev_id': 'ac94274a-2187-40cc-84dc-aaeb16d0d2b2-0005',\n",
       "   'reason': 'returned src text'},\n",
       "  'verdict': 'accepted'},\n",
       " {'src_lang': 'fr',\n",
       "  'tgt_lang': 'en',\n",
       "  'start': 1746361229.1620767,\n",
       "  'in_lines': 400,\n",
       "  'in_sents': 422,\n",
       "  'in_chars': 46126,\n",
       "  'in_tokens': 10852,\n",
       "  'end': 1746361229.2734075,\n",
       "  'out_chars': 46126,\n",
       "  'out_lines': 400,\n",
       "  'out_sents': 423,\n",
       "  'out_tokens': 21526,\n",
       "  'id': '098737dc-e303-41b4-96db-79c7ea75045a-0003',\n",
       "  'translator': 'mock',\n",
       "  'dataset': 'Helsinki-NLP/opus-100',\n",
       "  'manual_retry': {'prev_id': None, 'reason': 'no translation received yet'},\n",
       "  'verdict': 'accepted'}]"
      ]
     },
     "execution_count": 12,
     "metadata": {},
     "output_type": "execute_result"
    }
   ],
   "source": [
    "log_data = [json.loads(ln) for ln in logfile.getvalue().splitlines()]\n",
    "log_data[-3:]"
   ]
  },
  {
   "cell_type": "code",
   "execution_count": 13,
   "id": "92ac5ce1",
   "metadata": {},
   "outputs": [],
   "source": [
    "!rm -rf tmp"
   ]
  }
 ],
 "metadata": {
  "kernelspec": {
   "display_name": "thesis",
   "language": "python",
   "name": "python3"
  },
  "language_info": {
   "codemirror_mode": {
    "name": "ipython",
    "version": 3
   },
   "file_extension": ".py",
   "mimetype": "text/x-python",
   "name": "python",
   "nbconvert_exporter": "python",
   "pygments_lexer": "ipython3",
   "version": "3.12.6"
  }
 },
 "nbformat": 4,
 "nbformat_minor": 5
}
