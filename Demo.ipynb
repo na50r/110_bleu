{
 "cells": [
  {
   "cell_type": "markdown",
   "id": "5b46162d",
   "metadata": {},
   "source": [
    "# Example "
   ]
  },
  {
   "cell_type": "code",
   "execution_count": null,
   "id": "1b9db77e",
   "metadata": {},
   "outputs": [],
   "source": [
    "from scripts.data_management import EPManager\n",
    "from scripts.util import MyLogger, load_sents\n",
    "from scripts.translators import translate_document\n",
    "from os.path import join\n",
    "\n",
    "logger = MyLogger(logfile='log.jsonl')\n",
    "main_folder = join('ep', 'gpt')\n",
    "dm = EPManager()\n",
    "\n",
    "def translation_loop(target_pairs):\n",
    "    for pair in target_pairs:\n",
    "        src_lang, tgt_lang = pair\n",
    "        src_sents, _ = dm.get_sentence_pairs(src_lang, tgt_lang, num_of_sents=100)\n",
    "        logger.add_dataset_info(name='ep', num_of_sents=100)\n",
    "        try:\n",
    "            translate_document(\n",
    "                text=src_sents,\n",
    "                src_lang=src_lang,\n",
    "                tgt_lang=tgt_lang,\n",
    "                logger=logger,\n",
    "                mt_folder=main_folder,\n",
    "                translator='gpt-4.1'\n",
    "            )\n",
    "        except Exception as e:\n",
    "            logger.log_error(\n",
    "                error=e,\n",
    "                src_lang=src_lang,\n",
    "                tgt_lang=tgt_lang,\n",
    "                translator='gpt-4.1'\n",
    "            )\n",
    "            print(str(e))\n",
    "            continue\n",
    "    mt_sents = load_sents(main_folder, src_lang, tgt_lang)\n",
    "    print(f'{len(mt_sents)} translated from {src_lang} to {tgt_lang}')\n"
   ]
  },
  {
   "cell_type": "code",
   "execution_count": 13,
   "id": "6226564a",
   "metadata": {},
   "outputs": [],
   "source": [
    "some_pairs = [\n",
    "    ('en', 'de'),\n",
    "    ('de', 'en'),\n",
    "    ('el', 'de'),\n",
    "    ('es', 'en'),\n",
    "    ('fi', 'fr')\n",
    "]"
   ]
  },
  {
   "cell_type": "code",
   "execution_count": null,
   "id": "cf1aee8d",
   "metadata": {},
   "outputs": [],
   "source": [
    "translation_loop(some_pairs)"
   ]
  }
 ],
 "metadata": {
  "kernelspec": {
   "display_name": "Python 3",
   "language": "python",
   "name": "python3"
  },
  "language_info": {
   "name": "python",
   "version": "3.12.6"
  }
 },
 "nbformat": 4,
 "nbformat_minor": 5
}
