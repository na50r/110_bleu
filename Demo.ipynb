{
 "cells": [
  {
   "cell_type": "markdown",
   "id": "48893bc1",
   "metadata": {},
   "source": [
    "# Demonstration\n",
    "* In this Jupyter Notebook we show using MockClients how the translation process will work.\n",
    "* It is possible to run the scripts on Terminal but we use Jupyter Notebooks to document exactly what the author used to run the code.\n",
    "* **NOTE**: MockClient used in `proc0.py` does not take data manager as input, which means it returns just a Ceaser Cipher to mimick translations, language detection was thus DISABLED. This allows us to have a procedure very similar to what we do in the real case, where we cannot pass in the data manager as input either."
   ]
  },
  {
   "cell_type": "code",
   "execution_count": 1,
   "id": "8de3cea0",
   "metadata": {},
   "outputs": [
    {
     "name": "stderr",
     "output_type": "stream",
     "text": [
      "INFO: 2025-05-07 12:44:07 - [🚀]: Selected task for opus-100 - gpt-4.1-2025-04-14\n",
      "INFO: 2025-05-07 12:44:07 - [🏁]: Starting task 68f289ef-0e55-4aea-9b69-39a273316bf4 on commit 4865abf\n",
      "ERROR: 2025-05-07 12:44:07 - [🔥]: Error MockError\n",
      "INFO: 2025-05-07 12:44:07 - [🕒]: Retrying de-en...\n",
      "INFO: 2025-05-07 12:44:07 - [❌]: Translated 200 sents for de-en but rejected: outside acceptable range\n",
      "INFO: 2025-05-07 12:44:07 - [🕒]: Retrying de-en...\n",
      "INFO: 2025-05-07 12:44:07 - [✔️]: Translated 400 sents for de-en\n",
      "INFO: 2025-05-07 12:44:08 - [✔️]: Translated 400 sents for en-de\n",
      "INFO: 2025-05-07 12:44:08 - [✔️]: Translated 400 sents for da-en\n",
      "INFO: 2025-05-07 12:44:08 - [✔️]: Translated 400 sents for en-da\n",
      "INFO: 2025-05-07 12:44:08 - [✔️]: Translated 400 sents for el-en\n",
      "INFO: 2025-05-07 12:44:08 - [✔️]: Translated 400 sents for en-el\n",
      "INFO: 2025-05-07 12:44:09 - [✔️]: Translated 400 sents for pt-en\n",
      "INFO: 2025-05-07 12:44:09 - [✔️]: Translated 400 sents for en-pt\n",
      "INFO: 2025-05-07 12:44:09 - [✔️]: Translated 400 sents for sv-en\n",
      "INFO: 2025-05-07 12:44:09 - [✔️]: Translated 400 sents for en-sv\n",
      "INFO: 2025-05-07 12:44:09 - [✔️]: Translated 400 sents for es-en\n",
      "INFO: 2025-05-07 12:44:10 - [✔️]: Translated 400 sents for en-es\n",
      "INFO: 2025-05-07 12:44:10 - [✔️]: Translated 400 sents for fi-en\n",
      "INFO: 2025-05-07 12:44:10 - [✔️]: Translated 400 sents for en-fi\n",
      "INFO: 2025-05-07 12:44:10 - [✔️]: Translated 400 sents for fr-en\n",
      "INFO: 2025-05-07 12:44:10 - [✔️]: Translated 400 sents for en-fr\n",
      "INFO: 2025-05-07 12:44:11 - [✔️]: Translated 400 sents for it-en\n",
      "INFO: 2025-05-07 12:44:11 - [✔️]: Translated 400 sents for en-it\n",
      "INFO: 2025-05-07 12:44:11 - [✔️]: Translated 400 sents for nl-en\n",
      "INFO: 2025-05-07 12:44:11 - [✔️]: Translated 400 sents for en-nl\n",
      "INFO: 2025-05-07 12:44:11 - [🏁]: Task took 4.18s\n"
     ]
    }
   ],
   "source": [
    "%run proc0.py run -m gpt-4.1-2025-04-14 -d opus-100"
   ]
  },
  {
   "cell_type": "markdown",
   "id": "64a7cd51",
   "metadata": {},
   "source": [
    "* Logs observable when running the task using the `proc0.py` script are brief\n",
    "* The same logs are also stored in a `.log` file that is more detailed in case of errors\n",
    "    * This process is not run on a server nor requires deployments, hence it makes more sense to have the real-time logs brief / readable, whereas the stored logs are more detailed for debugging purposes\n",
    "    * Since we use Jupyter Notebook, it is possible to 'store' both types of logs (given the notebook is not re-run by accident...)\n",
    " "
   ]
  },
  {
   "cell_type": "code",
   "execution_count": 2,
   "id": "4ca32ec8",
   "metadata": {},
   "outputs": [
    {
     "name": "stdout",
     "output_type": "stream",
     "text": [
      "INFO: 2025-05-07 12:44:07 - [🚀]: Selected task for opus-100 - gpt-4.1-2025-04-14\n",
      "INFO: 2025-05-07 12:44:07 - [🏁]: Starting task 68f289ef-0e55-4aea-9b69-39a273316bf4 on commit 4865abf\n",
      "ERROR: 2025-05-07 12:44:07 - [🔥]: Error MockError\n",
      "DEBUG: 2025-05-07 12:44:07 - Traceback:\n",
      "Traceback (most recent call last):\n",
      "  File \"C:\\Files\\UZH\\Semester_6\\BA_Thesis\\BA_Repo\\scripts\\task.py\", line 185, in run\n",
      "    mt_sents = self.client.translate_and_store_document(\n",
      "               ^^^^^^^^^^^^^^^^^^^^^^^^^^^^^^^^^^^^^^^^^\n",
      "  File \"C:\\Files\\UZH\\Semester_6\\BA_Thesis\\BA_Repo\\scripts\\translators.py\", line 47, in translate_and_store_document\n",
      "    out_text = self.translate_document(\n",
      "               ^^^^^^^^^^^^^^^^^^^^^^^^\n",
      "  File \"C:\\Files\\UZH\\Semester_6\\BA_Thesis\\BA_Repo\\scripts\\translators.py\", line 312, in translate_document\n",
      "    out_text = self.translate(src_lang, tgt_lang, in_text)\n",
      "               ^^^^^^^^^^^^^^^^^^^^^^^^^^^^^^^^^^^^^^^^^^^\n",
      "  File \"C:\\Files\\UZH\\Semester_6\\BA_Thesis\\BA_Repo\\scripts\\translators.py\", line 297, in translate\n",
      "    raise (Exception(f'MockError'))\n",
      "Exception: MockError\n",
      "INFO: 2025-05-07 12:44:07 - [🕒]: Retrying de-en...\n",
      "INFO: 2025-05-07 12:44:07 - [❌]: Translated 200 sents for de-en but rejected: outside acceptable range\n",
      "TRANSLATION: 2025-05-07 12:44:07 - {\"src_lang\": \"de\", \"tgt_lang\": \"en\", \"start\": 1746614647.509234, \"in_lines\": 400, \"in_sents\": 444, \"in_chars\": 32731, \"in_tokens\": 8295, \"end\": 1746614647.5710516, \"out_chars\": 15366, \"out_lines\": 200, \"out_sents\": 237, \"out_tokens\": 7368, \"id\": \"68f289ef-0e55-4aea-9b69-39a273316bf4-0002\", \"translator\": \"gpt-4.1-2025-04-14\", \"dataset\": \"Helsinki-NLP/opus-100\", \"status_code\": 1, \"verdict\": \"rejected\"}\n"
     ]
    }
   ],
   "source": [
    "!cat proc0.log | head -n 20"
   ]
  },
  {
   "cell_type": "markdown",
   "id": "3a976091",
   "metadata": {},
   "source": [
    "* We can reproduce the simpler logs using `grep`\n",
    "    * On Windows we need to use double quotations for the Regex, for Linux/Mac single quotes would work too "
   ]
  },
  {
   "cell_type": "code",
   "execution_count": 3,
   "id": "48680ddf",
   "metadata": {},
   "outputs": [
    {
     "name": "stdout",
     "output_type": "stream",
     "text": [
      "INFO: 2025-05-07 12:44:07 - [🚀]: Selected task for opus-100 - gpt-4.1-2025-04-14\n",
      "INFO: 2025-05-07 12:44:07 - [🏁]: Starting task 68f289ef-0e55-4aea-9b69-39a273316bf4 on commit 4865abf\n",
      "ERROR: 2025-05-07 12:44:07 - [🔥]: Error MockError\n",
      "INFO: 2025-05-07 12:44:07 - [🕒]: Retrying de-en...\n",
      "INFO: 2025-05-07 12:44:07 - [❌]: Translated 200 sents for de-en but rejected: outside acceptable range\n",
      "INFO: 2025-05-07 12:44:07 - [🕒]: Retrying de-en...\n"
     ]
    }
   ],
   "source": [
    "!grep -P \"(INFO:|ERROR:)\" proc0.log | head -n 6"
   ]
  },
  {
   "cell_type": "markdown",
   "id": "35b22f9d",
   "metadata": {},
   "source": [
    "* Logs that are prefixed with `TRANSLATION` are translation specific logs, they are also stored in a JSONL separately, used for analysis purposes"
   ]
  },
  {
   "cell_type": "code",
   "execution_count": 4,
   "id": "e8536ef7",
   "metadata": {},
   "outputs": [
    {
     "name": "stdout",
     "output_type": "stream",
     "text": [
      "{\"src_lang\": \"de\", \"tgt_lang\": \"en\", \"start\": 1746614647.509234, \"in_lines\": 400, \"in_sents\": 444, \"in_chars\": 32731, \"in_tokens\": 8295, \"end\": 1746614647.5710516, \"out_chars\": 15366, \"out_lines\": 200, \"out_sents\": 237, \"out_tokens\": 7368, \"id\": \"68f289ef-0e55-4aea-9b69-39a273316bf4-0002\", \"translator\": \"gpt-4.1-2025-04-14\", \"dataset\": \"Helsinki-NLP/opus-100\", \"status_code\": 1, \"verdict\": \"rejected\"}\n",
      "{\"src_lang\": \"de\", \"tgt_lang\": \"en\", \"start\": 1746614647.6548312, \"in_lines\": 400, \"in_sents\": 444, \"in_chars\": 32731, \"in_tokens\": 8295, \"end\": 1746614647.7366693, \"out_chars\": 32731, \"out_lines\": 400, \"out_sents\": 478, \"out_tokens\": 15578, \"id\": \"68f289ef-0e55-4aea-9b69-39a273316bf4-0003\", \"translator\": \"gpt-4.1-2025-04-14\", \"dataset\": \"Helsinki-NLP/opus-100\", \"status_code\": 0, \"verdict\": \"accepted\"}\n",
      "{\"src_lang\": \"en\", \"tgt_lang\": \"de\", \"start\": 1746614647.8718607, \"in_lines\": 400, \"in_sents\": 446, \"in_chars\": 29414, \"in_tokens\": 6994, \"end\": 1746614647.9358702, \"out_chars\": 29414, \"out_lines\": 400, \"out_sents\": 449, \"out_tokens\": 13305, \"id\": \"68f289ef-0e55-4aea-9b69-39a273316bf4-0004\", \"translator\": \"gpt-4.1-2025-04-14\", \"dataset\": \"Helsinki-NLP/opus-100\", \"status_code\": 0, \"verdict\": \"accepted\"}\n",
      "{\"src_lang\": \"da\", \"tgt_lang\": \"en\", \"start\": 1746614648.0715332, \"in_lines\": 400, \"in_sents\": 421, \"in_chars\": 25992, \"in_tokens\": 7556, \"end\": 1746614648.1352735, \"out_chars\": 25992, \"out_lines\": 400, \"out_sents\": 440, \"out_tokens\": 12442, \"id\": \"68f289ef-0e55-4aea-9b69-39a273316bf4-0005\", \"translator\": \"gpt-4.1-2025-04-14\", \"dataset\": \"Helsinki-NLP/opus-100\", \"status_code\": 0, \"verdict\": \"accepted\"}\n",
      "{\"src_lang\": \"en\", \"tgt_lang\": \"da\", \"start\": 1746614648.2466412, \"in_lines\": 400, \"in_sents\": 452, \"in_chars\": 27605, \"in_tokens\": 6115, \"end\": 1746614648.3297544, \"out_chars\": 27605, \"out_lines\": 400, \"out_sents\": 454, \"out_tokens\": 12312, \"id\": \"68f289ef-0e55-4aea-9b69-39a273316bf4-0006\", \"translator\": \"gpt-4.1-2025-04-14\", \"dataset\": \"Helsinki-NLP/opus-100\", \"status_code\": 0, \"verdict\": \"accepted\"}\n"
     ]
    }
   ],
   "source": [
    "!cat tmp/proc0.jsonl | head -n 5"
   ]
  },
  {
   "cell_type": "markdown",
   "id": "b734b908",
   "metadata": {},
   "source": [
    "* The translation logs are linked to the task, observe of the translation log ids use the task id as a prefix."
   ]
  },
  {
   "cell_type": "code",
   "execution_count": 5,
   "id": "5a667d97",
   "metadata": {},
   "outputs": [
    {
     "name": "stdout",
     "output_type": "stream",
     "text": [
      "{\n",
      "    \"task_id\": \"68f289ef-0e55-4aea-9b69-39a273316bf4\",\n",
      "    \"git_hash\": \"4865abf\",\n",
      "    \"dataset\": \"Helsinki-NLP/opus-100\",\n",
      "    \"num_of_sents\": 400,\n",
      "    \"split\": \"test[:500]\",\n",
      "    \"translator\": \"gpt-4.1-2025-04-14\",\n",
      "    \"acceptable_range\": [\n",
      "        360,\n",
      "        480\n",
      "    ],\n",
      "    \"timestamp\": \"2025-05-07T12:44:11.564681+02:00\",\n",
      "    \"manual_retry\": false,\n",
      "    \"max_retries\": 2,\n",
      "    \"retry_delay\": 0,\n",
      "    \"duration\": 4.17696475982666\n",
      "}\n"
     ]
    }
   ],
   "source": [
    "!cat tmp/proc0/opus-100/gpt-4.1-2025-04-14/task.json"
   ]
  },
  {
   "cell_type": "markdown",
   "id": "1aef71cf",
   "metadata": {},
   "source": [
    "## Manual Retry\n",
    "* In cases were a task, even if automatic retry is accounted for, fails to deliver translations that are desired, we need to run the task again. \n",
    "* For documentation purposes, we want to link these 'faulty' translations to ones the task delievered before.\n",
    "* If it is 'faulty' because we never get one due to errors, in such cases we do not log any translations, we still specify a reason but no id\n",
    "* If it is 'faulty' because we automatically rejected the ones that arrived, we link it to the newest one.\n",
    "    * Automatic rejection of translations is limited to avoid paying too much\n",
    "    * Rejection reason is mainly receiving too much or too little output translations. All rejected translations are still stored and have an id. "
   ]
  },
  {
   "cell_type": "markdown",
   "id": "042dab9a",
   "metadata": {},
   "source": [
    "* In the following we define a scenario where En-Fr and Fr-En will not be translated successfully because:\n",
    "    * En-Fr was rejected three times automatically\n",
    "    * Fr-En failed three times  "
   ]
  },
  {
   "cell_type": "code",
   "execution_count": 6,
   "id": "a00ce8d2",
   "metadata": {},
   "outputs": [],
   "source": [
    "from scripts.constants import N, E, R1, R2, R3\n",
    "pairs = [('en', 'de'), ('en', 'fr'), ('de', 'en'), ('fr', 'en')]\n",
    "scenario = [N, R1, R1, R2, N, E, E, E] \n",
    "# Pass, Reject twice due to outside accepted range, Reject once due t owrong language, Pass, Error thrice\n",
    "verdicts = ['accepted', 'rejected', 'rejected', 'rejected', 'accepted']\n",
    "# Errors are not logged in JSONL, hence we check only accepted/rejected\n",
    "# We also check the status codes defined in scripts/constants.py\n",
    "status_codes = [c for c in scenario if c != E]"
   ]
  },
  {
   "cell_type": "markdown",
   "id": "f7e25235",
   "metadata": {},
   "source": [
    "* **NOTE**: This time we include language detection and have our MockClient use the data manager as well, so language detection is sensible and the MockClient outputs 'perfect translations'"
   ]
  },
  {
   "cell_type": "code",
   "execution_count": 7,
   "id": "153b593f",
   "metadata": {},
   "outputs": [],
   "source": [
    "from scripts.data_management import Opus100Manager\n",
    "from scripts.task import TranslationTask\n",
    "from scripts.translators import MockClient\n",
    "from scripts.logger import TranslationLogger\n",
    "from os.path import join\n",
    "from io import StringIO\n",
    "main_folder = 'tmp'\n",
    "sub_folder = join(main_folder, 'proc0')\n",
    "\n",
    "dm = Opus100Manager()\n",
    "logfile = StringIO()\n",
    "logger = TranslationLogger(logfile=logfile)\n",
    "# This time we pass in the DM into the client to account for language detection\n",
    "cli = MockClient(logger=logger, model='mock', scenario=scenario, dm=dm)\n",
    "task = TranslationTask(\n",
    "    target_pairs=pairs,\n",
    "    dm=dm,\n",
    "    client=cli,\n",
    "    logger=logger,\n",
    "    mt_folder=sub_folder,\n",
    "    num_of_sents=400,\n",
    "    max_retries=2,\n",
    "    retry_delay=0\n",
    ")"
   ]
  },
  {
   "cell_type": "code",
   "execution_count": 8,
   "id": "60f279b7",
   "metadata": {},
   "outputs": [
    {
     "name": "stderr",
     "output_type": "stream",
     "text": [
      "INFO: 2025-05-07 12:44:11 - [🏁]: Starting task fc35ee01-77c5-4482-9a8e-f1ae60332a72 on commit 4865abf\n"
     ]
    },
    {
     "name": "stderr",
     "output_type": "stream",
     "text": [
      "INFO: 2025-05-07 12:44:12 - [✔️]: Translated 400 sents for en-de\n",
      "INFO: 2025-05-07 12:44:12 - [❌]: Translated 200 sents for en-fr but rejected: outside acceptable range\n",
      "INFO: 2025-05-07 12:44:12 - [🕒]: Retrying en-fr...\n",
      "INFO: 2025-05-07 12:44:12 - [❌]: Translated 200 sents for en-fr but rejected: outside acceptable range\n",
      "INFO: 2025-05-07 12:44:12 - [🕒]: Retrying en-fr...\n",
      "INFO: 2025-05-07 12:44:13 - [❌]: Translated 400 sents for en-fr but rejected: expected lang fr but got en\n",
      "INFO: 2025-05-07 12:44:13 - [⏭️]: Failed 2 times, skipping en-fr...\n",
      "INFO: 2025-05-07 12:44:13 - [✔️]: Translated 400 sents for de-en\n",
      "ERROR: 2025-05-07 12:44:13 - [🔥]: Error MockError\n",
      "INFO: 2025-05-07 12:44:13 - [🕒]: Retrying fr-en...\n",
      "ERROR: 2025-05-07 12:44:13 - [🔥]: Error MockError\n",
      "INFO: 2025-05-07 12:44:13 - [🕒]: Retrying fr-en...\n",
      "ERROR: 2025-05-07 12:44:13 - [🔥]: Error MockError\n",
      "INFO: 2025-05-07 12:44:13 - [⏭️]: Failed 2 times, skipping fr-en...\n",
      "INFO: 2025-05-07 12:44:13 - [🏁]: Task took 1.88s\n"
     ]
    }
   ],
   "source": [
    "task.run()"
   ]
  },
  {
   "cell_type": "code",
   "execution_count": 9,
   "id": "1787d4d6",
   "metadata": {},
   "outputs": [
    {
     "data": {
      "text/plain": [
       "(True, True)"
      ]
     },
     "execution_count": 9,
     "metadata": {},
     "output_type": "execute_result"
    }
   ],
   "source": [
    "import json\n",
    "# How the JSONL can be used for testing / analysis\n",
    "log_data = [json.loads(ln) for ln in logfile.getvalue().splitlines()]\n",
    "check1 = [log['verdict'] for log in log_data] == verdicts\n",
    "check2 = [log['status_code'] for log in log_data] == status_codes\n",
    "check1, check2\n"
   ]
  },
  {
   "cell_type": "markdown",
   "id": "0a113005",
   "metadata": {},
   "source": [
    "* Based on these results, we decide to retry En-Fr and Fr-En.\n",
    "* During analysis, we also noticed that De-En has not been translated at all, BLEU score single digits, src-text was returned, so we retry that as well."
   ]
  },
  {
   "cell_type": "code",
   "execution_count": 10,
   "id": "898ce8dd",
   "metadata": {},
   "outputs": [
    {
     "data": {
      "text/plain": [
       "['fc35ee01-77c5-4482-9a8e-f1ae60332a72-0002',\n",
       " 'fc35ee01-77c5-4482-9a8e-f1ae60332a72-0003',\n",
       " 'fc35ee01-77c5-4482-9a8e-f1ae60332a72-0004',\n",
       " 'fc35ee01-77c5-4482-9a8e-f1ae60332a72-0005']"
      ]
     },
     "execution_count": 10,
     "metadata": {},
     "output_type": "execute_result"
    }
   ],
   "source": [
    "log_ids = [log['id'] for log in log_data if (log['src_lang'] == 'en' and log['tgt_lang'] == 'fr') or (log['src_lang'] == 'de' and log['tgt_lang'] == 'en')]\n",
    "log_ids"
   ]
  },
  {
   "cell_type": "code",
   "execution_count": 11,
   "id": "91a2c856",
   "metadata": {},
   "outputs": [
    {
     "name": "stdout",
     "output_type": "stream",
     "text": [
      "en fr fc35ee01-77c5-4482-9a8e-f1ae60332a72-0004\n",
      "de en fc35ee01-77c5-4482-9a8e-f1ae60332a72-0005\n"
     ]
    }
   ],
   "source": [
    "for log in log_data:\n",
    "    if log['id'] == log_ids[-2]:\n",
    "        print(log['src_lang'], log['tgt_lang'], log['id'])\n",
    "    if log['id'] == log_ids[-1]:\n",
    "        print(log['src_lang'], log['tgt_lang'], log['id'])\n",
    "\n"
   ]
  },
  {
   "cell_type": "code",
   "execution_count": 12,
   "id": "04219481",
   "metadata": {},
   "outputs": [
    {
     "name": "stderr",
     "output_type": "stream",
     "text": [
      "INFO: 2025-05-07 12:44:13 - [🏁]: Starting task f7c49f13-fcba-46ec-8d5c-e5c0ae74ce61 on commit 4865abf\n"
     ]
    },
    {
     "name": "stderr",
     "output_type": "stream",
     "text": [
      "INFO: 2025-05-07 12:44:14 - [✔️]: Translated 400 sents for en-fr\n",
      "INFO: 2025-05-07 12:44:14 - [✔️]: Translated 400 sents for de-en\n",
      "INFO: 2025-05-07 12:44:14 - [✔️]: Translated 400 sents for fr-en\n",
      "INFO: 2025-05-07 12:44:14 - [🏁]: Task took 0.95s\n"
     ]
    }
   ],
   "source": [
    "from scripts.logger import RetryLog\n",
    "selected_ids = [log_ids[-2], log_ids[-1], None]\n",
    "target_pairs = [('en', 'fr'), ('de', 'en'), ('fr', 'en')]\n",
    "reasons = ['no accepted translation yet', 'returned src text', 'no translation received yet']\n",
    "retry_log = RetryLog(pairs=target_pairs, log_ids=selected_ids, reasons=reasons)\n",
    "new_logger = TranslationLogger(logfile=logfile, retry_log=retry_log)\n",
    "cli = MockClient(logger=new_logger, dm=dm)\n",
    "sub_folder = join(main_folder, 'tmp2')\n",
    "\n",
    "task = TranslationTask(\n",
    "    target_pairs=target_pairs,\n",
    "    dm=dm,\n",
    "    client=cli,\n",
    "    logger=new_logger,\n",
    "    mt_folder=sub_folder,\n",
    "    num_of_sents=400,\n",
    "    manual_retry=True,\n",
    "    max_retries=1,\n",
    "    retry_delay=0\n",
    ")\n",
    "\n",
    "task.run()"
   ]
  },
  {
   "cell_type": "code",
   "execution_count": 13,
   "id": "849e5488",
   "metadata": {},
   "outputs": [
    {
     "name": "stdout",
     "output_type": "stream",
     "text": [
      "en fr {'prev_id': 'fc35ee01-77c5-4482-9a8e-f1ae60332a72-0004', 'reason': 'no accepted translation yet'}\n",
      "de en {'prev_id': 'fc35ee01-77c5-4482-9a8e-f1ae60332a72-0005', 'reason': 'returned src text'}\n",
      "fr en {'prev_id': None, 'reason': 'no translation received yet'}\n"
     ]
    }
   ],
   "source": [
    "log_data = [json.loads(ln) for ln in logfile.getvalue().splitlines()]\n",
    "for log in log_data[-3:]:\n",
    "    print(log['src_lang'], log['tgt_lang'], log['manual_retry'])"
   ]
  },
  {
   "cell_type": "code",
   "execution_count": 14,
   "id": "92ac5ce1",
   "metadata": {},
   "outputs": [],
   "source": [
    "!rm -rf tmp"
   ]
  }
 ],
 "metadata": {
  "kernelspec": {
   "display_name": "thesis",
   "language": "python",
   "name": "python3"
  },
  "language_info": {
   "codemirror_mode": {
    "name": "ipython",
    "version": 3
   },
   "file_extension": ".py",
   "mimetype": "text/x-python",
   "name": "python",
   "nbconvert_exporter": "python",
   "pygments_lexer": "ipython3",
   "version": "3.12.6"
  }
 },
 "nbformat": 4,
 "nbformat_minor": 5
}
