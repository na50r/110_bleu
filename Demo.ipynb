{
 "cells": [
  {
   "cell_type": "markdown",
   "id": "b1daa3d1",
   "metadata": {},
   "source": [
    "# Example Run\n",
    "* One possible way how the translation task can be conducted\n",
    "* In the real run, pairs will be chosen with reason and depending on the translator, we may run on batches of pairs or on all of them\n",
    "* In this Demo, we randomly choose some pairs"
   ]
  },
  {
   "cell_type": "markdown",
   "id": "c6228123",
   "metadata": {},
   "source": [
    "## Translation Task"
   ]
  },
  {
   "cell_type": "markdown",
   "id": "4f3ee179",
   "metadata": {},
   "source": [
    "* Code used for translation, namely from `data_management`, `util`, `translators` and `task` MUST NOT CHANGE mid or post translation.\n",
    "* It has to be decided at which commit code is considered `fixed` and after that those 3 files must remain untouched.\n",
    "* If Git still tracks changes, those changes may not impact anything that would make the code behave differently from before."
   ]
  },
  {
   "cell_type": "code",
   "execution_count": 1,
   "id": "f66fff12",
   "metadata": {},
   "outputs": [],
   "source": [
    "from scripts.task import TranslationTask\n",
    "from scripts.data_management import EPManager\n",
    "from scripts.translators import GPT4Client, DeeplClient\n",
    "from scripts.util import MyLogger\n",
    "from os.path import join\n",
    "from random import sample, seed\n",
    "seed(42)\n",
    "possible = [tuple(pair.split('-')) for pair in EPManager.EP_PAIRS]\n",
    "extended = [(pair[1], pair[0]) for pair in possible]\n",
    "possible = possible + extended\n",
    "some_pairs = sample(sorted(possible), k=8)\n",
    "\n",
    "example_folder = 'exmpl'\n",
    "mt_folder_gpt = join(example_folder, 'gpt41')\n",
    "mt_folder_deepl = join(example_folder, 'deepl')\n",
    "\n",
    "dm = EPManager()  \n",
    "logger = MyLogger(logfile=join('exmpl', 'log.jsonl')) \n",
    "client_gpt = GPT4Client(logger=logger)  \n",
    "client_deepl = DeeplClient(logger=logger)"
   ]
  },
  {
   "cell_type": "code",
   "execution_count": 2,
   "id": "7c3ea07d",
   "metadata": {},
   "outputs": [
    {
     "data": {
      "text/plain": [
       "[('nl', 'de'),\n",
       " ('de', 'fi'),\n",
       " ('da', 'es'),\n",
       " ('pt', 'es'),\n",
       " ('en', 'fr'),\n",
       " ('en', 'de'),\n",
       " ('el', 'pt'),\n",
       " ('de', 'nl')]"
      ]
     },
     "execution_count": 2,
     "metadata": {},
     "output_type": "execute_result"
    }
   ],
   "source": [
    "some_pairs"
   ]
  },
  {
   "cell_type": "code",
   "execution_count": 3,
   "id": "44a1b559",
   "metadata": {},
   "outputs": [],
   "source": [
    "task_gpt = TranslationTask(\n",
    "    target_pairs=some_pairs,\n",
    "    dm=dm,\n",
    "    client=client_gpt,\n",
    "    logger=logger,\n",
    "    mt_folder=mt_folder_gpt,\n",
    "    num_of_sents=50\n",
    ")\n",
    "\n",
    "task_deepl = TranslationTask(\n",
    "    target_pairs=some_pairs,\n",
    "    dm=dm,\n",
    "    client=client_deepl,\n",
    "    logger=logger,\n",
    "    mt_folder=mt_folder_deepl,\n",
    "    num_of_sents=50\n",
    ")"
   ]
  },
  {
   "cell_type": "code",
   "execution_count": 4,
   "id": "576c84d2",
   "metadata": {},
   "outputs": [
    {
     "name": "stdout",
     "output_type": "stream",
     "text": [
      "50 translated from nl to de\n",
      "50 translated from de to fi\n",
      "50 translated from da to es\n",
      "50 translated from pt to es\n",
      "50 translated from en to fr\n",
      "50 translated from en to de\n",
      "50 translated from el to pt\n",
      "50 translated from de to nl\n"
     ]
    }
   ],
   "source": [
    "task_deepl.run()"
   ]
  },
  {
   "cell_type": "code",
   "execution_count": 5,
   "id": "84cadbcd",
   "metadata": {},
   "outputs": [
    {
     "name": "stdout",
     "output_type": "stream",
     "text": [
      "50 translated from nl to de\n",
      "50 translated from de to fi\n",
      "50 translated from da to es\n",
      "50 translated from pt to es\n",
      "50 translated from en to fr\n",
      "50 translated from en to de\n",
      "50 translated from el to pt\n",
      "50 translated from de to nl\n"
     ]
    }
   ],
   "source": [
    "task_gpt.run()"
   ]
  },
  {
   "cell_type": "markdown",
   "id": "966a44ae",
   "metadata": {},
   "source": [
    "## Logs\n",
    "* We can print our logs within the notebook but it is safer to store them externally.\n",
    "* This notebook can be re-run post translation, API calls will not be made but the logs will change\n",
    "* External stored logs represent logs created at time of translation and can be viewed through Python or unix commands"
   ]
  },
  {
   "cell_type": "code",
   "execution_count": 6,
   "id": "3c9fc245",
   "metadata": {},
   "outputs": [
    {
     "name": "stdout",
     "output_type": "stream",
     "text": [
      "{\"translator\": \"deepl_document\", \"src_lang\": \"nl\", \"tgt_lang\": \"de\", \"start\": 1745503704.618983, \"id\": \"56b7f065-4230-4cc4-99aa-54aa00e459b2\", \"in_lines\": 50, \"in_sents\": 56, \"timestamp\": \"2025-04-24 16:08:24.635019+02:00\", \"in_chars\": 7097, \"in_tokens\": 1561, \"dataset\": {\"name\": \"Helsinki-NLP/europarl\", \"num_of_sents\": 50, \"start_idx\": 0, \"split\": \"train[:500]\"}, \"end\": 1745503710.2351432, \"time\": 5.616160154342651, \"out_chars\": 7092, \"out_lines\": 50, \"out_sents\": 56, \"out_tokens\": 1533, \"status\": \"done\", \"error_msg\": null}\n",
      "{\"translator\": \"deepl_document\", \"src_lang\": \"de\", \"tgt_lang\": \"fi\", \"start\": 1745503710.283385, \"id\": \"36a1b7b4-198a-4eff-98bf-856c72efe220\", \"in_lines\": 50, \"in_sents\": 55, \"timestamp\": \"2025-04-24 16:08:30.295425+02:00\", \"in_chars\": 7041, \"in_tokens\": 1551, \"dataset\": {\"name\": \"Helsinki-NLP/europarl\", \"num_of_sents\": 50, \"start_idx\": 0, \"split\": \"train[:500]\"}, \"end\": 1745503715.8138244, \"time\": 5.530439376831055, \"out_chars\": 6294, \"out_lines\": 50, \"out_sents\": 53, \"out_tokens\": 1798, \"status\": \"done\", \"error_msg\": null}\n",
      "{\"translator\": \"deepl_document\", \"src_lang\": \"da\", \"tgt_lang\": \"es\", \"start\": 1745503715.8527603, \"id\": \"bbb2b84d-07e9-4159-acbf-d544b90dded3\", \"in_lines\": 50, \"in_sents\": 51, \"timestamp\": \"2025-04-24 16:08:35.865764+02:00\", \"in_chars\": 6445, \"in_tokens\": 1790, \"dataset\": {\"name\": \"Helsinki-NLP/europarl\", \"num_of_sents\": 50, \"start_idx\": 0, \"split\": \"train[:500]\"}, \"end\": 1745503721.3778505, \"time\": 5.525090217590332, \"out_chars\": 6737, \"out_lines\": 50, \"out_sents\": 52, \"out_tokens\": 1466, \"status\": \"done\", \"error_msg\": null}\n",
      "{\"translator\": \"deepl_document\", \"src_lang\": \"pt\", \"tgt_lang\": \"es\", \"start\": 1745503721.4206097, \"id\": \"2ea8bd84-7075-46d1-a488-27de8f1485f2\", \"in_lines\": 50, \"in_sents\": 51, \"timestamp\": \"2025-04-24 16:08:41.436607+02:00\", \"in_chars\": 7286, \"in_tokens\": 1597, \"dataset\": {\"name\": \"Helsinki-NLP/europarl\", \"num_of_sents\": 50, \"start_idx\": 0, \"split\": \"train[:500]\"}, \"end\": 1745503726.9713297, \"time\": 5.550719976425171, \"out_chars\": 6894, \"out_lines\": 50, \"out_sents\": 51, \"out_tokens\": 1501, \"status\": \"done\", \"error_msg\": null}\n",
      "{\"translator\": \"deepl_document\", \"src_lang\": \"en\", \"tgt_lang\": \"fr\", \"start\": 1745503727.005498, \"id\": \"d53a3f7f-ae8c-4b1f-9df6-fa3f2fdeacf2\", \"in_lines\": 50, \"in_sents\": 51, \"timestamp\": \"2025-04-24 16:08:47.016479+02:00\", \"in_chars\": 6527, \"in_tokens\": 1329, \"dataset\": {\"name\": \"Helsinki-NLP/europarl\", \"num_of_sents\": 50, \"start_idx\": 0, \"split\": \"train[:500]\"}, \"end\": 1745503732.6835573, \"time\": 5.678059339523315, \"out_chars\": 7152, \"out_lines\": 50, \"out_sents\": 51, \"out_tokens\": 1607, \"status\": \"done\", \"error_msg\": null}\n",
      "{\"translator\": \"deepl_document\", \"src_lang\": \"en\", \"tgt_lang\": \"de\", \"start\": 1745503732.7067282, \"id\": \"6ddbc424-6577-4c8b-96b0-4d83bfad4ff6\", \"in_lines\": 50, \"in_sents\": 51, \"timestamp\": \"2025-04-24 16:08:52.716732+02:00\", \"in_chars\": 6527, \"in_tokens\": 1329, \"dataset\": {\"name\": \"Helsinki-NLP/europarl\", \"num_of_sents\": 50, \"start_idx\": 0, \"split\": \"train[:500]\"}, \"end\": 1745503738.2031505, \"time\": 5.496422290802002, \"out_chars\": 7263, \"out_lines\": 50, \"out_sents\": 51, \"out_tokens\": 1581, \"status\": \"done\", \"error_msg\": null}\n",
      "{\"translator\": \"deepl_document\", \"src_lang\": \"el\", \"tgt_lang\": \"pt\", \"start\": 1745503738.258513, \"id\": \"f418c9aa-e057-4083-b0d6-157695338e2b\", \"in_lines\": 50, \"in_sents\": 50, \"timestamp\": \"2025-04-24 16:08:58.279515+02:00\", \"in_chars\": 7128, \"in_tokens\": 2489, \"dataset\": {\"name\": \"Helsinki-NLP/europarl\", \"num_of_sents\": 50, \"start_idx\": 0, \"split\": \"train[:500]\"}, \"end\": 1745503743.7403991, \"time\": 5.481886148452759, \"out_chars\": 7118, \"out_lines\": 50, \"out_sents\": 50, \"out_tokens\": 1524, \"status\": \"done\", \"error_msg\": null}\n",
      "{\"translator\": \"deepl_document\", \"src_lang\": \"de\", \"tgt_lang\": \"nl\", \"start\": 1745503743.7791831, \"id\": \"44a5f2ed-6bc1-4bd9-b7d7-a9146df29fda\", \"in_lines\": 50, \"in_sents\": 53, \"timestamp\": \"2025-04-24 16:09:03.791918+02:00\", \"in_chars\": 6889, \"in_tokens\": 1516, \"dataset\": {\"name\": \"Helsinki-NLP/europarl\", \"num_of_sents\": 50, \"start_idx\": 0, \"split\": \"train[:500]\"}, \"end\": 1745503749.3395104, \"time\": 5.5603272914886475, \"out_chars\": 6681, \"out_lines\": 50, \"out_sents\": 53, \"out_tokens\": 1477, \"status\": \"done\", \"error_msg\": null}\n",
      "{\"translator\": \"gpt-4.1\", \"src_lang\": \"nl\", \"tgt_lang\": \"de\", \"start\": 1745503749.4047117, \"id\": \"c91254d0-54f0-4f71-b57f-2c50b9276337\", \"in_lines\": 50, \"in_sents\": 56, \"timestamp\": \"2025-04-24 16:09:09.426710+02:00\", \"in_chars\": 7097, \"in_tokens\": 1561, \"dataset\": {\"name\": \"Helsinki-NLP/europarl\", \"num_of_sents\": 50, \"start_idx\": 0, \"split\": \"train[:500]\"}, \"end\": 1745503773.9538794, \"time\": 24.54916763305664, \"out_chars\": 7328, \"out_lines\": 50, \"out_sents\": 56, \"out_tokens\": 1590, \"in_model_tokens\": 1610, \"out_model_tokens\": 1591, \"finish_reason\": \"stop\"}\n",
      "{\"translator\": \"gpt-4.1\", \"src_lang\": \"de\", \"tgt_lang\": \"fi\", \"start\": 1745503773.9926937, \"id\": \"315320dd-ee3e-401d-ba5b-9c36a0104c2d\", \"in_lines\": 50, \"in_sents\": 55, \"timestamp\": \"2025-04-24 16:09:34.004692+02:00\", \"in_chars\": 7041, \"in_tokens\": 1551, \"dataset\": {\"name\": \"Helsinki-NLP/europarl\", \"num_of_sents\": 50, \"start_idx\": 0, \"split\": \"train[:500]\"}, \"end\": 1745503822.763504, \"time\": 48.77081036567688, \"out_chars\": 6335, \"out_lines\": 50, \"out_sents\": 55, \"out_tokens\": 1843, \"in_model_tokens\": 1601, \"out_model_tokens\": 1844, \"finish_reason\": \"stop\"}\n",
      "{\"translator\": \"gpt-4.1\", \"src_lang\": \"da\", \"tgt_lang\": \"es\", \"start\": 1745503822.7884622, \"id\": \"0dfb5a7a-2e7f-4999-bdda-46c46fe3fdf7\", \"in_lines\": 50, \"in_sents\": 51, \"timestamp\": \"2025-04-24 16:10:22.801239+02:00\", \"in_chars\": 6445, \"in_tokens\": 1790, \"dataset\": {\"name\": \"Helsinki-NLP/europarl\", \"num_of_sents\": 50, \"start_idx\": 0, \"split\": \"train[:500]\"}, \"end\": 1745503837.0040154, \"time\": 14.215553283691406, \"out_chars\": 6681, \"out_lines\": 50, \"out_sents\": 51, \"out_tokens\": 1446, \"in_model_tokens\": 1839, \"out_model_tokens\": 1447, \"finish_reason\": \"stop\"}\n",
      "{\"translator\": \"gpt-4.1\", \"src_lang\": \"pt\", \"tgt_lang\": \"es\", \"start\": 1745503837.045961, \"id\": \"72dda59a-9234-4678-bfa9-25fda87a95d4\", \"in_lines\": 50, \"in_sents\": 51, \"timestamp\": \"2025-04-24 16:10:37.060997+02:00\", \"in_chars\": 7286, \"in_tokens\": 1597, \"dataset\": {\"name\": \"Helsinki-NLP/europarl\", \"num_of_sents\": 50, \"start_idx\": 0, \"split\": \"train[:500]\"}, \"end\": 1745503860.727417, \"time\": 23.681456089019775, \"out_chars\": 7542, \"out_lines\": 50, \"out_sents\": 51, \"out_tokens\": 1657, \"in_model_tokens\": 1646, \"out_model_tokens\": 1658, \"finish_reason\": \"stop\"}\n",
      "{\"translator\": \"gpt-4.1\", \"src_lang\": \"en\", \"tgt_lang\": \"fr\", \"start\": 1745503860.7604141, \"id\": \"20f06962-a366-4e33-bb96-b5ffac509a22\", \"in_lines\": 50, \"in_sents\": 51, \"timestamp\": \"2025-04-24 16:11:00.774396+02:00\", \"in_chars\": 6527, \"in_tokens\": 1329, \"dataset\": {\"name\": \"Helsinki-NLP/europarl\", \"num_of_sents\": 50, \"start_idx\": 0, \"split\": \"train[:500]\"}, \"end\": 1745503886.8842125, \"time\": 26.123798370361328, \"out_chars\": 7238, \"out_lines\": 50, \"out_sents\": 51, \"out_tokens\": 1625, \"in_model_tokens\": 1378, \"out_model_tokens\": 1626, \"finish_reason\": \"stop\"}\n",
      "{\"translator\": \"gpt-4.1\", \"src_lang\": \"en\", \"tgt_lang\": \"de\", \"start\": 1745503886.9132147, \"id\": \"188fe493-8bcb-4042-8316-6ffc7a6c6411\", \"in_lines\": 50, \"in_sents\": 51, \"timestamp\": \"2025-04-24 16:11:26.924102+02:00\", \"in_chars\": 6527, \"in_tokens\": 1329, \"dataset\": {\"name\": \"Helsinki-NLP/europarl\", \"num_of_sents\": 50, \"start_idx\": 0, \"split\": \"train[:500]\"}, \"end\": 1745503919.2070832, \"time\": 32.29386854171753, \"out_chars\": 7286, \"out_lines\": 50, \"out_sents\": 51, \"out_tokens\": 1593, \"in_model_tokens\": 1378, \"out_model_tokens\": 1594, \"finish_reason\": \"stop\"}\n",
      "{\"translator\": \"gpt-4.1\", \"src_lang\": \"el\", \"tgt_lang\": \"pt\", \"start\": 1745503919.236007, \"id\": \"932b08f2-cbfd-45d0-b428-67bd1b77df29\", \"in_lines\": 50, \"in_sents\": 50, \"timestamp\": \"2025-04-24 16:11:59.259003+02:00\", \"in_chars\": 7128, \"in_tokens\": 2489, \"dataset\": {\"name\": \"Helsinki-NLP/europarl\", \"num_of_sents\": 50, \"start_idx\": 0, \"split\": \"train[:500]\"}, \"end\": 1745503943.4153762, \"time\": 24.1793692111969, \"out_chars\": 7042, \"out_lines\": 50, \"out_sents\": 50, \"out_tokens\": 1532, \"in_model_tokens\": 2539, \"out_model_tokens\": 1533, \"finish_reason\": \"stop\"}\n",
      "{\"translator\": \"gpt-4.1\", \"src_lang\": \"de\", \"tgt_lang\": \"nl\", \"start\": 1745503943.4546154, \"id\": \"63441a16-ae9d-433b-8a44-e7adf2ed54fc\", \"in_lines\": 50, \"in_sents\": 53, \"timestamp\": \"2025-04-24 16:12:23.465651+02:00\", \"in_chars\": 6889, \"in_tokens\": 1516, \"dataset\": {\"name\": \"Helsinki-NLP/europarl\", \"num_of_sents\": 50, \"start_idx\": 0, \"split\": \"train[:500]\"}, \"end\": 1745503963.2170389, \"time\": 19.762423515319824, \"out_chars\": 6836, \"out_lines\": 50, \"out_sents\": 53, \"out_tokens\": 1542, \"in_model_tokens\": 1565, \"out_model_tokens\": 1543, \"finish_reason\": \"stop\"}\n"
     ]
    }
   ],
   "source": [
    "!cat $example_folder/log.jsonl"
   ]
  },
  {
   "cell_type": "code",
   "execution_count": 13,
   "id": "5ad7e4bb",
   "metadata": {},
   "outputs": [
    {
     "name": "stdout",
     "output_type": "stream",
     "text": [
      "Total est. cost:\t0.1289\n",
      "Total real cost:\t0.1298\n",
      "Ratio\t0.9934\n"
     ]
    }
   ],
   "source": [
    "from scripts.stats import GPT41_RATE\n",
    "import json\n",
    "with open(join(example_folder, 'log.jsonl')) as f:\n",
    "    log_data = [json.loads(ln) for ln in f]\n",
    "\n",
    "total_est_cost = 0\n",
    "total_real_cost = 0\n",
    "for log in log_data:\n",
    "    if log['translator'] == 'gpt-4.1':\n",
    "        est_cost = GPT41_RATE[0]*log['in_tokens'] + GPT41_RATE[1]*log['out_tokens']\n",
    "        real_cost = GPT41_RATE[0]*log['in_model_tokens'] + \\\n",
    "            GPT41_RATE[1]*log['out_model_tokens']\n",
    "        ratio = est_cost / real_cost\n",
    "        total_est_cost += est_cost\n",
    "        total_real_cost += real_cost\n",
    "print(f'Total est. cost:\\t{total_est_cost:.4f}')\n",
    "print(f'Total real cost:\\t{total_real_cost:.4f}')\n",
    "print(f'Ratio\\t{total_est_cost/total_real_cost:.4f}')"
   ]
  },
  {
   "cell_type": "markdown",
   "id": "fee3509b",
   "metadata": {},
   "source": [
    "# Post Processing\n",
    "* This example case was an ideal case, as the number of input and output remained the same. \n",
    "    * For DeepL this is likely. \n",
    "    * For GPT, this can also go wrong and we may get back malformatted output that we have to align again. \n",
    "* This is an ideal case, hence we perform a direct alignment. \n",
    "* Code for post-processing can change whenever, **last one committed counts**"
   ]
  },
  {
   "cell_type": "code",
   "execution_count": 15,
   "id": "88d988b3",
   "metadata": {},
   "outputs": [],
   "source": [
    "from scripts.post_process import direct_triplet_align\n",
    "from scripts.util import load_sents\n",
    "\n",
    "for pair in some_pairs:\n",
    "    s, t = pair\n",
    "    src_sents, tgt_sents = dm.get_sentence_pairs(s, t, num_of_sents=100)\n",
    "    mt_sents = load_sents(mt_folder_gpt, s, t)\n",
    "    direct_triplet_align(\n",
    "        mt_sents=mt_sents,\n",
    "        ref_sents=tgt_sents,\n",
    "        src_sents=src_sents,\n",
    "        src_lang=s,\n",
    "        ref_lang=t,\n",
    "        folder_path='tmp_gpt'\n",
    "    )\n",
    "\n",
    "for pair in some_pairs:\n",
    "    s, t = pair\n",
    "    src_sents, tgt_sents = dm.get_sentence_pairs(s, t, num_of_sents=100)\n",
    "    mt_sents = load_sents(mt_folder_deepl, s, t)\n",
    "    direct_triplet_align(\n",
    "        mt_sents=mt_sents,\n",
    "        ref_sents=tgt_sents,\n",
    "        src_sents=src_sents,\n",
    "        src_lang=s,\n",
    "        ref_lang=t,\n",
    "        folder_path='tmp_deepl'\n",
    "    )"
   ]
  },
  {
   "cell_type": "code",
   "execution_count": 17,
   "id": "53338f69",
   "metadata": {},
   "outputs": [
    {
     "name": "stdout",
     "output_type": "stream",
     "text": [
      "{\"mt\": \"Istunnon jatkaminen\", \"ref\": \"Istuntokauden uudelleenavaaminen\", \"src\": \"Wiederaufnahme der Sitzungsperiode\"}\n"
     ]
    }
   ],
   "source": [
    "# Example of direct aligned sentences and translaitons\n",
    "!cat tmp_deepl/de-fi.jsonl | head -n 1"
   ]
  },
  {
   "cell_type": "markdown",
   "id": "dd2c350b",
   "metadata": {},
   "source": [
    "# Eval"
   ]
  },
  {
   "cell_type": "code",
   "execution_count": 18,
   "id": "87f83b40",
   "metadata": {},
   "outputs": [],
   "source": [
    "from scripts.scoring import ResultProducer\n",
    "import os\n",
    "l2f_deepl = {f.replace('.jsonl', ''): join('tmp_deepl', f) for f in os.listdir('tmp_deepl') if f.endswith('.jsonl')}\n",
    "l2f_gpt = {f.replace('.jsonl', ''): join('tmp_gpt', f)\n",
    "             for f in os.listdir('tmp_gpt') if f.endswith('.jsonl')}\n",
    "\n",
    "\n",
    "rp_deepl = ResultProducer(label2files=l2f_deepl)\n",
    "rp_gpt = ResultProducer(label2files=l2f_gpt)\n",
    "rp_deepl.compute_results()\n",
    "rp_gpt.compute_results()"
   ]
  },
  {
   "cell_type": "code",
   "execution_count": 20,
   "id": "aab353ed",
   "metadata": {},
   "outputs": [
    {
     "name": "stdout",
     "output_type": "stream",
     "text": [
      "   Label       BLEU       chrF\n",
      "0  da-es  33.483544  58.715067\n",
      "1  de-fi  22.054097  55.634523\n",
      "2  de-nl  28.670945  55.509332\n",
      "3  el-pt  34.546446  59.584432\n",
      "4  en-de  26.702647  57.385844\n",
      "5  en-fr  39.130502  63.101555\n",
      "6  nl-de  22.364264  52.949496\n",
      "7  pt-es  37.786870  62.199097\n",
      "\n",
      "   Label       BLEU       chrF\n",
      "0  da-es  30.808541  57.883883\n",
      "1  de-fi  16.372493  51.396547\n",
      "2  de-nl  21.865457  51.125152\n",
      "3  el-pt  33.344611  58.294434\n",
      "4  en-de  22.727958  54.300195\n",
      "5  en-fr  32.233153  59.738210\n",
      "6  nl-de  18.566548  52.401442\n",
      "7  pt-es  33.013480  61.545275\n"
     ]
    }
   ],
   "source": [
    "rp_deepl.display_results()\n",
    "print()\n",
    "rp_gpt.display_results()"
   ]
  },
  {
   "cell_type": "code",
   "execution_count": null,
   "id": "2cbc09ee",
   "metadata": {},
   "outputs": [],
   "source": []
  }
 ],
 "metadata": {
  "kernelspec": {
   "display_name": "thesis",
   "language": "python",
   "name": "python3"
  },
  "language_info": {
   "codemirror_mode": {
    "name": "ipython",
    "version": 3
   },
   "file_extension": ".py",
   "mimetype": "text/x-python",
   "name": "python",
   "nbconvert_exporter": "python",
   "pygments_lexer": "ipython3",
   "version": "3.12.6"
  }
 },
 "nbformat": 4,
 "nbformat_minor": 5
}
