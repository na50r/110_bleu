{
 "cells": [
  {
   "cell_type": "markdown",
   "id": "ace0fa1c",
   "metadata": {},
   "source": [
    "# Demonstration of Translation Process\n",
    "* In this Jupyter Notebook we show using MockClients how the translation process will work.\n",
    "* It is possible to run the scripts on Terminal but we use Jupyter Notebooks to document exactly what the author used to run the code.\n",
    "* The logs shown in the notebook are generated in a `.log` file as well and more detailed logs are stored in a JSONL file for post-analysis purposes"
   ]
  },
  {
   "cell_type": "code",
   "execution_count": 1,
   "id": "8a8c6171",
   "metadata": {},
   "outputs": [
    {
     "name": "stderr",
     "output_type": "stream",
     "text": [
      "A subdirectory or file tmp already exists.\n"
     ]
    }
   ],
   "source": [
    "!mkdir tmp"
   ]
  },
  {
   "cell_type": "code",
   "execution_count": 2,
   "id": "028355be",
   "metadata": {},
   "outputs": [
    {
     "name": "stdout",
     "output_type": "stream",
     "text": [
      "Available commands:\n",
      "options: Show available datasets and models\n",
      "task: Show detailed information about a task\n",
      "task -model $model -dataset $dataset: Show detailed information about a task\n",
      "run -model $model -dataset $dataset: Run a task\n"
     ]
    }
   ],
   "source": [
    "%run phase0.py"
   ]
  },
  {
   "cell_type": "code",
   "execution_count": 3,
   "id": "998b3908",
   "metadata": {},
   "outputs": [
    {
     "name": "stdout",
     "output_type": "stream",
     "text": [
      "Available datasets: ['europarl', 'flores_plus', 'opus-100']\n",
      "Available models: ['gpt', 'deepl']\n"
     ]
    }
   ],
   "source": [
    "%run phase0.py options"
   ]
  },
  {
   "cell_type": "code",
   "execution_count": 4,
   "id": "f9a60f32",
   "metadata": {},
   "outputs": [
    {
     "name": "stdout",
     "output_type": "stream",
     "text": [
      "Task details for europarl - deepl:\n",
      "  store: tmp\\phase0\\europarl\\deepl\n",
      "  pairs: [('en', 'sv'), ('en', 'pt'), ('en', 'nl'), ('en', 'it'), ('en', 'fr'), ('en', 'fi'), ('en', 'es'), ('en', 'el'), ('en', 'de'), ('en', 'da'), ('sv', 'en'), ('pt', 'en'), ('nl', 'en'), ('it', 'en'), ('fr', 'en'), ('fi', 'en'), ('es', 'en'), ('el', 'en'), ('de', 'en'), ('da', 'en')]\n",
      "  dm: <scripts.data_management.EuroParlManager object at 0x000001C0465F3680>\n",
      "  logger: <scripts.logger.MyLogger object at 0x000001C0465F3740>\n",
      "  num_of_sents: 400\n",
      "  client: <test_task_and_logger.MockClient object at 0x000001C0465F3710>\n",
      "  acceptable_range: (360, 480)\n",
      "  manual_retry: False\n",
      "  max_retries: 3\n",
      "  retry_delay: 0\n",
      "  retries: -1\n",
      "  retry_pair: None\n",
      "  failure: defaultdict(<class 'int'>, {})\n",
      "  id: 0842033d-2aa6-41eb-854f-2080576233a1\n",
      "  task_duration: None\n"
     ]
    }
   ],
   "source": [
    "%run phase0.py task"
   ]
  },
  {
   "cell_type": "code",
   "execution_count": 5,
   "id": "be4bfed7",
   "metadata": {},
   "outputs": [
    {
     "name": "stderr",
     "output_type": "stream",
     "text": [
      "  [🚀]: Selected task for opus-100 - gpt\n",
      "  [🏁]: Starting task f63cde91-c667-4807-ad87-849822a808b7\n",
      "  [✔️]: 400 translated from da to en\n",
      "  [⚠️]: Error MockError\n",
      "  [⏲️]: Retrying de-en...\n",
      "  [❌]: Output for de-en is not acceptable!\n",
      "  [⏲️]: Retrying de-en...\n",
      "  [✔️]: 400 translated from de to en\n",
      "  [✔️]: 400 translated from el to en\n",
      "  [✔️]: 400 translated from es to en\n",
      "  [✔️]: 400 translated from fi to en\n",
      "  [✔️]: 400 translated from fr to en\n",
      "  [✔️]: 400 translated from it to en\n",
      "  [✔️]: 400 translated from nl to en\n",
      "  [✔️]: 400 translated from pt to en\n",
      "  [✔️]: 400 translated from sv to en\n",
      "  [✔️]: 400 translated from en to da\n",
      "  [✔️]: 400 translated from en to de\n",
      "  [✔️]: 400 translated from en to el\n",
      "  [✔️]: 400 translated from en to es\n",
      "  [✔️]: 400 translated from en to fi\n",
      "  [✔️]: 400 translated from en to fr\n",
      "  [✔️]: 400 translated from en to it\n",
      "  [✔️]: 400 translated from en to nl\n",
      "  [✔️]: 400 translated from en to pt\n",
      "  [✔️]: 400 translated from en to sv\n",
      "  [🏁]: Task took 4.45s and finished at 2025-05-03T14:40:25.280209+02:00\n"
     ]
    }
   ],
   "source": [
    "%run phase0.py run -m gpt -d opus-100"
   ]
  },
  {
   "cell_type": "markdown",
   "id": "f69593e6",
   "metadata": {},
   "source": [
    "* Logs visible in Jupyter Notebook preserved"
   ]
  },
  {
   "cell_type": "code",
   "execution_count": 6,
   "id": "704890d7",
   "metadata": {},
   "outputs": [
    {
     "name": "stdout",
     "output_type": "stream",
     "text": [
      "  [🚀]: Selected task for opus-100 - gpt\n",
      "  [🏁]: Starting task f63cde91-c667-4807-ad87-849822a808b7\n",
      "  [✔️]: 400 translated from da to en\n"
     ]
    }
   ],
   "source": [
    "!cat tmp/phase0.log | head -n 3"
   ]
  },
  {
   "cell_type": "code",
   "execution_count": 1,
   "id": "7c432a4a",
   "metadata": {},
   "outputs": [],
   "source": [
    "!rm -rf tmp"
   ]
  }
 ],
 "metadata": {
  "kernelspec": {
   "display_name": "thesis",
   "language": "python",
   "name": "python3"
  },
  "language_info": {
   "codemirror_mode": {
    "name": "ipython",
    "version": 3
   },
   "file_extension": ".py",
   "mimetype": "text/x-python",
   "name": "python",
   "nbconvert_exporter": "python",
   "pygments_lexer": "ipython3",
   "version": "3.12.6"
  }
 },
 "nbformat": 4,
 "nbformat_minor": 5
}
