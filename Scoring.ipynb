{
 "cells": [
  {
   "cell_type": "markdown",
   "id": "480eb7b8",
   "metadata": {},
   "source": [
    "# Post-Processing\n",
    "* Manual process, unstructured, proof of concepts how post-processing could be done."
   ]
  },
  {
   "cell_type": "code",
   "execution_count": 5,
   "id": "081fdbb4",
   "metadata": {},
   "outputs": [],
   "source": [
    "from os.path import join\n",
    "main_folder = join('tasks', 'proc1')\n",
    "ep = join(main_folder, 'europarl')\n",
    "opus = join(main_folder, 'opus-100')\n",
    "flores = join(main_folder, 'flores_plus')"
   ]
  },
  {
   "cell_type": "code",
   "execution_count": 6,
   "id": "5dba9c2a",
   "metadata": {},
   "outputs": [],
   "source": [
    "from scripts.data_management import EuroParlManager, FloresPlusManager, Opus100Manager\n",
    "tmp_folder = 'tmp'\n",
    "tmp_ep = join(tmp_folder, 'europarl')\n",
    "tmp_opus = join(tmp_folder, 'opus-100')\n",
    "tmp_flores = join(tmp_folder, 'flores_plus')\n",
    "\n",
    "dms = [EuroParlManager(), Opus100Manager(), FloresPlusManager()]\n",
    "mt_folders = [ep, opus, flores]\n",
    "align_folders = [tmp_ep, tmp_opus, tmp_flores]\n",
    "tl_folders = ['deepl_document', 'gpt-4.1-2025-04-14']"
   ]
  },
  {
   "cell_type": "code",
   "execution_count": 7,
   "id": "9f8a4e11",
   "metadata": {},
   "outputs": [],
   "source": [
    "from scripts.post_process import direct_triplet_align\n",
    "from scripts.util import load_sents\n",
    "pairs = Opus100Manager.get_pairs()\n",
    "for pair in pairs:\n",
    "    s, t = pair\n",
    "    for dm, mt_store_folder, align_folder in zip(dms, mt_folders, align_folders):\n",
    "        for tl_folder in tl_folders:\n",
    "            mt_folder = join(mt_store_folder, tl_folder)\n",
    "            align_store_folder = join(align_folder, tl_folder)\n",
    "            src_sents, tgt_sents = dm.get_sentence_pairs(s, t, num_of_sents=400)\n",
    "            mt_sents = load_sents(mt_folder, s, t)\n",
    "            direct_triplet_align(\n",
    "                mt_sents=mt_sents,\n",
    "                ref_sents=tgt_sents,\n",
    "                src_sents=src_sents,\n",
    "                src_lang=s,\n",
    "                ref_lang=t,\n",
    "                folder_path=align_store_folder\n",
    "            )"
   ]
  },
  {
   "cell_type": "code",
   "execution_count": 8,
   "id": "fb703096",
   "metadata": {},
   "outputs": [],
   "source": [
    "import os\n",
    "flores_deepl = os.listdir(join(tmp_flores, 'deepl_document'))\n",
    "flores_gpt = os.listdir(join(tmp_flores, 'gpt-4.1-2025-04-14'))\n",
    "opus_deepl = os.listdir(join(tmp_opus, 'deepl_document'))\n",
    "opus_gpt = os.listdir(join(tmp_opus, 'gpt-4.1-2025-04-14'))\n",
    "ep_deepl = os.listdir(join(tmp_ep, 'deepl_document'))\n",
    "ep_gpt = os.listdir(join(tmp_ep, 'gpt-4.1-2025-04-14'))\n",
    "\n",
    "flores_deepl_l2f = {f.replace('.jsonl', ''): join(tmp_flores, 'deepl_document', f) for f in flores_deepl}\n",
    "flores_gpt_l2f = {f.replace('.jsonl', ''): join(tmp_flores, 'gpt-4.1-2025-04-14', f) for f in flores_gpt}\n",
    "opus_deepl_l2f = {f.replace('.jsonl', ''): join(tmp_opus, 'deepl_document', f) for f in opus_deepl}\n",
    "opus_gpt_l2f = {f.replace('.jsonl', ''): join(tmp_opus, 'gpt-4.1-2025-04-14', f) for f in opus_gpt}\n",
    "ep_deepl_l2f = {f.replace('.jsonl', ''): join(tmp_ep, 'deepl_document', f) for f in ep_deepl}\n",
    "ep_gpt_l2f = {f.replace('.jsonl', ''): join(tmp_ep, 'gpt-4.1-2025-04-14', f) for f in ep_gpt}"
   ]
  },
  {
   "cell_type": "code",
   "execution_count": 9,
   "id": "3a56e99f",
   "metadata": {},
   "outputs": [],
   "source": [
    "from scripts.scoring import ResultProducer\n",
    "rp_ep_deepl = ResultProducer(label2files=ep_deepl_l2f)\n",
    "rp_ep_gpt = ResultProducer(label2files=ep_gpt_l2f)\n",
    "rp_opus_deepl = ResultProducer(label2files=opus_deepl_l2f)\n",
    "rp_opus_gpt = ResultProducer(label2files=opus_gpt_l2f)\n",
    "rp_flores_deepl = ResultProducer(label2files=flores_deepl_l2f)\n",
    "rp_flores_gpt = ResultProducer(label2files=flores_gpt_l2f)"
   ]
  },
  {
   "cell_type": "code",
   "execution_count": 13,
   "id": "4ea6cc57",
   "metadata": {},
   "outputs": [],
   "source": [
    "rps = [rp_ep_deepl, rp_ep_gpt, rp_opus_deepl, rp_opus_gpt, rp_flores_deepl, rp_flores_gpt]\n",
    "for rp in rps:\n",
    "    rp.compute_results()"
   ]
  },
  {
   "cell_type": "code",
   "execution_count": 14,
   "id": "04c82816",
   "metadata": {},
   "outputs": [
    {
     "name": "stdout",
     "output_type": "stream",
     "text": [
      "    Label       BLEU       chrF\n",
      "0   da-en  34.265758  60.810718\n",
      "1   de-en   7.483574  25.967502\n",
      "2   el-en  34.108317  61.503165\n",
      "3   en-da  34.598924  61.089082\n",
      "4   en-de  27.088722  58.309062\n",
      "5   en-el  28.540416  55.179982\n",
      "6   en-es  36.721217  62.622892\n",
      "7   en-fi   5.877664  29.960764\n",
      "8   en-fr  33.207951  61.092516\n",
      "9   en-it  27.096256  57.742429\n",
      "10  en-nl  27.868022  56.994260\n",
      "11  en-pt  23.898661  53.313087\n",
      "12  en-sv  27.720709  58.059838\n",
      "13  es-en   2.409827  20.934189\n",
      "14  fi-en  31.805305  58.531921\n",
      "15  fr-en  33.892693  60.612404\n",
      "16  it-en  29.144336  57.073480\n",
      "17  nl-en  29.693938  56.231841\n",
      "18  pt-en  33.078499  59.841007\n",
      "19  sv-en  33.809473  60.638831\n"
     ]
    }
   ],
   "source": [
    "rps[1].display_results()"
   ]
  },
  {
   "cell_type": "code",
   "execution_count": null,
   "id": "ecb7322e",
   "metadata": {},
   "outputs": [
    {
     "name": "stdout",
     "output_type": "stream",
     "text": [
      "    Label       BLEU       chrF\n",
      "0   da-en  37.540643  59.712757\n",
      "1   de-en  10.654713  22.085397\n",
      "2   el-en  33.192299  54.431516\n",
      "3   en-da  35.490453  61.309857\n",
      "4   en-de  30.982175  54.541909\n",
      "5   en-el  28.310343  52.370445\n",
      "6   en-es  39.294456  61.688325\n",
      "7   en-fi  20.247985  51.417513\n",
      "8   en-fr  35.979858  60.723943\n",
      "9   en-it  32.272354  57.125565\n",
      "10  en-nl  30.348308  54.975438\n",
      "11  en-pt  29.557788  55.337756\n",
      "12  en-sv  30.547284  58.334569\n",
      "13  es-en  43.104300  63.976862\n",
      "14  fi-en  31.019251  50.670106\n",
      "15  fr-en  39.515843  62.198332\n",
      "16  it-en  36.832604  57.883906\n",
      "17  nl-en  31.012149  53.106790\n",
      "18  pt-en   0.105828   9.550674\n",
      "19  sv-en  34.220010  56.374436\n"
     ]
    }
   ],
   "source": [
    "rps[3].display_results() # Opus"
   ]
  },
  {
   "cell_type": "code",
   "execution_count": 20,
   "id": "2765b492",
   "metadata": {},
   "outputs": [
    {
     "name": "stdout",
     "output_type": "stream",
     "text": [
      "de en 398\n",
      "es en 401\n",
      "en fi 401\n",
      "de en 372\n",
      "pt en 402\n"
     ]
    }
   ],
   "source": [
    "import json\n",
    "with open(join('tasks', 'proc1.jsonl'), 'r') as f:\n",
    "    logs = [json.loads(ln) for ln in f.readlines()]\n",
    "\n",
    "for log in logs:\n",
    "    if log['out_lines'] != log['in_lines']:\n",
    "        print(log['src_lang'], log['tgt_lang'], log['out_lines'])"
   ]
  },
  {
   "cell_type": "code",
   "execution_count": 22,
   "id": "9a2ddbc6",
   "metadata": {},
   "outputs": [],
   "source": [
    "target_files = {\n",
    "    'de-en-ep': join(ep, 'gpt-4.1-2025-04-14'),\n",
    "    'es-en-ep': join(ep, 'gpt-4.1-2025-04-14'),\n",
    "    'en-fi-ep': join(ep, 'gpt-4.1-2025-04-14'),\n",
    "    'de-en-opus': join(opus,'gpt-4.1-2025-04-14'),\n",
    "    'pt-en-opus': join(opus, 'gpt-4.1-2025-04-14')}"
   ]
  },
  {
   "cell_type": "code",
   "execution_count": 23,
   "id": "bae75192",
   "metadata": {},
   "outputs": [
    {
     "name": "stdout",
     "output_type": "stream",
     "text": [
      "Source language: de, Number of sentences: 435\n",
      "Target language: en, Number of sentences: 435\n",
      "Embedding source and target text using paraphrase-multilingual-MiniLM-L12-v2 ...\n",
      "Performing first-step alignment ...\n",
      "Performing second-step alignment ...\n",
      "Finished! Successfully aligned 435 de sentences to 435 en sentences\n",
      "\n",
      "Source language: es, Number of sentences: 417\n",
      "Target language: en, Number of sentences: 411\n",
      "Embedding source and target text using paraphrase-multilingual-MiniLM-L12-v2 ...\n",
      "Performing first-step alignment ...\n",
      "Performing second-step alignment ...\n",
      "Finished! Successfully aligned 417 es sentences to 411 en sentences\n",
      "\n",
      "Source language: en, Number of sentences: 414\n",
      "Target language: fi, Number of sentences: 415\n",
      "Embedding source and target text using paraphrase-multilingual-MiniLM-L12-v2 ...\n",
      "Performing first-step alignment ...\n",
      "Performing second-step alignment ...\n",
      "Finished! Successfully aligned 414 en sentences to 415 fi sentences\n",
      "\n",
      "Source language: de, Number of sentences: 444\n",
      "Target language: en, Number of sentences: 420\n",
      "Embedding source and target text using paraphrase-multilingual-MiniLM-L12-v2 ...\n",
      "Performing first-step alignment ...\n",
      "Performing second-step alignment ...\n",
      "Finished! Successfully aligned 444 de sentences to 420 en sentences\n",
      "\n",
      "Source language: pt, Number of sentences: 419\n",
      "Target language: en, Number of sentences: 422\n",
      "Embedding source and target text using paraphrase-multilingual-MiniLM-L12-v2 ...\n",
      "Performing first-step alignment ...\n",
      "Performing second-step alignment ...\n",
      "Finished! Successfully aligned 419 pt sentences to 422 en sentences\n",
      "\n"
     ]
    }
   ],
   "source": [
    "from scripts.post_process import align_sents\n",
    "from scripts.util import load_sents\n",
    "out_folder = {'ep': 'tmp_ep', 'opus': 'tmp_opus'}\n",
    "dms = {'ep': EuroParlManager(), 'opus': Opus100Manager()}\n",
    "\n",
    "for f in target_files:\n",
    "    s, t, p = f.split('-')\n",
    "    dm = dms[p]\n",
    "    src_sents, _ = dm.get_sentence_pairs(s, t, num_of_sents=400)\n",
    "    mt_sents = load_sents(target_files[f], s, t)\n",
    "    align_sents(src_sents, mt_sents, s, t, out_folder[p])"
   ]
  },
  {
   "cell_type": "code",
   "execution_count": 37,
   "id": "7dc87427",
   "metadata": {},
   "outputs": [
    {
     "name": "stdout",
     "output_type": "stream",
     "text": [
      "372 sents aligned for de and en\n",
      "396 sents aligned for es and en\n",
      "392 sents aligned for en and fi\n",
      "339 sents aligned for de and en\n",
      "381 sents aligned for pt and en\n"
     ]
    }
   ],
   "source": [
    "from scripts.post_process import post_triplet_align\n",
    "target_files = {\n",
    "    'de-en-ep': 'tmp_ep',\n",
    "    'es-en-ep':  'tmp_ep',\n",
    "    'en-fi-ep': 'tmp_ep',\n",
    "    'de-en-opus': 'tmp_opus',\n",
    "    'pt-en-opus': 'tmp_opus'}\n",
    "\n",
    "dms = {'ep': EuroParlManager(), 'opus': Opus100Manager()}\n",
    "\n",
    "for f in target_files:\n",
    "    s, t, p = f.split('-')\n",
    "    dm = dms[p]\n",
    "    src_sents, tgt_sents = dm.get_sentence_pairs(s, t, num_of_sents=400)\n",
    "    with open(join(target_files[f], f'{s}-{t}.{t}'), 'r') as f1:\n",
    "        mt_sents_a = [ln.strip() for ln in f1.readlines()]\n",
    "    \n",
    "    with open(join(target_files[f], f'{s}-{t}.{s}'), 'r') as f2:\n",
    "        src_sents_a = [ln.strip() for ln in f2.readlines()]\n",
    "\n",
    "\n",
    "    post_triplet_align(\n",
    "        src_sents_org=src_sents,\n",
    "        src_sents_ali=src_sents_a,\n",
    "        ref_sents_org=tgt_sents,\n",
    "        mt_sents_ali=mt_sents_a,\n",
    "        src_lang=s,\n",
    "        ref_lang=t,\n",
    "        folder_path=target_files[f]\n",
    "    )"
   ]
  },
  {
   "cell_type": "code",
   "execution_count": 38,
   "id": "c4586a16",
   "metadata": {},
   "outputs": [
    {
     "name": "stdout",
     "output_type": "stream",
     "text": [
      "        Label       BLEU       chrF\n",
      "0    de-en-ep  33.140530  59.340320\n",
      "1    es-en-ep  36.063764  62.694386\n",
      "2    en-fi-ep  19.333943  55.350342\n",
      "3  de-en-opus  35.711588  56.957870\n",
      "4  pt-en-opus  38.110482  59.786798\n"
     ]
    }
   ],
   "source": [
    "l2f = {\n",
    "    'de-en-ep': join('tmp_ep', 'de-en.jsonl'),\n",
    "    'es-en-ep':  join('tmp_ep', 'es-en.jsonl'),\n",
    "    'en-fi-ep': join('tmp_ep', 'en-fi.jsonl'),\n",
    "    'de-en-opus': join('tmp_opus', 'de-en.jsonl'),\n",
    "    'pt-en-opus': join('tmp_opus', 'pt-en.jsonl')}\n",
    "\n",
    "rp = ResultProducer(label2files=l2f)\n",
    "rp.compute_results()\n",
    "rp.display_results()"
   ]
  }
 ],
 "metadata": {
  "kernelspec": {
   "display_name": "thesis",
   "language": "python",
   "name": "python3"
  },
  "language_info": {
   "codemirror_mode": {
    "name": "ipython",
    "version": 3
   },
   "file_extension": ".py",
   "mimetype": "text/x-python",
   "name": "python",
   "nbconvert_exporter": "python",
   "pygments_lexer": "ipython3",
   "version": "3.12.6"
  }
 },
 "nbformat": 4,
 "nbformat_minor": 5
}
