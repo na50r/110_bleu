{
 "cells": [
  {
   "cell_type": "markdown",
   "id": "e7d928f0",
   "metadata": {},
   "source": [
    "# Procedure 1\n",
    "* Compute translations from and into English for 10 European languages accross 3 Corpora and 2 Translators\n",
    "* 6 Tasks in total, thus 6 cells where we run the tasks\n",
    "* The logs in this cell can be reproduced using Regular expressions on `proc1.log`"
   ]
  },
  {
   "cell_type": "markdown",
   "id": "04d55054",
   "metadata": {},
   "source": [
    "## Last Checks"
   ]
  },
  {
   "cell_type": "code",
   "execution_count": 1,
   "id": "4ac3c2aa",
   "metadata": {},
   "outputs": [
    {
     "name": "stdout",
     "output_type": "stream",
     "text": [
      "Available datasets: ['europarl', 'flores_plus', 'opus-100']\n",
      "Available models: ['gpt-4.1-2025-04-14', 'deepl_document']\n"
     ]
    }
   ],
   "source": [
    "%run proc1.py inputs"
   ]
  },
  {
   "cell_type": "code",
   "execution_count": 2,
   "id": "702f24bd",
   "metadata": {},
   "outputs": [
    {
     "name": "stdout",
     "output_type": "stream",
     "text": [
      "Task details for opus-100 - gpt-4.1-2025-04-14:\n",
      "  id: c2fc80e8-ebb6-469c-85f6-5670ab6cb3a1\n",
      "  store: tasks\\proc1\\opus-100\\gpt-4.1-2025-04-14\n",
      "  pairs: [('en', 'nl'), ('nl', 'en'), ('en', 'it'), ('it', 'en'), ('en', 'fr'), ('fr', 'en'), ('en', 'fi'), ('fi', 'en'), ('en', 'es'), ('es', 'en'), ('en', 'sv'), ('sv', 'en'), ('en', 'pt'), ('pt', 'en'), ('en', 'el'), ('el', 'en'), ('en', 'da'), ('da', 'en'), ('en', 'de'), ('de', 'en')]\n",
      "  dm: <scripts.data_management.Opus100Manager object at 0x000002B61E428830>\n",
      "  tl_logger: <scripts.logger.TranslationLogger object at 0x000002B61E428170>\n",
      "  lang_detection: True\n",
      "  num_of_sents: 400\n",
      "  client: <scripts.translators.GPTClient object at 0x000002B61E428440>\n",
      "  acceptable_range: (360, 480)\n",
      "  manual_retry: False\n",
      "  max_retries: 2\n",
      "  retry_delay: 30\n"
     ]
    }
   ],
   "source": [
    "%run proc1.py task -m gpt-4.1-2025-04-14 -d opus-100"
   ]
  },
  {
   "cell_type": "markdown",
   "id": "efb77007",
   "metadata": {},
   "source": [
    "## Execution\n",
    "* This cells are not run on the same day, so in some cases, the notebook was restarted, hence the number indication cell execution order can be off."
   ]
  },
  {
   "cell_type": "code",
   "execution_count": null,
   "id": "f8c1d9d4",
   "metadata": {},
   "outputs": [],
   "source": [
    "%run proc1.py task -m gpt-4.1-2025-04-14 -d europarl"
   ]
  }
 ],
 "metadata": {
  "kernelspec": {
   "display_name": "thesis",
   "language": "python",
   "name": "python3"
  },
  "language_info": {
   "codemirror_mode": {
    "name": "ipython",
    "version": 3
   },
   "file_extension": ".py",
   "mimetype": "text/x-python",
   "name": "python",
   "nbconvert_exporter": "python",
   "pygments_lexer": "ipython3",
   "version": "3.12.6"
  }
 },
 "nbformat": 4,
 "nbformat_minor": 5
}
