{
 "cells": [
  {
   "cell_type": "markdown",
   "id": "86caea79",
   "metadata": {},
   "source": [
    "# Procedure Documentation\n",
    "* In this notebook, we provide all logs in shortened form (omit DEBUG logs) and go over each procedure and decisions following it.\n",
    "* To repeat, a \"procedure\" in this project is just a structured way of executing \"tasks\", where as a task is defined the translation of a set of pairs $P$ using sentences from dataset $d$ with the translator $t$, the only thing a procedure does is allowing us to run multiple tasks by specifiying $t$ and $d$ using CLI commands, whereas $P$ is fixed in the respective `proc.py` script."
   ]
  },
  {
   "cell_type": "markdown",
   "id": "a4ceed47",
   "metadata": {},
   "source": [
    "## Procedure 1\n",
    "* Translated 20 pairs, from and into English (i.e. en-de, de-en, etc.) from datasets OPUS100, EuroParl and FLORES+ with both GPT4.1 and DeepL.\n",
    "* It acted as an 'initial' test to see if everything worked as expected or unaccounted issues occur that may require adjustment for subsequent procedure.\n",
    "* As we see in the logs, no big issues occured. \n",
    "* There were automatic retries triggered by OpenAI's implementation, not the implementation by us, but at that time, they were not too noticable/worrisome, making us believe we could start the next procedures without adjustments.\n",
    "* `proc1.py` was thus executed fully with the following commands:\n",
    "```sh\n",
    "python proc1.py run -m gpt-4.1-2025-04-14 -d europarl\n",
    "python proc1.py run -m deepl_document -d europarl\n",
    "python proc1.py run -m gpt-4.1-2025-04-14 -d opus-100\n",
    "python proc1.py run -m deepl_document -d opus-100\n",
    "python proc1.py run -m gpt-4.1-2025-04-14 -d flores_plus\n",
    "python proc1.py run -m deepl_document -d flores_plu\n",
    "```\n",
    "* 20 pairs, 400 sentences, 3 datasets, 2 translators amounting to 6 tasks, thus 6 CLI commands."
   ]
  },
  {
   "cell_type": "code",
   "execution_count": 1,
   "id": "2c3137e6",
   "metadata": {},
   "outputs": [
    {
     "data": {
      "text/plain": [
       "6"
      ]
     },
     "execution_count": 1,
     "metadata": {},
     "output_type": "execute_result"
    }
   ],
   "source": [
    "# Collect 6 task ids, as proc1 consisted of 6 tasks\n",
    "from os.path import join\n",
    "import os\n",
    "import json\n",
    "task_folder = 'tasks'\n",
    "proc1 = join(task_folder, 'proc1')\n",
    "proc1_ep = join(proc1, 'europarl')\n",
    "proc1_opus = join(proc1, 'opus-100')\n",
    "proc1_flores = join(proc1, 'flores_plus')\n",
    "translators = ['deepl_document', 'gpt-4.1-2025-04-14']\n",
    "task_folders = [proc1_ep, proc1_opus, proc1_flores]\n",
    "proc1_task_ids = []\n",
    "\n",
    "for tl in translators:\n",
    "    for folder in task_folders:\n",
    "        with open(join(folder, tl, 'task.json'), 'r') as f:\n",
    "            task = json.load(f)\n",
    "            proc1_task_ids.append(task['task_id'])\n",
    "len(proc1_task_ids)"
   ]
  },
  {
   "cell_type": "code",
   "execution_count": 2,
   "id": "0d295ee1",
   "metadata": {},
   "outputs": [],
   "source": [
    "# Collect structured logs stored on proc1.jsonl\n",
    "with open(join(task_folder, 'proc1.jsonl'), 'r') as f:\n",
    "    logs = [json.loads(ln) for ln in f.readlines()]\n",
    "\n",
    "proc1_task_id2logs = {task_id: [] for task_id in proc1_task_ids}\n",
    "for task_id in proc1_task_ids:\n",
    "    for log in logs:\n",
    "        if log['id'].startswith(task_id):\n",
    "            proc1_task_id2logs[task_id].append(log)"
   ]
  },
  {
   "cell_type": "code",
   "execution_count": 3,
   "id": "aaa58b76",
   "metadata": {},
   "outputs": [
    {
     "name": "stdout",
     "output_type": "stream",
     "text": [
      "ab9fc42b-61af-4534-afd6-3710eb1dbc52 20\n",
      "4c5ffc31-c043-414d-aba1-270f9967f078 20\n",
      "88538d1d-11fc-4356-9153-b105d4e26e30 20\n",
      "9549e927-4f63-4205-82bb-5c7ccabfe943 20\n",
      "fa628bc1-4f85-446d-9167-1a8d99ccc493 20\n",
      "fdbf6190-d061-4154-ae94-d7b11199d043 20\n"
     ]
    }
   ],
   "source": [
    "for task_id, logs in proc1_task_id2logs.items():\n",
    "    print(task_id, len(logs))"
   ]
  },
  {
   "cell_type": "markdown",
   "id": "34e72c70",
   "metadata": {},
   "source": [
    "* We see 20 logs for each task as expected"
   ]
  },
  {
   "cell_type": "code",
   "execution_count": 4,
   "id": "f8c48335",
   "metadata": {},
   "outputs": [
    {
     "name": "stdout",
     "output_type": "stream",
     "text": [
      "tasks\\proc1\\europarl deepl_document 21\n",
      "tasks\\proc1\\opus-100 deepl_document 21\n",
      "tasks\\proc1\\flores_plus deepl_document 21\n",
      "tasks\\proc1\\europarl gpt-4.1-2025-04-14 21\n",
      "tasks\\proc1\\opus-100 gpt-4.1-2025-04-14 21\n",
      "tasks\\proc1\\flores_plus gpt-4.1-2025-04-14 21\n"
     ]
    }
   ],
   "source": [
    "for tl in translators:\n",
    "    for folder in task_folders:\n",
    "        files = os.listdir(join(folder, tl))\n",
    "        print(folder, tl, len(files))"
   ]
  },
  {
   "cell_type": "markdown",
   "id": "ec0a46b3",
   "metadata": {},
   "source": [
    "* We find 21 files per task, 20 txt files for 20 translations and `task.json` that contains some meta information the task itself."
   ]
  },
  {
   "cell_type": "code",
   "execution_count": 5,
   "id": "5c8c46ae",
   "metadata": {},
   "outputs": [
    {
     "name": "stdout",
     "output_type": "stream",
     "text": [
      "Proc1 120/120\n"
     ]
    }
   ],
   "source": [
    "print('Proc1', f'{sum([len(logs) for logs in proc1_task_id2logs.values()])}/120')"
   ]
  },
  {
   "cell_type": "code",
   "execution_count": 6,
   "id": "5d6e82dc",
   "metadata": {},
   "outputs": [
    {
     "name": "stdout",
     "output_type": "stream",
     "text": [
      "INFO: 2025-05-07 13:55:45 - [🚀]: Selected task for europarl - gpt-4.1-2025-04-14\n",
      "INFO: 2025-05-07 13:55:45 - [🏁]: Starting task 9549e927-4f63-4205-82bb-5c7ccabfe943 on commit 66ef922\n",
      "INFO: 2025-05-07 13:59:58 - [✔️]: Translated 398 sents for de-en\n",
      "INFO: 2025-05-07 14:03:12 - [✔️]: Translated 400 sents for en-de\n",
      "INFO: 2025-05-07 14:05:34 - [✔️]: Translated 400 sents for da-en\n",
      "INFO: 2025-05-07 14:08:09 - [✔️]: Translated 400 sents for en-da\n",
      "INFO: 2025-05-07 14:12:09 - [✔️]: Translated 400 sents for el-en\n",
      "INFO: 2025-05-07 14:16:08 - [✔️]: Translated 400 sents for en-el\n",
      "INFO: 2025-05-07 14:17:37 - [✔️]: Translated 400 sents for pt-en\n",
      "INFO: 2025-05-07 14:19:38 - [✔️]: Translated 400 sents for en-pt\n",
      "INFO: 2025-05-07 14:21:29 - [✔️]: Translated 400 sents for sv-en\n",
      "INFO: 2025-05-07 14:23:14 - [✔️]: Translated 400 sents for en-sv\n",
      "INFO: 2025-05-07 14:25:11 - [✔️]: Translated 401 sents for es-en\n",
      "INFO: 2025-05-07 14:27:50 - [✔️]: Translated 400 sents for en-es\n",
      "INFO: 2025-05-07 14:30:10 - [✔️]: Translated 400 sents for fi-en\n",
      "INFO: 2025-05-07 14:35:11 - Retrying request to /chat/completions in 0.437165 seconds\n",
      "INFO: 2025-05-07 14:39:46 - [✔️]: Translated 401 sents for en-fi\n",
      "INFO: 2025-05-07 14:42:11 - [✔️]: Translated 400 sents for fr-en\n",
      "INFO: 2025-05-07 14:45:08 - [✔️]: Translated 400 sents for en-fr\n",
      "INFO: 2025-05-07 14:47:41 - [✔️]: Translated 400 sents for it-en\n",
      "INFO: 2025-05-07 14:50:39 - [✔️]: Translated 400 sents for en-it\n",
      "INFO: 2025-05-07 14:53:49 - [✔️]: Translated 400 sents for nl-en\n",
      "INFO: 2025-05-07 14:57:16 - [✔️]: Translated 400 sents for en-nl\n",
      "INFO: 2025-05-07 14:57:16 - [🏁]: Task took 3690.83s\n",
      "INFO: 2025-05-07 14:57:36 - [🚀]: Selected task for europarl - deepl_document\n",
      "INFO: 2025-05-07 14:57:36 - [🏁]: Starting task ab9fc42b-61af-4534-afd6-3710eb1dbc52 on commit 66ef922\n",
      "INFO: 2025-05-07 14:57:43 - [✔️]: Translated 400 sents for de-en\n",
      "INFO: 2025-05-07 14:57:49 - [✔️]: Translated 400 sents for en-de\n",
      "INFO: 2025-05-07 14:58:01 - [✔️]: Translated 400 sents for da-en\n",
      "INFO: 2025-05-07 14:58:12 - [✔️]: Translated 400 sents for en-da\n",
      "INFO: 2025-05-07 14:58:23 - [✔️]: Translated 400 sents for el-en\n",
      "INFO: 2025-05-07 14:58:37 - [✔️]: Translated 400 sents for en-el\n",
      "INFO: 2025-05-07 14:58:58 - [✔️]: Translated 400 sents for pt-en\n",
      "INFO: 2025-05-07 14:59:10 - [✔️]: Translated 400 sents for en-pt\n",
      "INFO: 2025-05-07 14:59:21 - [✔️]: Translated 400 sents for sv-en\n",
      "INFO: 2025-05-07 14:59:32 - [✔️]: Translated 400 sents for en-sv\n",
      "INFO: 2025-05-07 14:59:38 - [✔️]: Translated 400 sents for es-en\n",
      "INFO: 2025-05-07 14:59:44 - [✔️]: Translated 400 sents for en-es\n",
      "INFO: 2025-05-07 14:59:56 - [✔️]: Translated 400 sents for fi-en\n",
      "INFO: 2025-05-07 15:00:02 - [✔️]: Translated 400 sents for en-fi\n",
      "INFO: 2025-05-07 15:00:08 - [✔️]: Translated 400 sents for fr-en\n",
      "INFO: 2025-05-07 15:00:14 - [✔️]: Translated 400 sents for en-fr\n",
      "INFO: 2025-05-07 15:00:26 - [✔️]: Translated 400 sents for it-en\n",
      "INFO: 2025-05-07 15:00:37 - [✔️]: Translated 400 sents for en-it\n",
      "INFO: 2025-05-07 15:00:43 - [✔️]: Translated 400 sents for nl-en\n",
      "INFO: 2025-05-07 15:01:05 - [✔️]: Translated 400 sents for en-nl\n",
      "INFO: 2025-05-07 15:01:05 - [🏁]: Task took 208.54s\n",
      "INFO: 2025-05-07 15:01:52 - [🚀]: Selected task for opus-100 - gpt-4.1-2025-04-14\n",
      "INFO: 2025-05-07 15:01:53 - [🏁]: Starting task fa628bc1-4f85-446d-9167-1a8d99ccc493 on commit 66ef922\n",
      "INFO: 2025-05-07 15:03:09 - [✔️]: Translated 372 sents for de-en\n",
      "INFO: 2025-05-07 15:05:03 - [✔️]: Translated 400 sents for en-de\n",
      "INFO: 2025-05-07 15:06:42 - [✔️]: Translated 400 sents for da-en\n",
      "INFO: 2025-05-07 15:08:59 - [✔️]: Translated 400 sents for en-da\n",
      "INFO: 2025-05-07 15:10:37 - [✔️]: Translated 400 sents for el-en\n",
      "INFO: 2025-05-07 15:14:15 - [✔️]: Translated 400 sents for en-el\n",
      "INFO: 2025-05-07 15:15:41 - [✔️]: Translated 402 sents for pt-en\n",
      "INFO: 2025-05-07 15:17:27 - [✔️]: Translated 400 sents for en-pt\n",
      "INFO: 2025-05-07 15:18:31 - [✔️]: Translated 400 sents for sv-en\n",
      "INFO: 2025-05-07 15:19:54 - [✔️]: Translated 400 sents for en-sv\n",
      "INFO: 2025-05-07 15:21:20 - [✔️]: Translated 400 sents for es-en\n",
      "INFO: 2025-05-07 15:22:54 - [✔️]: Translated 400 sents for en-es\n",
      "INFO: 2025-05-07 15:24:29 - [✔️]: Translated 400 sents for fi-en\n",
      "INFO: 2025-05-07 15:27:28 - [✔️]: Translated 400 sents for en-fi\n",
      "INFO: 2025-05-07 15:29:06 - [✔️]: Translated 400 sents for fr-en\n",
      "INFO: 2025-05-07 15:32:08 - [✔️]: Translated 400 sents for en-fr\n",
      "INFO: 2025-05-07 15:33:30 - [✔️]: Translated 400 sents for it-en\n",
      "INFO: 2025-05-07 15:35:00 - [✔️]: Translated 400 sents for en-it\n",
      "INFO: 2025-05-07 15:36:03 - [✔️]: Translated 400 sents for nl-en\n",
      "INFO: 2025-05-07 15:38:20 - [✔️]: Translated 400 sents for en-nl\n",
      "INFO: 2025-05-07 15:38:20 - [🏁]: Task took 2187.31s\n",
      "INFO: 2025-05-07 15:38:48 - [🚀]: Selected task for opus-100 - deepl_document\n",
      "INFO: 2025-05-07 15:38:48 - [🏁]: Starting task 4c5ffc31-c043-414d-aba1-270f9967f078 on commit 66ef922\n",
      "INFO: 2025-05-07 15:38:55 - [✔️]: Translated 400 sents for de-en\n",
      "INFO: 2025-05-07 15:39:01 - [✔️]: Translated 400 sents for en-de\n",
      "INFO: 2025-05-07 15:39:12 - [✔️]: Translated 400 sents for da-en\n",
      "INFO: 2025-05-07 15:39:23 - [✔️]: Translated 400 sents for en-da\n",
      "INFO: 2025-05-07 15:39:29 - [✔️]: Translated 400 sents for el-en\n",
      "INFO: 2025-05-07 15:39:35 - [✔️]: Translated 400 sents for en-el\n",
      "INFO: 2025-05-07 15:39:41 - [✔️]: Translated 400 sents for pt-en\n",
      "INFO: 2025-05-07 15:39:47 - [✔️]: Translated 400 sents for en-pt\n",
      "INFO: 2025-05-07 15:39:53 - [✔️]: Translated 400 sents for sv-en\n",
      "INFO: 2025-05-07 15:40:01 - [✔️]: Translated 400 sents for en-sv\n",
      "INFO: 2025-05-07 15:40:12 - [✔️]: Translated 400 sents for es-en\n",
      "INFO: 2025-05-07 15:40:18 - [✔️]: Translated 400 sents for en-es\n",
      "INFO: 2025-05-07 15:40:23 - [✔️]: Translated 400 sents for fi-en\n",
      "INFO: 2025-05-07 15:40:29 - [✔️]: Translated 400 sents for en-fi\n",
      "INFO: 2025-05-07 15:40:35 - [✔️]: Translated 400 sents for fr-en\n",
      "INFO: 2025-05-07 15:40:42 - [✔️]: Translated 400 sents for en-fr\n",
      "INFO: 2025-05-07 15:40:54 - [✔️]: Translated 400 sents for it-en\n",
      "INFO: 2025-05-07 15:41:01 - [✔️]: Translated 400 sents for en-it\n",
      "INFO: 2025-05-07 15:41:12 - [✔️]: Translated 400 sents for nl-en\n",
      "INFO: 2025-05-07 15:41:18 - [✔️]: Translated 400 sents for en-nl\n",
      "INFO: 2025-05-07 15:41:18 - [🏁]: Task took 149.83s\n",
      "INFO: 2025-05-07 15:41:35 - [🚀]: Selected task for flores_plus - gpt-4.1-2025-04-14\n",
      "INFO: 2025-05-07 15:41:35 - [🏁]: Starting task fdbf6190-d061-4154-ae94-d7b11199d043 on commit 66ef922\n",
      "INFO: 2025-05-07 15:43:23 - [✔️]: Translated 400 sents for de-en\n",
      "INFO: 2025-05-07 15:46:13 - [✔️]: Translated 400 sents for en-de\n",
      "INFO: 2025-05-07 15:48:22 - [✔️]: Translated 400 sents for da-en\n",
      "INFO: 2025-05-07 15:51:29 - [✔️]: Translated 400 sents for en-da\n",
      "INFO: 2025-05-07 15:55:09 - [✔️]: Translated 400 sents for el-en\n",
      "INFO: 2025-05-07 16:00:09 - Retrying request to /chat/completions in 0.422277 seconds\n",
      "INFO: 2025-05-07 16:05:09 - [✔️]: Translated 400 sents for en-el\n",
      "INFO: 2025-05-07 16:07:59 - [✔️]: Translated 400 sents for pt-en\n",
      "INFO: 2025-05-07 16:11:07 - [✔️]: Translated 400 sents for en-pt\n",
      "INFO: 2025-05-07 16:13:20 - [✔️]: Translated 400 sents for sv-en\n",
      "INFO: 2025-05-07 16:15:35 - [✔️]: Translated 400 sents for en-sv\n",
      "INFO: 2025-05-07 16:17:18 - [✔️]: Translated 400 sents for es-en\n",
      "INFO: 2025-05-07 16:19:33 - [✔️]: Translated 400 sents for en-es\n",
      "INFO: 2025-05-07 16:22:11 - [✔️]: Translated 400 sents for fi-en\n",
      "INFO: 2025-05-07 16:25:54 - [✔️]: Translated 400 sents for en-fi\n",
      "INFO: 2025-05-07 16:27:56 - [✔️]: Translated 400 sents for fr-en\n",
      "INFO: 2025-05-07 16:30:13 - [✔️]: Translated 400 sents for en-fr\n",
      "INFO: 2025-05-07 16:32:23 - [✔️]: Translated 400 sents for it-en\n",
      "INFO: 2025-05-07 16:35:28 - [✔️]: Translated 400 sents for en-it\n",
      "INFO: 2025-05-07 16:37:14 - [✔️]: Translated 400 sents for nl-en\n",
      "INFO: 2025-05-07 16:39:43 - [✔️]: Translated 400 sents for en-nl\n",
      "INFO: 2025-05-07 16:39:43 - [🏁]: Task took 3487.97s\n",
      "INFO: 2025-05-07 16:39:58 - [🚀]: Selected task for flores_plus - deepl_document\n",
      "INFO: 2025-05-07 16:39:58 - [🏁]: Starting task 88538d1d-11fc-4356-9153-b105d4e26e30 on commit 66ef922\n",
      "INFO: 2025-05-07 16:40:04 - [✔️]: Translated 400 sents for de-en\n",
      "INFO: 2025-05-07 16:40:10 - [✔️]: Translated 400 sents for en-de\n",
      "INFO: 2025-05-07 16:40:21 - [✔️]: Translated 400 sents for da-en\n",
      "INFO: 2025-05-07 16:40:32 - [✔️]: Translated 400 sents for en-da\n",
      "INFO: 2025-05-07 16:40:43 - [✔️]: Translated 400 sents for el-en\n",
      "INFO: 2025-05-07 16:40:55 - [✔️]: Translated 400 sents for en-el\n",
      "INFO: 2025-05-07 16:41:01 - [✔️]: Translated 400 sents for pt-en\n",
      "INFO: 2025-05-07 16:41:12 - [✔️]: Translated 400 sents for en-pt\n",
      "INFO: 2025-05-07 16:41:23 - [✔️]: Translated 400 sents for sv-en\n",
      "INFO: 2025-05-07 16:41:34 - [✔️]: Translated 400 sents for en-sv\n",
      "INFO: 2025-05-07 16:41:40 - [✔️]: Translated 400 sents for es-en\n",
      "INFO: 2025-05-07 16:41:46 - [✔️]: Translated 400 sents for en-es\n",
      "INFO: 2025-05-07 16:41:58 - [✔️]: Translated 400 sents for fi-en\n",
      "INFO: 2025-05-07 16:42:09 - [✔️]: Translated 400 sents for en-fi\n",
      "INFO: 2025-05-07 16:42:15 - [✔️]: Translated 400 sents for fr-en\n",
      "INFO: 2025-05-07 16:42:21 - [✔️]: Translated 400 sents for en-fr\n",
      "INFO: 2025-05-07 16:42:27 - [✔️]: Translated 400 sents for it-en\n",
      "INFO: 2025-05-07 16:42:33 - [✔️]: Translated 400 sents for en-it\n",
      "INFO: 2025-05-07 16:42:39 - [✔️]: Translated 400 sents for nl-en\n",
      "INFO: 2025-05-07 16:42:50 - [✔️]: Translated 400 sents for en-nl\n",
      "INFO: 2025-05-07 16:42:50 - [🏁]: Task took 172.57s\n"
     ]
    }
   ],
   "source": [
    "!cat proc1.log | grep -P \"^(INFO: \\d\\d\\d\\d-\\d\\d-\\d\\d \\d\\d:\\d\\d:\\d\\d) - (\\[|Retry)\""
   ]
  },
  {
   "cell_type": "markdown",
   "id": "efad5718",
   "metadata": {},
   "source": [
    "### Observations\n",
    "* We do not include all logs, as some of them are not that informative. \n",
    "    * We include the logs created by us (indicated with emoji within `[]`)\n",
    "    * We include the `Retry` log implemented by OpenAI developers of the OpenAI Python package, as that one became relevant for the next procedures.\n",
    "* Overall, procedure 1 completed with many issues, there were only two retries, in task europarl-gpt and task flores-gpt.\n",
    "* We make an observation that it takes substantially longer for GPT4.1 to translate than DeepL."
   ]
  },
  {
   "cell_type": "code",
   "execution_count": 7,
   "id": "3a14a98f",
   "metadata": {},
   "outputs": [
    {
     "name": "stdout",
     "output_type": "stream",
     "text": [
      "INFO: 2025-05-07 14:35:11 - Retrying request to /chat/completions in 0.437165 seconds\n",
      "INFO: 2025-05-07 16:00:09 - Retrying request to /chat/completions in 0.422277 seconds\n"
     ]
    }
   ],
   "source": [
    "!cat proc1.log | grep -P \"Retrying request to /chat/\""
   ]
  },
  {
   "cell_type": "code",
   "execution_count": 8,
   "id": "90f38f89",
   "metadata": {},
   "outputs": [
    {
     "name": "stdout",
     "output_type": "stream",
     "text": [
      "INFO: 2025-05-07 13:55:45 - [🚀]: Selected task for europarl - gpt-4.1-2025-04-14\n",
      "INFO: 2025-05-07 14:57:16 - [🏁]: Task took 3690.83s\n",
      "INFO: 2025-05-07 14:57:36 - [🚀]: Selected task for europarl - deepl_document\n",
      "INFO: 2025-05-07 15:01:05 - [🏁]: Task took 208.54s\n",
      "INFO: 2025-05-07 15:01:52 - [🚀]: Selected task for opus-100 - gpt-4.1-2025-04-14\n",
      "INFO: 2025-05-07 15:38:20 - [🏁]: Task took 2187.31s\n",
      "INFO: 2025-05-07 15:38:48 - [🚀]: Selected task for opus-100 - deepl_document\n",
      "INFO: 2025-05-07 15:41:18 - [🏁]: Task took 149.83s\n",
      "INFO: 2025-05-07 15:41:35 - [🚀]: Selected task for flores_plus - gpt-4.1-2025-04-14\n",
      "INFO: 2025-05-07 16:39:43 - [🏁]: Task took 3487.97s\n",
      "INFO: 2025-05-07 16:39:58 - [🚀]: Selected task for flores_plus - deepl_document\n",
      "INFO: 2025-05-07 16:42:50 - [🏁]: Task took 172.57s\n"
     ]
    }
   ],
   "source": [
    "!cat proc1.log | grep -P \"(Selected task|Task took)\""
   ]
  },
  {
   "cell_type": "markdown",
   "id": "74a59d02",
   "metadata": {},
   "source": [
    "## Procedure 2"
   ]
  },
  {
   "cell_type": "markdown",
   "id": "ca19a3f4",
   "metadata": {},
   "source": [
    "* In procedure 2, we wanted to translate the remaining 90 pairs (so all pairs that did not include `en` as source or target language) of EuroParl and FLORES+ using GPT4.1\n",
    "* We decided to split it into 45 pairs, estimating a translation time of roughly more than 2 hours, as in procedure 1, it took 1 hour for EuroParl and FLORES+. \n",
    "    * It took half as much for OPUS100 because OPUS100 has shorter sentences on average (less characters, less tokens)\n",
    "* The 45 pair batches were not random but had order, to replicate them in case of errors. \n",
    "* Each batch of 45 pairs could be segmented into sub-batches of 9 pairs, where the source language was fixed (de-da, de-fi, de-el, etc.)\n",
    "* The plan was thus to run 4 tasks, 4 CLI commands but we decided to interrupt procedure 2 after the first task has been completed, thus only the following command was run:\n",
    "```sh\n",
    "python proc2.py run -m gpt-4.1-2025-04-14 -d europarl-1\n",
    "```\n",
    "* The `europarl-1` indicates the first batch of 45 pairs from the europarl dataset. It also shows a slight flaw in design philosophy of this procedure based approach of running tasks: The set of pairs $P$ is fixed on script level, it is not possible to specify them within the CLI command. Works out if $|P|$ is large, becomes problematic if small.\n",
    "* Translated 44/45 pairs (source languages: da, de, el, es, fi) from the EuroParl dataset, failed for the pair fi-el due a Gateway Timeouts exceeding not only OpenAI's automatic retries but also the automatic retries implemented by us."
   ]
  },
  {
   "cell_type": "code",
   "execution_count": 9,
   "id": "43c53bc8",
   "metadata": {},
   "outputs": [
    {
     "name": "stdout",
     "output_type": "stream",
     "text": [
      "cfaadc55-8ced-4b93-80e6-9581c956f986 44\n"
     ]
    }
   ],
   "source": [
    "proc2 = join(task_folder, 'proc2')\n",
    "proc2_task_file = join(proc2, join('europarl', join('gpt-4.1-2025-04-14', 'task.json')))\n",
    "with open(proc2_task_file, 'r') as f:\n",
    "    proc2_task = json.load(f)\n",
    "    proc2_task_id = proc2_task['task_id']\n",
    "\n",
    "with open(join(task_folder, 'proc2.jsonl'), 'r') as f:\n",
    "    logs = [json.loads(ln) for ln in f.readlines()]\n",
    "\n",
    "proc2_logs = [log for log in logs if log['id'].startswith(proc2_task_id)]\n",
    "print(proc2_task_id, len(proc2_logs))\n",
    "# Failed fi-el"
   ]
  },
  {
   "cell_type": "markdown",
   "id": "8b9b285b",
   "metadata": {},
   "source": [
    "* Only 44 logs, as we decided to not create logs in cases where we did not receive a response from the API, i.e. errors."
   ]
  },
  {
   "cell_type": "code",
   "execution_count": 10,
   "id": "a3028aa8",
   "metadata": {},
   "outputs": [
    {
     "name": "stdout",
     "output_type": "stream",
     "text": [
      "tasks\\proc2\\europarl\\gpt-4.1-2025-04-14 45\n"
     ]
    }
   ],
   "source": [
    "files = os.listdir(join(proc2, join('europarl', 'gpt-4.1-2025-04-14')))\n",
    "print(join(proc2, join('europarl', 'gpt-4.1-2025-04-14')), len(files))"
   ]
  },
  {
   "cell_type": "markdown",
   "id": "7667db4c",
   "metadata": {},
   "source": [
    "* 45 logs, again 44 translations and the `task.json` file."
   ]
  },
  {
   "cell_type": "code",
   "execution_count": 11,
   "id": "f0de03d2",
   "metadata": {},
   "outputs": [
    {
     "name": "stdout",
     "output_type": "stream",
     "text": [
      "Proc2 44/45\n"
     ]
    }
   ],
   "source": [
    "print('Proc2', f'{len(proc2_logs)}/45')"
   ]
  },
  {
   "cell_type": "code",
   "execution_count": 12,
   "id": "d77984a1",
   "metadata": {},
   "outputs": [
    {
     "name": "stdout",
     "output_type": "stream",
     "text": [
      "INFO: 2025-05-07 13:55:45 - [🚀]: Selected task for europarl - gpt-4.1-2025-04-14\n",
      "INFO: 2025-05-07 13:55:45 - [🏁]: Starting task 9549e927-4f63-4205-82bb-5c7ccabfe943 on commit 66ef922\n",
      "INFO: 2025-05-07 13:59:58 - [✔️]: Translated 398 sents for de-en\n",
      "INFO: 2025-05-07 14:03:12 - [✔️]: Translated 400 sents for en-de\n",
      "INFO: 2025-05-07 14:05:34 - [✔️]: Translated 400 sents for da-en\n",
      "INFO: 2025-05-07 14:08:09 - [✔️]: Translated 400 sents for en-da\n",
      "INFO: 2025-05-07 14:12:09 - [✔️]: Translated 400 sents for el-en\n",
      "INFO: 2025-05-07 14:16:08 - [✔️]: Translated 400 sents for en-el\n",
      "INFO: 2025-05-07 14:17:37 - [✔️]: Translated 400 sents for pt-en\n",
      "INFO: 2025-05-07 14:19:38 - [✔️]: Translated 400 sents for en-pt\n",
      "INFO: 2025-05-07 14:21:29 - [✔️]: Translated 400 sents for sv-en\n",
      "INFO: 2025-05-07 14:23:14 - [✔️]: Translated 400 sents for en-sv\n",
      "INFO: 2025-05-07 14:25:11 - [✔️]: Translated 401 sents for es-en\n",
      "INFO: 2025-05-07 14:27:50 - [✔️]: Translated 400 sents for en-es\n",
      "INFO: 2025-05-07 14:30:10 - [✔️]: Translated 400 sents for fi-en\n",
      "INFO: 2025-05-07 14:35:11 - Retrying request to /chat/completions in 0.437165 seconds\n",
      "INFO: 2025-05-07 14:39:46 - [✔️]: Translated 401 sents for en-fi\n",
      "INFO: 2025-05-07 14:42:11 - [✔️]: Translated 400 sents for fr-en\n",
      "INFO: 2025-05-07 14:45:08 - [✔️]: Translated 400 sents for en-fr\n",
      "INFO: 2025-05-07 14:47:41 - [✔️]: Translated 400 sents for it-en\n",
      "INFO: 2025-05-07 14:50:39 - [✔️]: Translated 400 sents for en-it\n",
      "INFO: 2025-05-07 14:53:49 - [✔️]: Translated 400 sents for nl-en\n",
      "INFO: 2025-05-07 14:57:16 - [✔️]: Translated 400 sents for en-nl\n",
      "INFO: 2025-05-07 14:57:16 - [🏁]: Task took 3690.83s\n",
      "INFO: 2025-05-07 14:57:36 - [🚀]: Selected task for europarl - deepl_document\n",
      "INFO: 2025-05-07 14:57:36 - [🏁]: Starting task ab9fc42b-61af-4534-afd6-3710eb1dbc52 on commit 66ef922\n",
      "INFO: 2025-05-07 14:57:43 - [✔️]: Translated 400 sents for de-en\n",
      "INFO: 2025-05-07 14:57:49 - [✔️]: Translated 400 sents for en-de\n",
      "INFO: 2025-05-07 14:58:01 - [✔️]: Translated 400 sents for da-en\n",
      "INFO: 2025-05-07 14:58:12 - [✔️]: Translated 400 sents for en-da\n",
      "INFO: 2025-05-07 14:58:23 - [✔️]: Translated 400 sents for el-en\n",
      "INFO: 2025-05-07 14:58:37 - [✔️]: Translated 400 sents for en-el\n",
      "INFO: 2025-05-07 14:58:58 - [✔️]: Translated 400 sents for pt-en\n",
      "INFO: 2025-05-07 14:59:10 - [✔️]: Translated 400 sents for en-pt\n",
      "INFO: 2025-05-07 14:59:21 - [✔️]: Translated 400 sents for sv-en\n",
      "INFO: 2025-05-07 14:59:32 - [✔️]: Translated 400 sents for en-sv\n",
      "INFO: 2025-05-07 14:59:38 - [✔️]: Translated 400 sents for es-en\n",
      "INFO: 2025-05-07 14:59:44 - [✔️]: Translated 400 sents for en-es\n",
      "INFO: 2025-05-07 14:59:56 - [✔️]: Translated 400 sents for fi-en\n",
      "INFO: 2025-05-07 15:00:02 - [✔️]: Translated 400 sents for en-fi\n",
      "INFO: 2025-05-07 15:00:08 - [✔️]: Translated 400 sents for fr-en\n",
      "INFO: 2025-05-07 15:00:14 - [✔️]: Translated 400 sents for en-fr\n",
      "INFO: 2025-05-07 15:00:26 - [✔️]: Translated 400 sents for it-en\n",
      "INFO: 2025-05-07 15:00:37 - [✔️]: Translated 400 sents for en-it\n",
      "INFO: 2025-05-07 15:00:43 - [✔️]: Translated 400 sents for nl-en\n",
      "INFO: 2025-05-07 15:01:05 - [✔️]: Translated 400 sents for en-nl\n",
      "INFO: 2025-05-07 15:01:05 - [🏁]: Task took 208.54s\n",
      "INFO: 2025-05-07 15:01:52 - [🚀]: Selected task for opus-100 - gpt-4.1-2025-04-14\n",
      "INFO: 2025-05-07 15:01:53 - [🏁]: Starting task fa628bc1-4f85-446d-9167-1a8d99ccc493 on commit 66ef922\n",
      "INFO: 2025-05-07 15:03:09 - [✔️]: Translated 372 sents for de-en\n",
      "INFO: 2025-05-07 15:05:03 - [✔️]: Translated 400 sents for en-de\n",
      "INFO: 2025-05-07 15:06:42 - [✔️]: Translated 400 sents for da-en\n",
      "INFO: 2025-05-07 15:08:59 - [✔️]: Translated 400 sents for en-da\n",
      "INFO: 2025-05-07 15:10:37 - [✔️]: Translated 400 sents for el-en\n",
      "INFO: 2025-05-07 15:14:15 - [✔️]: Translated 400 sents for en-el\n",
      "INFO: 2025-05-07 15:15:41 - [✔️]: Translated 402 sents for pt-en\n",
      "INFO: 2025-05-07 15:17:27 - [✔️]: Translated 400 sents for en-pt\n",
      "INFO: 2025-05-07 15:18:31 - [✔️]: Translated 400 sents for sv-en\n",
      "INFO: 2025-05-07 15:19:54 - [✔️]: Translated 400 sents for en-sv\n",
      "INFO: 2025-05-07 15:21:20 - [✔️]: Translated 400 sents for es-en\n",
      "INFO: 2025-05-07 15:22:54 - [✔️]: Translated 400 sents for en-es\n",
      "INFO: 2025-05-07 15:24:29 - [✔️]: Translated 400 sents for fi-en\n",
      "INFO: 2025-05-07 15:27:28 - [✔️]: Translated 400 sents for en-fi\n",
      "INFO: 2025-05-07 15:29:06 - [✔️]: Translated 400 sents for fr-en\n",
      "INFO: 2025-05-07 15:32:08 - [✔️]: Translated 400 sents for en-fr\n",
      "INFO: 2025-05-07 15:33:30 - [✔️]: Translated 400 sents for it-en\n",
      "INFO: 2025-05-07 15:35:00 - [✔️]: Translated 400 sents for en-it\n",
      "INFO: 2025-05-07 15:36:03 - [✔️]: Translated 400 sents for nl-en\n",
      "INFO: 2025-05-07 15:38:20 - [✔️]: Translated 400 sents for en-nl\n",
      "INFO: 2025-05-07 15:38:20 - [🏁]: Task took 2187.31s\n",
      "INFO: 2025-05-07 15:38:48 - [🚀]: Selected task for opus-100 - deepl_document\n",
      "INFO: 2025-05-07 15:38:48 - [🏁]: Starting task 4c5ffc31-c043-414d-aba1-270f9967f078 on commit 66ef922\n",
      "INFO: 2025-05-07 15:38:55 - [✔️]: Translated 400 sents for de-en\n",
      "INFO: 2025-05-07 15:39:01 - [✔️]: Translated 400 sents for en-de\n",
      "INFO: 2025-05-07 15:39:12 - [✔️]: Translated 400 sents for da-en\n",
      "INFO: 2025-05-07 15:39:23 - [✔️]: Translated 400 sents for en-da\n",
      "INFO: 2025-05-07 15:39:29 - [✔️]: Translated 400 sents for el-en\n",
      "INFO: 2025-05-07 15:39:35 - [✔️]: Translated 400 sents for en-el\n",
      "INFO: 2025-05-07 15:39:41 - [✔️]: Translated 400 sents for pt-en\n",
      "INFO: 2025-05-07 15:39:47 - [✔️]: Translated 400 sents for en-pt\n",
      "INFO: 2025-05-07 15:39:53 - [✔️]: Translated 400 sents for sv-en\n",
      "INFO: 2025-05-07 15:40:01 - [✔️]: Translated 400 sents for en-sv\n",
      "INFO: 2025-05-07 15:40:12 - [✔️]: Translated 400 sents for es-en\n",
      "INFO: 2025-05-07 15:40:18 - [✔️]: Translated 400 sents for en-es\n",
      "INFO: 2025-05-07 15:40:23 - [✔️]: Translated 400 sents for fi-en\n",
      "INFO: 2025-05-07 15:40:29 - [✔️]: Translated 400 sents for en-fi\n",
      "INFO: 2025-05-07 15:40:35 - [✔️]: Translated 400 sents for fr-en\n",
      "INFO: 2025-05-07 15:40:42 - [✔️]: Translated 400 sents for en-fr\n",
      "INFO: 2025-05-07 15:40:54 - [✔️]: Translated 400 sents for it-en\n",
      "INFO: 2025-05-07 15:41:01 - [✔️]: Translated 400 sents for en-it\n",
      "INFO: 2025-05-07 15:41:12 - [✔️]: Translated 400 sents for nl-en\n",
      "INFO: 2025-05-07 15:41:18 - [✔️]: Translated 400 sents for en-nl\n",
      "INFO: 2025-05-07 15:41:18 - [🏁]: Task took 149.83s\n",
      "INFO: 2025-05-07 15:41:35 - [🚀]: Selected task for flores_plus - gpt-4.1-2025-04-14\n",
      "INFO: 2025-05-07 15:41:35 - [🏁]: Starting task fdbf6190-d061-4154-ae94-d7b11199d043 on commit 66ef922\n",
      "INFO: 2025-05-07 15:43:23 - [✔️]: Translated 400 sents for de-en\n",
      "INFO: 2025-05-07 15:46:13 - [✔️]: Translated 400 sents for en-de\n",
      "INFO: 2025-05-07 15:48:22 - [✔️]: Translated 400 sents for da-en\n",
      "INFO: 2025-05-07 15:51:29 - [✔️]: Translated 400 sents for en-da\n",
      "INFO: 2025-05-07 15:55:09 - [✔️]: Translated 400 sents for el-en\n",
      "INFO: 2025-05-07 16:00:09 - Retrying request to /chat/completions in 0.422277 seconds\n",
      "INFO: 2025-05-07 16:05:09 - [✔️]: Translated 400 sents for en-el\n",
      "INFO: 2025-05-07 16:07:59 - [✔️]: Translated 400 sents for pt-en\n",
      "INFO: 2025-05-07 16:11:07 - [✔️]: Translated 400 sents for en-pt\n",
      "INFO: 2025-05-07 16:13:20 - [✔️]: Translated 400 sents for sv-en\n",
      "INFO: 2025-05-07 16:15:35 - [✔️]: Translated 400 sents for en-sv\n",
      "INFO: 2025-05-07 16:17:18 - [✔️]: Translated 400 sents for es-en\n",
      "INFO: 2025-05-07 16:19:33 - [✔️]: Translated 400 sents for en-es\n",
      "INFO: 2025-05-07 16:22:11 - [✔️]: Translated 400 sents for fi-en\n",
      "INFO: 2025-05-07 16:25:54 - [✔️]: Translated 400 sents for en-fi\n",
      "INFO: 2025-05-07 16:27:56 - [✔️]: Translated 400 sents for fr-en\n",
      "INFO: 2025-05-07 16:30:13 - [✔️]: Translated 400 sents for en-fr\n",
      "INFO: 2025-05-07 16:32:23 - [✔️]: Translated 400 sents for it-en\n",
      "INFO: 2025-05-07 16:35:28 - [✔️]: Translated 400 sents for en-it\n",
      "INFO: 2025-05-07 16:37:14 - [✔️]: Translated 400 sents for nl-en\n",
      "INFO: 2025-05-07 16:39:43 - [✔️]: Translated 400 sents for en-nl\n",
      "INFO: 2025-05-07 16:39:43 - [🏁]: Task took 3487.97s\n",
      "INFO: 2025-05-07 16:39:58 - [🚀]: Selected task for flores_plus - deepl_document\n",
      "INFO: 2025-05-07 16:39:58 - [🏁]: Starting task 88538d1d-11fc-4356-9153-b105d4e26e30 on commit 66ef922\n",
      "INFO: 2025-05-07 16:40:04 - [✔️]: Translated 400 sents for de-en\n",
      "INFO: 2025-05-07 16:40:10 - [✔️]: Translated 400 sents for en-de\n",
      "INFO: 2025-05-07 16:40:21 - [✔️]: Translated 400 sents for da-en\n",
      "INFO: 2025-05-07 16:40:32 - [✔️]: Translated 400 sents for en-da\n",
      "INFO: 2025-05-07 16:40:43 - [✔️]: Translated 400 sents for el-en\n",
      "INFO: 2025-05-07 16:40:55 - [✔️]: Translated 400 sents for en-el\n",
      "INFO: 2025-05-07 16:41:01 - [✔️]: Translated 400 sents for pt-en\n",
      "INFO: 2025-05-07 16:41:12 - [✔️]: Translated 400 sents for en-pt\n",
      "INFO: 2025-05-07 16:41:23 - [✔️]: Translated 400 sents for sv-en\n",
      "INFO: 2025-05-07 16:41:34 - [✔️]: Translated 400 sents for en-sv\n",
      "INFO: 2025-05-07 16:41:40 - [✔️]: Translated 400 sents for es-en\n",
      "INFO: 2025-05-07 16:41:46 - [✔️]: Translated 400 sents for en-es\n",
      "INFO: 2025-05-07 16:41:58 - [✔️]: Translated 400 sents for fi-en\n",
      "INFO: 2025-05-07 16:42:09 - [✔️]: Translated 400 sents for en-fi\n",
      "INFO: 2025-05-07 16:42:15 - [✔️]: Translated 400 sents for fr-en\n",
      "INFO: 2025-05-07 16:42:21 - [✔️]: Translated 400 sents for en-fr\n",
      "INFO: 2025-05-07 16:42:27 - [✔️]: Translated 400 sents for it-en\n",
      "INFO: 2025-05-07 16:42:33 - [✔️]: Translated 400 sents for en-it\n",
      "INFO: 2025-05-07 16:42:39 - [✔️]: Translated 400 sents for nl-en\n",
      "INFO: 2025-05-07 16:42:50 - [✔️]: Translated 400 sents for en-nl\n",
      "INFO: 2025-05-07 16:42:50 - [🏁]: Task took 172.57s\n"
     ]
    }
   ],
   "source": [
    "!cat proc1.log | grep -P \"^(INFO: \\d\\d\\d\\d-\\d\\d-\\d\\d \\d\\d:\\d\\d:\\d\\d) - (\\[|Retry)\""
   ]
  },
  {
   "cell_type": "markdown",
   "id": "5c869526",
   "metadata": {},
   "source": [
    "### Observations\n",
    "* We observe that automatic retries were triggered much more frequently, in fact, not even just by OpenAI but also ours. \n",
    "* OpenAI's automatic retries employ something along the lines of an exponential backoff, it retries after roughly 0.4s and then again after roughly 0.8s\n",
    "* Our own automatic retries are indicated with the 🕒 emoji and call the API again after exactly 30 seconds.\n",
    "* These automatic retries caused an extremely long waiting time for a single task to finish; interfering with the author's student schedule, as they were still monitoring the task progress and had to remain connected to the Internet. \n",
    "    * In case of Internet failures, the 30 seconds timeframe of our automatic retry gives room to connect back and continue the task, avoiding error propagations."
   ]
  },
  {
   "cell_type": "code",
   "execution_count": 13,
   "id": "476736da",
   "metadata": {},
   "outputs": [
    {
     "name": "stdout",
     "output_type": "stream",
     "text": [
      "DEBUG: 2025-05-08 11:14:57 - Retrying due to status code 504\n",
      "INFO: 2025-05-08 11:14:57 - Retrying request to /chat/completions in 0.427331 seconds\n",
      "DEBUG: 2025-05-08 11:45:25 - Retrying due to status code 504\n",
      "INFO: 2025-05-08 11:45:25 - Retrying request to /chat/completions in 0.390387 seconds\n",
      "DEBUG: 2025-05-08 11:50:26 - Retrying due to status code 504\n",
      "INFO: 2025-05-08 11:50:26 - Retrying request to /chat/completions in 0.875335 seconds\n",
      "INFO: 2025-05-08 11:55:27 - [🕒]: Retrying de-el...\n",
      "DEBUG: 2025-05-08 12:00:58 - Retrying due to status code 504\n",
      "INFO: 2025-05-08 12:00:58 - Retrying request to /chat/completions in 0.484229 seconds\n",
      "DEBUG: 2025-05-08 12:28:38 - Retrying due to status code 502\n",
      "INFO: 2025-05-08 12:28:38 - Retrying request to /chat/completions in 0.387740 seconds\n",
      "DEBUG: 2025-05-08 12:31:15 - Retrying due to status code 502\n",
      "INFO: 2025-05-08 12:31:15 - Retrying request to /chat/completions in 0.834205 seconds\n",
      "DEBUG: 2025-05-08 13:54:27 - Retrying due to status code 504\n",
      "INFO: 2025-05-08 13:54:27 - Retrying request to /chat/completions in 0.379941 seconds\n",
      "DEBUG: 2025-05-08 13:59:28 - Retrying due to status code 504\n",
      "INFO: 2025-05-08 13:59:28 - Retrying request to /chat/completions in 0.814447 seconds\n",
      "INFO: 2025-05-08 14:04:29 - [🕒]: Retrying fi-el...\n",
      "DEBUG: 2025-05-08 14:10:00 - Retrying due to status code 504\n",
      "INFO: 2025-05-08 14:10:00 - Retrying request to /chat/completions in 0.450753 seconds\n",
      "DEBUG: 2025-05-08 14:15:01 - Retrying due to status code 504\n",
      "INFO: 2025-05-08 14:15:01 - Retrying request to /chat/completions in 0.855676 seconds\n",
      "INFO: 2025-05-08 14:24:38 - [🕒]: Retrying fi-el...\n",
      "DEBUG: 2025-05-08 14:30:09 - Retrying due to status code 504\n",
      "INFO: 2025-05-08 14:30:09 - Retrying request to /chat/completions in 0.407489 seconds\n",
      "DEBUG: 2025-05-08 14:35:09 - Retrying due to status code 504\n",
      "INFO: 2025-05-08 14:35:09 - Retrying request to /chat/completions in 0.902187 seconds\n",
      "INFO: 2025-05-08 14:40:10 - [⏭️]: Failed 2 times, skipping fi-el...\n"
     ]
    }
   ],
   "source": [
    "!cat proc2.log | grep -P \"(Retry|skipping)\""
   ]
  },
  {
   "cell_type": "markdown",
   "id": "98151ac7",
   "metadata": {},
   "source": [
    "* Most retries were caused by Gateway Timeouts indicated by the status code 504, for a certain instance it was 502.\n",
    "* We checked the OpenAI developer forum for this but most suggestions at that time just informed us to either reduce the prompt size or employ automatic retries with delays, which we have already done.\n",
    "    * [Forum Thread1](https://community.openai.com/t/api-error-504-in-call-to-chatopenai/292512/3): Mentions prompt size, rate limits, internet connection or checking OpenAI status.\n",
    "    * [Forum Thread2](https://community.openai.com/t/504-gateway-time-out-error/720369): Mentions reducing prompt size\n",
    "* Since we were able to get 44 pairs with 400 sentences and we knew it could not be the rate limits, as the logs did not indicate such, we decided to translate the remaining pairs of interupted procedure 2 in procedure 3 by reducing the size of each task even further."
   ]
  },
  {
   "cell_type": "code",
   "execution_count": 14,
   "id": "83e7ff87",
   "metadata": {},
   "outputs": [
    {
     "name": "stdout",
     "output_type": "stream",
     "text": [
      "INFO: 2025-05-08 10:59:02 - [🚀]: Selected task for europarl-1 - gpt-4.1-2025-04-14\n",
      "INFO: 2025-05-08 14:40:10 - [⏭️]: Failed 2 times, skipping fi-el...\n",
      "INFO: 2025-05-08 15:04:01 - [🏁]: Task took 14699.12s\n"
     ]
    }
   ],
   "source": [
    "!cat proc2.log | grep -P \"(Selected task|Task took|skipping)\""
   ]
  },
  {
   "cell_type": "markdown",
   "id": "ad05a6e2",
   "metadata": {},
   "source": [
    "* We planned roughly more than 2 hours for one task but it took slightly more than 4 hours."
   ]
  },
  {
   "cell_type": "markdown",
   "id": "49b946b1",
   "metadata": {},
   "source": [
    "## Procedure 3"
   ]
  },
  {
   "cell_type": "markdown",
   "id": "f00de7bf",
   "metadata": {},
   "source": [
    "* Continues where procedure 2 was interrupted. Instead of translating 45 pairs, we translated now the segments within those 45, i.e. 9 pairs with source language fixed (de-da, de-fi, de-el, etc.) \n",
    "* This results in 15 tasks, 5 tasks for the remaining EuroParl pairs and 10 tasks for the FLORES+ pairs.\n",
    "* However, again, we decided to interrupt procedure 3 after 5 tasks of the EuroParl pairs have been completed, thus, only the following CLI commands were ran:\n",
    "```sh\n",
    "python proc3.py run -m gpt-4.1-2025-04-14 -d europarl-fr\n",
    "python proc3.py run -m gpt-4.1-2025-04-14 -d europarl-it\n",
    "python proc3.py run -m gpt-4.1-2025-04-14 -d europarl-nl\n",
    "python proc3.py run -m gpt-4.1-2025-04-14 -d europarl-pt\n",
    "python proc3.py run -m gpt-4.1-2025-04-14 -d europarl-sv\n",
    "```\n",
    "* This resulted in 42/45 translated pairs, it-el, it-fi and sv-el were skipped due to frequent Gateway Timeouts\n",
    "* Furthermore, we noticed that OpenAI provides a [logging feature for Chat Completion on the OpenAI platform](https://platform.openai.com/logs?api=chat-completions). \n",
    "* It was disabled by default. We decided to enable it for procedure 3 out of curiosity (Spoiler: this turned out to be a significant decision). "
   ]
  },
  {
   "cell_type": "code",
   "execution_count": 15,
   "id": "ccf09d9f",
   "metadata": {},
   "outputs": [
    {
     "name": "stdout",
     "output_type": "stream",
     "text": [
      "4556b5df-51b7-4d7d-a545-e53943fa64a3 9\n",
      "1077cd91-85d1-4100-a038-acdba34d7e6c 7\n",
      "7de67252-5e5d-4cfe-8f6c-3a9d837389a0 9\n",
      "71ac2b3d-eff1-4291-9a62-8f94ac0ac770 9\n",
      "0c97e7cc-220d-4aae-93d2-c3ca4884ef75 8\n"
     ]
    }
   ],
   "source": [
    "proc3 = join(task_folder, 'proc3')\n",
    "proc3_folders = os.listdir(proc3)\n",
    "proc3_task_ids = []\n",
    "for folder in proc3_folders:\n",
    "    if folder.startswith('flores'): continue\n",
    "    with open(join(proc3, join(folder, join('gpt-4.1-2025-04-14', 'task.json'))), 'r') as f:\n",
    "        task = json.load(f)\n",
    "        proc3_task_ids.append(task['task_id'])\n",
    "\n",
    "with open(join(task_folder, 'proc3.jsonl'), 'r') as f:\n",
    "    logs = [json.loads(ln) for ln in f.readlines()]\n",
    "\n",
    "proc3_task_id2logs = {task_id: [] for task_id in proc3_task_ids}\n",
    "for task_id in proc3_task_ids:\n",
    "    for log in logs:\n",
    "        if log['id'].startswith(task_id):\n",
    "            proc3_task_id2logs[task_id].append(log)\n",
    "\n",
    "total = 0\n",
    "for task_id, logs in proc3_task_id2logs.items():\n",
    "    total += len(logs)\n",
    "    print(task_id, len(logs))"
   ]
  },
  {
   "cell_type": "markdown",
   "id": "69c8fbb7",
   "metadata": {},
   "source": [
    "* 9 logs per task, 7 for `europarl-it` as it-fi and it-el were skipped and 8 for `europarl-sv`, as sv-el was skipped."
   ]
  },
  {
   "cell_type": "code",
   "execution_count": 16,
   "id": "1a0a5444",
   "metadata": {},
   "outputs": [
    {
     "name": "stdout",
     "output_type": "stream",
     "text": [
      "tasks\\proc3\\europarl-fr\\gpt-4.1-2025-04-14 10\n",
      "tasks\\proc3\\europarl-it\\gpt-4.1-2025-04-14 8\n",
      "tasks\\proc3\\europarl-nl\\gpt-4.1-2025-04-14 10\n",
      "tasks\\proc3\\europarl-pt\\gpt-4.1-2025-04-14 10\n",
      "tasks\\proc3\\europarl-sv\\gpt-4.1-2025-04-14 9\n"
     ]
    }
   ],
   "source": [
    "for task in [t for t in os.listdir(proc3) if t.startswith('europarl')]:\n",
    "    files = os.listdir(join(proc3, join(task, 'gpt-4.1-2025-04-14')))\n",
    "    print(join(proc3, join(task, 'gpt-4.1-2025-04-14')), len(files))"
   ]
  },
  {
   "cell_type": "markdown",
   "id": "9e29a1e0",
   "metadata": {},
   "source": [
    "* Same numbers again, including `task.json`"
   ]
  },
  {
   "cell_type": "code",
   "execution_count": 17,
   "id": "f7b9d65b",
   "metadata": {},
   "outputs": [
    {
     "name": "stdout",
     "output_type": "stream",
     "text": [
      "Proc3 42/45\n"
     ]
    }
   ],
   "source": [
    "print('Proc3', f'{total}/45')"
   ]
  },
  {
   "cell_type": "code",
   "execution_count": 18,
   "id": "83a583de",
   "metadata": {},
   "outputs": [
    {
     "name": "stdout",
     "output_type": "stream",
     "text": [
      "INFO: 2025-05-07 13:55:45 - [🚀]: Selected task for europarl - gpt-4.1-2025-04-14\n",
      "INFO: 2025-05-07 13:55:45 - [🏁]: Starting task 9549e927-4f63-4205-82bb-5c7ccabfe943 on commit 66ef922\n",
      "INFO: 2025-05-07 13:59:58 - [✔️]: Translated 398 sents for de-en\n",
      "INFO: 2025-05-07 14:03:12 - [✔️]: Translated 400 sents for en-de\n",
      "INFO: 2025-05-07 14:05:34 - [✔️]: Translated 400 sents for da-en\n",
      "INFO: 2025-05-07 14:08:09 - [✔️]: Translated 400 sents for en-da\n",
      "INFO: 2025-05-07 14:12:09 - [✔️]: Translated 400 sents for el-en\n",
      "INFO: 2025-05-07 14:16:08 - [✔️]: Translated 400 sents for en-el\n",
      "INFO: 2025-05-07 14:17:37 - [✔️]: Translated 400 sents for pt-en\n",
      "INFO: 2025-05-07 14:19:38 - [✔️]: Translated 400 sents for en-pt\n",
      "INFO: 2025-05-07 14:21:29 - [✔️]: Translated 400 sents for sv-en\n",
      "INFO: 2025-05-07 14:23:14 - [✔️]: Translated 400 sents for en-sv\n",
      "INFO: 2025-05-07 14:25:11 - [✔️]: Translated 401 sents for es-en\n",
      "INFO: 2025-05-07 14:27:50 - [✔️]: Translated 400 sents for en-es\n",
      "INFO: 2025-05-07 14:30:10 - [✔️]: Translated 400 sents for fi-en\n",
      "INFO: 2025-05-07 14:35:11 - Retrying request to /chat/completions in 0.437165 seconds\n",
      "INFO: 2025-05-07 14:39:46 - [✔️]: Translated 401 sents for en-fi\n",
      "INFO: 2025-05-07 14:42:11 - [✔️]: Translated 400 sents for fr-en\n",
      "INFO: 2025-05-07 14:45:08 - [✔️]: Translated 400 sents for en-fr\n",
      "INFO: 2025-05-07 14:47:41 - [✔️]: Translated 400 sents for it-en\n",
      "INFO: 2025-05-07 14:50:39 - [✔️]: Translated 400 sents for en-it\n",
      "INFO: 2025-05-07 14:53:49 - [✔️]: Translated 400 sents for nl-en\n",
      "INFO: 2025-05-07 14:57:16 - [✔️]: Translated 400 sents for en-nl\n",
      "INFO: 2025-05-07 14:57:16 - [🏁]: Task took 3690.83s\n",
      "INFO: 2025-05-07 14:57:36 - [🚀]: Selected task for europarl - deepl_document\n",
      "INFO: 2025-05-07 14:57:36 - [🏁]: Starting task ab9fc42b-61af-4534-afd6-3710eb1dbc52 on commit 66ef922\n",
      "INFO: 2025-05-07 14:57:43 - [✔️]: Translated 400 sents for de-en\n",
      "INFO: 2025-05-07 14:57:49 - [✔️]: Translated 400 sents for en-de\n",
      "INFO: 2025-05-07 14:58:01 - [✔️]: Translated 400 sents for da-en\n",
      "INFO: 2025-05-07 14:58:12 - [✔️]: Translated 400 sents for en-da\n",
      "INFO: 2025-05-07 14:58:23 - [✔️]: Translated 400 sents for el-en\n",
      "INFO: 2025-05-07 14:58:37 - [✔️]: Translated 400 sents for en-el\n",
      "INFO: 2025-05-07 14:58:58 - [✔️]: Translated 400 sents for pt-en\n",
      "INFO: 2025-05-07 14:59:10 - [✔️]: Translated 400 sents for en-pt\n",
      "INFO: 2025-05-07 14:59:21 - [✔️]: Translated 400 sents for sv-en\n",
      "INFO: 2025-05-07 14:59:32 - [✔️]: Translated 400 sents for en-sv\n",
      "INFO: 2025-05-07 14:59:38 - [✔️]: Translated 400 sents for es-en\n",
      "INFO: 2025-05-07 14:59:44 - [✔️]: Translated 400 sents for en-es\n",
      "INFO: 2025-05-07 14:59:56 - [✔️]: Translated 400 sents for fi-en\n",
      "INFO: 2025-05-07 15:00:02 - [✔️]: Translated 400 sents for en-fi\n",
      "INFO: 2025-05-07 15:00:08 - [✔️]: Translated 400 sents for fr-en\n",
      "INFO: 2025-05-07 15:00:14 - [✔️]: Translated 400 sents for en-fr\n",
      "INFO: 2025-05-07 15:00:26 - [✔️]: Translated 400 sents for it-en\n",
      "INFO: 2025-05-07 15:00:37 - [✔️]: Translated 400 sents for en-it\n",
      "INFO: 2025-05-07 15:00:43 - [✔️]: Translated 400 sents for nl-en\n",
      "INFO: 2025-05-07 15:01:05 - [✔️]: Translated 400 sents for en-nl\n",
      "INFO: 2025-05-07 15:01:05 - [🏁]: Task took 208.54s\n",
      "INFO: 2025-05-07 15:01:52 - [🚀]: Selected task for opus-100 - gpt-4.1-2025-04-14\n",
      "INFO: 2025-05-07 15:01:53 - [🏁]: Starting task fa628bc1-4f85-446d-9167-1a8d99ccc493 on commit 66ef922\n",
      "INFO: 2025-05-07 15:03:09 - [✔️]: Translated 372 sents for de-en\n",
      "INFO: 2025-05-07 15:05:03 - [✔️]: Translated 400 sents for en-de\n",
      "INFO: 2025-05-07 15:06:42 - [✔️]: Translated 400 sents for da-en\n",
      "INFO: 2025-05-07 15:08:59 - [✔️]: Translated 400 sents for en-da\n",
      "INFO: 2025-05-07 15:10:37 - [✔️]: Translated 400 sents for el-en\n",
      "INFO: 2025-05-07 15:14:15 - [✔️]: Translated 400 sents for en-el\n",
      "INFO: 2025-05-07 15:15:41 - [✔️]: Translated 402 sents for pt-en\n",
      "INFO: 2025-05-07 15:17:27 - [✔️]: Translated 400 sents for en-pt\n",
      "INFO: 2025-05-07 15:18:31 - [✔️]: Translated 400 sents for sv-en\n",
      "INFO: 2025-05-07 15:19:54 - [✔️]: Translated 400 sents for en-sv\n",
      "INFO: 2025-05-07 15:21:20 - [✔️]: Translated 400 sents for es-en\n",
      "INFO: 2025-05-07 15:22:54 - [✔️]: Translated 400 sents for en-es\n",
      "INFO: 2025-05-07 15:24:29 - [✔️]: Translated 400 sents for fi-en\n",
      "INFO: 2025-05-07 15:27:28 - [✔️]: Translated 400 sents for en-fi\n",
      "INFO: 2025-05-07 15:29:06 - [✔️]: Translated 400 sents for fr-en\n",
      "INFO: 2025-05-07 15:32:08 - [✔️]: Translated 400 sents for en-fr\n",
      "INFO: 2025-05-07 15:33:30 - [✔️]: Translated 400 sents for it-en\n",
      "INFO: 2025-05-07 15:35:00 - [✔️]: Translated 400 sents for en-it\n",
      "INFO: 2025-05-07 15:36:03 - [✔️]: Translated 400 sents for nl-en\n",
      "INFO: 2025-05-07 15:38:20 - [✔️]: Translated 400 sents for en-nl\n",
      "INFO: 2025-05-07 15:38:20 - [🏁]: Task took 2187.31s\n",
      "INFO: 2025-05-07 15:38:48 - [🚀]: Selected task for opus-100 - deepl_document\n",
      "INFO: 2025-05-07 15:38:48 - [🏁]: Starting task 4c5ffc31-c043-414d-aba1-270f9967f078 on commit 66ef922\n",
      "INFO: 2025-05-07 15:38:55 - [✔️]: Translated 400 sents for de-en\n",
      "INFO: 2025-05-07 15:39:01 - [✔️]: Translated 400 sents for en-de\n",
      "INFO: 2025-05-07 15:39:12 - [✔️]: Translated 400 sents for da-en\n",
      "INFO: 2025-05-07 15:39:23 - [✔️]: Translated 400 sents for en-da\n",
      "INFO: 2025-05-07 15:39:29 - [✔️]: Translated 400 sents for el-en\n",
      "INFO: 2025-05-07 15:39:35 - [✔️]: Translated 400 sents for en-el\n",
      "INFO: 2025-05-07 15:39:41 - [✔️]: Translated 400 sents for pt-en\n",
      "INFO: 2025-05-07 15:39:47 - [✔️]: Translated 400 sents for en-pt\n",
      "INFO: 2025-05-07 15:39:53 - [✔️]: Translated 400 sents for sv-en\n",
      "INFO: 2025-05-07 15:40:01 - [✔️]: Translated 400 sents for en-sv\n",
      "INFO: 2025-05-07 15:40:12 - [✔️]: Translated 400 sents for es-en\n",
      "INFO: 2025-05-07 15:40:18 - [✔️]: Translated 400 sents for en-es\n",
      "INFO: 2025-05-07 15:40:23 - [✔️]: Translated 400 sents for fi-en\n",
      "INFO: 2025-05-07 15:40:29 - [✔️]: Translated 400 sents for en-fi\n",
      "INFO: 2025-05-07 15:40:35 - [✔️]: Translated 400 sents for fr-en\n",
      "INFO: 2025-05-07 15:40:42 - [✔️]: Translated 400 sents for en-fr\n",
      "INFO: 2025-05-07 15:40:54 - [✔️]: Translated 400 sents for it-en\n",
      "INFO: 2025-05-07 15:41:01 - [✔️]: Translated 400 sents for en-it\n",
      "INFO: 2025-05-07 15:41:12 - [✔️]: Translated 400 sents for nl-en\n",
      "INFO: 2025-05-07 15:41:18 - [✔️]: Translated 400 sents for en-nl\n",
      "INFO: 2025-05-07 15:41:18 - [🏁]: Task took 149.83s\n",
      "INFO: 2025-05-07 15:41:35 - [🚀]: Selected task for flores_plus - gpt-4.1-2025-04-14\n",
      "INFO: 2025-05-07 15:41:35 - [🏁]: Starting task fdbf6190-d061-4154-ae94-d7b11199d043 on commit 66ef922\n",
      "INFO: 2025-05-07 15:43:23 - [✔️]: Translated 400 sents for de-en\n",
      "INFO: 2025-05-07 15:46:13 - [✔️]: Translated 400 sents for en-de\n",
      "INFO: 2025-05-07 15:48:22 - [✔️]: Translated 400 sents for da-en\n",
      "INFO: 2025-05-07 15:51:29 - [✔️]: Translated 400 sents for en-da\n",
      "INFO: 2025-05-07 15:55:09 - [✔️]: Translated 400 sents for el-en\n",
      "INFO: 2025-05-07 16:00:09 - Retrying request to /chat/completions in 0.422277 seconds\n",
      "INFO: 2025-05-07 16:05:09 - [✔️]: Translated 400 sents for en-el\n",
      "INFO: 2025-05-07 16:07:59 - [✔️]: Translated 400 sents for pt-en\n",
      "INFO: 2025-05-07 16:11:07 - [✔️]: Translated 400 sents for en-pt\n",
      "INFO: 2025-05-07 16:13:20 - [✔️]: Translated 400 sents for sv-en\n",
      "INFO: 2025-05-07 16:15:35 - [✔️]: Translated 400 sents for en-sv\n",
      "INFO: 2025-05-07 16:17:18 - [✔️]: Translated 400 sents for es-en\n",
      "INFO: 2025-05-07 16:19:33 - [✔️]: Translated 400 sents for en-es\n",
      "INFO: 2025-05-07 16:22:11 - [✔️]: Translated 400 sents for fi-en\n",
      "INFO: 2025-05-07 16:25:54 - [✔️]: Translated 400 sents for en-fi\n",
      "INFO: 2025-05-07 16:27:56 - [✔️]: Translated 400 sents for fr-en\n",
      "INFO: 2025-05-07 16:30:13 - [✔️]: Translated 400 sents for en-fr\n",
      "INFO: 2025-05-07 16:32:23 - [✔️]: Translated 400 sents for it-en\n",
      "INFO: 2025-05-07 16:35:28 - [✔️]: Translated 400 sents for en-it\n",
      "INFO: 2025-05-07 16:37:14 - [✔️]: Translated 400 sents for nl-en\n",
      "INFO: 2025-05-07 16:39:43 - [✔️]: Translated 400 sents for en-nl\n",
      "INFO: 2025-05-07 16:39:43 - [🏁]: Task took 3487.97s\n",
      "INFO: 2025-05-07 16:39:58 - [🚀]: Selected task for flores_plus - deepl_document\n",
      "INFO: 2025-05-07 16:39:58 - [🏁]: Starting task 88538d1d-11fc-4356-9153-b105d4e26e30 on commit 66ef922\n",
      "INFO: 2025-05-07 16:40:04 - [✔️]: Translated 400 sents for de-en\n",
      "INFO: 2025-05-07 16:40:10 - [✔️]: Translated 400 sents for en-de\n",
      "INFO: 2025-05-07 16:40:21 - [✔️]: Translated 400 sents for da-en\n",
      "INFO: 2025-05-07 16:40:32 - [✔️]: Translated 400 sents for en-da\n",
      "INFO: 2025-05-07 16:40:43 - [✔️]: Translated 400 sents for el-en\n",
      "INFO: 2025-05-07 16:40:55 - [✔️]: Translated 400 sents for en-el\n",
      "INFO: 2025-05-07 16:41:01 - [✔️]: Translated 400 sents for pt-en\n",
      "INFO: 2025-05-07 16:41:12 - [✔️]: Translated 400 sents for en-pt\n",
      "INFO: 2025-05-07 16:41:23 - [✔️]: Translated 400 sents for sv-en\n",
      "INFO: 2025-05-07 16:41:34 - [✔️]: Translated 400 sents for en-sv\n",
      "INFO: 2025-05-07 16:41:40 - [✔️]: Translated 400 sents for es-en\n",
      "INFO: 2025-05-07 16:41:46 - [✔️]: Translated 400 sents for en-es\n",
      "INFO: 2025-05-07 16:41:58 - [✔️]: Translated 400 sents for fi-en\n",
      "INFO: 2025-05-07 16:42:09 - [✔️]: Translated 400 sents for en-fi\n",
      "INFO: 2025-05-07 16:42:15 - [✔️]: Translated 400 sents for fr-en\n",
      "INFO: 2025-05-07 16:42:21 - [✔️]: Translated 400 sents for en-fr\n",
      "INFO: 2025-05-07 16:42:27 - [✔️]: Translated 400 sents for it-en\n",
      "INFO: 2025-05-07 16:42:33 - [✔️]: Translated 400 sents for en-it\n",
      "INFO: 2025-05-07 16:42:39 - [✔️]: Translated 400 sents for nl-en\n",
      "INFO: 2025-05-07 16:42:50 - [✔️]: Translated 400 sents for en-nl\n",
      "INFO: 2025-05-07 16:42:50 - [🏁]: Task took 172.57s\n"
     ]
    }
   ],
   "source": [
    "!cat proc1.log | grep -P \"^(INFO: \\d\\d\\d\\d-\\d\\d-\\d\\d \\d\\d:\\d\\d:\\d\\d) - (\\[|Retry)\""
   ]
  },
  {
   "cell_type": "code",
   "execution_count": 19,
   "id": "0f86e88a",
   "metadata": {},
   "outputs": [
    {
     "name": "stdout",
     "output_type": "stream",
     "text": [
      "INFO: 2025-05-09 13:22:10 - [✔️]: Translated 400 sents for fr-da\n",
      "INFO: 2025-05-09 13:26:42 - [✔️]: Translated 400 sents for fr-de\n",
      "DEBUG: 2025-05-09 13:31:42 - Retrying due to status code 504\n",
      "INFO: 2025-05-09 13:31:42 - Retrying request to /chat/completions in 0.417134 seconds\n",
      "INFO: 2025-05-09 13:36:34 - [✔️]: Translated 400 sents for fr-el\n",
      "INFO: 2025-05-09 13:39:17 - [✔️]: Translated 400 sents for fr-es\n",
      "DEBUG: 2025-05-09 13:49:06 - Retrying due to status code 504\n",
      "INFO: 2025-05-09 13:49:06 - Retrying request to /chat/completions in 0.460105 seconds\n",
      "DEBUG: 2025-05-09 13:54:07 - Retrying due to status code 504\n",
      "INFO: 2025-05-09 13:54:07 - Retrying request to /chat/completions in 0.971100 seconds\n",
      "INFO: 2025-05-09 13:58:41 - [✔️]: Translated 400 sents for fr-fi\n",
      "INFO: 2025-05-09 14:02:23 - [✔️]: Translated 400 sents for fr-it\n",
      "INFO: 2025-05-09 14:07:12 - [✔️]: Translated 400 sents for fr-nl\n",
      "INFO: 2025-05-09 14:10:56 - [✔️]: Translated 400 sents for fr-pt\n",
      "INFO: 2025-05-09 14:15:46 - [✔️]: Translated 400 sents for fr-sv\n",
      "DEBUG: 2025-05-09 14:22:04 - Retrying due to status code 504\n",
      "INFO: 2025-05-09 14:22:04 - Retrying request to /chat/completions in 0.446719 seconds\n",
      "DEBUG: 2025-05-09 14:27:05 - Retrying due to status code 504\n",
      "INFO: 2025-05-09 14:27:05 - Retrying request to /chat/completions in 0.988794 seconds\n",
      "INFO: 2025-05-09 14:31:33 - [✔️]: Translated 400 sents for it-da\n",
      "INFO: 2025-05-09 14:34:46 - [✔️]: Translated 400 sents for it-de\n",
      "DEBUG: 2025-05-09 14:39:47 - Retrying due to status code 504\n",
      "INFO: 2025-05-09 14:39:47 - Retrying request to /chat/completions in 0.392463 seconds\n",
      "DEBUG: 2025-05-09 14:44:48 - Retrying due to status code 504\n",
      "INFO: 2025-05-09 14:44:48 - Retrying request to /chat/completions in 0.816382 seconds\n",
      "INFO: 2025-05-09 14:49:49 - [🕒]: Retrying it-el...\n",
      "DEBUG: 2025-05-09 14:55:20 - Retrying due to status code 504\n",
      "INFO: 2025-05-09 14:55:20 - Retrying request to /chat/completions in 0.436692 seconds\n",
      "DEBUG: 2025-05-09 15:00:20 - Retrying due to status code 504\n",
      "INFO: 2025-05-09 15:00:20 - Retrying request to /chat/completions in 0.828731 seconds\n",
      "INFO: 2025-05-09 15:05:21 - [🕒]: Retrying it-el...\n",
      "DEBUG: 2025-05-09 15:10:52 - Retrying due to status code 504\n",
      "INFO: 2025-05-09 15:10:52 - Retrying request to /chat/completions in 0.447090 seconds\n",
      "DEBUG: 2025-05-09 15:15:53 - Retrying due to status code 504\n",
      "INFO: 2025-05-09 15:15:53 - Retrying request to /chat/completions in 0.819822 seconds\n",
      "INFO: 2025-05-09 15:20:54 - [⏭️]: Failed 2 times, skipping it-el...\n",
      "INFO: 2025-05-09 15:23:57 - [✔️]: Translated 400 sents for it-es\n",
      "DEBUG: 2025-05-09 15:28:58 - Retrying due to status code 504\n",
      "INFO: 2025-05-09 15:28:58 - Retrying request to /chat/completions in 0.490891 seconds\n",
      "DEBUG: 2025-05-09 15:33:59 - Retrying due to status code 504\n",
      "INFO: 2025-05-09 15:33:59 - Retrying request to /chat/completions in 0.764429 seconds\n",
      "INFO: 2025-05-09 15:39:00 - [🕒]: Retrying it-fi...\n",
      "DEBUG: 2025-05-09 15:44:30 - Retrying due to status code 504\n",
      "INFO: 2025-05-09 15:44:30 - Retrying request to /chat/completions in 0.416908 seconds\n",
      "DEBUG: 2025-05-09 15:49:31 - Retrying due to status code 504\n",
      "INFO: 2025-05-09 15:49:31 - Retrying request to /chat/completions in 0.799848 seconds\n",
      "INFO: 2025-05-09 15:54:32 - [🕒]: Retrying it-fi...\n",
      "DEBUG: 2025-05-09 16:00:03 - Retrying due to status code 504\n",
      "INFO: 2025-05-09 16:00:03 - Retrying request to /chat/completions in 0.473773 seconds\n",
      "DEBUG: 2025-05-09 16:05:03 - Retrying due to status code 504\n",
      "INFO: 2025-05-09 16:05:03 - Retrying request to /chat/completions in 0.912285 seconds\n",
      "INFO: 2025-05-09 16:10:04 - [⏭️]: Failed 2 times, skipping it-fi...\n",
      "INFO: 2025-05-09 16:13:11 - [✔️]: Translated 400 sents for it-fr\n",
      "INFO: 2025-05-09 16:17:37 - [✔️]: Translated 400 sents for it-nl\n",
      "INFO: 2025-05-09 16:21:08 - [✔️]: Translated 400 sents for it-pt\n",
      "INFO: 2025-05-09 16:26:07 - [✔️]: Translated 400 sents for it-sv\n",
      "DEBUG: 2025-05-09 16:33:04 - Retrying due to status code 504\n",
      "INFO: 2025-05-09 16:33:04 - Retrying request to /chat/completions in 0.466206 seconds\n",
      "INFO: 2025-05-09 16:37:27 - [✔️]: Translated 400 sents for nl-da\n",
      "DEBUG: 2025-05-09 16:42:27 - Retrying due to status code 504\n",
      "INFO: 2025-05-09 16:42:27 - Retrying request to /chat/completions in 0.457751 seconds\n",
      "INFO: 2025-05-09 16:46:22 - [✔️]: Translated 400 sents for nl-de\n",
      "DEBUG: 2025-05-09 16:51:23 - Retrying due to status code 504\n",
      "INFO: 2025-05-09 16:51:23 - Retrying request to /chat/completions in 0.451682 seconds\n",
      "DEBUG: 2025-05-09 16:56:24 - Retrying due to status code 504\n",
      "INFO: 2025-05-09 16:56:24 - Retrying request to /chat/completions in 0.957880 seconds\n",
      "INFO: 2025-05-09 17:00:03 - [✔️]: Translated 400 sents for nl-el\n",
      "INFO: 2025-05-09 17:03:38 - [✔️]: Translated 400 sents for nl-es\n",
      "DEBUG: 2025-05-09 17:08:39 - Retrying due to status code 504\n",
      "INFO: 2025-05-09 17:08:39 - Retrying request to /chat/completions in 0.472045 seconds\n",
      "DEBUG: 2025-05-09 17:13:39 - Retrying due to status code 504\n",
      "INFO: 2025-05-09 17:13:39 - Retrying request to /chat/completions in 0.815251 seconds\n",
      "INFO: 2025-05-09 17:18:41 - [🕒]: Retrying nl-fi...\n",
      "INFO: 2025-05-09 17:19:27 - Retrying request to /chat/completions in 0.401226 seconds\n",
      "DEBUG: 2025-05-09 17:24:29 - Retrying due to status code 504\n",
      "INFO: 2025-05-09 17:24:29 - Retrying request to /chat/completions in 0.825274 seconds\n",
      "INFO: 2025-05-09 17:25:37 - [🕒]: Retrying nl-fi...\n",
      "INFO: 2025-05-09 17:30:57 - [✔️]: Translated 400 sents for nl-fi\n",
      "INFO: 2025-05-09 17:35:21 - [✔️]: Translated 400 sents for nl-fr\n",
      "INFO: 2025-05-09 17:39:50 - [✔️]: Translated 400 sents for nl-it\n",
      "INFO: 2025-05-09 17:43:13 - [✔️]: Translated 400 sents for nl-pt\n",
      "INFO: 2025-05-09 17:48:07 - [✔️]: Translated 400 sents for nl-sv\n",
      "DEBUG: 2025-05-09 19:24:38 - Retrying due to status code 504\n",
      "INFO: 2025-05-09 19:24:38 - Retrying request to /chat/completions in 0.437567 seconds\n",
      "INFO: 2025-05-09 19:28:40 - [✔️]: Translated 400 sents for pt-da\n",
      "INFO: 2025-05-09 19:33:11 - [✔️]: Translated 400 sents for pt-de\n",
      "DEBUG: 2025-05-09 19:38:12 - Retrying due to status code 504\n",
      "INFO: 2025-05-09 19:38:12 - Retrying request to /chat/completions in 0.479995 seconds\n",
      "DEBUG: 2025-05-09 19:43:12 - Retrying due to status code 504\n",
      "INFO: 2025-05-09 19:43:12 - Retrying request to /chat/completions in 0.813699 seconds\n",
      "INFO: 2025-05-09 19:48:14 - [🕒]: Retrying pt-el...\n",
      "INFO: 2025-05-09 19:53:33 - [✔️]: Translated 400 sents for pt-el\n",
      "INFO: 2025-05-09 19:57:10 - [✔️]: Translated 400 sents for pt-es\n",
      "DEBUG: 2025-05-09 20:02:11 - Retrying due to status code 504\n",
      "INFO: 2025-05-09 20:02:11 - Retrying request to /chat/completions in 0.459683 seconds\n",
      "DEBUG: 2025-05-09 20:07:12 - Retrying due to status code 504\n",
      "INFO: 2025-05-09 20:07:12 - Retrying request to /chat/completions in 0.896268 seconds\n",
      "INFO: 2025-05-09 20:12:04 - [✔️]: Translated 401 sents for pt-fi\n",
      "INFO: 2025-05-09 20:15:33 - [✔️]: Translated 400 sents for pt-fr\n",
      "INFO: 2025-05-09 20:19:14 - [✔️]: Translated 400 sents for pt-it\n",
      "INFO: 2025-05-09 20:22:58 - [✔️]: Translated 400 sents for pt-nl\n",
      "INFO: 2025-05-09 20:26:53 - [✔️]: Translated 400 sents for pt-sv\n",
      "INFO: 2025-05-09 20:30:57 - [✔️]: Translated 400 sents for sv-da\n",
      "INFO: 2025-05-09 20:35:26 - [✔️]: Translated 400 sents for sv-de\n",
      "DEBUG: 2025-05-09 20:40:26 - Retrying due to status code 504\n",
      "INFO: 2025-05-09 20:40:26 - Retrying request to /chat/completions in 0.386993 seconds\n",
      "DEBUG: 2025-05-09 20:45:27 - Retrying due to status code 504\n",
      "INFO: 2025-05-09 20:45:27 - Retrying request to /chat/completions in 0.796444 seconds\n",
      "INFO: 2025-05-09 20:50:28 - [🕒]: Retrying sv-el...\n",
      "DEBUG: 2025-05-09 20:55:59 - Retrying due to status code 504\n",
      "INFO: 2025-05-09 20:55:59 - Retrying request to /chat/completions in 0.413805 seconds\n",
      "DEBUG: 2025-05-09 21:01:00 - Retrying due to status code 504\n",
      "INFO: 2025-05-09 21:01:00 - Retrying request to /chat/completions in 0.788409 seconds\n",
      "INFO: 2025-05-09 21:06:01 - [🕒]: Retrying sv-el...\n",
      "DEBUG: 2025-05-09 21:11:32 - Retrying due to status code 504\n",
      "INFO: 2025-05-09 21:11:32 - Retrying request to /chat/completions in 0.396318 seconds\n",
      "DEBUG: 2025-05-09 21:16:32 - Retrying due to status code 504\n",
      "INFO: 2025-05-09 21:16:32 - Retrying request to /chat/completions in 0.932916 seconds\n",
      "INFO: 2025-05-09 21:21:34 - [⏭️]: Failed 2 times, skipping sv-el...\n",
      "INFO: 2025-05-09 21:24:15 - [✔️]: Translated 400 sents for sv-es\n",
      "INFO: 2025-05-09 21:28:54 - [✔️]: Translated 399 sents for sv-fi\n",
      "INFO: 2025-05-09 21:32:13 - [✔️]: Translated 400 sents for sv-fr\n",
      "INFO: 2025-05-09 21:35:03 - [✔️]: Translated 400 sents for sv-it\n",
      "INFO: 2025-05-09 21:38:53 - [✔️]: Translated 400 sents for sv-nl\n",
      "INFO: 2025-05-09 21:41:08 - [✔️]: Translated 400 sents for sv-pt\n"
     ]
    }
   ],
   "source": [
    "!cat proc3.log | grep -P \"(Retry|skipping|Translated)\""
   ]
  },
  {
   "cell_type": "code",
   "execution_count": 20,
   "id": "9fe10945",
   "metadata": {},
   "outputs": [
    {
     "name": "stdout",
     "output_type": "stream",
     "text": [
      "INFO: 2025-05-09 13:18:06 - [🚀]: Selected task for europarl-fr - gpt-4.1-2025-04-14\n",
      "INFO: 2025-05-09 14:15:46 - [🏁]: Task took 3460.14s\n",
      "INFO: 2025-05-09 14:17:04 - [🚀]: Selected task for europarl-it - gpt-4.1-2025-04-14\n",
      "INFO: 2025-05-09 15:20:54 - [⏭️]: Failed 2 times, skipping it-el...\n",
      "INFO: 2025-05-09 16:10:04 - [⏭️]: Failed 2 times, skipping it-fi...\n",
      "INFO: 2025-05-09 16:26:07 - [🏁]: Task took 7742.83s\n",
      "INFO: 2025-05-09 16:28:03 - [🚀]: Selected task for europarl-nl - gpt-4.1-2025-04-14\n",
      "INFO: 2025-05-09 17:48:07 - [🏁]: Task took 4803.96s\n",
      "INFO: 2025-05-09 19:19:38 - [🚀]: Selected task for europarl-pt - gpt-4.1-2025-04-14\n",
      "INFO: 2025-05-09 20:26:53 - [🏁]: Task took 4035.21s\n",
      "INFO: 2025-05-09 20:27:10 - [🚀]: Selected task for europarl-sv - gpt-4.1-2025-04-14\n",
      "INFO: 2025-05-09 21:21:34 - [⏭️]: Failed 2 times, skipping sv-el...\n",
      "INFO: 2025-05-09 21:41:08 - [🏁]: Task took 4438.69s\n"
     ]
    }
   ],
   "source": [
    "!cat proc3.log | grep -P \"(Selected task|Task took|skipping)\""
   ]
  },
  {
   "cell_type": "markdown",
   "id": "4efcdf61",
   "metadata": {},
   "source": [
    "### Observation\n",
    "* We observe that this frequent occurance of the Gateway Timeout really made the translation task last substantially longer than it should. * Additionally, we should have disabled OpenAI's automatic retries. we checked the logs on OpenAI's platform and observed that each automatic retry triggered by OpenAI actually generated a successful response, meaning, we were getting charged for responses that we were not receiving directly by the API.\n",
    "    * **NOTE**: In hindsight, we found out after the complection of all procedures, that it was possible to still get these responses through code using API calls. This opens the possibility of investigating determinism as we have now duplicate outputs that could be compared, generated using the exact same input prompts and hyper parameters. However, we decided to not pursue this as it would exceed the scope of the thesis too much. **All translations in this project are associated with logs that are documented.**\n",
    "* We consulted the OpenAI Developer forum once again and learned that we could perhaps avoid this issue by using streaming instead of request-responses. We would only get charged for responses we actually receive and automatic retries were set to 0 by default for streaming, so only our own retries would be triggered. \n",
    "    * [Forum Thread](https://community.openai.com/t/504-gateway-timeout-but-response-logged/1256333) \n",
    "* Quick experiments with streaming revealed that it seemed somewhat faster as well, it did not fully remove the occurence of errors but felt more stable, making us decide to use streaming for the last 10 batches of 9 pairs for FLORES+ in procedure 4.\n"
   ]
  },
  {
   "cell_type": "markdown",
   "id": "f6a08a66",
   "metadata": {},
   "source": [
    "## Procedure 4"
   ]
  },
  {
   "cell_type": "markdown",
   "id": "9e9eca09",
   "metadata": {},
   "source": [
    "* Continues where procedure 2 and 3 left off, translating 90 pairs, in batches of 9 pairs with fixed source language (de-da, de-fi, de-el, etc.) of the FLORES+ dataset.\n",
    "* This amounts to exactly 10 tasks which were executed with the following CLI commands:\n",
    "```sh\n",
    "python proc4.py run -m gpt-4.1-2025-04-14 -d flores_plus-da\n",
    "python proc4.py run -m gpt-4.1-2025-04-14 -d flores_plus-de\n",
    "python proc4.py run -m gpt-4.1-2025-04-14 -d flores_plus-el\n",
    "python proc4.py run -m gpt-4.1-2025-04-14 -d flores_plus-es\n",
    "python proc4.py run -m gpt-4.1-2025-04-14 -d flores_plus-fi\n",
    "python proc4.py run -m gpt-4.1-2025-04-14 -d flores_plus-fr\n",
    "python proc4.py run -m gpt-4.1-2025-04-14 -d flores_plus-it\n",
    "python proc4.py run -m gpt-4.1-2025-04-14 -d flores_plus-nl\n",
    "python proc4.py run -m gpt-4.1-2025-04-14 -d flores_plus-pt\n",
    "python proc4.py run -m gpt-4.1-2025-04-14 -d flores_plus-sv\n",
    "```\n",
    "* 89/90 pairs were translated, only skipping de-fi due to failing the acceptance condition. \n",
    "    * The number of output lines was larger than the max we provided, we accpeted output between 360-480 lines or sentences. \n",
    "    * 360 being the minimum we were willing to accept, giving it 60 sentences leeway before going below 300. \n",
    "    * 480 sentences were based on the maximum number of sentences we could detect in the datasets, if we join the sentences and split them again using [SentenceSplitter](https://github.com/mediacloud/sentence-splitter)\n",
    "    * In this case, the pair for `de-fi` had roughly 1200 sentences in the translation because GPT4.1 decides to return it in a format, where each German sentence was included with translated Finnish sentence, despite the prompt asking it to only provide the translation. "
   ]
  },
  {
   "cell_type": "code",
   "execution_count": 21,
   "id": "067c7b6c",
   "metadata": {},
   "outputs": [
    {
     "name": "stdout",
     "output_type": "stream",
     "text": [
      "failure de fi ee3252e9-ee96-4559-854b-f2ac3d0e912c-0005\n",
      "\tfailure stats:\n",
      "\tout_lines: 1199\n",
      "\tout_sents: 1288\n",
      "1a161576-a298-4ff2-ba5c-7e321d983122 9\n",
      "ee3252e9-ee96-4559-854b-f2ac3d0e912c 8\n",
      "4c842a2a-3e69-43d6-86e1-db7207707967 9\n",
      "0505b4c1-a077-4577-8560-8620f87f7cfb 9\n",
      "3f2602f2-ece0-4c2f-9845-e1dc3d00a96a 9\n",
      "80796dbf-4543-4bc5-ade7-5b15fefb791f 9\n",
      "fb4d9a89-831d-4d6a-8257-b3a39434f8a6 9\n",
      "42fb35e2-4bd2-4a46-a517-8b738bae923e 9\n",
      "a67edffb-c282-4ede-827e-15508a20850a 9\n",
      "e1e047f6-cf94-423c-b89b-2dab39c05fd7 9\n"
     ]
    }
   ],
   "source": [
    "proc4 = join(task_folder, 'proc4')\n",
    "proc4_folders = os.listdir(proc4)\n",
    "proc4_task_ids = []\n",
    "for folder in proc4_folders:\n",
    "    with open(join(proc4, join(folder, join('gpt-4.1-2025-04-14', 'task.json'))), 'r') as f:\n",
    "        task = json.load(f)\n",
    "        proc4_task_ids.append(task['task_id'])\n",
    "\n",
    "with open(join(task_folder, 'proc4.jsonl'), 'r') as f:\n",
    "    logs = [json.loads(ln) for ln in f.readlines()]\n",
    "\n",
    "proc4_task_id2logs = {task_id: [] for task_id in proc4_task_ids}\n",
    "for task_id in proc4_task_ids:\n",
    "    for log in logs:\n",
    "        if log['id'].startswith(task_id) and log['verdict'] == 'accepted':\n",
    "            proc4_task_id2logs[task_id].append(log)\n",
    "        if log['id'].startswith(task_id) and log['verdict'] == 'rejected':\n",
    "            print('failure', log['src_lang'], log['tgt_lang'], log['id'])\n",
    "            print('\\tfailure stats:')\n",
    "            print(f'\\tout_lines: {log['out_lines']}')\n",
    "            print(f'\\tout_sents: {log['out_sents']}')\n",
    "\n",
    "total = 0\n",
    "for task_id, logs in proc4_task_id2logs.items():\n",
    "    total += len(logs)\n",
    "    print(task_id, len(logs))"
   ]
  },
  {
   "cell_type": "markdown",
   "id": "ff47f130",
   "metadata": {},
   "source": [
    "* We have 9 logs per task because failure of acceptance conditions are logged, as we still got an output back."
   ]
  },
  {
   "cell_type": "code",
   "execution_count": 22,
   "id": "f2e71f0b",
   "metadata": {},
   "outputs": [
    {
     "name": "stdout",
     "output_type": "stream",
     "text": [
      "tasks\\proc4\\flores_plus-da\\gpt-4.1-2025-04-14 10\n",
      "tasks\\proc4\\flores_plus-de\\gpt-4.1-2025-04-14 10\n",
      "tasks\\proc4\\flores_plus-el\\gpt-4.1-2025-04-14 10\n",
      "tasks\\proc4\\flores_plus-es\\gpt-4.1-2025-04-14 10\n",
      "tasks\\proc4\\flores_plus-fi\\gpt-4.1-2025-04-14 10\n",
      "tasks\\proc4\\flores_plus-fr\\gpt-4.1-2025-04-14 10\n",
      "tasks\\proc4\\flores_plus-it\\gpt-4.1-2025-04-14 10\n",
      "tasks\\proc4\\flores_plus-nl\\gpt-4.1-2025-04-14 10\n",
      "tasks\\proc4\\flores_plus-pt\\gpt-4.1-2025-04-14 10\n",
      "tasks\\proc4\\flores_plus-sv\\gpt-4.1-2025-04-14 10\n"
     ]
    }
   ],
   "source": [
    "for task in [t for t in os.listdir(proc4)]:\n",
    "    files = os.listdir(join(proc4, join(task, 'gpt-4.1-2025-04-14')))\n",
    "    print(join(proc4, join(task, 'gpt-4.1-2025-04-14')), len(files))"
   ]
  },
  {
   "cell_type": "code",
   "execution_count": 23,
   "id": "26adf966",
   "metadata": {},
   "outputs": [
    {
     "name": "stdout",
     "output_type": "stream",
     "text": [
      "de-da.txt\n",
      "de-el.txt\n",
      "de-es.txt\n",
      "de-fi_fail2.txt\n",
      "de-fr.txt\n",
      "de-it.txt\n",
      "de-nl.txt\n",
      "de-pt.txt\n",
      "de-sv.txt\n",
      "task.json\n"
     ]
    }
   ],
   "source": [
    "!ls tasks/proc4/flores_plus-de/gpt-4.1-2025-04-14/"
   ]
  },
  {
   "cell_type": "markdown",
   "id": "31909341",
   "metadata": {},
   "source": [
    "* Same as in the previous cases, including `task.json`, the file for `de-fi` is called `de-fi-fail2.txt`\n",
    "    * `fail2` because of an issue in the task code we decided to not fix for the remaining procedures either. If an error occurs before failure, triggering an automatic retry of our code, then the number of retries is incremented and the 2 indicates that it was the second retry that resulted in a failure, the first one being an error."
   ]
  },
  {
   "cell_type": "code",
   "execution_count": 24,
   "id": "fc85f45d",
   "metadata": {},
   "outputs": [
    {
     "name": "stdout",
     "output_type": "stream",
     "text": [
      "Proc4 89/90\n"
     ]
    }
   ],
   "source": [
    "print('Proc4', f'{total}/90')"
   ]
  },
  {
   "cell_type": "code",
   "execution_count": 25,
   "id": "a2b0355c",
   "metadata": {},
   "outputs": [
    {
     "name": "stdout",
     "output_type": "stream",
     "text": [
      "INFO: 2025-05-10 10:43:59 - [🚀]: Selected task for flores_plus-da - gpt-4.1-2025-04-14\n",
      "INFO: 2025-05-10 10:43:59 - [🏁]: Starting task 1a161576-a298-4ff2-ba5c-7e321d983122 on commit 7124518\n",
      "INFO: 2025-05-10 10:47:00 - [✔️]: Translated 400 sents for da-de\n",
      "INFO: 2025-05-10 10:52:02 - [🕒]: Retrying da-el...\n",
      "INFO: 2025-05-10 10:56:00 - [✔️]: Translated 400 sents for da-el\n",
      "INFO: 2025-05-10 10:58:23 - [✔️]: Translated 400 sents for da-es\n",
      "INFO: 2025-05-10 11:03:25 - [🕒]: Retrying da-fi...\n",
      "INFO: 2025-05-10 11:08:50 - [✔️]: Translated 400 sents for da-fi\n",
      "INFO: 2025-05-10 11:11:41 - [✔️]: Translated 400 sents for da-fr\n",
      "INFO: 2025-05-10 11:13:27 - [✔️]: Translated 400 sents for da-it\n",
      "INFO: 2025-05-10 11:15:24 - [✔️]: Translated 400 sents for da-nl\n",
      "INFO: 2025-05-10 11:18:14 - [✔️]: Translated 400 sents for da-pt\n",
      "INFO: 2025-05-10 11:20:03 - [✔️]: Translated 400 sents for da-sv\n",
      "INFO: 2025-05-10 11:20:03 - [🏁]: Task took 2163.63s\n",
      "INFO: 2025-05-10 11:22:12 - [🚀]: Selected task for flores_plus-de - gpt-4.1-2025-04-14\n",
      "INFO: 2025-05-10 11:22:12 - [🏁]: Starting task ee3252e9-ee96-4559-854b-f2ac3d0e912c on commit 7124518\n",
      "INFO: 2025-05-10 11:24:37 - [✔️]: Translated 400 sents for de-da\n",
      "INFO: 2025-05-10 11:27:41 - [✔️]: Translated 400 sents for de-el\n",
      "INFO: 2025-05-10 11:30:26 - [✔️]: Translated 400 sents for de-es\n",
      "INFO: 2025-05-10 11:34:33 - [🕒]: Retrying de-fi...\n",
      "INFO: 2025-05-10 11:39:55 - [❌]: Translated 1199 sents for de-fi but rejected: outside acceptable range\n",
      "INFO: 2025-05-10 11:39:55 - [🕒]: Retrying de-fi...\n",
      "INFO: 2025-05-10 11:45:26 - [⏭️]: Failed 2 times, skipping de-fi...\n",
      "INFO: 2025-05-10 11:50:07 - [✔️]: Translated 400 sents for de-fr\n",
      "INFO: 2025-05-10 11:53:47 - [✔️]: Translated 400 sents for de-it\n",
      "INFO: 2025-05-10 11:55:47 - [✔️]: Translated 400 sents for de-nl\n",
      "INFO: 2025-05-10 11:58:27 - [✔️]: Translated 400 sents for de-pt\n",
      "INFO: 2025-05-10 12:00:44 - [✔️]: Translated 400 sents for de-sv\n",
      "INFO: 2025-05-10 12:00:44 - [🏁]: Task took 2311.90s\n",
      "INFO: 2025-05-10 12:01:40 - [🚀]: Selected task for flores_plus-el - gpt-4.1-2025-04-14\n",
      "INFO: 2025-05-10 12:01:40 - [🏁]: Starting task 4c842a2a-3e69-43d6-86e1-db7207707967 on commit 7124518\n",
      "INFO: 2025-05-10 12:06:04 - [✔️]: Translated 400 sents for el-da\n",
      "INFO: 2025-05-10 12:10:07 - [✔️]: Translated 400 sents for el-de\n",
      "INFO: 2025-05-10 12:12:44 - [✔️]: Translated 400 sents for el-es\n",
      "INFO: 2025-05-10 12:17:33 - [✔️]: Translated 400 sents for el-fi\n",
      "INFO: 2025-05-10 12:20:56 - [✔️]: Translated 400 sents for el-fr\n",
      "INFO: 2025-05-10 12:24:06 - [✔️]: Translated 400 sents for el-it\n",
      "INFO: 2025-05-10 12:26:57 - [✔️]: Translated 400 sents for el-nl\n",
      "INFO: 2025-05-10 12:29:31 - [✔️]: Translated 400 sents for el-pt\n",
      "INFO: 2025-05-10 12:32:12 - [✔️]: Translated 400 sents for el-sv\n",
      "INFO: 2025-05-10 12:32:12 - [🏁]: Task took 1832.04s\n",
      "INFO: 2025-05-10 12:32:58 - [🚀]: Selected task for flores_plus-es - gpt-4.1-2025-04-14\n",
      "INFO: 2025-05-10 12:32:58 - [🏁]: Starting task 0505b4c1-a077-4577-8560-8620f87f7cfb on commit 7124518\n",
      "INFO: 2025-05-10 12:36:26 - [✔️]: Translated 400 sents for es-da\n",
      "INFO: 2025-05-10 12:39:09 - [✔️]: Translated 400 sents for es-de\n",
      "INFO: 2025-05-10 12:43:34 - [✔️]: Translated 402 sents for es-el\n",
      "INFO: 2025-05-10 12:47:11 - [✔️]: Translated 400 sents for es-fi\n",
      "INFO: 2025-05-10 12:50:35 - [✔️]: Translated 400 sents for es-fr\n",
      "INFO: 2025-05-10 12:53:23 - [✔️]: Translated 400 sents for es-it\n",
      "INFO: 2025-05-10 12:55:59 - [✔️]: Translated 400 sents for es-nl\n",
      "INFO: 2025-05-10 12:57:59 - [✔️]: Translated 400 sents for es-pt\n",
      "INFO: 2025-05-10 13:01:12 - [✔️]: Translated 400 sents for es-sv\n",
      "INFO: 2025-05-10 13:01:12 - [🏁]: Task took 1693.26s\n",
      "INFO: 2025-05-10 13:02:43 - [🚀]: Selected task for flores_plus-fi - gpt-4.1-2025-04-14\n",
      "INFO: 2025-05-10 13:02:43 - [🏁]: Starting task 3f2602f2-ece0-4c2f-9845-e1dc3d00a96a on commit 7124518\n",
      "INFO: 2025-05-10 13:05:59 - [✔️]: Translated 402 sents for fi-da\n",
      "INFO: 2025-05-10 13:08:52 - [✔️]: Translated 400 sents for fi-de\n",
      "INFO: 2025-05-10 13:13:54 - [🕒]: Retrying fi-el...\n",
      "INFO: 2025-05-10 13:18:44 - [✔️]: Translated 402 sents for fi-el\n",
      "INFO: 2025-05-10 13:21:17 - [✔️]: Translated 402 sents for fi-es\n",
      "INFO: 2025-05-10 13:24:35 - [✔️]: Translated 400 sents for fi-fr\n",
      "INFO: 2025-05-10 13:28:26 - [✔️]: Translated 400 sents for fi-it\n",
      "INFO: 2025-05-10 13:31:08 - [✔️]: Translated 402 sents for fi-nl\n",
      "INFO: 2025-05-10 13:34:41 - [✔️]: Translated 402 sents for fi-pt\n",
      "INFO: 2025-05-10 13:37:24 - [✔️]: Translated 400 sents for fi-sv\n",
      "INFO: 2025-05-10 13:37:24 - [🏁]: Task took 2081.82s\n",
      "INFO: 2025-05-10 13:38:14 - [🚀]: Selected task for flores_plus-fr - gpt-4.1-2025-04-14\n",
      "INFO: 2025-05-10 13:38:14 - [🏁]: Starting task 80796dbf-4543-4bc5-ade7-5b15fefb791f on commit 7124518\n",
      "INFO: 2025-05-10 13:40:25 - [✔️]: Translated 400 sents for fr-da\n",
      "INFO: 2025-05-10 13:45:27 - [🕒]: Retrying fr-de...\n",
      "INFO: 2025-05-10 13:50:43 - [✔️]: Translated 400 sents for fr-de\n",
      "INFO: 2025-05-10 13:55:07 - [✔️]: Translated 400 sents for fr-el\n",
      "INFO: 2025-05-10 13:57:38 - [✔️]: Translated 400 sents for fr-es\n",
      "INFO: 2025-05-10 14:01:00 - [✔️]: Translated 400 sents for fr-fi\n",
      "INFO: 2025-05-10 14:03:19 - [✔️]: Translated 400 sents for fr-it\n",
      "INFO: 2025-05-10 14:06:48 - [✔️]: Translated 400 sents for fr-nl\n",
      "INFO: 2025-05-10 14:08:48 - [✔️]: Translated 400 sents for fr-pt\n",
      "INFO: 2025-05-10 14:12:26 - [✔️]: Translated 400 sents for fr-sv\n",
      "INFO: 2025-05-10 14:12:26 - [🏁]: Task took 2051.53s\n",
      "INFO: 2025-05-10 14:15:36 - [🚀]: Selected task for flores_plus-it - gpt-4.1-2025-04-14\n",
      "INFO: 2025-05-10 14:15:36 - [🏁]: Starting task fb4d9a89-831d-4d6a-8257-b3a39434f8a6 on commit 7124518\n",
      "INFO: 2025-05-10 14:18:17 - [✔️]: Translated 400 sents for it-da\n",
      "INFO: 2025-05-10 14:21:52 - [✔️]: Translated 400 sents for it-de\n",
      "INFO: 2025-05-10 14:26:28 - [✔️]: Translated 400 sents for it-el\n",
      "INFO: 2025-05-10 14:28:26 - [✔️]: Translated 400 sents for it-es\n",
      "INFO: 2025-05-10 14:31:48 - [✔️]: Translated 400 sents for it-fi\n",
      "INFO: 2025-05-10 14:33:39 - [✔️]: Translated 402 sents for it-fr\n",
      "INFO: 2025-05-10 14:35:56 - [✔️]: Translated 400 sents for it-nl\n",
      "INFO: 2025-05-10 14:38:31 - [✔️]: Translated 400 sents for it-pt\n",
      "INFO: 2025-05-10 14:41:48 - [✔️]: Translated 400 sents for it-sv\n",
      "INFO: 2025-05-10 14:41:49 - [🏁]: Task took 1572.90s\n",
      "INFO: 2025-05-10 14:42:04 - [🚀]: Selected task for flores_plus-nl - gpt-4.1-2025-04-14\n",
      "INFO: 2025-05-10 14:42:04 - [🏁]: Starting task 42fb35e2-4bd2-4a46-a517-8b738bae923e on commit 7124518\n",
      "INFO: 2025-05-10 14:45:04 - [✔️]: Translated 400 sents for nl-da\n",
      "INFO: 2025-05-10 14:47:30 - [✔️]: Translated 400 sents for nl-de\n",
      "INFO: 2025-05-10 14:52:26 - [✔️]: Translated 400 sents for nl-el\n",
      "INFO: 2025-05-10 14:54:06 - [✔️]: Translated 400 sents for nl-es\n",
      "INFO: 2025-05-10 14:58:00 - [✔️]: Translated 400 sents for nl-fi\n",
      "INFO: 2025-05-10 15:01:14 - [✔️]: Translated 400 sents for nl-fr\n",
      "INFO: 2025-05-10 15:03:54 - [✔️]: Translated 400 sents for nl-it\n",
      "INFO: 2025-05-10 15:06:47 - [✔️]: Translated 400 sents for nl-pt\n",
      "INFO: 2025-05-10 15:09:36 - [✔️]: Translated 400 sents for nl-sv\n",
      "INFO: 2025-05-10 15:09:36 - [🏁]: Task took 1652.62s\n",
      "INFO: 2025-05-10 15:12:29 - [🚀]: Selected task for flores_plus-pt - gpt-4.1-2025-04-14\n",
      "INFO: 2025-05-10 15:12:29 - [🏁]: Starting task a67edffb-c282-4ede-827e-15508a20850a on commit 7124518\n",
      "INFO: 2025-05-10 15:16:35 - [✔️]: Translated 400 sents for pt-da\n",
      "INFO: 2025-05-10 15:20:51 - [✔️]: Translated 400 sents for pt-de\n",
      "INFO: 2025-05-10 15:24:07 - [✔️]: Translated 400 sents for pt-el\n",
      "INFO: 2025-05-10 15:25:40 - [✔️]: Translated 400 sents for pt-es\n",
      "INFO: 2025-05-10 15:29:52 - [✔️]: Translated 400 sents for pt-fi\n",
      "INFO: 2025-05-10 15:32:52 - [✔️]: Translated 400 sents for pt-fr\n",
      "INFO: 2025-05-10 15:35:11 - [✔️]: Translated 400 sents for pt-it\n",
      "INFO: 2025-05-10 15:37:42 - [✔️]: Translated 400 sents for pt-nl\n",
      "INFO: 2025-05-10 15:40:48 - [✔️]: Translated 400 sents for pt-sv\n",
      "INFO: 2025-05-10 15:40:48 - [🏁]: Task took 1698.60s\n",
      "INFO: 2025-05-10 15:41:06 - [🚀]: Selected task for flores_plus-sv - gpt-4.1-2025-04-14\n",
      "INFO: 2025-05-10 15:41:06 - [🏁]: Starting task e1e047f6-cf94-423c-b89b-2dab39c05fd7 on commit 7124518\n",
      "INFO: 2025-05-10 15:43:02 - [✔️]: Translated 400 sents for sv-da\n",
      "INFO: 2025-05-10 15:45:52 - [✔️]: Translated 400 sents for sv-de\n",
      "INFO: 2025-05-10 15:50:13 - [✔️]: Translated 400 sents for sv-el\n",
      "INFO: 2025-05-10 15:52:37 - [✔️]: Translated 400 sents for sv-es\n",
      "INFO: 2025-05-10 15:56:14 - [✔️]: Translated 400 sents for sv-fi\n",
      "INFO: 2025-05-10 15:58:34 - [✔️]: Translated 400 sents for sv-fr\n",
      "INFO: 2025-05-10 16:01:33 - [✔️]: Translated 400 sents for sv-it\n",
      "INFO: 2025-05-10 16:04:37 - [✔️]: Translated 400 sents for sv-nl\n",
      "INFO: 2025-05-10 16:06:47 - [✔️]: Translated 400 sents for sv-pt\n",
      "INFO: 2025-05-10 16:06:47 - [🏁]: Task took 1541.27s\n"
     ]
    }
   ],
   "source": [
    "!cat proc4.log | grep -P \"^(INFO: \\d\\d\\d\\d-\\d\\d-\\d\\d \\d\\d:\\d\\d:\\d\\d) - (\\[|Retry)\""
   ]
  },
  {
   "cell_type": "markdown",
   "id": "a71b04e2",
   "metadata": {},
   "source": [
    "### Observations\n",
    "* The errors still occured but only our own retries were triggered, reducing the translation time.\n",
    "* The error message has changed, it was not a Gateway Timeout anymore but closed connection"
   ]
  },
  {
   "cell_type": "code",
   "execution_count": 26,
   "id": "ba627b33",
   "metadata": {},
   "outputs": [
    {
     "name": "stdout",
     "output_type": "stream",
     "text": [
      "INFO: 2025-05-10 10:52:02 - [🕒]: Retrying da-el...\n",
      "INFO: 2025-05-10 11:03:25 - [🕒]: Retrying da-fi...\n",
      "INFO: 2025-05-10 11:34:33 - [🕒]: Retrying de-fi...\n",
      "INFO: 2025-05-10 11:39:55 - [🕒]: Retrying de-fi...\n",
      "INFO: 2025-05-10 11:45:26 - [⏭️]: Failed 2 times, skipping de-fi...\n",
      "INFO: 2025-05-10 13:13:54 - [🕒]: Retrying fi-el...\n",
      "INFO: 2025-05-10 13:45:27 - [🕒]: Retrying fr-de...\n"
     ]
    }
   ],
   "source": [
    "!cat proc4.log | grep -P \"(Retry|skipping)\""
   ]
  },
  {
   "cell_type": "code",
   "execution_count": 27,
   "id": "a83a58de",
   "metadata": {},
   "outputs": [
    {
     "name": "stdout",
     "output_type": "stream",
     "text": [
      "ERROR: 2025-05-10 10:52:02 - [🔥]: Error peer closed connection without sending complete message body (incomplete chunked read)\n",
      "ERROR: 2025-05-10 11:03:25 - [🔥]: Error peer closed connection without sending complete message body (incomplete chunked read)\n",
      "ERROR: 2025-05-10 11:34:33 - [🔥]: Error The server had an error while processing your request. Sorry about that!\n",
      "ERROR: 2025-05-10 11:45:26 - [🔥]: Error peer closed connection without sending complete message body (incomplete chunked read)\n",
      "ERROR: 2025-05-10 13:13:54 - [🔥]: Error peer closed connection without sending complete message body (incomplete chunked read)\n",
      "ERROR: 2025-05-10 13:45:27 - [🔥]: Error peer closed connection without sending complete message body (incomplete chunked read)\n"
     ]
    }
   ],
   "source": [
    "!cat proc4.log | grep -P \"(]: Error)\""
   ]
  },
  {
   "cell_type": "markdown",
   "id": "c32e63f9",
   "metadata": {},
   "source": [
    "* This gives us the following explanation on why these errors occured in the first place: \n",
    "    * The input prompt could be potentially the reason, however, that would not explain why it succeeded for most pairs and triggered errors only for some.\n",
    "    * Most pairs that were retried (also in procedure 2 and 3, including OpenAI's retries) where of type: lang-el or lang-fi, although individual outliers exist.\n",
    "    * We assume that GPT4.1 takes longer to produce output tokens when translating into Greek or Finnish. \n",
    "    * For Greek, it could be related to the usage of non-ASCII characters. For Finnish, due to the linguistic complexity of the language itself.\n",
    "    * If it takes longer to process these two cases, it is more likely to for a Gateway Timeout to trigger as it exceeds a fixed time period defined by their servers. \n",
    "        * The Gateway Timeout 504 error message does not indicate such, but the new error message with \"peer closed connection\" does. \n",
    "    * The assumption is that both error types were triggered by the same root cause, even though procedure 2 & 3 used request-response and procedure 4 streaming."
   ]
  },
  {
   "cell_type": "code",
   "execution_count": 28,
   "id": "9d7b785e",
   "metadata": {},
   "outputs": [
    {
     "name": "stdout",
     "output_type": "stream",
     "text": [
      "INFO: 2025-05-10 10:43:59 - [🚀]: Selected task for flores_plus-da - gpt-4.1-2025-04-14\n",
      "INFO: 2025-05-10 11:20:03 - [🏁]: Task took 2163.63s\n",
      "INFO: 2025-05-10 11:22:12 - [🚀]: Selected task for flores_plus-de - gpt-4.1-2025-04-14\n",
      "INFO: 2025-05-10 11:45:26 - [⏭️]: Failed 2 times, skipping de-fi...\n",
      "INFO: 2025-05-10 12:00:44 - [🏁]: Task took 2311.90s\n",
      "INFO: 2025-05-10 12:01:40 - [🚀]: Selected task for flores_plus-el - gpt-4.1-2025-04-14\n",
      "INFO: 2025-05-10 12:32:12 - [🏁]: Task took 1832.04s\n",
      "INFO: 2025-05-10 12:32:58 - [🚀]: Selected task for flores_plus-es - gpt-4.1-2025-04-14\n",
      "INFO: 2025-05-10 13:01:12 - [🏁]: Task took 1693.26s\n",
      "INFO: 2025-05-10 13:02:43 - [🚀]: Selected task for flores_plus-fi - gpt-4.1-2025-04-14\n",
      "INFO: 2025-05-10 13:37:24 - [🏁]: Task took 2081.82s\n",
      "INFO: 2025-05-10 13:38:14 - [🚀]: Selected task for flores_plus-fr - gpt-4.1-2025-04-14\n",
      "INFO: 2025-05-10 14:12:26 - [🏁]: Task took 2051.53s\n",
      "INFO: 2025-05-10 14:15:36 - [🚀]: Selected task for flores_plus-it - gpt-4.1-2025-04-14\n",
      "INFO: 2025-05-10 14:41:49 - [🏁]: Task took 1572.90s\n",
      "INFO: 2025-05-10 14:42:04 - [🚀]: Selected task for flores_plus-nl - gpt-4.1-2025-04-14\n",
      "INFO: 2025-05-10 15:09:36 - [🏁]: Task took 1652.62s\n",
      "INFO: 2025-05-10 15:12:29 - [🚀]: Selected task for flores_plus-pt - gpt-4.1-2025-04-14\n",
      "INFO: 2025-05-10 15:40:48 - [🏁]: Task took 1698.60s\n",
      "INFO: 2025-05-10 15:41:06 - [🚀]: Selected task for flores_plus-sv - gpt-4.1-2025-04-14\n",
      "INFO: 2025-05-10 16:06:47 - [🏁]: Task took 1541.27s\n"
     ]
    }
   ],
   "source": [
    "!cat proc4.log | grep -P \"(Selected task|Task took|skipping)\""
   ]
  },
  {
   "cell_type": "markdown",
   "id": "0967228e",
   "metadata": {},
   "source": [
    "* We also noticed that on average, tasks in procedure 4 were faster than the ones in procedure 3. \n",
    "* It could be due to streaming or the reduced the number of retries (since streaming did only employ our retries, not OpenAI's)"
   ]
  },
  {
   "cell_type": "markdown",
   "id": "3efc9ca7",
   "metadata": {},
   "source": [
    "## Procedure 5\n",
    "* In hindsight, Procedure 5 might have been not necessary as it is was possible to retrieve some of the pairs that the previous API calls missed using the logs on OpenAI's platform, since a response was still generated and could be acessed with the API.\n",
    "* However, at the time of procedure 5, this was not known and we just decided to try all failed pairs again, using the streaming approach of procedure 5 and setting our own max retries to 5.\n",
    "* Thus, two tasks were run, to translate the pairs: fi-el, it-el, it-fi, sv-el from the EuroParl dataset and de-fi from the FLORES+ dataset.\n",
    "* The following two CLI commands were ran:\n",
    "```sh\n",
    "python proc5.py run -m gpt-4.1-2025-04-14 -d europarl\n",
    "python proc5.py run -m gpt-4.1-2025-04-14 -d flores_plus\n",
    "```\n",
    "* 4/5 pairs were translated, the pair it-el was skipped even after 5 retries. \n",
    "* We still obtained it through the method applied in [`it-el.ipynb`](https://github.com/na50r/110_bleu/blob/main/it-el.ipynb) but it can be considered the only pair that we never fully obtained through an API call directly, even with streaming."
   ]
  },
  {
   "cell_type": "code",
   "execution_count": 29,
   "id": "4982a9a4",
   "metadata": {},
   "outputs": [
    {
     "name": "stdout",
     "output_type": "stream",
     "text": [
      "49239a46-0014-4369-bcf7-c9f77283d3c9 3\n",
      "b047d921-dd0a-4185-b000-c4ca55051693 1\n"
     ]
    }
   ],
   "source": [
    "proc5 = join(task_folder, 'proc5')\n",
    "proc5_ep = join(proc5, 'europarl')\n",
    "proc5_flores = join(proc5, 'flores_plus')\n",
    "tl = 'gpt-4.1-2025-04-14'\n",
    "proc5_flores_file = join(proc5_flores, join(tl, 'task.json'))\n",
    "proc5_ep_file = join(proc5_ep, join(tl, 'task.json'))\n",
    "proc5_task_ids = []\n",
    "for fp in [proc5_ep_file, proc5_flores_file]:\n",
    "    with open(fp) as f:\n",
    "        task = json.load(f)\n",
    "    proc5_task_ids.append(task['task_id'])\n",
    "\n",
    "with open(join(task_folder, 'proc5.jsonl')) as f:\n",
    "    logs = [json.loads(ln) for ln in f]\n",
    "\n",
    "total = 0\n",
    "proc5_task_ids2_logs = {i:[] for i in proc5_task_ids}\n",
    "for task_id in proc5_task_ids:\n",
    "    for log in logs:\n",
    "        if log['id'].startswith(task_id):\n",
    "            total+=1\n",
    "            proc5_task_ids2_logs[task_id].append(log)\n",
    "\n",
    "for task_id, logs in proc5_task_ids2_logs.items():\n",
    "    print(task_id, len(logs))"
   ]
  },
  {
   "cell_type": "code",
   "execution_count": 30,
   "id": "bba591e6",
   "metadata": {},
   "outputs": [
    {
     "name": "stdout",
     "output_type": "stream",
     "text": [
      "tasks\\proc5\\europarl\\gpt-4.1-2025-04-14 4\n",
      "tasks\\proc5\\flores_plus\\gpt-4.1-2025-04-14 2\n"
     ]
    }
   ],
   "source": [
    "for task in [t for t in os.listdir(proc5)]:\n",
    "    files = os.listdir(join(proc5, join(task, 'gpt-4.1-2025-04-14')))\n",
    "    print(join(proc5, join(task, 'gpt-4.1-2025-04-14')), len(files))"
   ]
  },
  {
   "cell_type": "code",
   "execution_count": 31,
   "id": "eb82f98c",
   "metadata": {},
   "outputs": [
    {
     "name": "stdout",
     "output_type": "stream",
     "text": [
      "Proc5 4/5\n"
     ]
    }
   ],
   "source": [
    "print(f'Proc5 {total}/5')"
   ]
  },
  {
   "cell_type": "code",
   "execution_count": 32,
   "id": "f0bab775",
   "metadata": {},
   "outputs": [
    {
     "name": "stdout",
     "output_type": "stream",
     "text": [
      "INFO: 2025-05-10 19:38:28 - [🚀]: Selected task for europarl - gpt-4.1-2025-04-14\n",
      "INFO: 2025-05-10 19:38:28 - [🏁]: Starting task 49239a46-0014-4369-bcf7-c9f77283d3c9 on commit 167ca14\n",
      "INFO: 2025-05-10 19:42:52 - [✔️]: Translated 400 sents for fi-el\n",
      "INFO: 2025-05-10 19:47:53 - [🕒]: Retrying it-el...\n",
      "INFO: 2025-05-10 19:53:25 - [🕒]: Retrying it-el...\n",
      "INFO: 2025-05-10 19:58:57 - [🕒]: Retrying it-el...\n",
      "INFO: 2025-05-10 20:04:29 - [🕒]: Retrying it-el...\n",
      "INFO: 2025-05-10 20:10:00 - [🕒]: Retrying it-el...\n",
      "INFO: 2025-05-10 20:15:32 - [⏭️]: Failed 5 times, skipping it-el...\n",
      "INFO: 2025-05-10 20:20:18 - [✔️]: Translated 399 sents for it-fi\n",
      "INFO: 2025-05-10 20:24:46 - [✔️]: Translated 400 sents for sv-el\n",
      "INFO: 2025-05-10 20:24:46 - [🏁]: Task took 2778.48s\n",
      "INFO: 2025-05-10 20:26:22 - [🚀]: Selected task for flores_plus - gpt-4.1-2025-04-14\n",
      "INFO: 2025-05-10 20:26:22 - [🏁]: Starting task b047d921-dd0a-4185-b000-c4ca55051693 on commit 167ca14\n",
      "INFO: 2025-05-10 20:29:51 - [✔️]: Translated 400 sents for de-fi\n",
      "INFO: 2025-05-10 20:29:51 - [🏁]: Task took 209.09s\n"
     ]
    }
   ],
   "source": [
    "!cat proc5.log | grep -P \"^(INFO: \\d\\d\\d\\d-\\d\\d-\\d\\d \\d\\d:\\d\\d:\\d\\d) - (\\[|Retry)\""
   ]
  },
  {
   "cell_type": "markdown",
   "id": "7f2d1057",
   "metadata": {},
   "source": [
    "### Observation\n",
    "* There is not much to add here, we only know that it really struggles with Italian to Greek for whatever reason."
   ]
  },
  {
   "cell_type": "code",
   "execution_count": 33,
   "id": "8f157491",
   "metadata": {},
   "outputs": [
    {
     "name": "stdout",
     "output_type": "stream",
     "text": [
      "ERROR: 2025-05-10 19:47:53 - [🔥]: Error peer closed connection without sending complete message body (incomplete chunked read)\n",
      "ERROR: 2025-05-10 19:53:25 - [🔥]: Error peer closed connection without sending complete message body (incomplete chunked read)\n",
      "ERROR: 2025-05-10 19:58:57 - [🔥]: Error peer closed connection without sending complete message body (incomplete chunked read)\n",
      "ERROR: 2025-05-10 20:04:29 - [🔥]: Error peer closed connection without sending complete message body (incomplete chunked read)\n",
      "ERROR: 2025-05-10 20:10:00 - [🔥]: Error peer closed connection without sending complete message body (incomplete chunked read)\n",
      "ERROR: 2025-05-10 20:15:32 - [🔥]: Error peer closed connection without sending complete message body (incomplete chunked read)\n"
     ]
    }
   ],
   "source": [
    "!cat proc5.log | grep -P \"(]: Error)\""
   ]
  },
  {
   "cell_type": "code",
   "execution_count": 34,
   "id": "dae1ddc6",
   "metadata": {},
   "outputs": [
    {
     "name": "stdout",
     "output_type": "stream",
     "text": [
      "INFO: 2025-05-10 19:38:28 - [🚀]: Selected task for europarl - gpt-4.1-2025-04-14\n",
      "INFO: 2025-05-10 20:15:32 - [⏭️]: Failed 5 times, skipping it-el...\n",
      "INFO: 2025-05-10 20:24:46 - [🏁]: Task took 2778.48s\n",
      "INFO: 2025-05-10 20:26:22 - [🚀]: Selected task for flores_plus - gpt-4.1-2025-04-14\n",
      "INFO: 2025-05-10 20:29:51 - [🏁]: Task took 209.09s\n"
     ]
    }
   ],
   "source": [
    "!cat proc5.log | grep -P \"(Selected task|Task took|skipping)\""
   ]
  },
  {
   "cell_type": "markdown",
   "id": "19894cfc",
   "metadata": {},
   "source": [
    "## Procedure 6\n",
    "* In procedure 6, we translated the remaining 90 pairs from the EuroParl and Flores+ dataset using DeepL. We didn't do any fancy batching as we knew it should work without issues and it did.\n",
    "* Thus, only two tasks were run with the following CLI commands:\n",
    "```sh\n",
    "python proc6.py run -m deepl_document -d europarl\n",
    "python proc6.py run -m deepl_document -d flores_plus\n",
    "```\n",
    "* Everything was translated, no issues."
   ]
  },
  {
   "cell_type": "code",
   "execution_count": 35,
   "id": "ebc0dbb6",
   "metadata": {},
   "outputs": [
    {
     "name": "stdout",
     "output_type": "stream",
     "text": [
      "fbf0130b-df94-4fcf-82b1-9635bb8ebe1e 90\n",
      "dbe3476f-fc3c-40b9-9b1d-dae0b55a9d0f 90\n"
     ]
    }
   ],
   "source": [
    "proc6 = join(task_folder, 'proc6')\n",
    "proc6_ep = join(proc6, 'europarl')\n",
    "proc6_flores = join(proc6, 'flores_plus')\n",
    "tl = 'deepl_document'\n",
    "proc6_task_ids = []\n",
    "proc6_flores_file = join(proc6_flores, join(tl, 'task.json'))\n",
    "proc6_ep_file = join(proc6_ep, join(tl, 'task.json'))\n",
    "for fp in [proc6_ep_file, proc6_flores_file]:\n",
    "    with open(fp) as f:\n",
    "        task = json.load(f)\n",
    "    proc6_task_ids.append(task['task_id'])\n",
    "\n",
    "with open(join(task_folder, 'proc6.jsonl')) as f:\n",
    "    logs = [json.loads(ln) for ln in f]\n",
    "\n",
    "total = 0\n",
    "proc6_task_ids2_logs = {i:[] for i in proc6_task_ids}\n",
    "for task_id in proc6_task_ids:\n",
    "    for log in logs:\n",
    "        if log['id'].startswith(task_id):\n",
    "            total+=1\n",
    "            proc6_task_ids2_logs[task_id].append(log)\n",
    "\n",
    "for task_id, logs in proc6_task_ids2_logs.items():\n",
    "    print(task_id, len(logs))"
   ]
  },
  {
   "cell_type": "code",
   "execution_count": 36,
   "id": "bd31adb4",
   "metadata": {},
   "outputs": [
    {
     "name": "stdout",
     "output_type": "stream",
     "text": [
      "tasks\\proc6\\europarl\\deepl_document 91\n",
      "tasks\\proc6\\flores_plus\\deepl_document 91\n"
     ]
    }
   ],
   "source": [
    "for task in [t for t in os.listdir(proc6)]:\n",
    "    files = os.listdir(join(proc6, join(task, 'deepl_document')))\n",
    "    print(join(proc6, join(task, 'deepl_document')), len(files))"
   ]
  },
  {
   "cell_type": "code",
   "execution_count": 37,
   "id": "b3d87a56",
   "metadata": {},
   "outputs": [
    {
     "name": "stdout",
     "output_type": "stream",
     "text": [
      "Proc6 180/180\n"
     ]
    }
   ],
   "source": [
    "print(f'Proc6 {total}/180')"
   ]
  },
  {
   "cell_type": "code",
   "execution_count": 38,
   "id": "96a0abff",
   "metadata": {},
   "outputs": [
    {
     "name": "stdout",
     "output_type": "stream",
     "text": [
      "INFO: 2025-05-10 20:42:10 - [🚀]: Selected task for europarl - deepl_document\n",
      "INFO: 2025-05-10 20:42:10 - [🏁]: Starting task fbf0130b-df94-4fcf-82b1-9635bb8ebe1e on commit 601fdda\n",
      "INFO: 2025-05-10 20:42:27 - [✔️]: Translated 400 sents for da-fr\n",
      "INFO: 2025-05-10 20:42:39 - [✔️]: Translated 400 sents for da-de\n",
      "INFO: 2025-05-10 20:42:50 - [✔️]: Translated 400 sents for da-it\n",
      "INFO: 2025-05-10 20:43:01 - [✔️]: Translated 400 sents for da-sv\n",
      "INFO: 2025-05-10 20:43:18 - [✔️]: Translated 400 sents for da-pt\n",
      "INFO: 2025-05-10 20:43:34 - [✔️]: Translated 400 sents for da-fi\n",
      "INFO: 2025-05-10 20:43:51 - [✔️]: Translated 400 sents for da-nl\n",
      "INFO: 2025-05-10 20:44:08 - [✔️]: Translated 400 sents for da-el\n",
      "INFO: 2025-05-10 20:44:25 - [✔️]: Translated 400 sents for da-es\n",
      "INFO: 2025-05-10 20:44:31 - [✔️]: Translated 400 sents for de-it\n",
      "INFO: 2025-05-10 20:44:42 - [✔️]: Translated 400 sents for de-sv\n",
      "INFO: 2025-05-10 20:44:49 - [✔️]: Translated 400 sents for de-pt\n",
      "INFO: 2025-05-10 20:45:00 - [✔️]: Translated 400 sents for de-fi\n",
      "INFO: 2025-05-10 20:45:11 - [✔️]: Translated 400 sents for de-fr\n",
      "INFO: 2025-05-10 20:45:23 - [✔️]: Translated 400 sents for de-nl\n",
      "INFO: 2025-05-10 20:45:34 - [✔️]: Translated 400 sents for de-el\n",
      "INFO: 2025-05-10 20:45:51 - [✔️]: Translated 400 sents for de-da\n",
      "INFO: 2025-05-10 20:46:12 - [✔️]: Translated 400 sents for de-es\n",
      "INFO: 2025-05-10 20:46:29 - [✔️]: Translated 400 sents for el-da\n",
      "INFO: 2025-05-10 20:46:41 - [✔️]: Translated 400 sents for el-de\n",
      "INFO: 2025-05-10 20:46:52 - [✔️]: Translated 400 sents for el-it\n",
      "INFO: 2025-05-10 20:47:09 - [✔️]: Translated 400 sents for el-sv\n",
      "INFO: 2025-05-10 20:47:20 - [✔️]: Translated 400 sents for el-pt\n",
      "INFO: 2025-05-10 20:47:32 - [✔️]: Translated 400 sents for el-fi\n",
      "INFO: 2025-05-10 20:47:48 - [✔️]: Translated 400 sents for el-nl\n",
      "INFO: 2025-05-10 20:48:00 - [✔️]: Translated 400 sents for el-es\n",
      "INFO: 2025-05-10 20:48:12 - [✔️]: Translated 400 sents for el-fr\n",
      "INFO: 2025-05-10 20:48:23 - [✔️]: Translated 400 sents for es-de\n",
      "INFO: 2025-05-10 20:48:34 - [✔️]: Translated 400 sents for es-it\n",
      "INFO: 2025-05-10 20:48:51 - [✔️]: Translated 400 sents for es-sv\n",
      "INFO: 2025-05-10 20:49:02 - [✔️]: Translated 400 sents for es-pt\n",
      "INFO: 2025-05-10 20:49:14 - [✔️]: Translated 400 sents for es-fi\n",
      "INFO: 2025-05-10 20:49:25 - [✔️]: Translated 400 sents for es-fr\n",
      "INFO: 2025-05-10 20:49:36 - [✔️]: Translated 400 sents for es-nl\n",
      "INFO: 2025-05-10 20:49:48 - [✔️]: Translated 400 sents for es-el\n",
      "INFO: 2025-05-10 20:49:59 - [✔️]: Translated 400 sents for es-da\n",
      "INFO: 2025-05-10 20:50:11 - [✔️]: Translated 400 sents for fi-nl\n",
      "INFO: 2025-05-10 20:50:27 - [✔️]: Translated 400 sents for fi-el\n",
      "INFO: 2025-05-10 20:50:44 - [✔️]: Translated 400 sents for fi-da\n",
      "INFO: 2025-05-10 20:50:55 - [✔️]: Translated 400 sents for fi-es\n",
      "INFO: 2025-05-10 20:51:06 - [✔️]: Translated 400 sents for fi-de\n",
      "INFO: 2025-05-10 20:51:17 - [✔️]: Translated 400 sents for fi-it\n",
      "INFO: 2025-05-10 20:51:29 - [✔️]: Translated 400 sents for fi-sv\n",
      "INFO: 2025-05-10 20:51:40 - [✔️]: Translated 400 sents for fi-pt\n",
      "INFO: 2025-05-10 20:51:52 - [✔️]: Translated 400 sents for fi-fr\n",
      "INFO: 2025-05-10 20:52:03 - [✔️]: Translated 400 sents for fr-de\n",
      "INFO: 2025-05-10 20:52:19 - [✔️]: Translated 400 sents for fr-it\n",
      "INFO: 2025-05-10 20:52:31 - [✔️]: Translated 400 sents for fr-pt\n",
      "INFO: 2025-05-10 20:52:47 - [✔️]: Translated 400 sents for fr-fi\n",
      "INFO: 2025-05-10 20:53:04 - [✔️]: Translated 400 sents for fr-nl\n",
      "INFO: 2025-05-10 20:53:20 - [✔️]: Translated 400 sents for fr-el\n",
      "INFO: 2025-05-10 20:53:37 - [✔️]: Translated 400 sents for fr-da\n",
      "INFO: 2025-05-10 20:53:48 - [✔️]: Translated 400 sents for fr-es\n",
      "INFO: 2025-05-10 20:53:59 - [✔️]: Translated 400 sents for fr-sv\n",
      "INFO: 2025-05-10 20:54:11 - [✔️]: Translated 400 sents for it-nl\n",
      "INFO: 2025-05-10 20:54:28 - [✔️]: Translated 400 sents for it-el\n",
      "INFO: 2025-05-10 20:54:44 - [✔️]: Translated 400 sents for it-da\n",
      "INFO: 2025-05-10 20:54:56 - [✔️]: Translated 400 sents for it-es\n",
      "INFO: 2025-05-10 20:55:12 - [✔️]: Translated 400 sents for it-sv\n",
      "INFO: 2025-05-10 20:55:28 - [✔️]: Translated 400 sents for it-de\n",
      "INFO: 2025-05-10 20:55:45 - [✔️]: Translated 400 sents for it-pt\n",
      "INFO: 2025-05-10 20:55:56 - [✔️]: Translated 400 sents for it-fi\n",
      "INFO: 2025-05-10 20:56:13 - [✔️]: Translated 400 sents for it-fr\n",
      "INFO: 2025-05-10 20:56:29 - [✔️]: Translated 400 sents for nl-fr\n",
      "INFO: 2025-05-10 20:56:41 - [✔️]: Translated 400 sents for nl-el\n",
      "INFO: 2025-05-10 20:56:57 - [✔️]: Translated 400 sents for nl-da\n",
      "INFO: 2025-05-10 20:57:08 - [✔️]: Translated 400 sents for nl-es\n",
      "INFO: 2025-05-10 20:57:25 - [✔️]: Translated 400 sents for nl-sv\n",
      "INFO: 2025-05-10 20:57:36 - [✔️]: Translated 400 sents for nl-fi\n",
      "INFO: 2025-05-10 20:57:47 - [✔️]: Translated 400 sents for nl-de\n",
      "INFO: 2025-05-10 20:58:03 - [✔️]: Translated 400 sents for nl-it\n",
      "INFO: 2025-05-10 20:58:15 - [✔️]: Translated 400 sents for nl-pt\n",
      "INFO: 2025-05-10 20:58:31 - [✔️]: Translated 400 sents for pt-es\n",
      "INFO: 2025-05-10 20:58:48 - [✔️]: Translated 400 sents for pt-fr\n",
      "INFO: 2025-05-10 20:59:04 - [✔️]: Translated 400 sents for pt-de\n",
      "INFO: 2025-05-10 20:59:26 - [✔️]: Translated 400 sents for pt-it\n",
      "INFO: 2025-05-10 20:59:42 - [✔️]: Translated 400 sents for pt-sv\n",
      "INFO: 2025-05-10 20:59:59 - [✔️]: Translated 400 sents for pt-fi\n",
      "INFO: 2025-05-10 21:00:15 - [✔️]: Translated 400 sents for pt-nl\n",
      "INFO: 2025-05-10 21:00:32 - [✔️]: Translated 400 sents for pt-el\n",
      "INFO: 2025-05-10 21:00:48 - [✔️]: Translated 400 sents for pt-da\n",
      "INFO: 2025-05-10 21:00:59 - [✔️]: Translated 400 sents for sv-de\n",
      "INFO: 2025-05-10 21:01:17 - [✔️]: Translated 400 sents for sv-it\n",
      "INFO: 2025-05-10 21:01:34 - [✔️]: Translated 400 sents for sv-pt\n",
      "INFO: 2025-05-10 21:01:46 - [✔️]: Translated 400 sents for sv-fi\n",
      "INFO: 2025-05-10 21:02:02 - [✔️]: Translated 400 sents for sv-nl\n",
      "INFO: 2025-05-10 21:02:13 - [✔️]: Translated 400 sents for sv-el\n",
      "INFO: 2025-05-10 21:02:30 - [✔️]: Translated 400 sents for sv-da\n",
      "INFO: 2025-05-10 21:02:41 - [✔️]: Translated 400 sents for sv-es\n",
      "INFO: 2025-05-10 21:02:52 - [✔️]: Translated 400 sents for sv-fr\n",
      "INFO: 2025-05-10 21:02:52 - [🏁]: Task took 1242.66s\n",
      "INFO: 2025-05-10 21:03:20 - [🚀]: Selected task for flores_plus - deepl_document\n",
      "INFO: 2025-05-10 21:03:20 - [🏁]: Starting task dbe3476f-fc3c-40b9-9b1d-dae0b55a9d0f on commit 601fdda\n",
      "INFO: 2025-05-10 21:03:32 - [✔️]: Translated 400 sents for da-sv\n",
      "INFO: 2025-05-10 21:03:44 - [✔️]: Translated 400 sents for da-pt\n",
      "INFO: 2025-05-10 21:03:55 - [✔️]: Translated 400 sents for da-el\n",
      "INFO: 2025-05-10 21:04:07 - [✔️]: Translated 400 sents for da-de\n",
      "INFO: 2025-05-10 21:04:18 - [✔️]: Translated 400 sents for da-fi\n",
      "INFO: 2025-05-10 21:04:24 - [✔️]: Translated 400 sents for da-it\n",
      "INFO: 2025-05-10 21:04:30 - [✔️]: Translated 400 sents for da-es\n",
      "INFO: 2025-05-10 21:04:36 - [✔️]: Translated 400 sents for da-fr\n",
      "INFO: 2025-05-10 21:04:48 - [✔️]: Translated 400 sents for da-nl\n",
      "INFO: 2025-05-10 21:04:54 - [✔️]: Translated 400 sents for de-it\n",
      "INFO: 2025-05-10 21:05:00 - [✔️]: Translated 400 sents for de-es\n",
      "INFO: 2025-05-10 21:05:13 - [✔️]: Translated 400 sents for de-nl\n",
      "INFO: 2025-05-10 21:05:24 - [✔️]: Translated 400 sents for de-fi\n",
      "INFO: 2025-05-10 21:05:35 - [✔️]: Translated 400 sents for de-sv\n",
      "INFO: 2025-05-10 21:05:42 - [✔️]: Translated 400 sents for de-pt\n",
      "INFO: 2025-05-10 21:05:48 - [✔️]: Translated 400 sents for de-fr\n",
      "INFO: 2025-05-10 21:05:59 - [✔️]: Translated 400 sents for de-el\n",
      "INFO: 2025-05-10 21:06:10 - [✔️]: Translated 400 sents for de-da\n",
      "INFO: 2025-05-10 21:06:27 - [✔️]: Translated 400 sents for el-sv\n",
      "INFO: 2025-05-10 21:06:38 - [✔️]: Translated 400 sents for el-pt\n",
      "INFO: 2025-05-10 21:06:49 - [✔️]: Translated 400 sents for el-es\n",
      "INFO: 2025-05-10 21:07:01 - [✔️]: Translated 400 sents for el-fr\n",
      "INFO: 2025-05-10 21:07:12 - [✔️]: Translated 400 sents for el-de\n",
      "INFO: 2025-05-10 21:07:28 - [✔️]: Translated 400 sents for el-nl\n",
      "INFO: 2025-05-10 21:07:45 - [✔️]: Translated 400 sents for el-da\n",
      "INFO: 2025-05-10 21:08:01 - [✔️]: Translated 400 sents for el-it\n",
      "INFO: 2025-05-10 21:08:12 - [✔️]: Translated 400 sents for el-fi\n",
      "INFO: 2025-05-10 21:08:29 - [✔️]: Translated 400 sents for es-sv\n",
      "INFO: 2025-05-10 21:08:40 - [✔️]: Translated 400 sents for es-pt\n",
      "INFO: 2025-05-10 21:08:51 - [✔️]: Translated 400 sents for es-fr\n",
      "INFO: 2025-05-10 21:09:03 - [✔️]: Translated 400 sents for es-de\n",
      "INFO: 2025-05-10 21:09:14 - [✔️]: Translated 400 sents for es-el\n",
      "INFO: 2025-05-10 21:09:30 - [✔️]: Translated 400 sents for es-da\n",
      "INFO: 2025-05-10 21:09:42 - [✔️]: Translated 400 sents for es-it\n",
      "INFO: 2025-05-10 21:09:58 - [✔️]: Translated 400 sents for es-nl\n",
      "INFO: 2025-05-10 21:10:09 - [✔️]: Translated 400 sents for es-fi\n",
      "INFO: 2025-05-10 21:10:21 - [✔️]: Translated 400 sents for fi-it\n",
      "INFO: 2025-05-10 21:10:32 - [✔️]: Translated 400 sents for fi-es\n",
      "INFO: 2025-05-10 21:10:43 - [✔️]: Translated 400 sents for fi-fr\n",
      "INFO: 2025-05-10 21:10:55 - [✔️]: Translated 400 sents for fi-nl\n",
      "INFO: 2025-05-10 21:11:11 - [✔️]: Translated 400 sents for fi-sv\n",
      "INFO: 2025-05-10 21:11:22 - [✔️]: Translated 400 sents for fi-pt\n",
      "INFO: 2025-05-10 21:11:34 - [✔️]: Translated 400 sents for fi-de\n",
      "INFO: 2025-05-10 21:11:45 - [✔️]: Translated 400 sents for fi-el\n",
      "INFO: 2025-05-10 21:12:01 - [✔️]: Translated 400 sents for fi-da\n",
      "INFO: 2025-05-10 21:12:18 - [✔️]: Translated 400 sents for fr-it\n",
      "INFO: 2025-05-10 21:12:29 - [✔️]: Translated 400 sents for fr-es\n",
      "INFO: 2025-05-10 21:12:41 - [✔️]: Translated 400 sents for fr-nl\n",
      "INFO: 2025-05-10 21:12:52 - [✔️]: Translated 400 sents for fr-fi\n",
      "INFO: 2025-05-10 21:13:03 - [✔️]: Translated 400 sents for fr-sv\n",
      "INFO: 2025-05-10 21:13:15 - [✔️]: Translated 400 sents for fr-pt\n",
      "INFO: 2025-05-10 21:13:31 - [✔️]: Translated 400 sents for fr-el\n",
      "INFO: 2025-05-10 21:13:43 - [✔️]: Translated 400 sents for fr-de\n",
      "INFO: 2025-05-10 21:13:54 - [✔️]: Translated 400 sents for fr-da\n",
      "INFO: 2025-05-10 21:14:05 - [✔️]: Translated 400 sents for it-fr\n",
      "INFO: 2025-05-10 21:14:22 - [✔️]: Translated 400 sents for it-el\n",
      "INFO: 2025-05-10 21:14:33 - [✔️]: Translated 400 sents for it-de\n",
      "INFO: 2025-05-10 21:14:45 - [✔️]: Translated 400 sents for it-da\n",
      "INFO: 2025-05-10 21:14:56 - [✔️]: Translated 400 sents for it-es\n",
      "INFO: 2025-05-10 21:15:13 - [✔️]: Translated 400 sents for it-nl\n",
      "INFO: 2025-05-10 21:15:29 - [✔️]: Translated 400 sents for it-fi\n",
      "INFO: 2025-05-10 21:15:40 - [✔️]: Translated 400 sents for it-sv\n",
      "INFO: 2025-05-10 21:15:52 - [✔️]: Translated 400 sents for it-pt\n",
      "INFO: 2025-05-10 21:16:03 - [✔️]: Translated 400 sents for nl-sv\n",
      "INFO: 2025-05-10 21:16:14 - [✔️]: Translated 400 sents for nl-pt\n",
      "INFO: 2025-05-10 21:16:26 - [✔️]: Translated 400 sents for nl-it\n",
      "INFO: 2025-05-10 21:16:42 - [✔️]: Translated 400 sents for nl-el\n",
      "INFO: 2025-05-10 21:16:59 - [✔️]: Translated 400 sents for nl-fi\n",
      "INFO: 2025-05-10 21:17:05 - [✔️]: Translated 400 sents for nl-da\n",
      "INFO: 2025-05-10 21:17:11 - [✔️]: Translated 400 sents for nl-es\n",
      "INFO: 2025-05-10 21:17:22 - [✔️]: Translated 400 sents for nl-fr\n",
      "INFO: 2025-05-10 21:17:34 - [✔️]: Translated 400 sents for nl-de\n",
      "INFO: 2025-05-10 21:17:45 - [✔️]: Translated 400 sents for pt-fr\n",
      "INFO: 2025-05-10 21:17:57 - [✔️]: Translated 400 sents for pt-el\n",
      "INFO: 2025-05-10 21:18:08 - [✔️]: Translated 400 sents for pt-de\n",
      "INFO: 2025-05-10 21:18:24 - [✔️]: Translated 400 sents for pt-da\n",
      "INFO: 2025-05-10 21:18:36 - [✔️]: Translated 400 sents for pt-it\n",
      "INFO: 2025-05-10 21:18:47 - [✔️]: Translated 400 sents for pt-es\n",
      "INFO: 2025-05-10 21:18:58 - [✔️]: Translated 400 sents for pt-nl\n",
      "INFO: 2025-05-10 21:19:09 - [✔️]: Translated 400 sents for pt-fi\n",
      "INFO: 2025-05-10 21:19:26 - [✔️]: Translated 400 sents for pt-sv\n",
      "INFO: 2025-05-10 21:19:37 - [✔️]: Translated 400 sents for sv-it\n",
      "INFO: 2025-05-10 21:19:48 - [✔️]: Translated 400 sents for sv-es\n",
      "INFO: 2025-05-10 21:20:00 - [✔️]: Translated 400 sents for sv-nl\n",
      "INFO: 2025-05-10 21:20:11 - [✔️]: Translated 400 sents for sv-fi\n",
      "INFO: 2025-05-10 21:20:22 - [✔️]: Translated 400 sents for sv-pt\n",
      "INFO: 2025-05-10 21:20:33 - [✔️]: Translated 400 sents for sv-fr\n",
      "INFO: 2025-05-10 21:20:45 - [✔️]: Translated 400 sents for sv-el\n",
      "INFO: 2025-05-10 21:20:56 - [✔️]: Translated 400 sents for sv-de\n",
      "INFO: 2025-05-10 21:21:13 - [✔️]: Translated 400 sents for sv-da\n",
      "INFO: 2025-05-10 21:21:13 - [🏁]: Task took 1072.50s\n"
     ]
    }
   ],
   "source": [
    "!cat proc6.log | grep -P \"^(INFO: \\d\\d\\d\\d-\\d\\d-\\d\\d \\d\\d:\\d\\d:\\d\\d) - (\\[|Retry)\""
   ]
  },
  {
   "cell_type": "markdown",
   "id": "c98cb72a",
   "metadata": {},
   "source": [
    "### Observation\n",
    "* Not much to say except that DeepL is indeed much faster than GPT4.1"
   ]
  },
  {
   "cell_type": "code",
   "execution_count": 39,
   "id": "bf5cb24a",
   "metadata": {},
   "outputs": [
    {
     "name": "stdout",
     "output_type": "stream",
     "text": [
      "INFO: 2025-05-10 20:42:10 - [🚀]: Selected task for europarl - deepl_document\n",
      "INFO: 2025-05-10 21:02:52 - [🏁]: Task took 1242.66s\n",
      "INFO: 2025-05-10 21:03:20 - [🚀]: Selected task for flores_plus - deepl_document\n",
      "INFO: 2025-05-10 21:21:13 - [🏁]: Task took 1072.50s\n"
     ]
    }
   ],
   "source": [
    "!cat proc6.log | grep -P \"(Selected task|Task took|skipping)\""
   ]
  },
  {
   "cell_type": "markdown",
   "id": "2db63927",
   "metadata": {},
   "source": [
    "* To put this into perspective, it took DeepL less time to translate 90 pairs than it took GPT4.1 to translate 9."
   ]
  },
  {
   "cell_type": "markdown",
   "id": "bb4157b7",
   "metadata": {},
   "source": [
    "## Final Remarks"
   ]
  },
  {
   "cell_type": "markdown",
   "id": "7bbf3913",
   "metadata": {},
   "source": [
    "* You can use the Commit hash to infer the procedures, there are only 6 distinct commit hashes"
   ]
  },
  {
   "cell_type": "code",
   "execution_count": 40,
   "id": "cbed9a7f",
   "metadata": {},
   "outputs": [
    {
     "name": "stdout",
     "output_type": "stream",
     "text": [
      "66ef922\n",
      "f2cfbfa\n",
      "61954df\n",
      "7124518\n",
      "167ca14\n",
      "601fdda\n"
     ]
    }
   ],
   "source": [
    "!cat proc*.log | grep -Po \"(?<=on commit )(.+)$\" | uniq"
   ]
  },
  {
   "cell_type": "markdown",
   "id": "5127af5a",
   "metadata": {},
   "source": [
    "* This notebook acts as a way to provide logs to the public. The `.log` files themselves cannot be published due to error messages including private informationt\n",
    "* This notebook provides documentation and transparancy to all 6 procedures ran to obtain 40 + 220 + 219 translations obtained for 110 pairs, using datasets OPUS100, FLORES+ and EuroParl with DeepL and GPT4.1. \n",
    "    * The remaining translation for it-el was obtained using the method in [`it-el.ipynb`](https://github.com/na50r/110_bleu/blob/main/it-el.ipynb)"
   ]
  }
 ],
 "metadata": {
  "kernelspec": {
   "display_name": "thesis",
   "language": "python",
   "name": "python3"
  },
  "language_info": {
   "codemirror_mode": {
    "name": "ipython",
    "version": 3
   },
   "file_extension": ".py",
   "mimetype": "text/x-python",
   "name": "python",
   "nbconvert_exporter": "python",
   "pygments_lexer": "ipython3",
   "version": "3.12.6"
  }
 },
 "nbformat": 4,
 "nbformat_minor": 5
}
