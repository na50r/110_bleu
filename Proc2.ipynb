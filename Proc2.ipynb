{
 "cells": [
  {
   "cell_type": "markdown",
   "id": "46c18d22",
   "metadata": {},
   "source": [
    "# Procedure 2\n",
    "* No changes in relevant code used for Procedure 1.\n",
    "* Translate 90 pairs of EuroParl and Flores+ sentences using GPT4.1\n",
    "* Due to the long processing time, we translate in batches of 45 pairs each, so 4 tasks in total"
   ]
  },
  {
   "cell_type": "markdown",
   "id": "fcfb67b4",
   "metadata": {},
   "source": [
    "## Last Checks"
   ]
  },
  {
   "cell_type": "code",
   "execution_count": 1,
   "id": "00470470",
   "metadata": {},
   "outputs": [
    {
     "name": "stdout",
     "output_type": "stream",
     "text": [
      "Available datasets: ['europarl-1', 'europarl-2', 'flores_plus-1', 'flores_plus-2']\n",
      "Available models: ['gpt-4.1-2025-04-14']\n"
     ]
    }
   ],
   "source": [
    "%run proc2.py inputs"
   ]
  },
  {
   "cell_type": "markdown",
   "id": "42dbaff9",
   "metadata": {},
   "source": [
    "* Because we did not want to refactor `procedure.py`, we just distinguish using the dataset identifiers, so `europarl-1` refers to the first 45 pair batch from EuroParl, `europarl-2`to the second, same for Flores+."
   ]
  },
  {
   "cell_type": "code",
   "execution_count": 2,
   "id": "f400cbc6",
   "metadata": {},
   "outputs": [
    {
     "name": "stdout",
     "output_type": "stream",
     "text": [
      "Task details for europarl-1 - gpt-4.1-2025-04-14:\n",
      "  id: 8ea26fb9-24f7-4839-88f8-801d9ae658bd\n",
      "  store: tasks\\proc2\\europarl\\gpt-4.1-2025-04-14\n",
      "  pairs: [('fi', 'sv'), ('fi', 'pt'), ('fi', 'nl'), ('fi', 'it'), ('fi', 'fr'), ('fi', 'es'), ('fi', 'el'), ('fi', 'de'), ('fi', 'da'), ('es', 'sv'), ('es', 'pt'), ('es', 'nl'), ('es', 'it'), ('es', 'fr'), ('es', 'fi'), ('es', 'el'), ('es', 'de'), ('es', 'da'), ('el', 'sv'), ('el', 'pt'), ('el', 'nl'), ('el', 'it'), ('el', 'fr'), ('el', 'fi'), ('el', 'es'), ('el', 'de'), ('el', 'da'), ('de', 'sv'), ('de', 'pt'), ('de', 'nl'), ('de', 'it'), ('de', 'fr'), ('de', 'fi'), ('de', 'es'), ('de', 'el'), ('de', 'da'), ('da', 'sv'), ('da', 'pt'), ('da', 'nl'), ('da', 'it'), ('da', 'fr'), ('da', 'fi'), ('da', 'es'), ('da', 'el'), ('da', 'de')]\n",
      "  dm: <scripts.data_management.EuroParlManager object at 0x00000240A05A2150>\n",
      "  tl_logger: <scripts.logger.TranslationLogger object at 0x000002409F69B860>\n",
      "  lang_detection: True\n",
      "  num_of_sents: 400\n",
      "  client: <scripts.translators.GPTClient object at 0x00000240A05A2180>\n",
      "  acceptable_range: (360, 480)\n",
      "  manual_retry: False\n",
      "  max_retries: 2\n",
      "  retry_delay: 30\n"
     ]
    }
   ],
   "source": [
    "%run proc2.py task -m gpt-4.1-2025-04-14 -d europarl-1"
   ]
  },
  {
   "cell_type": "code",
   "execution_count": 3,
   "id": "4716da83",
   "metadata": {},
   "outputs": [
    {
     "data": {
      "text/plain": [
       "'f7903e9'"
      ]
     },
     "execution_count": 3,
     "metadata": {},
     "output_type": "execute_result"
    }
   ],
   "source": [
    "from scripts.util import get_git_revision_short_hash\n",
    "get_git_revision_short_hash()"
   ]
  },
  {
   "cell_type": "markdown",
   "id": "2c149135",
   "metadata": {},
   "source": [
    "* The commit is different since we committed data of Procedure 1. \n",
    "* You can verify that relevant files such as `translator.py`, `task.py`, `procedure.py`, `data_manager.py`, `logger.py` and `util.py` were not changed."
   ]
  },
  {
   "cell_type": "markdown",
   "id": "f39b2cc9",
   "metadata": {},
   "source": [
    "# Execution"
   ]
  },
  {
   "cell_type": "code",
   "execution_count": null,
   "id": "a0ec4352",
   "metadata": {},
   "outputs": [],
   "source": []
  }
 ],
 "metadata": {
  "kernelspec": {
   "display_name": "thesis",
   "language": "python",
   "name": "python3"
  },
  "language_info": {
   "codemirror_mode": {
    "name": "ipython",
    "version": 3
   },
   "file_extension": ".py",
   "mimetype": "text/x-python",
   "name": "python",
   "nbconvert_exporter": "python",
   "pygments_lexer": "ipython3",
   "version": "3.12.6"
  }
 },
 "nbformat": 4,
 "nbformat_minor": 5
}
