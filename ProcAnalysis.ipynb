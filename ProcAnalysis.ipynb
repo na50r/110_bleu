{
 "cells": [
  {
   "cell_type": "markdown",
   "id": "86caea79",
   "metadata": {},
   "source": [
    "# Procedure Analysis"
   ]
  },
  {
   "cell_type": "markdown",
   "id": "a4ceed47",
   "metadata": {},
   "source": [
    "## Procedure 1"
   ]
  },
  {
   "cell_type": "code",
   "execution_count": 1,
   "id": "2c3137e6",
   "metadata": {},
   "outputs": [],
   "source": [
    "from os.path import join\n",
    "import os\n",
    "import json\n",
    "task_folder = 'tasks'\n",
    "proc1 = join(task_folder, 'proc1')\n",
    "proc1_ep = join(proc1, 'europarl')\n",
    "proc1_opus = join(proc1, 'opus-100')\n",
    "proc1_flores = join(proc1, 'flores_plus')\n",
    "translators = ['deepl_document', 'gpt-4.1-2025-04-14']\n",
    "task_folders = [proc1_ep, proc1_opus, proc1_flores]\n",
    "proc1_task_ids = []\n",
    "\n",
    "for tl in translators:\n",
    "    for folder in task_folders:\n",
    "        with open(join(folder, tl, 'task.json'), 'r') as f:\n",
    "            task = json.load(f)\n",
    "            proc1_task_ids.append(task['task_id'])"
   ]
  },
  {
   "cell_type": "code",
   "execution_count": 2,
   "id": "0d295ee1",
   "metadata": {},
   "outputs": [],
   "source": [
    "with open(join(task_folder, 'proc1.jsonl'), 'r') as f:\n",
    "    logs = [json.loads(ln) for ln in f.readlines()]\n",
    "\n",
    "proc1_task_id2logs = {task_id: [] for task_id in proc1_task_ids}\n",
    "for task_id in proc1_task_ids:\n",
    "    for log in logs:\n",
    "        if log['id'].startswith(task_id):\n",
    "            proc1_task_id2logs[task_id].append(log)"
   ]
  },
  {
   "cell_type": "code",
   "execution_count": 3,
   "id": "aaa58b76",
   "metadata": {},
   "outputs": [
    {
     "name": "stdout",
     "output_type": "stream",
     "text": [
      "ab9fc42b-61af-4534-afd6-3710eb1dbc52 20\n",
      "4c5ffc31-c043-414d-aba1-270f9967f078 20\n",
      "88538d1d-11fc-4356-9153-b105d4e26e30 20\n",
      "9549e927-4f63-4205-82bb-5c7ccabfe943 20\n",
      "fa628bc1-4f85-446d-9167-1a8d99ccc493 20\n",
      "fdbf6190-d061-4154-ae94-d7b11199d043 20\n"
     ]
    }
   ],
   "source": [
    "for task_id, logs in proc1_task_id2logs.items():\n",
    "    print(task_id, len(logs))"
   ]
  },
  {
   "cell_type": "code",
   "execution_count": 4,
   "id": "f8c48335",
   "metadata": {},
   "outputs": [
    {
     "name": "stdout",
     "output_type": "stream",
     "text": [
      "tasks\\proc1\\europarl deepl_document 21\n",
      "tasks\\proc1\\opus-100 deepl_document 21\n",
      "tasks\\proc1\\flores_plus deepl_document 21\n",
      "tasks\\proc1\\europarl gpt-4.1-2025-04-14 21\n",
      "tasks\\proc1\\opus-100 gpt-4.1-2025-04-14 21\n",
      "tasks\\proc1\\flores_plus gpt-4.1-2025-04-14 21\n"
     ]
    }
   ],
   "source": [
    "for tl in translators:\n",
    "    for folder in task_folders:\n",
    "        files = os.listdir(join(folder, tl))\n",
    "        print(folder, tl, len(files))"
   ]
  },
  {
   "cell_type": "code",
   "execution_count": 18,
   "id": "5c8c46ae",
   "metadata": {},
   "outputs": [
    {
     "name": "stdout",
     "output_type": "stream",
     "text": [
      "Proc1 120/120\n"
     ]
    }
   ],
   "source": [
    "print('Proc1', f'{sum([len(logs) for logs in proc1_task_id2logs.values()])}/120')"
   ]
  },
  {
   "cell_type": "code",
   "execution_count": 19,
   "id": "5d6e82dc",
   "metadata": {},
   "outputs": [
    {
     "name": "stdout",
     "output_type": "stream",
     "text": [
      "INFO: 2025-05-07 13:55:45 - [🚀]: Selected task for europarl - gpt-4.1-2025-04-14\n",
      "INFO: 2025-05-07 13:55:45 - [🏁]: Starting task 9549e927-4f63-4205-82bb-5c7ccabfe943 on commit 66ef922\n",
      "INFO: 2025-05-07 13:59:58 - [✔️]: Translated 398 sents for de-en\n",
      "INFO: 2025-05-07 14:03:12 - [✔️]: Translated 400 sents for en-de\n",
      "INFO: 2025-05-07 14:05:34 - [✔️]: Translated 400 sents for da-en\n",
      "INFO: 2025-05-07 14:08:09 - [✔️]: Translated 400 sents for en-da\n",
      "INFO: 2025-05-07 14:12:09 - [✔️]: Translated 400 sents for el-en\n",
      "INFO: 2025-05-07 14:16:08 - [✔️]: Translated 400 sents for en-el\n",
      "INFO: 2025-05-07 14:17:37 - [✔️]: Translated 400 sents for pt-en\n",
      "INFO: 2025-05-07 14:19:38 - [✔️]: Translated 400 sents for en-pt\n",
      "INFO: 2025-05-07 14:21:29 - [✔️]: Translated 400 sents for sv-en\n",
      "INFO: 2025-05-07 14:23:14 - [✔️]: Translated 400 sents for en-sv\n",
      "INFO: 2025-05-07 14:25:11 - [✔️]: Translated 401 sents for es-en\n",
      "INFO: 2025-05-07 14:27:50 - [✔️]: Translated 400 sents for en-es\n",
      "INFO: 2025-05-07 14:30:10 - [✔️]: Translated 400 sents for fi-en\n",
      "INFO: 2025-05-07 14:39:46 - [✔️]: Translated 401 sents for en-fi\n",
      "INFO: 2025-05-07 14:42:11 - [✔️]: Translated 400 sents for fr-en\n",
      "INFO: 2025-05-07 14:45:08 - [✔️]: Translated 400 sents for en-fr\n",
      "INFO: 2025-05-07 14:47:41 - [✔️]: Translated 400 sents for it-en\n",
      "INFO: 2025-05-07 14:50:39 - [✔️]: Translated 400 sents for en-it\n",
      "INFO: 2025-05-07 14:53:49 - [✔️]: Translated 400 sents for nl-en\n",
      "INFO: 2025-05-07 14:57:16 - [✔️]: Translated 400 sents for en-nl\n",
      "INFO: 2025-05-07 14:57:16 - [🏁]: Task took 3690.83s\n",
      "INFO: 2025-05-07 14:57:36 - [🚀]: Selected task for europarl - deepl_document\n",
      "INFO: 2025-05-07 14:57:36 - [🏁]: Starting task ab9fc42b-61af-4534-afd6-3710eb1dbc52 on commit 66ef922\n",
      "INFO: 2025-05-07 14:57:43 - [✔️]: Translated 400 sents for de-en\n",
      "INFO: 2025-05-07 14:57:49 - [✔️]: Translated 400 sents for en-de\n",
      "INFO: 2025-05-07 14:58:01 - [✔️]: Translated 400 sents for da-en\n",
      "INFO: 2025-05-07 14:58:12 - [✔️]: Translated 400 sents for en-da\n",
      "INFO: 2025-05-07 14:58:23 - [✔️]: Translated 400 sents for el-en\n",
      "INFO: 2025-05-07 14:58:37 - [✔️]: Translated 400 sents for en-el\n",
      "INFO: 2025-05-07 14:58:58 - [✔️]: Translated 400 sents for pt-en\n",
      "INFO: 2025-05-07 14:59:10 - [✔️]: Translated 400 sents for en-pt\n",
      "INFO: 2025-05-07 14:59:21 - [✔️]: Translated 400 sents for sv-en\n",
      "INFO: 2025-05-07 14:59:32 - [✔️]: Translated 400 sents for en-sv\n",
      "INFO: 2025-05-07 14:59:38 - [✔️]: Translated 400 sents for es-en\n",
      "INFO: 2025-05-07 14:59:44 - [✔️]: Translated 400 sents for en-es\n",
      "INFO: 2025-05-07 14:59:56 - [✔️]: Translated 400 sents for fi-en\n",
      "INFO: 2025-05-07 15:00:02 - [✔️]: Translated 400 sents for en-fi\n",
      "INFO: 2025-05-07 15:00:08 - [✔️]: Translated 400 sents for fr-en\n",
      "INFO: 2025-05-07 15:00:14 - [✔️]: Translated 400 sents for en-fr\n",
      "INFO: 2025-05-07 15:00:26 - [✔️]: Translated 400 sents for it-en\n",
      "INFO: 2025-05-07 15:00:37 - [✔️]: Translated 400 sents for en-it\n",
      "INFO: 2025-05-07 15:00:43 - [✔️]: Translated 400 sents for nl-en\n",
      "INFO: 2025-05-07 15:01:05 - [✔️]: Translated 400 sents for en-nl\n",
      "INFO: 2025-05-07 15:01:05 - [🏁]: Task took 208.54s\n",
      "INFO: 2025-05-07 15:01:52 - [🚀]: Selected task for opus-100 - gpt-4.1-2025-04-14\n",
      "INFO: 2025-05-07 15:01:53 - [🏁]: Starting task fa628bc1-4f85-446d-9167-1a8d99ccc493 on commit 66ef922\n",
      "INFO: 2025-05-07 15:03:09 - [✔️]: Translated 372 sents for de-en\n",
      "INFO: 2025-05-07 15:05:03 - [✔️]: Translated 400 sents for en-de\n",
      "INFO: 2025-05-07 15:06:42 - [✔️]: Translated 400 sents for da-en\n",
      "INFO: 2025-05-07 15:08:59 - [✔️]: Translated 400 sents for en-da\n",
      "INFO: 2025-05-07 15:10:37 - [✔️]: Translated 400 sents for el-en\n",
      "INFO: 2025-05-07 15:14:15 - [✔️]: Translated 400 sents for en-el\n",
      "INFO: 2025-05-07 15:15:41 - [✔️]: Translated 402 sents for pt-en\n",
      "INFO: 2025-05-07 15:17:27 - [✔️]: Translated 400 sents for en-pt\n",
      "INFO: 2025-05-07 15:18:31 - [✔️]: Translated 400 sents for sv-en\n",
      "INFO: 2025-05-07 15:19:54 - [✔️]: Translated 400 sents for en-sv\n",
      "INFO: 2025-05-07 15:21:20 - [✔️]: Translated 400 sents for es-en\n",
      "INFO: 2025-05-07 15:22:54 - [✔️]: Translated 400 sents for en-es\n",
      "INFO: 2025-05-07 15:24:29 - [✔️]: Translated 400 sents for fi-en\n",
      "INFO: 2025-05-07 15:27:28 - [✔️]: Translated 400 sents for en-fi\n",
      "INFO: 2025-05-07 15:29:06 - [✔️]: Translated 400 sents for fr-en\n",
      "INFO: 2025-05-07 15:32:08 - [✔️]: Translated 400 sents for en-fr\n",
      "INFO: 2025-05-07 15:33:30 - [✔️]: Translated 400 sents for it-en\n",
      "INFO: 2025-05-07 15:35:00 - [✔️]: Translated 400 sents for en-it\n",
      "INFO: 2025-05-07 15:36:03 - [✔️]: Translated 400 sents for nl-en\n",
      "INFO: 2025-05-07 15:38:20 - [✔️]: Translated 400 sents for en-nl\n",
      "INFO: 2025-05-07 15:38:20 - [🏁]: Task took 2187.31s\n",
      "INFO: 2025-05-07 15:38:48 - [🚀]: Selected task for opus-100 - deepl_document\n",
      "INFO: 2025-05-07 15:38:48 - [🏁]: Starting task 4c5ffc31-c043-414d-aba1-270f9967f078 on commit 66ef922\n",
      "INFO: 2025-05-07 15:38:55 - [✔️]: Translated 400 sents for de-en\n",
      "INFO: 2025-05-07 15:39:01 - [✔️]: Translated 400 sents for en-de\n",
      "INFO: 2025-05-07 15:39:12 - [✔️]: Translated 400 sents for da-en\n",
      "INFO: 2025-05-07 15:39:23 - [✔️]: Translated 400 sents for en-da\n",
      "INFO: 2025-05-07 15:39:29 - [✔️]: Translated 400 sents for el-en\n",
      "INFO: 2025-05-07 15:39:35 - [✔️]: Translated 400 sents for en-el\n",
      "INFO: 2025-05-07 15:39:41 - [✔️]: Translated 400 sents for pt-en\n",
      "INFO: 2025-05-07 15:39:47 - [✔️]: Translated 400 sents for en-pt\n",
      "INFO: 2025-05-07 15:39:53 - [✔️]: Translated 400 sents for sv-en\n",
      "INFO: 2025-05-07 15:40:01 - [✔️]: Translated 400 sents for en-sv\n",
      "INFO: 2025-05-07 15:40:12 - [✔️]: Translated 400 sents for es-en\n",
      "INFO: 2025-05-07 15:40:18 - [✔️]: Translated 400 sents for en-es\n",
      "INFO: 2025-05-07 15:40:23 - [✔️]: Translated 400 sents for fi-en\n",
      "INFO: 2025-05-07 15:40:29 - [✔️]: Translated 400 sents for en-fi\n",
      "INFO: 2025-05-07 15:40:35 - [✔️]: Translated 400 sents for fr-en\n",
      "INFO: 2025-05-07 15:40:42 - [✔️]: Translated 400 sents for en-fr\n",
      "INFO: 2025-05-07 15:40:54 - [✔️]: Translated 400 sents for it-en\n",
      "INFO: 2025-05-07 15:41:01 - [✔️]: Translated 400 sents for en-it\n",
      "INFO: 2025-05-07 15:41:12 - [✔️]: Translated 400 sents for nl-en\n",
      "INFO: 2025-05-07 15:41:18 - [✔️]: Translated 400 sents for en-nl\n",
      "INFO: 2025-05-07 15:41:18 - [🏁]: Task took 149.83s\n",
      "INFO: 2025-05-07 15:41:35 - [🚀]: Selected task for flores_plus - gpt-4.1-2025-04-14\n",
      "INFO: 2025-05-07 15:41:35 - [🏁]: Starting task fdbf6190-d061-4154-ae94-d7b11199d043 on commit 66ef922\n",
      "INFO: 2025-05-07 15:43:23 - [✔️]: Translated 400 sents for de-en\n",
      "INFO: 2025-05-07 15:46:13 - [✔️]: Translated 400 sents for en-de\n",
      "INFO: 2025-05-07 15:48:22 - [✔️]: Translated 400 sents for da-en\n",
      "INFO: 2025-05-07 15:51:29 - [✔️]: Translated 400 sents for en-da\n",
      "INFO: 2025-05-07 15:55:09 - [✔️]: Translated 400 sents for el-en\n",
      "INFO: 2025-05-07 16:05:09 - [✔️]: Translated 400 sents for en-el\n",
      "INFO: 2025-05-07 16:07:59 - [✔️]: Translated 400 sents for pt-en\n",
      "INFO: 2025-05-07 16:11:07 - [✔️]: Translated 400 sents for en-pt\n",
      "INFO: 2025-05-07 16:13:20 - [✔️]: Translated 400 sents for sv-en\n",
      "INFO: 2025-05-07 16:15:35 - [✔️]: Translated 400 sents for en-sv\n",
      "INFO: 2025-05-07 16:17:18 - [✔️]: Translated 400 sents for es-en\n",
      "INFO: 2025-05-07 16:19:33 - [✔️]: Translated 400 sents for en-es\n",
      "INFO: 2025-05-07 16:22:11 - [✔️]: Translated 400 sents for fi-en\n",
      "INFO: 2025-05-07 16:25:54 - [✔️]: Translated 400 sents for en-fi\n",
      "INFO: 2025-05-07 16:27:56 - [✔️]: Translated 400 sents for fr-en\n",
      "INFO: 2025-05-07 16:30:13 - [✔️]: Translated 400 sents for en-fr\n",
      "INFO: 2025-05-07 16:32:23 - [✔️]: Translated 400 sents for it-en\n",
      "INFO: 2025-05-07 16:35:28 - [✔️]: Translated 400 sents for en-it\n",
      "INFO: 2025-05-07 16:37:14 - [✔️]: Translated 400 sents for nl-en\n",
      "INFO: 2025-05-07 16:39:43 - [✔️]: Translated 400 sents for en-nl\n",
      "INFO: 2025-05-07 16:39:43 - [🏁]: Task took 3487.97s\n",
      "INFO: 2025-05-07 16:39:58 - [🚀]: Selected task for flores_plus - deepl_document\n",
      "INFO: 2025-05-07 16:39:58 - [🏁]: Starting task 88538d1d-11fc-4356-9153-b105d4e26e30 on commit 66ef922\n",
      "INFO: 2025-05-07 16:40:04 - [✔️]: Translated 400 sents for de-en\n",
      "INFO: 2025-05-07 16:40:10 - [✔️]: Translated 400 sents for en-de\n",
      "INFO: 2025-05-07 16:40:21 - [✔️]: Translated 400 sents for da-en\n",
      "INFO: 2025-05-07 16:40:32 - [✔️]: Translated 400 sents for en-da\n",
      "INFO: 2025-05-07 16:40:43 - [✔️]: Translated 400 sents for el-en\n",
      "INFO: 2025-05-07 16:40:55 - [✔️]: Translated 400 sents for en-el\n",
      "INFO: 2025-05-07 16:41:01 - [✔️]: Translated 400 sents for pt-en\n",
      "INFO: 2025-05-07 16:41:12 - [✔️]: Translated 400 sents for en-pt\n",
      "INFO: 2025-05-07 16:41:23 - [✔️]: Translated 400 sents for sv-en\n",
      "INFO: 2025-05-07 16:41:34 - [✔️]: Translated 400 sents for en-sv\n",
      "INFO: 2025-05-07 16:41:40 - [✔️]: Translated 400 sents for es-en\n",
      "INFO: 2025-05-07 16:41:46 - [✔️]: Translated 400 sents for en-es\n",
      "INFO: 2025-05-07 16:41:58 - [✔️]: Translated 400 sents for fi-en\n",
      "INFO: 2025-05-07 16:42:09 - [✔️]: Translated 400 sents for en-fi\n",
      "INFO: 2025-05-07 16:42:15 - [✔️]: Translated 400 sents for fr-en\n",
      "INFO: 2025-05-07 16:42:21 - [✔️]: Translated 400 sents for en-fr\n",
      "INFO: 2025-05-07 16:42:27 - [✔️]: Translated 400 sents for it-en\n",
      "INFO: 2025-05-07 16:42:33 - [✔️]: Translated 400 sents for en-it\n",
      "INFO: 2025-05-07 16:42:39 - [✔️]: Translated 400 sents for nl-en\n",
      "INFO: 2025-05-07 16:42:50 - [✔️]: Translated 400 sents for en-nl\n",
      "INFO: 2025-05-07 16:42:50 - [🏁]: Task took 172.57s\n"
     ]
    }
   ],
   "source": [
    "!cat proc1.log | grep -P '^(INFO: \\d\\d\\d\\d-\\d\\d-\\d\\d \\d\\d:\\d\\d:\\d\\d) - \\['"
   ]
  },
  {
   "cell_type": "markdown",
   "id": "74a59d02",
   "metadata": {},
   "source": [
    "## Procedure 2"
   ]
  },
  {
   "cell_type": "code",
   "execution_count": 5,
   "id": "43c53bc8",
   "metadata": {},
   "outputs": [
    {
     "name": "stdout",
     "output_type": "stream",
     "text": [
      "cfaadc55-8ced-4b93-80e6-9581c956f986 44\n"
     ]
    }
   ],
   "source": [
    "proc2 = join(task_folder, 'proc2')\n",
    "proc2_task_file = join(proc2, join('europarl', join('gpt-4.1-2025-04-14', 'task.json')))\n",
    "with open(proc2_task_file, 'r') as f:\n",
    "    proc2_task = json.load(f)\n",
    "    proc2_task_id = proc2_task['task_id']\n",
    "\n",
    "with open(join(task_folder, 'proc2.jsonl'), 'r') as f:\n",
    "    logs = [json.loads(ln) for ln in f.readlines()]\n",
    "\n",
    "proc2_logs = [log for log in logs if log['id'].startswith(proc2_task_id)]\n",
    "print(proc2_task_id, len(proc2_logs))\n",
    "# Failed fi-el"
   ]
  },
  {
   "cell_type": "code",
   "execution_count": 6,
   "id": "a3028aa8",
   "metadata": {},
   "outputs": [
    {
     "name": "stdout",
     "output_type": "stream",
     "text": [
      "tasks\\proc2\\europarl\\gpt-4.1-2025-04-14 45\n"
     ]
    }
   ],
   "source": [
    "files = os.listdir(join(proc2, join('europarl', 'gpt-4.1-2025-04-14')))\n",
    "print(join(proc2, join('europarl', 'gpt-4.1-2025-04-14')), len(files))"
   ]
  },
  {
   "cell_type": "code",
   "execution_count": 16,
   "id": "f0de03d2",
   "metadata": {},
   "outputs": [
    {
     "name": "stdout",
     "output_type": "stream",
     "text": [
      "Proc2 44/45\n"
     ]
    }
   ],
   "source": [
    "print('Proc2', f'{len(proc2_logs)}/45')"
   ]
  },
  {
   "cell_type": "code",
   "execution_count": 12,
   "id": "d77984a1",
   "metadata": {},
   "outputs": [
    {
     "name": "stdout",
     "output_type": "stream",
     "text": [
      "INFO: 2025-05-08 10:59:02 - [🚀]: Selected task for europarl-1 - gpt-4.1-2025-04-14\n",
      "INFO: 2025-05-08 10:59:02 - [🏁]: Starting task cfaadc55-8ced-4b93-80e6-9581c956f986 on commit f2cfbfa\n",
      "INFO: 2025-05-08 11:01:39 - [✔️]: Translated 400 sents for da-de\n",
      "INFO: 2025-05-08 11:06:18 - [✔️]: Translated 400 sents for da-el\n",
      "INFO: 2025-05-08 11:09:56 - [✔️]: Translated 400 sents for da-es\n",
      "INFO: 2025-05-08 11:19:45 - [✔️]: Translated 400 sents for da-fi\n",
      "INFO: 2025-05-08 11:22:33 - [✔️]: Translated 400 sents for da-fr\n",
      "INFO: 2025-05-08 11:26:25 - [✔️]: Translated 399 sents for da-it\n",
      "INFO: 2025-05-08 11:30:30 - [✔️]: Translated 400 sents for da-nl\n",
      "INFO: 2025-05-08 11:34:04 - [✔️]: Translated 400 sents for da-pt\n",
      "INFO: 2025-05-08 11:37:26 - [✔️]: Translated 400 sents for da-sv\n",
      "INFO: 2025-05-08 11:40:25 - [✔️]: Translated 400 sents for de-da\n",
      "INFO: 2025-05-08 11:55:27 - [🕒]: Retrying de-el...\n",
      "INFO: 2025-05-08 12:05:27 - [✔️]: Translated 400 sents for de-el\n",
      "INFO: 2025-05-08 12:08:49 - [✔️]: Translated 400 sents for de-es\n",
      "INFO: 2025-05-08 12:12:14 - [✔️]: Translated 399 sents for de-fi\n",
      "INFO: 2025-05-08 12:16:02 - [✔️]: Translated 400 sents for de-fr\n",
      "INFO: 2025-05-08 12:18:55 - [✔️]: Translated 400 sents for de-it\n",
      "INFO: 2025-05-08 12:22:25 - [✔️]: Translated 400 sents for de-nl\n",
      "INFO: 2025-05-08 12:25:56 - [✔️]: Translated 400 sents for de-pt\n",
      "INFO: 2025-05-08 12:34:28 - [✔️]: Translated 400 sents for de-sv\n",
      "INFO: 2025-05-08 12:39:09 - [✔️]: Translated 400 sents for el-da\n",
      "INFO: 2025-05-08 12:43:00 - [✔️]: Translated 400 sents for el-de\n",
      "INFO: 2025-05-08 12:46:41 - [✔️]: Translated 400 sents for el-es\n",
      "INFO: 2025-05-08 12:50:58 - [✔️]: Translated 400 sents for el-fi\n",
      "INFO: 2025-05-08 12:54:38 - [✔️]: Translated 400 sents for el-fr\n",
      "INFO: 2025-05-08 12:59:17 - [✔️]: Translated 399 sents for el-it\n",
      "INFO: 2025-05-08 13:02:08 - [✔️]: Translated 399 sents for el-nl\n",
      "INFO: 2025-05-08 13:06:05 - [✔️]: Translated 400 sents for el-pt\n",
      "INFO: 2025-05-08 13:09:26 - [✔️]: Translated 400 sents for el-sv\n",
      "INFO: 2025-05-08 13:13:30 - [✔️]: Translated 400 sents for es-da\n",
      "INFO: 2025-05-08 13:16:44 - [✔️]: Translated 400 sents for es-de\n",
      "INFO: 2025-05-08 13:20:59 - [✔️]: Translated 399 sents for es-el\n",
      "INFO: 2025-05-08 13:25:04 - [✔️]: Translated 400 sents for es-fi\n",
      "INFO: 2025-05-08 13:29:06 - [✔️]: Translated 400 sents for es-fr\n",
      "INFO: 2025-05-08 13:31:45 - [✔️]: Translated 400 sents for es-it\n",
      "INFO: 2025-05-08 13:35:20 - [✔️]: Translated 399 sents for es-nl\n",
      "INFO: 2025-05-08 13:37:46 - [✔️]: Translated 400 sents for es-pt\n",
      "INFO: 2025-05-08 13:41:22 - [✔️]: Translated 400 sents for es-sv\n",
      "INFO: 2025-05-08 13:45:26 - [✔️]: Translated 400 sents for fi-da\n",
      "INFO: 2025-05-08 13:49:27 - [✔️]: Translated 400 sents for fi-de\n",
      "INFO: 2025-05-08 14:04:29 - [🕒]: Retrying fi-el...\n",
      "INFO: 2025-05-08 14:24:38 - [🕒]: Retrying fi-el...\n",
      "INFO: 2025-05-08 14:40:10 - [⏭️]: Failed 2 times, skipping fi-el...\n",
      "INFO: 2025-05-08 14:43:51 - [✔️]: Translated 400 sents for fi-es\n",
      "INFO: 2025-05-08 14:47:17 - [✔️]: Translated 400 sents for fi-fr\n",
      "INFO: 2025-05-08 14:51:10 - [✔️]: Translated 399 sents for fi-it\n",
      "INFO: 2025-05-08 14:56:11 - [✔️]: Translated 399 sents for fi-nl\n",
      "INFO: 2025-05-08 14:59:31 - [✔️]: Translated 400 sents for fi-pt\n",
      "INFO: 2025-05-08 15:04:01 - [✔️]: Translated 400 sents for fi-sv\n",
      "INFO: 2025-05-08 15:04:01 - [🏁]: Task took 14699.12s\n"
     ]
    }
   ],
   "source": [
    "!cat proc2.log | grep -P '^(INFO: \\d\\d\\d\\d-\\d\\d-\\d\\d \\d\\d:\\d\\d:\\d\\d) - \\['"
   ]
  },
  {
   "cell_type": "markdown",
   "id": "6fc22b53",
   "metadata": {},
   "source": [
    "* Need to retry `fi-el`"
   ]
  },
  {
   "cell_type": "markdown",
   "id": "49b946b1",
   "metadata": {},
   "source": [
    "## Procedure 3"
   ]
  },
  {
   "cell_type": "code",
   "execution_count": 15,
   "id": "ccf09d9f",
   "metadata": {},
   "outputs": [
    {
     "name": "stdout",
     "output_type": "stream",
     "text": [
      "4556b5df-51b7-4d7d-a545-e53943fa64a3 9\n",
      "1077cd91-85d1-4100-a038-acdba34d7e6c 7\n",
      "7de67252-5e5d-4cfe-8f6c-3a9d837389a0 9\n",
      "71ac2b3d-eff1-4291-9a62-8f94ac0ac770 9\n",
      "0c97e7cc-220d-4aae-93d2-c3ca4884ef75 8\n",
      "Proc3 42/45\n"
     ]
    }
   ],
   "source": [
    "proc3 = join(task_folder, 'proc3')\n",
    "proc3_folders = os.listdir(proc3)\n",
    "proc3_task_ids = []\n",
    "for folder in proc3_folders:\n",
    "    if folder.startswith('flores'): continue\n",
    "    with open(join(proc3, join(folder, join('gpt-4.1-2025-04-14', 'task.json'))), 'r') as f:\n",
    "        task = json.load(f)\n",
    "        proc3_task_ids.append(task['task_id'])\n",
    "\n",
    "with open(join(task_folder, 'proc3.jsonl'), 'r') as f:\n",
    "    logs = [json.loads(ln) for ln in f.readlines()]\n",
    "\n",
    "proc3_task_id2logs = {task_id: [] for task_id in proc3_task_ids}\n",
    "for task_id in proc3_task_ids:\n",
    "    for log in logs:\n",
    "        if log['id'].startswith(task_id):\n",
    "            proc3_task_id2logs[task_id].append(log)\n",
    "\n",
    "total = 0\n",
    "for task_id, logs in proc3_task_id2logs.items():\n",
    "    total += len(logs)\n",
    "    print(task_id, len(logs))\n",
    "print('Proc3', f'{total}/45')"
   ]
  },
  {
   "cell_type": "code",
   "execution_count": 11,
   "id": "83a583de",
   "metadata": {},
   "outputs": [
    {
     "name": "stdout",
     "output_type": "stream",
     "text": [
      "INFO: 2025-05-09 13:18:06 - [🚀]: Selected task for europarl-fr - gpt-4.1-2025-04-14\n",
      "INFO: 2025-05-09 13:18:06 - [🏁]: Starting task 4556b5df-51b7-4d7d-a545-e53943fa64a3 on commit 61954df\n",
      "INFO: 2025-05-09 13:22:10 - [✔️]: Translated 400 sents for fr-da\n",
      "INFO: 2025-05-09 13:26:42 - [✔️]: Translated 400 sents for fr-de\n",
      "INFO: 2025-05-09 13:36:34 - [✔️]: Translated 400 sents for fr-el\n",
      "INFO: 2025-05-09 13:39:17 - [✔️]: Translated 400 sents for fr-es\n",
      "INFO: 2025-05-09 13:58:41 - [✔️]: Translated 400 sents for fr-fi\n",
      "INFO: 2025-05-09 14:02:23 - [✔️]: Translated 400 sents for fr-it\n",
      "INFO: 2025-05-09 14:07:12 - [✔️]: Translated 400 sents for fr-nl\n",
      "INFO: 2025-05-09 14:10:56 - [✔️]: Translated 400 sents for fr-pt\n",
      "INFO: 2025-05-09 14:15:46 - [✔️]: Translated 400 sents for fr-sv\n",
      "INFO: 2025-05-09 14:15:46 - [🏁]: Task took 3460.14s\n",
      "INFO: 2025-05-09 14:17:04 - [🚀]: Selected task for europarl-it - gpt-4.1-2025-04-14\n",
      "INFO: 2025-05-09 14:17:04 - [🏁]: Starting task 1077cd91-85d1-4100-a038-acdba34d7e6c on commit 61954df\n",
      "INFO: 2025-05-09 14:31:33 - [✔️]: Translated 400 sents for it-da\n",
      "INFO: 2025-05-09 14:34:46 - [✔️]: Translated 400 sents for it-de\n",
      "INFO: 2025-05-09 14:49:49 - [🕒]: Retrying it-el...\n",
      "INFO: 2025-05-09 15:05:21 - [🕒]: Retrying it-el...\n",
      "INFO: 2025-05-09 15:20:54 - [⏭️]: Failed 2 times, skipping it-el...\n",
      "INFO: 2025-05-09 15:23:57 - [✔️]: Translated 400 sents for it-es\n",
      "INFO: 2025-05-09 15:39:00 - [🕒]: Retrying it-fi...\n",
      "INFO: 2025-05-09 15:54:32 - [🕒]: Retrying it-fi...\n",
      "INFO: 2025-05-09 16:10:04 - [⏭️]: Failed 2 times, skipping it-fi...\n",
      "INFO: 2025-05-09 16:13:11 - [✔️]: Translated 400 sents for it-fr\n",
      "INFO: 2025-05-09 16:17:37 - [✔️]: Translated 400 sents for it-nl\n",
      "INFO: 2025-05-09 16:21:08 - [✔️]: Translated 400 sents for it-pt\n",
      "INFO: 2025-05-09 16:26:07 - [✔️]: Translated 400 sents for it-sv\n",
      "INFO: 2025-05-09 16:26:07 - [🏁]: Task took 7742.83s\n",
      "INFO: 2025-05-09 16:28:03 - [🚀]: Selected task for europarl-nl - gpt-4.1-2025-04-14\n",
      "INFO: 2025-05-09 16:28:03 - [🏁]: Starting task 7de67252-5e5d-4cfe-8f6c-3a9d837389a0 on commit 61954df\n",
      "INFO: 2025-05-09 16:37:27 - [✔️]: Translated 400 sents for nl-da\n",
      "INFO: 2025-05-09 16:46:22 - [✔️]: Translated 400 sents for nl-de\n",
      "INFO: 2025-05-09 17:00:03 - [✔️]: Translated 400 sents for nl-el\n",
      "INFO: 2025-05-09 17:03:38 - [✔️]: Translated 400 sents for nl-es\n",
      "INFO: 2025-05-09 17:18:41 - [🕒]: Retrying nl-fi...\n",
      "INFO: 2025-05-09 17:25:37 - [🕒]: Retrying nl-fi...\n",
      "INFO: 2025-05-09 17:30:57 - [✔️]: Translated 400 sents for nl-fi\n",
      "INFO: 2025-05-09 17:35:21 - [✔️]: Translated 400 sents for nl-fr\n",
      "INFO: 2025-05-09 17:39:50 - [✔️]: Translated 400 sents for nl-it\n",
      "INFO: 2025-05-09 17:43:13 - [✔️]: Translated 400 sents for nl-pt\n",
      "INFO: 2025-05-09 17:48:07 - [✔️]: Translated 400 sents for nl-sv\n",
      "INFO: 2025-05-09 17:48:07 - [🏁]: Task took 4803.96s\n",
      "INFO: 2025-05-09 19:19:38 - [🚀]: Selected task for europarl-pt - gpt-4.1-2025-04-14\n",
      "INFO: 2025-05-09 19:19:38 - [🏁]: Starting task 71ac2b3d-eff1-4291-9a62-8f94ac0ac770 on commit 61954df\n",
      "INFO: 2025-05-09 19:28:40 - [✔️]: Translated 400 sents for pt-da\n",
      "INFO: 2025-05-09 19:33:11 - [✔️]: Translated 400 sents for pt-de\n",
      "INFO: 2025-05-09 19:48:14 - [🕒]: Retrying pt-el...\n",
      "INFO: 2025-05-09 19:53:33 - [✔️]: Translated 400 sents for pt-el\n",
      "INFO: 2025-05-09 19:57:10 - [✔️]: Translated 400 sents for pt-es\n",
      "INFO: 2025-05-09 20:12:04 - [✔️]: Translated 401 sents for pt-fi\n",
      "INFO: 2025-05-09 20:15:33 - [✔️]: Translated 400 sents for pt-fr\n",
      "INFO: 2025-05-09 20:19:14 - [✔️]: Translated 400 sents for pt-it\n",
      "INFO: 2025-05-09 20:22:58 - [✔️]: Translated 400 sents for pt-nl\n",
      "INFO: 2025-05-09 20:26:53 - [✔️]: Translated 400 sents for pt-sv\n",
      "INFO: 2025-05-09 20:26:53 - [🏁]: Task took 4035.21s\n",
      "INFO: 2025-05-09 20:27:10 - [🚀]: Selected task for europarl-sv - gpt-4.1-2025-04-14\n",
      "INFO: 2025-05-09 20:27:10 - [🏁]: Starting task 0c97e7cc-220d-4aae-93d2-c3ca4884ef75 on commit 61954df\n",
      "INFO: 2025-05-09 20:30:57 - [✔️]: Translated 400 sents for sv-da\n",
      "INFO: 2025-05-09 20:35:26 - [✔️]: Translated 400 sents for sv-de\n",
      "INFO: 2025-05-09 20:50:28 - [🕒]: Retrying sv-el...\n",
      "INFO: 2025-05-09 21:06:01 - [🕒]: Retrying sv-el...\n",
      "INFO: 2025-05-09 21:21:34 - [⏭️]: Failed 2 times, skipping sv-el...\n",
      "INFO: 2025-05-09 21:24:15 - [✔️]: Translated 400 sents for sv-es\n",
      "INFO: 2025-05-09 21:28:54 - [✔️]: Translated 399 sents for sv-fi\n",
      "INFO: 2025-05-09 21:32:13 - [✔️]: Translated 400 sents for sv-fr\n",
      "INFO: 2025-05-09 21:35:03 - [✔️]: Translated 400 sents for sv-it\n",
      "INFO: 2025-05-09 21:38:53 - [✔️]: Translated 400 sents for sv-nl\n",
      "INFO: 2025-05-09 21:41:08 - [✔️]: Translated 400 sents for sv-pt\n",
      "INFO: 2025-05-09 21:41:08 - [🏁]: Task took 4438.69s\n"
     ]
    }
   ],
   "source": [
    "!cat proc3.log | grep -P '^(INFO: \\d\\d\\d\\d-\\d\\d-\\d\\d \\d\\d:\\d\\d:\\d\\d) - \\['"
   ]
  },
  {
   "cell_type": "markdown",
   "id": "80457f8d",
   "metadata": {},
   "source": [
    "* Need to retry `it-el`, `it-fi`, `sv-el`"
   ]
  },
  {
   "cell_type": "markdown",
   "id": "f6a08a66",
   "metadata": {},
   "source": [
    "## Procedure 4"
   ]
  }
 ],
 "metadata": {
  "kernelspec": {
   "display_name": "thesis",
   "language": "python",
   "name": "python3"
  },
  "language_info": {
   "codemirror_mode": {
    "name": "ipython",
    "version": 3
   },
   "file_extension": ".py",
   "mimetype": "text/x-python",
   "name": "python",
   "nbconvert_exporter": "python",
   "pygments_lexer": "ipython3",
   "version": "3.12.6"
  }
 },
 "nbformat": 4,
 "nbformat_minor": 5
}
