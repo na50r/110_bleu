{
 "cells": [
  {
   "cell_type": "markdown",
   "id": "86caea79",
   "metadata": {},
   "source": [
    "# Procedure Analysis"
   ]
  },
  {
   "cell_type": "markdown",
   "id": "a4ceed47",
   "metadata": {},
   "source": [
    "## Procedure 1"
   ]
  },
  {
   "cell_type": "code",
   "execution_count": null,
   "id": "2c3137e6",
   "metadata": {},
   "outputs": [],
   "source": [
    "from os.path import join\n",
    "import os\n",
    "import json\n",
    "task_folder = 'tasks'\n",
    "proc1 = join(task_folder, 'proc1')\n",
    "proc1_ep = join(proc1, 'europarl')\n",
    "proc1_opus = join(proc1, 'opus-100')\n",
    "proc1_flores = join(proc1, 'flores_plus')\n",
    "translators = ['deepl_document', 'gpt-4.1-2025-04-14']\n",
    "task_folders = [proc1_ep, proc1_opus, proc1_flores]\n",
    "proc1_task_ids = []\n",
    "\n",
    "for tl in translators:\n",
    "    for folder in task_folders:\n",
    "        with open(join(folder, tl, 'task.json'), 'r') as f:\n",
    "            task = json.load(f)\n",
    "            proc1_task_ids.append(task['task_id'])"
   ]
  },
  {
   "cell_type": "code",
   "execution_count": 3,
   "id": "0d295ee1",
   "metadata": {},
   "outputs": [],
   "source": [
    "with open(join(task_folder, 'proc1.jsonl'), 'r') as f:\n",
    "    logs = [json.loads(ln) for ln in f.readlines()]\n",
    "\n",
    "proc1_task_id2logs = {task_id: [] for task_id in proc1_task_ids}\n",
    "for task_id in proc1_task_ids:\n",
    "    for log in logs:\n",
    "        if log['id'].startswith(task_id):\n",
    "            proc1_task_id2logs[task_id].append(log)"
   ]
  },
  {
   "cell_type": "code",
   "execution_count": 5,
   "id": "aaa58b76",
   "metadata": {},
   "outputs": [
    {
     "name": "stdout",
     "output_type": "stream",
     "text": [
      "ab9fc42b-61af-4534-afd6-3710eb1dbc52 20\n",
      "4c5ffc31-c043-414d-aba1-270f9967f078 20\n",
      "88538d1d-11fc-4356-9153-b105d4e26e30 20\n",
      "9549e927-4f63-4205-82bb-5c7ccabfe943 20\n",
      "fa628bc1-4f85-446d-9167-1a8d99ccc493 20\n",
      "fdbf6190-d061-4154-ae94-d7b11199d043 20\n"
     ]
    }
   ],
   "source": [
    "for task_id, logs in proc1_task_id2logs.items():\n",
    "    print(task_id, len(logs))"
   ]
  },
  {
   "cell_type": "code",
   "execution_count": 15,
   "id": "f8c48335",
   "metadata": {},
   "outputs": [
    {
     "name": "stdout",
     "output_type": "stream",
     "text": [
      "tasks\\proc1\\europarl deepl_document 21\n",
      "tasks\\proc1\\opus-100 deepl_document 21\n",
      "tasks\\proc1\\flores_plus deepl_document 21\n",
      "tasks\\proc1\\europarl gpt-4.1-2025-04-14 21\n",
      "tasks\\proc1\\opus-100 gpt-4.1-2025-04-14 21\n",
      "tasks\\proc1\\flores_plus gpt-4.1-2025-04-14 21\n"
     ]
    }
   ],
   "source": [
    "for tl in translators:\n",
    "    for folder in task_folders:\n",
    "        files = os.listdir(join(folder, tl))\n",
    "        print(folder, tl, len(files))"
   ]
  },
  {
   "cell_type": "markdown",
   "id": "74a59d02",
   "metadata": {},
   "source": [
    "## Procedure 2"
   ]
  },
  {
   "cell_type": "code",
   "execution_count": null,
   "id": "43c53bc8",
   "metadata": {},
   "outputs": [
    {
     "name": "stdout",
     "output_type": "stream",
     "text": [
      "cfaadc55-8ced-4b93-80e6-9581c956f986 44\n"
     ]
    }
   ],
   "source": [
    "proc2 = join(task_folder, 'proc2')\n",
    "proc2_task_file = join(proc2, join('europarl', join('gpt-4.1-2025-04-14', 'task.json')))\n",
    "with open(proc2_task_file, 'r') as f:\n",
    "    proc2_task = json.load(f)\n",
    "    proc2_task_id = proc2_task['task_id']\n",
    "\n",
    "with open(join(task_folder, 'proc2.jsonl'), 'r') as f:\n",
    "    logs = [json.loads(ln) for ln in f.readlines()]\n",
    "\n",
    "proc2_logs = [log for log in logs if log['id'].startswith(proc2_task_id)]\n",
    "print(proc2_task_id, len(proc2_logs))\n",
    "# Failed fi-el"
   ]
  },
  {
   "cell_type": "code",
   "execution_count": 17,
   "id": "a3028aa8",
   "metadata": {},
   "outputs": [
    {
     "name": "stdout",
     "output_type": "stream",
     "text": [
      "tasks\\proc2\\europarl\\gpt-4.1-2025-04-14 45\n"
     ]
    }
   ],
   "source": [
    "files = os.listdir(join(proc2, join('europarl', 'gpt-4.1-2025-04-14')))\n",
    "print(join(proc2, join('europarl', 'gpt-4.1-2025-04-14')), len(files))"
   ]
  },
  {
   "cell_type": "markdown",
   "id": "49b946b1",
   "metadata": {},
   "source": [
    "## Procedure 3"
   ]
  }
 ],
 "metadata": {
  "kernelspec": {
   "display_name": "thesis",
   "language": "python",
   "name": "python3"
  },
  "language_info": {
   "codemirror_mode": {
    "name": "ipython",
    "version": 3
   },
   "file_extension": ".py",
   "mimetype": "text/x-python",
   "name": "python",
   "nbconvert_exporter": "python",
   "pygments_lexer": "ipython3",
   "version": "3.12.6"
  }
 },
 "nbformat": 4,
 "nbformat_minor": 5
}
