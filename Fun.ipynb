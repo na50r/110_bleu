{
 "cells": [
  {
   "cell_type": "code",
   "execution_count": 1,
   "id": "0c03e8f1",
   "metadata": {},
   "outputs": [
    {
     "name": "stdout",
     "output_type": "stream",
     "text": [
      "Files for de must be downloaded.\n",
      "OPUS-100 data for de has been stored.\n"
     ]
    }
   ],
   "source": [
    "from scripts.data_management import Opus100Manager\n",
    "from tmp import translate\n",
    "dm = Opus100Manager(split='train')\n",
    "de_sents, en_sents = dm.get_sentence_pairs('de', 'en', num_of_sents=100)\n",
    "\n",
    "for s in de_sents:\n",
    "    mt_sent = translate(src_lang='de', tgt_lang='en', src_text=s)\n",
    "    with open('de-en.txt', 'a') as f:\n",
    "        print(mt_sent, file=f)"
   ]
  },
  {
   "cell_type": "code",
   "execution_count": 2,
   "id": "53882724",
   "metadata": {},
   "outputs": [
    {
     "data": {
      "text/plain": [
       "100"
      ]
     },
     "execution_count": 2,
     "metadata": {},
     "output_type": "execute_result"
    }
   ],
   "source": [
    "with open('de-en.txt', 'r') as f:\n",
    "    mt_sents = [ln.strip() for ln in f]\n",
    "\n",
    "len(mt_sents)"
   ]
  },
  {
   "cell_type": "code",
   "execution_count": 3,
   "id": "0b7fe3c8",
   "metadata": {},
   "outputs": [
    {
     "data": {
      "text/plain": [
       "40.40966946293231"
      ]
     },
     "execution_count": 3,
     "metadata": {},
     "output_type": "execute_result"
    }
   ],
   "source": [
    "from scripts.scoring import compute_bleu\n",
    "compute_bleu(ref=en_sents, hyp=mt_sents)"
   ]
  },
  {
   "cell_type": "code",
   "execution_count": null,
   "id": "35338aa6",
   "metadata": {},
   "outputs": [],
   "source": []
  }
 ],
 "metadata": {
  "kernelspec": {
   "display_name": "Python 3",
   "language": "python",
   "name": "python3"
  },
  "language_info": {
   "codemirror_mode": {
    "name": "ipython",
    "version": 3
   },
   "file_extension": ".py",
   "mimetype": "text/x-python",
   "name": "python",
   "nbconvert_exporter": "python",
   "pygments_lexer": "ipython3",
   "version": "3.12.6"
  }
 },
 "nbformat": 4,
 "nbformat_minor": 5
}
