{
 "cells": [
  {
   "cell_type": "markdown",
   "id": "520a52b6",
   "metadata": {},
   "source": [
    "# Alignments\n",
    "* Some alignments were done externally on Google Colab using `align_sents` from `script/post_processing.py`, it uses our `bertalign` fork\n",
    "* A 'triplet' in this project refers to JSONL files in format \n",
    "```\n",
    "{\"mt\":\"Hello World!\" \"ref\":\"Hello World!\", \"src\":\"Hallo Welt!\"}\n",
    "```\n",
    "* Alignment refers to using bertalign to align two texts together, in this case, we always align source texts with either referece text or machine translation.\n",
    "* We create triplets by using source text as key to join it together with reference and translation\n",
    "* **Direct Triplets**: We assume that translations preserved alignments and create tripets directly.\n",
    "* **Aligned Triplets without sentence splitting**: bertalign was used to align source to machine translation with `is_split=True`, which means the whole string is embedded into a vector for cosine similarity and bertalign tries to align these strings. So we will never have more than 400 aligned strings\n",
    "* **Aligned Triplets WITH sentence splitting**: `is_split=False` will make bertalign use Sentence Splitting, can potentially create more than 400 aligned sentences, since not each string consists of a single sentence. \n",
    "    * Example: FLORES+ is English texts translated into other languages. 400 English sentences correspond to around 431 German or French sentences, which means we have one-to-many alignments. If we thus try to align German to French or vice versa, we obtain 431 sentences with Sentence Splitting enabled."
   ]
  },
  {
   "cell_type": "code",
   "execution_count": 1,
   "id": "798a8f18",
   "metadata": {},
   "outputs": [],
   "source": [
    "import logging\n",
    "logging.getLogger().setLevel(logging.WARNING)"
   ]
  },
  {
   "cell_type": "markdown",
   "id": "2c1653ab",
   "metadata": {},
   "source": [
    "## Direct Triplets"
   ]
  },
  {
   "cell_type": "code",
   "execution_count": 2,
   "id": "47e85ae8",
   "metadata": {},
   "outputs": [],
   "source": [
    "from scripts.data_management import EuroParlManager, FloresPlusManager, Opus100Manager\n",
    "parts = {\n",
    "    'opus': {'dm': Opus100Manager(), 'pairs': Opus100Manager.get_pairs()},\n",
    "    'ep': {'dm': EuroParlManager(), 'pairs': EuroParlManager.get_pairs()},\n",
    "    'flores': {'dm': FloresPlusManager(), 'pairs': FloresPlusManager.get_pairs()}\n",
    "}\n",
    "translators = ['gpt', 'deepl']"
   ]
  },
  {
   "cell_type": "code",
   "execution_count": 3,
   "id": "6f5d27c4",
   "metadata": {},
   "outputs": [],
   "source": [
    "from scripts.post_process import direct_triplet_align, load_sents_from_file\n",
    "fn2align_cnt_direct = {}\n",
    "for dataset, content in parts.items():\n",
    "    dm = content['dm']\n",
    "    pairs = content['pairs']\n",
    "    for pair in pairs:\n",
    "        s, t = pair\n",
    "        for translator in translators:\n",
    "            filename = f'{dataset}-{translator}-{s}-{t}'\n",
    "            mt_sents = load_sents_from_file(\n",
    "                folder='translations', filename=filename)\n",
    "            src_sents, tgt_sents = dm.get_sentence_pairs(\n",
    "                s, t, num_of_sents=400)\n",
    "            cnt = direct_triplet_align(\n",
    "                mt_sents=mt_sents,\n",
    "                src_sents=src_sents,\n",
    "                ref_sents=tgt_sents,\n",
    "                folder_path='direct_triplets',\n",
    "                filename=filename\n",
    "            )\n",
    "            fn2align_cnt_direct[filename] = cnt"
   ]
  },
  {
   "cell_type": "code",
   "execution_count": 4,
   "id": "fb1da971",
   "metadata": {},
   "outputs": [
    {
     "name": "stdout",
     "output_type": "stream",
     "text": [
      "372 1\n",
      "398 1\n",
      "399 20\n",
      "400 458\n"
     ]
    }
   ],
   "source": [
    "from collections import defaultdict\n",
    "cnt_freq = defaultdict(int)\n",
    "for k, v in fn2align_cnt_direct.items():\n",
    "    cnt_freq[v] +=1\n",
    "\n",
    "for k in sorted(cnt_freq):\n",
    "    print(k, cnt_freq[k])"
   ]
  },
  {
   "cell_type": "markdown",
   "id": "910b4925",
   "metadata": {},
   "source": [
    "* Direct alignment only removes empty strings if there are any\n",
    "* Most of the time, we have 400 aligned triplets"
   ]
  },
  {
   "cell_type": "markdown",
   "id": "7d4ce48e",
   "metadata": {},
   "source": [
    "## Aligned Triplets WITHOUT Sentence Splitting\n",
    "* Alignments were computed in this notebook: [Alignments_No_Sent_Split.ipynb](https://colab.research.google.com/drive/1867NBRM7ixgiVmeznqRf4oh9nYDd4D5S?usp=sharing)"
   ]
  },
  {
   "cell_type": "code",
   "execution_count": 5,
   "id": "3b2a302f",
   "metadata": {},
   "outputs": [],
   "source": [
    "from scripts.post_process import post_triplet_align, load_aligned_sents_from_file\n",
    "import os\n",
    "src2hyp_split_fo = 'source2translations_no_sent_split'\n",
    "filenames = [f.replace('.jsonl', '') for f in os.listdir(src2hyp_split_fo)]"
   ]
  },
  {
   "cell_type": "code",
   "execution_count": 6,
   "id": "31d10b2b",
   "metadata": {},
   "outputs": [
    {
     "name": "stdout",
     "output_type": "stream",
     "text": [
      "ep-gpt\n",
      "min: 383\n",
      "max: 398\n",
      "mean: 396.31\n",
      "\n",
      "ep-deepl\n",
      "min: 369\n",
      "max: 398\n",
      "mean: 395.77\n",
      "\n",
      "flores-gpt\n",
      "min: 394\n",
      "max: 400\n",
      "mean: 398.83\n",
      "\n",
      "flores-deepl\n",
      "min: 394\n",
      "max: 400\n",
      "mean: 398.79\n",
      "\n",
      "opus-gpt\n",
      "min: 372\n",
      "max: 400\n",
      "mean: 397.85\n",
      "\n",
      "opus-deepl\n",
      "min: 395\n",
      "max: 400\n",
      "mean: 398.70\n",
      "\n"
     ]
    }
   ],
   "source": [
    "from scripts.data_management import EuroParlManager, FloresPlusManager, Opus100Manager\n",
    "\n",
    "dms = {\n",
    "    'ep': EuroParlManager(),\n",
    "    'flores': FloresPlusManager(),\n",
    "    'opus': Opus100Manager()\n",
    "}\n",
    "\n",
    "fn2align_cnt_no_sent_split = {}\n",
    "fn2discard_no_sent_split = {}\n",
    "cases = ['ep-gpt', 'ep-deepl', 'flores-gpt',\n",
    "         'flores-deepl', 'opus-gpt', 'opus-deepl']\n",
    "case2align_cnts_no_sent_split = {c: [] for c in cases}\n",
    "\n",
    "for fn in filenames:\n",
    "    dataset, translator, s, t = fn.split('-')\n",
    "    src_sents_a, mt_sents_a = load_aligned_sents_from_file(\n",
    "        fn, folder=src2hyp_split_fo)\n",
    "    dm = dms[dataset]\n",
    "    src_sents_o, ref_sents_o = dm.get_sentence_pairs(s, t, num_of_sents=400)\n",
    "    align_cnt, dis = post_triplet_align(\n",
    "        src_sents_org=src_sents_o,\n",
    "        src_sents_ali=src_sents_a,\n",
    "        ref_sents_org=ref_sents_o,\n",
    "        mt_sents_ali=mt_sents_a,\n",
    "        folder_path='aligned_triplets_no_sent_split',\n",
    "        filename=fn)\n",
    "\n",
    "    fn2align_cnt_no_sent_split[fn] = align_cnt\n",
    "    fn2discard_no_sent_split[fn] = dis\n",
    "    case2align_cnts_no_sent_split[f'{dataset}-{translator}'].append(align_cnt)\n",
    "\n",
    "\n",
    "for t, ac in case2align_cnts_no_sent_split.items():\n",
    "    max_cnt = max(ac)\n",
    "    min_cnt = min(ac)\n",
    "    mean = sum(ac) / len(ac)\n",
    "    print(t)\n",
    "    print(f'min: {min_cnt}')\n",
    "    print(f'max: {max_cnt}')\n",
    "    print(f'mean: {mean:.2f}')\n",
    "    print()"
   ]
  },
  {
   "cell_type": "code",
   "execution_count": 7,
   "metadata": {},
   "outputs": [
    {
     "name": "stdout",
     "output_type": "stream",
     "text": [
      "369 1\n",
      "372 1\n",
      "383 2\n",
      "384 1\n",
      "391 1\n",
      "392 2\n",
      "393 8\n",
      "394 13\n",
      "395 38\n",
      "396 37\n",
      "397 144\n",
      "398 66\n",
      "399 32\n",
      "400 134\n"
     ]
    }
   ],
   "source": [
    "from collections import defaultdict\n",
    "cnt_freq = defaultdict(int)\n",
    "for k, v in fn2align_cnt_no_sent_split.items():\n",
    "    cnt_freq[v] += 1\n",
    "\n",
    "for k in sorted(cnt_freq):\n",
    "    print(k, cnt_freq[k])"
   ]
  },
  {
   "cell_type": "markdown",
   "id": "a833e1a9",
   "metadata": {},
   "source": [
    "* If we apply `bertalign` without sentence splitting to all translations, in some cases we lose more sentences than others."
   ]
  },
  {
   "cell_type": "code",
   "execution_count": 8,
   "id": "bc9d44d3",
   "metadata": {},
   "outputs": [
    {
     "name": "stdout",
     "output_type": "stream",
     "text": [
      "400\n"
     ]
    }
   ],
   "source": [
    "!cat translations/ep-deepl-sv-de.txt | wc -l"
   ]
  },
  {
   "cell_type": "code",
   "execution_count": 9,
   "id": "776c482b",
   "metadata": {},
   "outputs": [
    {
     "name": "stdout",
     "output_type": "stream",
     "text": [
      "391\n"
     ]
    }
   ],
   "source": [
    "!cat source2translations_no_sent_split/ep-deepl-sv-de.jsonl | wc -l"
   ]
  },
  {
   "cell_type": "code",
   "execution_count": 10,
   "id": "e4088bea",
   "metadata": {},
   "outputs": [
    {
     "name": "stdout",
     "output_type": "stream",
     "text": [
      "369\n"
     ]
    }
   ],
   "source": [
    "!cat aligned_triplets_no_sent_split/ep-deepl-sv-de.jsonl | wc -l"
   ]
  },
  {
   "cell_type": "markdown",
   "id": "b085814d",
   "metadata": {},
   "source": [
    "* The 'biggest' loss is 391-369=22 sentences"
   ]
  },
  {
   "cell_type": "code",
   "execution_count": 11,
   "id": "46644a77",
   "metadata": {},
   "outputs": [
    {
     "data": {
      "text/plain": [
       "['Vi skall rösta om begäran från PPE-DE-gruppen som syftar till att stryka den muntliga frågan om kapitalskatt från föredragningslistan.',\n",
       " '(Parlamentet avslog begäran med 164 röster för, 166 emot. 7 ledamöter avstod från att rösta.)',\n",
       " 'Fru talman! Jag skulle vilja tacka Poettering för att han just gjort reklam för denna debatt.',\n",
       " 'Tack.',\n",
       " 'Fru talman!',\n",
       " 'Jag undrar om även min röst har räknats, trots att den inte kunde avges på elektronisk väg, eftersom jag inte har något kort?']"
      ]
     },
     "execution_count": 11,
     "metadata": {},
     "output_type": "execute_result"
    }
   ],
   "source": [
    "from scripts.data_management import EuroParlManager\n",
    "from scripts.post_process import load_aligned_sents_from_file, load_sents_from_file\n",
    "mt_sents = load_sents_from_file('ep-deepl-sv-de', 'translations')\n",
    "dm = EuroParlManager()\n",
    "src_sents, tgt_sents = dm.get_sentence_pairs('sv', 'de', num_of_sents=400)\n",
    "src_sents[100:106]"
   ]
  },
  {
   "cell_type": "code",
   "execution_count": 12,
   "id": "ff42ef89",
   "metadata": {},
   "outputs": [
    {
     "data": {
      "text/plain": [
       "['Wir stimmen jetzt über den Antrag der PPE/DE-Fraktion ab, die mündliche Anfrage über die Kapitalsteuer von der Tagesordnung abzusetzen.',\n",
       " '(Das Parlament lehnt den Antrag mit 164 Ja-Stimmen, 166 Nein-Stimmen und 7 Enthaltungen ab.)',\n",
       " 'Frau Präsidentin, ich möchte Herrn Poettering für das Rühren der Werbetrommel zugunsten dieser Aussprache danken.',\n",
       " 'Vielen Dank.',\n",
       " 'Frau Präsidentin!',\n",
       " 'Ist meine Stimme mitgezählt worden? Ich konnte sie nämlich nicht elektronisch abgeben, weil ich die Karte nicht habe.']"
      ]
     },
     "execution_count": 12,
     "metadata": {},
     "output_type": "execute_result"
    }
   ],
   "source": [
    "tgt_sents[100:106]"
   ]
  },
  {
   "cell_type": "code",
   "execution_count": 13,
   "id": "bcbda2f0",
   "metadata": {},
   "outputs": [
    {
     "data": {
      "text/plain": [
       "['Wir werden über den Antrag der Fraktion der Europäischen Volkspartei (Christdemokraten) und europäischer Demokraten abstimmen, die mündliche Anfrage zur Gesellschaftssteuer von der Tagesordnung abzusetzen.',\n",
       " '(Das Parlament lehnt den Antrag mit 164 gegen 166 Stimmen ab. 7 Abgeordnete enthalten sich der Stimme).',\n",
       " 'Frau Präsidentin, ich möchte Herrn Poettering dafür danken, dass er diese Aussprache soeben angekündigt hat.',\n",
       " 'Vielen Dank, Herr Pöttering.',\n",
       " 'Frau Präsidentin, ich möchte Folgendes fragen',\n",
       " 'Ich frage mich, ob meine Stimme auch gezählt worden ist, obwohl sie nicht elektronisch abgegeben werden konnte, weil ich keine Karte habe?']"
      ]
     },
     "execution_count": 13,
     "metadata": {},
     "output_type": "execute_result"
    }
   ],
   "source": [
    "mt_sents[100:106]"
   ]
  },
  {
   "cell_type": "markdown",
   "id": "670967cb",
   "metadata": {},
   "source": [
    "* The direct alignment for this specific instance is correct, however, we already observe a slight mistake in translation."
   ]
  },
  {
   "cell_type": "code",
   "execution_count": 14,
   "id": "80a19573",
   "metadata": {},
   "outputs": [
    {
     "data": {
      "text/plain": [
       "['(Parlamentet avslog begäran med 164 röster för, 166 emot. 7 ledamöter avstod från att rösta.)',\n",
       " 'Fru talman! Jag skulle vilja tacka Poettering för att han just gjort reklam för denna debatt.',\n",
       " '',\n",
       " 'Tack. Fru talman!',\n",
       " 'Jag undrar om även min röst har räknats, trots att den inte kunde avges på elektronisk väg, eftersom jag inte har något kort?',\n",
       " 'Jag röstade \"för\".',\n",
       " 'Om man lägger till de två kolleger som yttrat sig blir resultatet...']"
      ]
     },
     "execution_count": 14,
     "metadata": {},
     "output_type": "execute_result"
    }
   ],
   "source": [
    "src_sents_ali, mt_sents_ali = load_aligned_sents_from_file('ep-deepl-sv-de', 'source2translations_no_sent_split')\n",
    "src_sents_ali[100:107]"
   ]
  },
  {
   "cell_type": "code",
   "execution_count": 15,
   "id": "c2a32799",
   "metadata": {},
   "outputs": [
    {
     "data": {
      "text/plain": [
       "['(Das Parlament lehnt den Antrag mit 164 gegen 166 Stimmen ab. 7 Abgeordnete enthalten sich der Stimme).',\n",
       " 'Frau Präsidentin, ich möchte Herrn Poettering dafür danken, dass er diese Aussprache soeben angekündigt hat.',\n",
       " 'Vielen Dank, Herr Pöttering.',\n",
       " 'Frau Präsidentin, ich möchte Folgendes fragen',\n",
       " 'Ich frage mich, ob meine Stimme auch gezählt worden ist, obwohl sie nicht elektronisch abgegeben werden konnte, weil ich keine Karte habe?',\n",
       " 'Ich habe mit \"Ja\" gestimmt.',\n",
       " 'Wenn Sie die beiden Kollegen, die sich zu Wort gemeldet haben, hinzuzählen, lautet das Ergebnis...']"
      ]
     },
     "execution_count": 15,
     "metadata": {},
     "output_type": "execute_result"
    }
   ],
   "source": [
    "mt_sents_ali[100:107]"
   ]
  },
  {
   "cell_type": "markdown",
   "id": "56f903ed",
   "metadata": {},
   "source": [
    "* Alignment with `bertalign` works but is dependent on the translation. It merged the source sentences together to get a 2-1 alignment with:\n",
    "```\n",
    "'Tack. Fru talman!' <->  'Vielen Dank, Herr Pöttering.',\n",
    "```\n",
    "* As a consequence, we see an empty string in the aligned source sentences\n",
    "* Furthermore, since the original source sentences do not contain the string `'Tack. Fru talman!'`, it will be discarded, as triplet alignments are created by matching the sentences from the original source strings to the aligned source strings.\n"
   ]
  },
  {
   "cell_type": "markdown",
   "id": "cd910447",
   "metadata": {},
   "source": [
    "## Aligned Triplets WITH Sentences Splitting\n",
    "* The alignments were computed in this notebook: [Alignments.ipynb](https://colab.research.google.com/drive/1xlwQPctsOGjZB2NpB9WNtzWPae_Oj4gt?usp=sharing)\n",
    "* Note: To make alignments with sentence splitting, we had to align source to reference AND source to translation, whereas before only source to translation was enough, as we could use the alignments provided by the respective datasets directly. "
   ]
  },
  {
   "cell_type": "code",
   "execution_count": 16,
   "id": "6320b710",
   "metadata": {},
   "outputs": [],
   "source": [
    "from scripts.post_process import post_triplet_align, load_aligned_sents_from_file\n",
    "import os\n",
    "src2hyp_split_fo = 'source2translations_sent_split'\n",
    "filenames = [f.replace('.jsonl', '') for f in os.listdir(src2hyp_split_fo)]"
   ]
  },
  {
   "cell_type": "code",
   "execution_count": 17,
   "id": "c1630545",
   "metadata": {},
   "outputs": [
    {
     "name": "stdout",
     "output_type": "stream",
     "text": [
      "ep-gpt\n",
      "min: 329\n",
      "max: 396\n",
      "mean: 374.74\n",
      "\n",
      "ep-deepl\n",
      "min: 328\n",
      "max: 395\n",
      "mean: 377.38\n",
      "\n",
      "flores-gpt\n",
      "min: 390\n",
      "max: 428\n",
      "mean: 417.58\n",
      "\n",
      "flores-deepl\n",
      "min: 390\n",
      "max: 428\n",
      "mean: 417.23\n",
      "\n",
      "opus-gpt\n",
      "min: 361\n",
      "max: 399\n",
      "mean: 382.95\n",
      "\n",
      "opus-deepl\n",
      "min: 361\n",
      "max: 398\n",
      "mean: 383.85\n",
      "\n"
     ]
    }
   ],
   "source": [
    "fn2align_cnt_sent_split = {}\n",
    "fn2discard_sent_split = {}\n",
    "cases = ['ep-gpt', 'ep-deepl', 'flores-gpt',\n",
    "         'flores-deepl', 'opus-gpt', 'opus-deepl']\n",
    "case2align_cnts_sent_split = {c: [] for c in cases}\n",
    "\n",
    "for fn in filenames:\n",
    "    dataset, translator, s, t = fn.split('-')\n",
    "    src_sents_a, mt_sents_a = load_aligned_sents_from_file(\n",
    "        fn, folder=src2hyp_split_fo)\n",
    "    src_sents_o, ref_sents_o = load_aligned_sents_from_file(\n",
    "        f'{dataset}-{s}-{t}', folder='source2reference_sent_split')\n",
    "    align_cnt, dis = post_triplet_align(\n",
    "        src_sents_org=src_sents_o,\n",
    "        src_sents_ali=src_sents_a,\n",
    "        ref_sents_org=ref_sents_o,\n",
    "        mt_sents_ali=mt_sents_a,\n",
    "        folder_path='aligned_triplets_sent_split',\n",
    "        filename=fn)\n",
    "\n",
    "    fn2align_cnt_sent_split[fn] = align_cnt\n",
    "    fn2discard_sent_split[fn] = dis\n",
    "    case2align_cnts_sent_split[f'{dataset}-{translator}'].append(align_cnt)\n",
    "    \n",
    "for t, ac in case2align_cnts_sent_split.items():\n",
    "    max_cnt = max(ac)\n",
    "    min_cnt = min(ac)\n",
    "    mean = sum(ac) / len(ac)\n",
    "    print(t)\n",
    "    print(f'min: {min_cnt}')\n",
    "    print(f'max: {max_cnt}')\n",
    "    print(f'mean: {mean:.2f}')\n",
    "    print()"
   ]
  },
  {
   "cell_type": "code",
   "execution_count": 18,
   "id": "a9c65ec1",
   "metadata": {},
   "outputs": [
    {
     "name": "stdout",
     "output_type": "stream",
     "text": [
      "328 1\n",
      "329 1\n",
      "333 2\n",
      "334 1\n",
      "335 1\n",
      "336 1\n",
      "338 3\n",
      "339 5\n",
      "342 2\n",
      "343 2\n",
      "344 2\n",
      "345 1\n",
      "347 1\n",
      "348 2\n",
      "349 1\n",
      "351 2\n",
      "356 1\n",
      "357 1\n",
      "360 2\n",
      "361 4\n",
      "362 2\n",
      "363 1\n",
      "364 2\n",
      "365 1\n",
      "366 6\n",
      "367 2\n",
      "368 3\n",
      "369 4\n",
      "370 3\n",
      "371 1\n",
      "372 5\n",
      "373 2\n",
      "374 5\n",
      "375 5\n",
      "376 4\n",
      "377 11\n",
      "378 14\n",
      "379 7\n",
      "380 7\n",
      "381 7\n",
      "382 7\n",
      "383 12\n",
      "384 13\n",
      "385 4\n",
      "386 18\n",
      "387 8\n",
      "388 12\n",
      "389 11\n",
      "390 16\n",
      "391 13\n",
      "392 6\n",
      "393 4\n",
      "394 7\n",
      "395 3\n",
      "396 3\n",
      "397 3\n",
      "398 4\n",
      "399 2\n",
      "400 2\n",
      "401 1\n",
      "403 4\n",
      "404 1\n",
      "405 3\n",
      "406 4\n",
      "407 1\n",
      "408 2\n",
      "409 2\n",
      "410 1\n",
      "411 6\n",
      "412 7\n",
      "413 8\n",
      "414 4\n",
      "415 5\n",
      "416 3\n",
      "417 6\n",
      "418 10\n",
      "419 13\n",
      "420 14\n",
      "421 20\n",
      "422 13\n",
      "423 30\n",
      "424 20\n",
      "425 10\n",
      "426 8\n",
      "427 5\n",
      "428 3\n"
     ]
    }
   ],
   "source": [
    "from collections import defaultdict\n",
    "cnt_freq = defaultdict(int)\n",
    "for k, v in fn2align_cnt_sent_split.items():\n",
    "    cnt_freq[v] += 1\n",
    "\n",
    "for k in sorted(cnt_freq):\n",
    "    print(k, cnt_freq[k])"
   ]
  },
  {
   "cell_type": "markdown",
   "id": "cee9fee1",
   "metadata": {},
   "source": [
    "## Scoring"
   ]
  },
  {
   "cell_type": "code",
   "execution_count": 19,
   "id": "f440d633",
   "metadata": {},
   "outputs": [],
   "source": [
    "from scripts.scoring import ResultProducer\n",
    "import os\n",
    "from os.path import join\n",
    "\n",
    "result_types = {'direct_results':'direct_triplets', \n",
    "                'aligned_results_no_sent_split': 'aligned_triplets_no_sent_split',\n",
    "                'aligned_results_sent_split': 'aligned_triplets_sent_split'}\n",
    "\n",
    "for rt in result_types:\n",
    "    files = os.listdir(result_types[rt])\n",
    "    os.makedirs(rt, exist_ok=True)\n",
    "\n",
    "    cases = ['ep-gpt', 'ep-deepl', 'flores-gpt',\n",
    "            'flores-deepl', 'opus-gpt', 'opus-deepl']\n",
    "\n",
    "    for case in cases:\n",
    "        l2f = {f.replace(f'{case}-', '').replace('.jsonl', ''): join(result_types[rt], f) for f in files if f.startswith(case)}\n",
    "        rp = ResultProducer(label2files=l2f)\n",
    "        rp.compute_results()\n",
    "        rp.store_results(join(rt, f'{case}.csv'))"
   ]
  },
  {
   "cell_type": "markdown",
   "id": "8676d25e",
   "metadata": {},
   "source": [
    "## Comparing Critical Cases\n",
    "* Alignment has an impact on scores\n",
    "* This impact can be either attributed to the alignment itself or to the loss of sentences during alignment process."
   ]
  },
  {
   "cell_type": "code",
   "execution_count": 20,
   "id": "a6eef492",
   "metadata": {},
   "outputs": [
    {
     "name": "stdout",
     "output_type": "stream",
     "text": [
      "ep-gpt\n"
     ]
    },
    {
     "data": {
      "image/png": "[encoded data removed]",
      "text/plain": [
       "<Figure size 640x480 with 2 Axes>"
      ]
     },
     "metadata": {},
     "output_type": "display_data"
    },
    {
     "name": "stdout",
     "output_type": "stream",
     "text": [
      "\n"
     ]
    }
   ],
   "source": [
    "from scripts.presentation import Presenter\n",
    "p1 = Presenter(results_folder='aligned_results_no_sent_split')\n",
    "p1.show_score_matrices(foucus=['ep-gpt'])"
   ]
  },
  {
   "cell_type": "code",
   "execution_count": 21,
   "id": "b0e87fa0",
   "metadata": {},
   "outputs": [
    {
     "name": "stdout",
     "output_type": "stream",
     "text": [
      "ep-gpt\n"
     ]
    },
    {
     "data": {
      "image/png": "[encoded data removed]",
      "text/plain": [
       "<Figure size 640x480 with 2 Axes>"
      ]
     },
     "metadata": {},
     "output_type": "display_data"
    },
    {
     "name": "stdout",
     "output_type": "stream",
     "text": [
      "\n"
     ]
    }
   ],
   "source": [
    "p2 = Presenter(results_folder='aligned_results_sent_split')\n",
    "p2.show_score_matrices(foucus=['ep-gpt'])"
   ]
  },
  {
   "cell_type": "markdown",
   "id": "9cb49c92",
   "metadata": {},
   "source": [
    "### Difference between Alignments WITH and WITHOUT Sent Splits"
   ]
  },
  {
   "cell_type": "code",
   "execution_count": null,
   "id": "2e76e967",
   "metadata": {},
   "outputs": [
    {
     "name": "stdout",
     "output_type": "stream",
     "text": [
      "ep-deepl\n",
      "Largest Positive Differences (Sent Splits made things worse)\n",
      "da-es: 0.9 (395->383)\n",
      "fr-fi: 0.4 (397->390)\n",
      "fi-es: 0.3 (395->388)\n",
      "Largest Negative Differences (Sent Splits made things better)\n",
      "nl-fi: -2.5 (397->345)\n",
      "nl-da: -2.5 (397->343)\n",
      "nl-sv: -2.2 (395->333)\n",
      "nl-en: -2.2 (397->339)\n",
      "nl-pt: -2.1 (396->336)\n",
      "nl-es: -2.0 (397->338)\n",
      "nl-fr: -2.0 (397->339)\n",
      "nl-de: -1.9 (397->342)\n",
      "nl-it: -1.5 (397->328)\n",
      "nl-el: -1.4 (397->339)\n",
      "\n",
      "ep-gpt\n",
      "Largest Positive Differences (Sent Splits made things worse)\n",
      "sv-fr: 0.5 (395->351)\n",
      "fr-fi: 0.4 (397->390)\n",
      "fi-en: 0.3 (397->383)\n",
      "Largest Negative Differences (Sent Splits made things better)\n",
      "nl-es: -2.4 (397->338)\n",
      "nl-sv: -2.4 (395->333)\n",
      "nl-da: -2.4 (397->343)\n",
      "nl-en: -2.2 (397->339)\n",
      "nl-fr: -2.0 (397->338)\n",
      "nl-it: -1.6 (397->329)\n",
      "nl-fi: -1.6 (397->344)\n",
      "nl-pt: -1.5 (396->335)\n",
      "nl-el: -1.4 (397->339)\n",
      "nl-de: -1.3 (397->342)\n",
      "\n",
      "flores-deepl\n",
      "Largest Positive Differences (Sent Splits made things worse)\n",
      "sv-fi: 0.4 (397->423)\n",
      "da-fi: 0.2 (394->428)\n",
      "da-sv: 0.2 (394->418)\n",
      "Largest Negative Differences (Sent Splits made things better)\n",
      "fi-en: -0.7 (400->406)\n",
      "de-fr: -0.6 (399->412)\n",
      "fi-pt: -0.5 (400->403)\n",
      "de-en: -0.5 (399->411)\n",
      "da-fr: -0.4 (396->420)\n",
      "nl-fi: -0.4 (399->406)\n",
      "nl-pt: -0.4 (400->397)\n",
      "de-sv: -0.4 (399->412)\n",
      "de-fi: -0.4 (399->421)\n",
      "fi-el: -0.3 (398->398)\n",
      "\n",
      "flores-gpt\n",
      "Largest Positive Differences (Sent Splits made things worse)\n",
      "sv-fi: 0.3 (397->424)\n",
      "sv-de: 0.3 (397->425)\n",
      "nl-de: 0.3 (400->403)\n",
      "Largest Negative Differences (Sent Splits made things better)\n",
      "de-fr: -0.6 (399->412)\n",
      "fi-en: -0.6 (400->408)\n",
      "nl-fi: -0.5 (400->409)\n",
      "fi-pt: -0.4 (400->408)\n",
      "de-fi: -0.4 (399->421)\n",
      "fi-fr: -0.3 (398->409)\n",
      "it-en: -0.3 (400->423)\n",
      "da-fr: -0.3 (396->420)\n",
      "de-el: -0.3 (399->413)\n",
      "nl-pt: -0.3 (400->398)\n",
      "\n",
      "opus-deepl\n",
      "Largest Positive Differences (Sent Splits made things worse)\n",
      "it-en: -0.2 (400->395)\n",
      "fr-en: -0.8 (400->397)\n",
      "en-fr: -0.9 (399->390)\n",
      "Largest Negative Differences (Sent Splits made things better)\n",
      "en-sv: -3.4 (400->362)\n",
      "fi-en: -2.4 (395->374)\n",
      "sv-en: -2.2 (398->381)\n",
      "en-da: -1.7 (399->382)\n",
      "en-nl: -1.7 (400->381)\n",
      "en-el: -1.7 (396->372)\n",
      "es-en: -1.7 (400->393)\n",
      "en-es: -1.6 (400->394)\n",
      "en-pt: -1.5 (399->382)\n",
      "en-it: -1.5 (400->383)\n",
      "\n",
      "opus-gpt\n",
      "Largest Positive Differences (Sent Splits made things worse)\n",
      "it-en: -0.2 (400->395)\n",
      "en-de: -0.6 (400->399)\n",
      "fr-en: -0.8 (400->397)\n",
      "Largest Negative Differences (Sent Splits made things better)\n",
      "fi-en: -2.4 (400->377)\n",
      "en-sv: -2.4 (400->364)\n",
      "sv-en: -1.9 (400->380)\n",
      "en-nl: -1.8 (400->379)\n",
      "de-en: -1.7 (372->368)\n",
      "da-en: -1.6 (399->384)\n",
      "en-el: -1.6 (395->373)\n",
      "en-pt: -1.5 (399->380)\n",
      "en-da: -1.5 (399->384)\n",
      "el-en: -1.5 (397->380)\n",
      "\n"
     ]
    }
   ],
   "source": [
    "for x in p1.cases:\n",
    "        df1 = p1.cases[x]['BLEU']\n",
    "        df2 = p2.cases[x]['BLEU']\n",
    "        \n",
    "        diff = df1 - df2 \n",
    "        print(x)\n",
    "        diff_mean = diff.values.mean()\n",
    "        \n",
    "        diff_flat = diff.stack()\n",
    "        top3_max = diff_flat.nlargest(15)\n",
    "        print('Largest Positive Differences (Sent Splits made things worse)')\n",
    "        for (s, t), score in top3_max.items():\n",
    "            fn = f'{x}-{s}-{t}'\n",
    "            no_sent_split = fn2align_cnt_no_sent_split[fn]\n",
    "            sent_split = fn2align_cnt_sent_split[fn]\n",
    "            print(f'{s}-{t}: {score:.1f} ({no_sent_split}->{sent_split})')\n",
    "            \n",
    "        top3_min = diff_flat.nsmallest(15)\n",
    "        print('Largest Negative Differences (Sent Splits made things better)')\n",
    "        for (s, t), score in top3_min.items():\n",
    "            fn = f'{x}-{s}-{t}'\n",
    "            no_sent_split = fn2align_cnt_no_sent_split[fn]\n",
    "            sent_split = fn2align_cnt_sent_split[fn]\n",
    "            print(f'{s}-{t}: {score:.1f} ({no_sent_split}->{sent_split})')\n",
    "        print()\n"
   ]
  },
  {
   "cell_type": "markdown",
   "id": "cdb29aca",
   "metadata": {},
   "source": [
    "* In this case, Negative Differences refer to the case where Alignment WITH Sentence Splitting yielded higher BLEU scores than WITHOUT\n",
    "* However, we can see based on alignment counts, that it may be not related to alignment but due to the fact that it works with less sentences overall.\n",
    "* Additionally, the highest difference we observe is -2.5, not too tragic."
   ]
  },
  {
   "cell_type": "markdown",
   "id": "8f803a26",
   "metadata": {},
   "source": [
    "### Difference between Direct and Alignment WITHOUT Sent Splits\n",
    "* 'Direct' means we just align directly based on line positions; assume that translator preserved alignment."
   ]
  },
  {
   "cell_type": "code",
   "execution_count": 23,
   "id": "23cb5fca",
   "metadata": {},
   "outputs": [],
   "source": [
    "from scripts.presentation import Presenter\n",
    "p3 = Presenter(results_folder='direct_results')"
   ]
  },
  {
   "cell_type": "code",
   "execution_count": 24,
   "id": "15956ced",
   "metadata": {},
   "outputs": [],
   "source": [
    "import json\n",
    "\n",
    "mismatches = {}\n",
    "\n",
    "with open(join('translations', 'info.json'), 'r') as f:\n",
    "    prefix2file = json.load(f)\n",
    "    \n",
    "for prefix, info in prefix2file.items():\n",
    "    dataset, translator, s, t = prefix.split('-')\n",
    "    key = f'{dataset}-{translator}'\n",
    "    outlines = info['log']['out_lines']\n",
    "    if outlines != 400:\n",
    "        mismatches[prefix] = outlines"
   ]
  },
  {
   "cell_type": "code",
   "execution_count": null,
   "id": "2b2f308c",
   "metadata": {},
   "outputs": [
    {
     "name": "stdout",
     "output_type": "stream",
     "text": [
      "ep-deepl\n",
      "Largest Positive Differences (Alignment made things worse)\n",
      "da-fi: 0.2 (400->395) \n",
      "sv-es: 0.2 (400->393) \n",
      "nl-sv: 0.1 (400->395) \n",
      "Largest Negative Differences (Alignment made things better)\n",
      "da-el: -0.1 (400->395) \n",
      "sv-de: -0.0 (400->369) \n",
      "de-it: -0.0 (400->395) \n",
      "sv-fi: -0.0 (400->393) \n",
      "es-el: -0.0 (400->396) \n",
      "fr-el: 0.0 (400->396) \n",
      "es-it: 0.0 (400->397) \n",
      "en-el: 0.0 (400->397) \n",
      "nl-el: 0.0 (400->397) \n",
      "el-en: 0.0 (400->397) \n",
      "el-it: 0.0 (400->398) \n",
      "fi-el: 0.0 (400->397) \n",
      "it-el: 0.0 (400->398) \n",
      "es-en: 0.0 (400->396) \n",
      "de-el: 0.0 (400->397) \n",
      "\n",
      "ep-gpt\n",
      "Largest Positive Differences (Alignment made things worse)\n",
      "fr-nl: 0.1 (400->395) \n",
      "sv-de: 0.1 (400->383) \n",
      "de-sv: 0.1 (400->384) \n",
      "Largest Negative Differences (Alignment made things better)\n",
      "es-en: -34.1 (399->397) 🛠️ (401->397)\n",
      "de-en: -25.1 (398->394) 🛠️ (398->394)\n",
      "de-fi: -15.6 (399->394) 🛠️ (399->394)\n",
      "fi-nl: -15.4 (399->395) 🛠️ (399->395)\n",
      "es-el: -15.0 (399->395) 🛠️ (399->395)\n",
      "fi-it: -14.8 (399->394) 🛠️ (399->394)\n",
      "el-it: -14.3 (399->396) 🛠️ (399->396)\n",
      "en-fi: -13.1 (400->397) 🛠️ (401->397)\n",
      "pt-fi: -12.6 (400->397) 🛠️ (401->397)\n",
      "sv-fi: -12.4 (399->394) 🛠️ (399->394)\n",
      "es-nl: -12.3 (399->395) 🛠️ (399->395)\n",
      "el-nl: -12.2 (399->395) 🛠️ (399->395)\n",
      "da-it: -4.9 (399->396) 🛠️ (399->396)\n",
      "it-fi: -1.9 (399->395) 🛠️ (399->395)\n",
      "sv-en: -0.0 (400->395) \n",
      "\n",
      "flores-deepl\n",
      "Largest Positive Differences (Alignment made things worse)\n",
      "da-fr: 0.1 (400->396) \n",
      "sv-pt: 0.1 (400->397) \n",
      "da-de: 0.1 (400->396) \n",
      "Largest Negative Differences (Alignment made things better)\n",
      "pt-en: -0.3 (400->398) \n",
      "pt-da: -0.2 (400->398) \n",
      "sv-fi: -0.2 (400->397) \n",
      "pt-fr: -0.2 (400->398) \n",
      "da-fi: -0.2 (400->394) \n",
      "pt-nl: -0.2 (400->398) \n",
      "sv-nl: -0.2 (400->397) \n",
      "sv-de: -0.1 (400->397) \n",
      "pt-sv: -0.1 (400->398) \n",
      "pt-es: -0.1 (400->398) \n",
      "pt-el: -0.1 (400->398) \n",
      "da-sv: -0.1 (400->394) \n",
      "sv-el: -0.1 (400->397) \n",
      "pt-de: -0.1 (400->398) \n",
      "da-el: -0.1 (400->396) \n",
      "\n",
      "flores-gpt\n",
      "Largest Positive Differences (Alignment made things worse)\n",
      "da-fr: 0.1 (400->396) \n",
      "de-fr: 0.1 (400->399) \n",
      "sv-pt: 0.1 (400->397) \n",
      "Largest Negative Differences (Alignment made things better)\n",
      "it-fr: -32.7 (399->400) 🛠️ (402->400)\n",
      "fi-pt: -31.7 (399->400) 🛠️ (402->400)\n",
      "fi-da: -29.9 (399->398) 🛠️ (402->398)\n",
      "fi-nl: -24.6 (399->400) 🛠️ (402->400)\n",
      "fi-es: -22.2 (399->400) 🛠️ (402->400)\n",
      "fi-el: -20.9 (399->400) 🛠️ (402->400)\n",
      "es-el: -19.6 (399->400) 🛠️ (402->400)\n",
      "pt-fr: -0.2 (400->398) \n",
      "sv-fi: -0.2 (400->397) \n",
      "sv-de: -0.2 (400->397) \n",
      "pt-en: -0.2 (400->398) \n",
      "da-fi: -0.2 (400->394) \n",
      "sv-en: -0.2 (400->397) \n",
      "sv-da: -0.1 (400->397) \n",
      "pt-nl: -0.1 (400->398) \n",
      "\n",
      "opus-deepl\n",
      "Largest Positive Differences (Alignment made things worse)\n",
      "de-en: 0.0 (400->400) \n",
      "nl-en: 0.0 (400->400) \n",
      "en-sv: 0.0 (400->400) \n",
      "Largest Negative Differences (Alignment made things better)\n",
      "el-en: -0.2 (400->395) \n",
      "fi-en: -0.2 (400->395) \n",
      "en-fi: -0.1 (400->395) \n",
      "en-fr: -0.1 (400->399) \n",
      "da-en: -0.1 (400->399) \n",
      "pt-en: -0.0 (400->399) \n",
      "en-pt: -0.0 (400->399) \n",
      "sv-en: -0.0 (400->398) \n",
      "en-da: -0.0 (400->399) \n",
      "en-el: -0.0 (400->396) \n",
      "de-en: 0.0 (400->400) \n",
      "nl-en: 0.0 (400->400) \n",
      "en-sv: 0.0 (400->400) \n",
      "en-de: 0.0 (400->400) \n",
      "en-nl: 0.0 (400->400) \n",
      "\n",
      "opus-gpt\n",
      "Largest Positive Differences (Alignment made things worse)\n",
      "en-pt: 0.1 (400->399) \n",
      "en-el: 0.1 (400->395) \n",
      "el-en: 0.0 (400->397) \n",
      "Largest Negative Differences (Alignment made things better)\n",
      "pt-en: -37.6 (399->400) 🛠️ (402->400)\n",
      "de-en: -24.3 (372->372) 🛠️ (372->372)\n",
      "en-fi: -0.1 (400->397) \n",
      "en-fr: -0.0 (400->399) \n",
      "da-en: -0.0 (400->399) \n",
      "en-da: -0.0 (400->399) \n",
      "sv-en: 0.0 (400->400) \n",
      "nl-en: 0.0 (400->400) \n",
      "en-sv: 0.0 (400->400) \n",
      "en-de: 0.0 (400->400) \n",
      "en-nl: 0.0 (400->400) \n",
      "en-es: 0.0 (400->400) \n",
      "en-it: 0.0 (400->400) \n",
      "es-en: 0.0 (400->400) \n",
      "fr-en: 0.0 (400->400) \n",
      "\n"
     ]
    }
   ],
   "source": [
    "for x in p1.cases:\n",
    "        df1 = p3.cases[x]['BLEU']\n",
    "        df2 = p1.cases[x]['BLEU']\n",
    "        \n",
    "        diff = df1 - df2 \n",
    "        print(x)\n",
    "        diff_mean = diff.values.mean()\n",
    "        \n",
    "        diff_flat = diff.stack()\n",
    "        top3_max = diff_flat.nlargest(15)\n",
    "        print('Largest Positive Differences (Alignment made things worse)')\n",
    "        for (s, t), score in top3_max.items():\n",
    "            fn = f'{x}-{s}-{t}'\n",
    "            no_sent_split = fn2align_cnt_no_sent_split[fn]\n",
    "            direct = fn2align_cnt_direct[fn]\n",
    "            if fn in mismatches:\n",
    "                mark = f'🛠️ ({mismatches[fn]}->{no_sent_split})'\n",
    "            else:\n",
    "                mark = ''\n",
    "            print(f'{s}-{t}: {score:.1f} ({direct}->{no_sent_split}) {mark}')\n",
    "            \n",
    "        top3_min = diff_flat.nsmallest(15)\n",
    "        print('Largest Negative Differences (Alignment made things better)')\n",
    "        for (s, t), score in top3_min.items():\n",
    "            fn = f'{x}-{s}-{t}'\n",
    "            no_sent_split = fn2align_cnt_no_sent_split[fn]\n",
    "            direct = fn2align_cnt_direct[fn]\n",
    "            if fn in mismatches:\n",
    "                mark = f'🛠️ ({mismatches[fn]}->{no_sent_split})'\n",
    "            else:\n",
    "                mark = ''\n",
    "            print(f'{s}-{t}: {score:.1f} ({direct}->{no_sent_split}) {mark}')\n",
    "        print()"
   ]
  },
  {
   "cell_type": "markdown",
   "id": "92dc8274",
   "metadata": {},
   "source": [
    "* If we compare Alignment WITHOUT Sentence Splitting to direct alignment, resp. no additional alignment, we observe that differences occur mainly where we assumed to a have mismatch anyway. \n",
    "* It is noteworthy that we see things like `399->400`, this occurs because `direct_alignment` excludes triplets where either source, reference or translation are missing. It means that after alignment, there was not anything that was missing because the alignment managed to fix that, the true counts from `translations` are added as well.\n",
    "* It is also noteworthy that the biggest difference in aligned sent cnt, `sv-de: 400->369`,  had no difference in BLEU scores."
   ]
  },
  {
   "cell_type": "markdown",
   "id": "0cf18859",
   "metadata": {},
   "source": [
    "## LaBSE"
   ]
  },
  {
   "cell_type": "markdown",
   "id": "ea010e90",
   "metadata": {},
   "source": [
    "* LaBSE alignments were computed in this notebook: [Alignments_No_Sent_Split_LaBSE.ipynb](https://colab.research.google.com/drive/1ieADAugVQ2nVq0Sqr9a299rsTjs9eMsB?usp=sharing)\n",
    "* LaBSE is computationally more expensive and a bit trickier to use even with Google Colab; has issues with memory occasionally, however, since we used paraphrase-multilingual-MiniLM-L12-v2 for everything, we can now just compare it against LaBSE for the sentences that we plan to align for sure and see if it makes a big difference or not."
   ]
  },
  {
   "cell_type": "code",
   "execution_count": 1,
   "id": "edd6b63b",
   "metadata": {},
   "outputs": [
    {
     "data": {
      "text/plain": [
       "23"
      ]
     },
     "execution_count": 1,
     "metadata": {},
     "output_type": "execute_result"
    }
   ],
   "source": [
    "from scripts.post_process import post_triplet_align, load_aligned_sents_from_file\n",
    "import os\n",
    "src2hyp_split_fo = 'source2translations_no_sent_split_LaBSE'\n",
    "filenames = [f.replace('.jsonl', '') for f in os.listdir(src2hyp_split_fo)]\n",
    "len(filenames)"
   ]
  },
  {
   "cell_type": "code",
   "execution_count": 2,
   "id": "f7463424",
   "metadata": {},
   "outputs": [
    {
     "name": "stdout",
     "output_type": "stream",
     "text": [
      "ep-gpt\n",
      "min: 393\n",
      "max: 397\n",
      "mean: 395.43\n",
      "\n",
      "flores-gpt\n",
      "min: 400\n",
      "max: 400\n",
      "mean: 400.00\n",
      "\n",
      "opus-gpt\n",
      "min: 372\n",
      "max: 400\n",
      "mean: 386.00\n",
      "\n"
     ]
    }
   ],
   "source": [
    "from scripts.data_management import EuroParlManager, FloresPlusManager, Opus100Manager\n",
    "\n",
    "dms = {\n",
    "    'ep': EuroParlManager(),\n",
    "    'flores': FloresPlusManager(),\n",
    "    'opus': Opus100Manager()\n",
    "}\n",
    "\n",
    "fn2align_cnt_no_sent_split_LaBSE = {}\n",
    "fn2discard_no_sent_split_LaBSE = {}\n",
    "cases = ['ep-gpt', 'ep-deepl', 'flores-gpt',\n",
    "         'flores-deepl', 'opus-gpt', 'opus-deepl']\n",
    "case2align_cnts_no_sent_split_LaBSE = {c: [] for c in cases}\n",
    "\n",
    "for fn in filenames:\n",
    "    dataset, translator, s, t = fn.split('-')\n",
    "    src_sents_a, mt_sents_a = load_aligned_sents_from_file(\n",
    "        fn, folder=src2hyp_split_fo)\n",
    "    dm = dms[dataset]\n",
    "    src_sents_o, ref_sents_o = dm.get_sentence_pairs(s, t, num_of_sents=400)\n",
    "    align_cnt, dis = post_triplet_align(\n",
    "        src_sents_org=src_sents_o,\n",
    "        src_sents_ali=src_sents_a,\n",
    "        ref_sents_org=ref_sents_o,\n",
    "        mt_sents_ali=mt_sents_a,\n",
    "        folder_path='aligned_triplets_no_sent_split_LaBSE',\n",
    "        filename=fn)\n",
    "\n",
    "    fn2align_cnt_no_sent_split_LaBSE[fn] = align_cnt\n",
    "    fn2discard_no_sent_split_LaBSE[fn] = dis\n",
    "    case2align_cnts_no_sent_split_LaBSE[f'{dataset}-{translator}'].append(align_cnt)\n",
    "\n",
    "\n",
    "for t, ac in case2align_cnts_no_sent_split_LaBSE.items():\n",
    "    if len(ac) == 0:\n",
    "        continue\n",
    "    max_cnt = max(ac)\n",
    "    min_cnt = min(ac)\n",
    "    mean = sum(ac) / len(ac)\n",
    "    print(t)\n",
    "    print(f'min: {min_cnt}')\n",
    "    print(f'max: {max_cnt}')\n",
    "    print(f'mean: {mean:.2f}')\n",
    "    print()"
   ]
  },
  {
   "cell_type": "code",
   "execution_count": 9,
   "id": "344834ea",
   "metadata": {},
   "outputs": [
    {
     "name": "stdout",
     "output_type": "stream",
     "text": [
      "ep-gpt-da-it\n",
      "BLEU Paraphrase: 24.795\n",
      "BLEU LaBSE: 24.795 \n",
      "Difference: False\n",
      "ep-gpt-de-en\n",
      "BLEU Paraphrase: 32.615\n",
      "BLEU LaBSE: 32.615 \n",
      "Difference: False\n",
      "ep-gpt-de-fi\n",
      "BLEU Paraphrase: 20.383\n",
      "BLEU LaBSE: 20.356 ❌\n",
      "Difference: True\n",
      "ep-gpt-el-it\n",
      "BLEU Paraphrase: 25.872\n",
      "BLEU LaBSE: 25.872 \n",
      "Difference: False\n",
      "ep-gpt-el-nl\n",
      "BLEU Paraphrase: 25.019\n",
      "BLEU LaBSE: 25.032 ❌\n",
      "Difference: True\n",
      "ep-gpt-en-fi\n",
      "BLEU Paraphrase: 18.984\n",
      "BLEU LaBSE: 18.984 \n",
      "Difference: False\n",
      "ep-gpt-es-el\n",
      "BLEU Paraphrase: 30.407\n",
      "BLEU LaBSE: 30.407 \n",
      "Difference: False\n",
      "ep-gpt-es-en\n",
      "BLEU Paraphrase: 36.493\n",
      "BLEU LaBSE: 36.493 \n",
      "Difference: False\n",
      "ep-gpt-es-nl\n",
      "BLEU Paraphrase: 27.348\n",
      "BLEU LaBSE: 27.348 \n",
      "Difference: False\n",
      "ep-gpt-fi-it\n",
      "BLEU Paraphrase: 22.025\n",
      "BLEU LaBSE: 22.025 \n",
      "Difference: False\n",
      "ep-gpt-fi-nl\n",
      "BLEU Paraphrase: 22.121\n",
      "BLEU LaBSE: 22.121 \n",
      "Difference: False\n",
      "ep-gpt-it-fi\n",
      "BLEU Paraphrase: 15.083\n",
      "BLEU LaBSE: 15.083 \n",
      "Difference: False\n",
      "ep-gpt-pt-fi\n",
      "BLEU Paraphrase: 18.495\n",
      "BLEU LaBSE: 18.495 \n",
      "Difference: False\n",
      "ep-gpt-sv-fi\n",
      "BLEU Paraphrase: 19.018\n",
      "BLEU LaBSE: 18.983 ❌\n",
      "Difference: True\n",
      "flores-gpt-es-el\n",
      "BLEU Paraphrase: 19.836\n",
      "BLEU LaBSE: 19.836 \n",
      "Difference: False\n",
      "flores-gpt-fi-da\n",
      "BLEU Paraphrase: 30.189\n",
      "BLEU LaBSE: 30.124 ❌\n",
      "Difference: True\n",
      "flores-gpt-fi-el\n",
      "BLEU Paraphrase: 21.105\n",
      "BLEU LaBSE: 21.105 \n",
      "Difference: False\n",
      "flores-gpt-fi-es\n",
      "BLEU Paraphrase: 22.852\n",
      "BLEU LaBSE: 22.853 ❌\n",
      "Difference: True\n",
      "flores-gpt-fi-nl\n",
      "BLEU Paraphrase: 25.186\n",
      "BLEU LaBSE: 25.186 \n",
      "Difference: False\n",
      "flores-gpt-fi-pt\n",
      "BLEU Paraphrase: 32.266\n",
      "BLEU LaBSE: 32.265 ❌\n",
      "Difference: True\n",
      "flores-gpt-it-fr\n",
      "BLEU Paraphrase: 33.348\n",
      "BLEU LaBSE: 33.348 \n",
      "Difference: False\n",
      "opus-gpt-de-en\n",
      "BLEU Paraphrase: 35.060\n",
      "BLEU LaBSE: 35.060 \n",
      "Difference: False\n",
      "opus-gpt-pt-en\n",
      "BLEU Paraphrase: 37.694\n",
      "BLEU LaBSE: 37.694 \n",
      "Difference: False\n",
      "Mean Difference: 0.024\n",
      "Max Difference: 0.065\n",
      "Min Difference: 0.001\n"
     ]
    }
   ],
   "source": [
    "from scripts.post_process import load_aligned_sents_from_file\n",
    "from scripts.scoring import compute_bleu\n",
    "paraphrase = 'aligned_triplets_no_sent_split'\n",
    "laBSE = 'aligned_triplets_no_sent_split_LaBSE'\n",
    "filenames = [f.replace('.jsonl', '') for f in os.listdir(laBSE)]\n",
    "diff_cnt = 0\n",
    "total_diff = 0\n",
    "max_diff = 0\n",
    "min_diff = 100\n",
    "for fn in filenames:\n",
    "    ref_sents_p, mt_sents_p = load_aligned_sents_from_file(\n",
    "        fn, folder=paraphrase, src_label='ref', tgt_label='mt')\n",
    "    ref_sents_l, mt_sents_l = load_aligned_sents_from_file(fn, folder=laBSE,\n",
    "                                                           src_label='ref', tgt_label='mt')\n",
    "    bleu_p = compute_bleu(ref_sents_p, mt_sents_p)\n",
    "    bleu_l = compute_bleu(ref_sents_l, mt_sents_l)\n",
    "    print(fn)\n",
    "    no_diff = bleu_l == bleu_p\n",
    "    if no_diff:\n",
    "        mark = ''\n",
    "    else:\n",
    "        mark = '❌'\n",
    "        diff_cnt += 1\n",
    "        total_diff += abs(bleu_l - bleu_p)\n",
    "        max_diff = max(max_diff, abs(bleu_l - bleu_p))\n",
    "        min_diff = min(min_diff, abs(bleu_l - bleu_p))\n",
    "    print(f'BLEU Paraphrase: {bleu_p:.3f}')\n",
    "    print(f'BLEU LaBSE: {bleu_l:.3f} {mark}')\n",
    "    print(f'Difference: {not no_diff}')\n",
    "    \n",
    "print(f'Mean Difference: {total_diff/diff_cnt:.3f}')\n",
    "print(f'Max Difference: {max_diff:.3f}')\n",
    "print(f'Min Difference: {min_diff:.3f}')"
   ]
  },
  {
   "cell_type": "markdown",
   "id": "c6178a8e",
   "metadata": {},
   "source": [
    "* Using LaBSE does not make a big difference (exists but very small) for the aligned sentences that matter, thus we keep using paraphrase-multilingual-MiniLM-L12-v2\n",
    "* Funnily enough, the differences occur mainly when Greek or Finnish is source/target"
   ]
  },
  {
   "cell_type": "markdown",
   "id": "a93cfc7b",
   "metadata": {},
   "source": [
    "## Final Triplets\n",
    "* To create our final set of triplets with which we work with from now on we just copy all direct results and swap the cases where there was a mismatch."
   ]
  },
  {
   "cell_type": "code",
   "execution_count": 29,
   "id": "03d850a8",
   "metadata": {},
   "outputs": [],
   "source": [
    "import os\n",
    "from os.path import join\n",
    "import shutil\n",
    "direct_files = os.listdir('direct_triplets')\n",
    "\n",
    "os.makedirs('final_triplets', exist_ok=True)\n",
    "for fn in direct_files:\n",
    "    name = fn.replace('.jsonl', '')\n",
    "    if name not in mismatches:\n",
    "        src_file = join('direct_triplets', fn)\n",
    "    else:\n",
    "        src_file = join('aligned_triplets_no_sent_split', fn)\n",
    "\n",
    "    dst_file = join('final_triplets', fn)\n",
    "    shutil.copy(src_file, dst_file)"
   ]
  }
 ],
 "metadata": {
  "kernelspec": {
   "display_name": "thesis",
   "language": "python",
   "name": "python3"
  },
  "language_info": {
   "codemirror_mode": {
    "name": "ipython",
    "version": 3
   },
   "file_extension": ".py",
   "mimetype": "text/x-python",
   "name": "python",
   "nbconvert_exporter": "python",
   "pygments_lexer": "ipython3",
   "version": "3.12.6"
  }
 },
 "nbformat": 4,
 "nbformat_minor": 5
}
