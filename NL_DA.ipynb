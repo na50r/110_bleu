{
 "cells": [
  {
   "cell_type": "markdown",
   "id": "613f2669",
   "metadata": {},
   "source": [
    "# Confirm Weirdness\n",
    "* In `Demo.ipynb` we see GPT4.1 repeatedly failing to genrate 400 sentences of pair `nl-da`\n",
    "* However, there were instances where it DID work using the same prompt."
   ]
  },
  {
   "cell_type": "code",
   "execution_count": 1,
   "id": "f7118c50",
   "metadata": {},
   "outputs": [
    {
     "name": "stdout",
     "output_type": "stream",
     "text": [
      "Translate the following Dutch sentences into Danish.\n",
      "Please make sure to keep the same formatting, do not add more newlines.\n",
      "Here is the text:\n",
      "text\n"
     ]
    }
   ],
   "source": [
    "from scripts.translators import GPTClient\n",
    "gpt = GPTClient()\n",
    "print(gpt.user_prompt('nl', 'da', 'text'))"
   ]
  },
  {
   "cell_type": "markdown",
   "id": "9ed1e7e4",
   "metadata": {},
   "source": [
    "* The above prompt was used in `Demo.ipynb` as well.\n",
    "* The commit history of this branch and the logged commit hash in `log.jsonl` can prove this."
   ]
  },
  {
   "cell_type": "code",
   "execution_count": 2,
   "id": "f5af3e4b",
   "metadata": {},
   "outputs": [
    {
     "name": "stdout",
     "output_type": "stream",
     "text": [
      "Sent Length by Dataset: nl: 400, da: 400\n",
      "Sent Length after Split: nl: 460 da: 417\n"
     ]
    }
   ],
   "source": [
    "from scripts.data_management import EuroParlManager\n",
    "from scripts.util import split_sents\n",
    "dm = EuroParlManager()\n",
    "nl_sents, da_sents = dm.get_sentence_pairs('nl', 'da', 400)\n",
    "print(f'Sent Length by Dataset: nl: {len(nl_sents)}, da: {len(da_sents)}')\n",
    "nl_sents_split, da_sents_split = split_sents('\\n'.join(nl_sents), 'nl'), split_sents('\\n'.join(da_sents), 'da')\n",
    "print(f'Sent Length after Split: nl: {len(nl_sents_split)} da: {len(da_sents_split)}')"
   ]
  },
  {
   "cell_type": "code",
   "execution_count": 3,
   "id": "c8cae403",
   "metadata": {},
   "outputs": [
    {
     "name": "stdout",
     "output_type": "stream",
     "text": [
      "126\n",
      "169\n",
      "153\n",
      "125\n",
      "168\n",
      "152\n",
      "126\n",
      "169\n",
      "153\n",
      "400\n",
      "506\n",
      "467\n"
     ]
    }
   ],
   "source": [
    "for _ in range(10):\n",
    "    mt_sents = gpt.translate_document(\n",
    "        text=nl_sents,\n",
    "        src_lang='nl',\n",
    "        tgt_lang='da'\n",
    "    )\n",
    "    print(len(mt_sents))\n",
    "    mt_sents_nl = split_sents('\\n'.join(mt_sents), 'nl')\n",
    "    mt_sents_da = split_sents('\\n'.join(mt_sents), 'da')\n",
    "    print(len(mt_sents_nl))\n",
    "    print(len(mt_sents_da))\n",
    "    if len(mt_sents) == 400: break"
   ]
  },
  {
   "cell_type": "code",
   "execution_count": 4,
   "id": "9f704ac4",
   "metadata": {},
   "outputs": [
    {
     "data": {
      "text/plain": [
       "28.800967220431154"
      ]
     },
     "execution_count": 4,
     "metadata": {},
     "output_type": "execute_result"
    }
   ],
   "source": [
    "from scripts.scoring import compute_bleu\n",
    "compute_bleu(da_sents, mt_sents)"
   ]
  },
  {
   "cell_type": "code",
   "execution_count": 5,
   "id": "ad0da71c",
   "metadata": {},
   "outputs": [
    {
     "data": {
      "text/plain": [
       "1.9156893987883605"
      ]
     },
     "execution_count": 5,
     "metadata": {},
     "output_type": "execute_result"
    }
   ],
   "source": [
    "compute_bleu(nl_sents, mt_sents)"
   ]
  },
  {
   "cell_type": "markdown",
   "id": "d19cf2ef",
   "metadata": {},
   "source": [
    "* Re-running DOES work but it feels random\n",
    "* Running it 10 times can be in some cases not enough, as seen in `Demo.ipynb`"
   ]
  }
 ],
 "metadata": {
  "kernelspec": {
   "display_name": "thesis",
   "language": "python",
   "name": "python3"
  },
  "language_info": {
   "codemirror_mode": {
    "name": "ipython",
    "version": 3
   },
   "file_extension": ".py",
   "mimetype": "text/x-python",
   "name": "python",
   "nbconvert_exporter": "python",
   "pygments_lexer": "ipython3",
   "version": "3.12.6"
  }
 },
 "nbformat": 4,
 "nbformat_minor": 5
}
